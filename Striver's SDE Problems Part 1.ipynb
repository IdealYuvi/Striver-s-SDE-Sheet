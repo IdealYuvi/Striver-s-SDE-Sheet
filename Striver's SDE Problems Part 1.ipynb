{
 "cells": [
  {
   "cell_type": "markdown",
   "id": "025f2eb3",
   "metadata": {},
   "source": [
    "# Striver’s SDE Sheet – Top Coding Interview Problems\n",
    "\n",
    "https://takeuforward.org/interviews/strivers-sde-sheet-top-coding-interview-problems/"
   ]
  },
  {
   "cell_type": "markdown",
   "id": "5b3a0a74",
   "metadata": {},
   "source": [
    "1. Arrays\n",
    "2. Arrays Part 2\n",
    "3. Arrays Part 3\n",
    "4. Arrays Part 4\n",
    "5. Linked List\n",
    "6. Linked List Part 2\n",
    "7. Linked List and Arrays\n",
    "8. Greedy Algorithm\n",
    "9. Recursion\n",
    "10. Recursion and Backtracking\n",
    "11. Binary Search\n",
    "12. Trie"
   ]
  },
  {
   "cell_type": "markdown",
   "id": "dc8ab4a5",
   "metadata": {},
   "source": [
    "# 1. Arrays"
   ]
  },
  {
   "cell_type": "code",
   "execution_count": 1,
   "id": "e79c0703",
   "metadata": {},
   "outputs": [],
   "source": [
    "# 1. Set Matrix Zeroes"
   ]
  },
  {
   "cell_type": "code",
   "execution_count": 2,
   "id": "be513178",
   "metadata": {},
   "outputs": [],
   "source": [
    "def setZeroes(matrix): # O(2(n*m))T / O(1)S\n",
    "    \"\"\"\n",
    "    Do not return anything, modify matrix in-place instead.\n",
    "    \"\"\"\n",
    "    R = len(matrix)\n",
    "    C = len(matrix[0])\n",
    "    isCol = False\n",
    "\n",
    "    for i in range(R): # O(n*m)T\n",
    "        if matrix[i][0] == 0:\n",
    "            isCol = True\n",
    "\n",
    "        for j in range(1, C):    \n",
    "            if matrix[i][j] == 0:\n",
    "                matrix[i][0] = 0\n",
    "                matrix[0][j] = 0\n",
    "\n",
    "    for i in range(1, R): # O(n*m)T\n",
    "        for j in range(1, C):\n",
    "            if not matrix[i][0] or not matrix[0][j]:\n",
    "                matrix[i][j] = 0\n",
    "\n",
    "    if matrix[0][0] == 0: # O(m)T\n",
    "        for j in range(C):\n",
    "            matrix[0][j] = 0\n",
    "\n",
    "    if isCol: # O(n)T\n",
    "        for i in range(R):\n",
    "            matrix[i][0] = 0\n",
    "\n",
    "    print(matrix)"
   ]
  },
  {
   "cell_type": "code",
   "execution_count": 3,
   "id": "634611fb",
   "metadata": {},
   "outputs": [],
   "source": [
    "matrix1 = [[1,1,1],[1,0,1],[1,1,1]]\n",
    "matrix2 = [[0,1,2,0],[3,4,5,2],[1,3,1,5]]"
   ]
  },
  {
   "cell_type": "code",
   "execution_count": 4,
   "id": "d8c2e1cd",
   "metadata": {},
   "outputs": [
    {
     "name": "stdout",
     "output_type": "stream",
     "text": [
      "[[1, 0, 1], [0, 0, 0], [1, 0, 1]]\n",
      "[[0, 0, 0, 0], [0, 4, 5, 0], [0, 3, 1, 0]]\n"
     ]
    }
   ],
   "source": [
    "setZeroes(matrix1)\n",
    "setZeroes(matrix2)"
   ]
  },
  {
   "cell_type": "code",
   "execution_count": 5,
   "id": "44b2cd7b",
   "metadata": {},
   "outputs": [],
   "source": [
    "# 2. Pascal's Triangle"
   ]
  },
  {
   "cell_type": "code",
   "execution_count": 6,
   "id": "9d75d791",
   "metadata": {},
   "outputs": [],
   "source": [
    "# Generate all rows\n",
    "def generate1(numRows): # O(n^2)T / O(n^2)S\n",
    "    pascal = [[1]*(i+1) for i in range(numRows)]\n",
    "        \n",
    "    for i in range(numRows):\n",
    "        for j in range(1, i):\n",
    "            pascal[i][j] = pascal[i-1][j-1] + pascal[i-1][j]\n",
    "\n",
    "    return pascal\n",
    "\n",
    "#-----------------------------------\n",
    "\n",
    "# Generate given column in given row\n",
    "def generate2(row, col): # O(c)T / O(1)S -> c = col\n",
    "    \"\"\"\n",
    "    Find nCr with n = row - 1 and r = col - 1 \n",
    "    \"\"\"\n",
    "    res = 1\n",
    "    \n",
    "    for i in range(col):\n",
    "        res *= row - i\n",
    "        res //= i + 1\n",
    "        \n",
    "    return res\n",
    "\n",
    "#-----------------------------------\n",
    "\n",
    "# Generate given row\n",
    "def generate3(n): # O(n)T / O(n)S\n",
    "    \"\"\"\n",
    "    Find nCr with n = n(given) - 1 and r = n(given) - 1 and append value to list on every iteration\n",
    "    \"\"\"\n",
    "    pascal = [1]\n",
    "    res = 1\n",
    "    \n",
    "    for i in range(n):\n",
    "        res *= n - i\n",
    "        res //= i + 1\n",
    "        pascal.append(res)\n",
    "        \n",
    "    return pascal"
   ]
  },
  {
   "cell_type": "code",
   "execution_count": 7,
   "id": "8322703b",
   "metadata": {},
   "outputs": [
    {
     "name": "stdout",
     "output_type": "stream",
     "text": [
      "[[1]]\n",
      "[[1], [1, 1], [1, 2, 1], [1, 3, 3, 1], [1, 4, 6, 4, 1]]\n"
     ]
    }
   ],
   "source": [
    "print(generate1(1))\n",
    "print(generate1(5))"
   ]
  },
  {
   "cell_type": "code",
   "execution_count": 8,
   "id": "57554e58",
   "metadata": {},
   "outputs": [
    {
     "name": "stdout",
     "output_type": "stream",
     "text": [
      "2\n",
      "10\n"
     ]
    }
   ],
   "source": [
    "print(generate2(2, 1))\n",
    "print(generate2(5, 3))"
   ]
  },
  {
   "cell_type": "code",
   "execution_count": 9,
   "id": "f6d26941",
   "metadata": {},
   "outputs": [
    {
     "name": "stdout",
     "output_type": "stream",
     "text": [
      "[1]\n",
      "[1, 2, 1]\n",
      "[1, 5, 10, 10, 5, 1]\n"
     ]
    }
   ],
   "source": [
    "print(generate3(0))\n",
    "print(generate3(2))\n",
    "print(generate3(5))"
   ]
  },
  {
   "cell_type": "code",
   "execution_count": 10,
   "id": "3b82ffc3",
   "metadata": {},
   "outputs": [],
   "source": [
    "# 3. Next Permutation"
   ]
  },
  {
   "cell_type": "code",
   "execution_count": 11,
   "id": "f70029de",
   "metadata": {},
   "outputs": [],
   "source": [
    "def nextPermutation(nums): # O(3n)T / O(1)S\n",
    "    \"\"\"\n",
    "    1. a[i] < a[i + 1] from last -> idx1 = i\n",
    "    2. a[j] > a[idx1] from last -> idx2 = j\n",
    "    3. swap idx1, idx2\n",
    "    4. reverse from i + 1 to last\n",
    "    \n",
    "    Eg: if num = 13542\n",
    "        a[i] -> 3\n",
    "        a[j] -> 4\n",
    "        swapping a[i], a[j] gives 14532\n",
    "        reverse from i + 1 gives 14235\n",
    "        ans = 14235  \n",
    "    \"\"\"\n",
    "\n",
    "    idx1 = -1\n",
    "    for i in reversed(range(len(nums) - 1)): # O(n)T\n",
    "        if nums[i] < nums[i + 1]:\n",
    "            idx1 = i\n",
    "            break\n",
    "\n",
    "    if idx1 == -1:\n",
    "        reverse(0, nums)\n",
    "        return nums\n",
    "\n",
    "    idx2 = -1\n",
    "    for i in reversed(range(len(nums))): # O(n)T\n",
    "        if nums[i] > nums[idx1]:\n",
    "            idx2 = i\n",
    "            break\n",
    "\n",
    "    nums[idx1], nums[idx2] = nums[idx2], nums[idx1]\n",
    "\n",
    "    reverse(idx1 + 1, nums)\n",
    "\n",
    "    return nums\n",
    "\n",
    "def reverse(i, nums): \n",
    "    first = i\n",
    "    last = len(nums) - 1\n",
    "\n",
    "    while first <= last: # O(n)T\n",
    "        nums[first], nums[last] = nums[last], nums[first]\n",
    "        first += 1\n",
    "        last -= 1\n",
    "\n",
    "    return"
   ]
  },
  {
   "cell_type": "code",
   "execution_count": 12,
   "id": "a994a4cc",
   "metadata": {},
   "outputs": [],
   "source": [
    "nums1 = [1,2,3]\n",
    "nums2 = [1,3,5,4,2]"
   ]
  },
  {
   "cell_type": "code",
   "execution_count": 13,
   "id": "45a42b7e",
   "metadata": {},
   "outputs": [
    {
     "name": "stdout",
     "output_type": "stream",
     "text": [
      "[1, 3, 2]\n",
      "[1, 4, 2, 3, 5]\n"
     ]
    }
   ],
   "source": [
    "print(nextPermutation(nums1))\n",
    "print(nextPermutation(nums2))"
   ]
  },
  {
   "cell_type": "code",
   "execution_count": 14,
   "id": "390a533b",
   "metadata": {},
   "outputs": [],
   "source": [
    "# 4. Kadane's Algorithm"
   ]
  },
  {
   "cell_type": "code",
   "execution_count": 15,
   "id": "5a46f2d3",
   "metadata": {},
   "outputs": [],
   "source": [
    "def maxSubArray(nums): # O(n)T / O(1)S\n",
    "    curSum = 0\n",
    "    curMax = nums[0]\n",
    "\n",
    "    for i in range(len(nums)): # O(n)T\n",
    "        curSum += nums[i]\n",
    "\n",
    "        if curMax < curSum:\n",
    "            curMax = curSum\n",
    "\n",
    "        if curSum < 0:\n",
    "            curSum = 0\n",
    "\n",
    "    return curMax"
   ]
  },
  {
   "cell_type": "code",
   "execution_count": 16,
   "id": "aa7f52bb",
   "metadata": {},
   "outputs": [],
   "source": [
    "nums1 = [-2,1,-3,4,-1,2,1,-5,4]\n",
    "nums2 = [1]\n",
    "nums3 = [5,4,-1,7,8] "
   ]
  },
  {
   "cell_type": "code",
   "execution_count": 17,
   "id": "3eefd015",
   "metadata": {},
   "outputs": [
    {
     "name": "stdout",
     "output_type": "stream",
     "text": [
      "6\n",
      "1\n",
      "23\n"
     ]
    }
   ],
   "source": [
    "print(maxSubArray(nums1))\n",
    "print(maxSubArray(nums2))\n",
    "print(maxSubArray(nums3))"
   ]
  },
  {
   "cell_type": "code",
   "execution_count": 18,
   "id": "9698d0a9",
   "metadata": {},
   "outputs": [],
   "source": [
    "# 5. Sort an array of 0s 1s & 2s"
   ]
  },
  {
   "cell_type": "code",
   "execution_count": 19,
   "id": "0144c841",
   "metadata": {},
   "outputs": [],
   "source": [
    "def sortColors(nums): # O(n)T / O(1)S\n",
    "    low = mid = 0\n",
    "    high = len(nums) - 1\n",
    "\n",
    "    while mid <= high: # O(n)T\n",
    "        if nums[mid] == 0:\n",
    "            nums[mid] = nums[low]\n",
    "            nums[low] = 0\n",
    "            low += 1\n",
    "            mid += 1\n",
    "        elif nums[mid] == 1:\n",
    "            mid += 1\n",
    "        elif nums[mid] == 2:\n",
    "            nums[mid], nums[high] = nums[high], nums[mid]\n",
    "            high -= 1\n",
    "    \n",
    "    return nums"
   ]
  },
  {
   "cell_type": "code",
   "execution_count": 20,
   "id": "da075841",
   "metadata": {},
   "outputs": [],
   "source": [
    "nums = [2,0,2,1,1,0]"
   ]
  },
  {
   "cell_type": "code",
   "execution_count": 21,
   "id": "c4d0f1f3",
   "metadata": {},
   "outputs": [
    {
     "data": {
      "text/plain": [
       "[0, 0, 1, 1, 2, 2]"
      ]
     },
     "execution_count": 21,
     "metadata": {},
     "output_type": "execute_result"
    }
   ],
   "source": [
    "sortColors(nums)"
   ]
  },
  {
   "cell_type": "code",
   "execution_count": 22,
   "id": "47b38093",
   "metadata": {},
   "outputs": [],
   "source": [
    "# 6. Stock buy and sell"
   ]
  },
  {
   "cell_type": "code",
   "execution_count": 23,
   "id": "e092a417",
   "metadata": {},
   "outputs": [],
   "source": [
    "def maxProfit(prices): # O(n)T / O(1)S\n",
    "    minPrice = float('inf')\n",
    "    profit = 0\n",
    "\n",
    "    for val in prices: # O(n)T\n",
    "        if val < minPrice:\n",
    "            minPrice = val\n",
    "        else:\n",
    "            potential = val - minPrice\n",
    "            profit = max(profit, potential)\n",
    "\n",
    "    return profit"
   ]
  },
  {
   "cell_type": "code",
   "execution_count": 24,
   "id": "072f561e",
   "metadata": {},
   "outputs": [],
   "source": [
    "prices1 = [7,1,5,3,6,4]\n",
    "prices2 = [7,6,4,3,1]"
   ]
  },
  {
   "cell_type": "code",
   "execution_count": 25,
   "id": "554199b8",
   "metadata": {},
   "outputs": [
    {
     "name": "stdout",
     "output_type": "stream",
     "text": [
      "5\n",
      "0\n"
     ]
    }
   ],
   "source": [
    "print(maxProfit(prices1))\n",
    "print(maxProfit(prices2))"
   ]
  },
  {
   "cell_type": "markdown",
   "id": "f5c28432",
   "metadata": {},
   "source": [
    "# 2. Arrays Part 2"
   ]
  },
  {
   "cell_type": "code",
   "execution_count": 26,
   "id": "c50922e8",
   "metadata": {},
   "outputs": [],
   "source": [
    "# 7. Rotate Matrix"
   ]
  },
  {
   "cell_type": "code",
   "execution_count": 27,
   "id": "29e4cca1",
   "metadata": {},
   "outputs": [],
   "source": [
    "def rotate(matrix): # O(2(n^2))T / O(1)S\n",
    "    n = len(matrix)\n",
    "\n",
    "    for i in range(n): # O(n^2)T \n",
    "        for j in range(i):\n",
    "            matrix[i][j], matrix[j][i] = matrix[j][i], matrix[i][j]\n",
    "\n",
    "    for row in matrix: # O(n^2)T \n",
    "        left = 0\n",
    "        right = len(row) - 1\n",
    "\n",
    "        while left <= right:\n",
    "            row[left], row[right] = row[right], row[left]\n",
    "            left += 1\n",
    "            right -= 1\n",
    "    \n",
    "    return matrix"
   ]
  },
  {
   "cell_type": "code",
   "execution_count": 28,
   "id": "a5e4ba85",
   "metadata": {},
   "outputs": [],
   "source": [
    "matrix = [[1,2,3],[4,5,6],[7,8,9]]"
   ]
  },
  {
   "cell_type": "code",
   "execution_count": 29,
   "id": "92408486",
   "metadata": {},
   "outputs": [
    {
     "data": {
      "text/plain": [
       "[[7, 4, 1], [8, 5, 2], [9, 6, 3]]"
      ]
     },
     "execution_count": 29,
     "metadata": {},
     "output_type": "execute_result"
    }
   ],
   "source": [
    "rotate(matrix)"
   ]
  },
  {
   "cell_type": "code",
   "execution_count": 30,
   "id": "a2c98589",
   "metadata": {},
   "outputs": [],
   "source": [
    "# 8. Merge Intervals"
   ]
  },
  {
   "cell_type": "code",
   "execution_count": 31,
   "id": "b426a398",
   "metadata": {},
   "outputs": [],
   "source": [
    "def merge(intervals): # O(nlogn + n)T / O(n)S\n",
    "    intervals.sort() # O(nlogn)T\n",
    "\n",
    "    res = [intervals[0]]\n",
    "\n",
    "    for start, end in intervals[1:]: # O(n)T\n",
    "        last = res[-1]\n",
    "\n",
    "        if last[1] >= start:\n",
    "            last[1] = max(last[1], end)\n",
    "        else:\n",
    "            res.append([start, end])\n",
    "\n",
    "    return res"
   ]
  },
  {
   "cell_type": "code",
   "execution_count": 32,
   "id": "db9e82e3",
   "metadata": {},
   "outputs": [],
   "source": [
    "intervals1 = [[1,3],[2,6],[8,10],[15,18]]\n",
    "intervals2 =[[1,4],[2,3]]"
   ]
  },
  {
   "cell_type": "code",
   "execution_count": 33,
   "id": "8c44f09a",
   "metadata": {},
   "outputs": [
    {
     "name": "stdout",
     "output_type": "stream",
     "text": [
      "[[1, 6], [8, 10], [15, 18]]\n",
      "[[1, 4]]\n"
     ]
    }
   ],
   "source": [
    "print(merge(intervals1))\n",
    "print(merge(intervals2))"
   ]
  },
  {
   "cell_type": "code",
   "execution_count": 34,
   "id": "85124cf7",
   "metadata": {},
   "outputs": [],
   "source": [
    "# 9. Merge two sorted arrays without extra space"
   ]
  },
  {
   "cell_type": "code",
   "execution_count": 35,
   "id": "3782edc6",
   "metadata": {},
   "outputs": [],
   "source": [
    "# LeetCode problem no.88\n",
    "def merge1(nums1, m, nums2, n): # O(m+n)T / O(1)S\n",
    "    \"\"\"\n",
    "    Do not return anything, modify nums1 in-place instead.\n",
    "    \"\"\"\n",
    "    a = m - 1\n",
    "    b = n - 1\n",
    "    writeIndex = m + n - 1\n",
    "\n",
    "    while b >= 0:\n",
    "        if a >= 0 and nums1[a] > nums2[b]:\n",
    "            nums1[writeIndex] = nums1[a]\n",
    "            a -= 1\n",
    "        else:\n",
    "            nums1[writeIndex] = nums2[b]\n",
    "            b -= 1\n",
    "\n",
    "        writeIndex -= 1\n",
    "        \n",
    "    print(nums1)\n",
    "\n",
    "# Just the arrays are given\n",
    "def merge2(X, Y): # O(n*m)T / O(1)S\n",
    "    m = len(X)\n",
    "    n = len(Y)\n",
    "    \n",
    "    for i in range(m): \n",
    "        if X[i] > Y[0]:\n",
    "            temp = X[i]\n",
    "            X[i] = Y[0]\n",
    "            Y[0] = temp\n",
    " \n",
    "            first = Y[0]\n",
    "            k = 1\n",
    "        \n",
    "            while k < n and Y[k] < first:\n",
    "                Y[k - 1] = Y[k]\n",
    "                k = k + 1\n",
    " \n",
    "            Y[k - 1] = first\n",
    "    \n",
    "    print(X, Y)"
   ]
  },
  {
   "cell_type": "code",
   "execution_count": 36,
   "id": "cc9ca2eb",
   "metadata": {},
   "outputs": [],
   "source": [
    "nums1 = [1,2,3,0,0,0]\n",
    "m = 3\n",
    "nums2 = [2,5,6]\n",
    "n = 3\n",
    "nums3 = [1,3,5]\n",
    "nums4 = [2,2,4]"
   ]
  },
  {
   "cell_type": "code",
   "execution_count": 37,
   "id": "43a54379",
   "metadata": {},
   "outputs": [
    {
     "name": "stdout",
     "output_type": "stream",
     "text": [
      "[1, 2, 2, 3, 5, 6]\n"
     ]
    }
   ],
   "source": [
    "merge1(nums1, m, nums2, n)"
   ]
  },
  {
   "cell_type": "code",
   "execution_count": 38,
   "id": "9f75ae33",
   "metadata": {},
   "outputs": [
    {
     "name": "stdout",
     "output_type": "stream",
     "text": [
      "[1, 2, 2] [3, 4, 5]\n"
     ]
    }
   ],
   "source": [
    "merge2(nums3, nums4)"
   ]
  },
  {
   "cell_type": "code",
   "execution_count": 39,
   "id": "e8f35500",
   "metadata": {},
   "outputs": [],
   "source": [
    "# 10. Find the duplicate in an array of N+1 integers"
   ]
  },
  {
   "cell_type": "code",
   "execution_count": 40,
   "id": "e594bddd",
   "metadata": {},
   "outputs": [],
   "source": [
    "def findDuplicate(nums): # O(n)T / O(1)S\n",
    "    slow = nums[0]\n",
    "    fast = nums[0]\n",
    "\n",
    "    while True:\n",
    "        slow = nums[slow]\n",
    "        fast = nums[nums[fast]]\n",
    "\n",
    "        if slow == fast:\n",
    "            break\n",
    "\n",
    "    fast = nums[0]\n",
    "\n",
    "    while slow != fast:\n",
    "        slow = nums[slow]\n",
    "        fast = nums[fast]\n",
    "\n",
    "    return slow\n",
    "    \n",
    "    \"\"\"\n",
    "            0   1   2   3   4\n",
    "            [1,  3,  4,  2,  2]\n",
    "            s,f\n",
    "                 s       f\n",
    "                         s   f\n",
    "                     s       f\n",
    "                            s,f  -> s & f meets here\n",
    "            \n",
    "             s               f   -> reset s to nums[0]\n",
    "                 s   f\n",
    "                         s   f\n",
    "                    s,f          -> so 2 is repeating\n",
    "                    \n",
    "            -----------------------------------------\n",
    "            \n",
    "             0   1   2   3   4   \n",
    "            [3,  1,  3,  4,  2]\n",
    "            s,f\n",
    "                         s   f\n",
    "                         f   s\n",
    "                    s,f          -> s & f meets here\n",
    "             s       f           -> reset s to nums[0]\n",
    "                        s,f      -> so 3 is repeating\n",
    "                                \n",
    "        \"\"\""
   ]
  },
  {
   "cell_type": "code",
   "execution_count": 41,
   "id": "2ab4d5f1",
   "metadata": {},
   "outputs": [],
   "source": [
    "nums1 = [1,3,4,2,2]\n",
    "nums2 = [3,1,3,4,2]"
   ]
  },
  {
   "cell_type": "code",
   "execution_count": 42,
   "id": "27efe6a8",
   "metadata": {},
   "outputs": [
    {
     "name": "stdout",
     "output_type": "stream",
     "text": [
      "2\n",
      "3\n"
     ]
    }
   ],
   "source": [
    "print(findDuplicate(nums1))\n",
    "print(findDuplicate(nums2))"
   ]
  },
  {
   "cell_type": "code",
   "execution_count": 43,
   "id": "6f69b225",
   "metadata": {},
   "outputs": [],
   "source": [
    "# 11. Repeat and Missing Number"
   ]
  },
  {
   "cell_type": "code",
   "execution_count": 44,
   "id": "751ab174",
   "metadata": {},
   "outputs": [],
   "source": [
    "def missingAndRepeating(nums): # O(5n)T / O(1)S\n",
    "    \"\"\"\n",
    "    Logic:\n",
    "    if nums = [4,3,6,2,1,1]\n",
    "    4^3^6^2^1^1 = 3\n",
    "    3 ^ (1^2^3^4^5^6) = 4\n",
    "    x ^ y = 4\n",
    "    find x and y from nums and n+1 array by dividing the elements in these arrays based on right most set bit of x^y\n",
    "    \"\"\"\n",
    "    \n",
    "    n = len(nums)\n",
    "    zor = 0\n",
    "    \n",
    "    for num in nums: # O(n)T\n",
    "        zor ^= num\n",
    "        \n",
    "    for i in range(1, n+1): # O(n)T\n",
    "        zor ^= i\n",
    "    \n",
    "    rmsb = zor & -zor # rightmost set bit of zor\n",
    "    res1 = 0\n",
    "    res2 = 0\n",
    "    \n",
    "    for num in nums: # O(n)T\n",
    "        if num & rmsb > 0:\n",
    "            res1 ^= num\n",
    "        else:\n",
    "            res2 ^= num\n",
    "            \n",
    "    for i in range(1, n+1): # O(n)T\n",
    "        if i & rmsb > 0:\n",
    "            res1 ^= i\n",
    "        else:\n",
    "            res2 ^= i\n",
    "        \n",
    "    # placing missing num in res1 and repeating num in res2\n",
    "    for num in nums: # O(n)T\n",
    "        if res1 == num:\n",
    "            res1, res2 = res2, res1\n",
    "            break\n",
    "            \n",
    "    return res1, res2"
   ]
  },
  {
   "cell_type": "code",
   "execution_count": 45,
   "id": "71224514",
   "metadata": {},
   "outputs": [],
   "source": [
    "nums1 = [4,3,6,2,1,1]\n",
    "nums2 = [4,5,2,9,8,1,1,7,10,3]\n",
    "nums3 = [7,5,3,2,1,6,6]"
   ]
  },
  {
   "cell_type": "code",
   "execution_count": 46,
   "id": "dc2d3612",
   "metadata": {},
   "outputs": [
    {
     "name": "stdout",
     "output_type": "stream",
     "text": [
      "(5, 1)\n",
      "(6, 1)\n",
      "(4, 6)\n"
     ]
    }
   ],
   "source": [
    "print(missingAndRepeating(nums1))\n",
    "print(missingAndRepeating(nums2))\n",
    "print(missingAndRepeating(nums3))"
   ]
  },
  {
   "cell_type": "code",
   "execution_count": 47,
   "id": "89baab5f",
   "metadata": {},
   "outputs": [],
   "source": [
    "# 12. Inversion of Array"
   ]
  },
  {
   "cell_type": "code",
   "execution_count": 48,
   "id": "b4ad310e",
   "metadata": {},
   "outputs": [],
   "source": [
    "# Approach 1 - Using Merge Sort\n",
    "class Solution: # O(nlogn)T / O(n)S\n",
    "    def __init__(self):\n",
    "        self.count = 0\n",
    "        \n",
    "    def countInversions(self, nums):\n",
    "        self.mergeSort(nums)\n",
    "        \n",
    "        return self.count\n",
    "    \n",
    "    def mergeSort(self, nums):\n",
    "        if len(nums) > 1:\n",
    "            midVal = len(nums) // 2\n",
    "            leftList = nums[:midVal]\n",
    "            rightList = nums[midVal:]\n",
    "            self.mergeSort(leftList)\n",
    "            self.mergeSort(rightList)\n",
    "            self.doMerge(nums, leftList, rightList)\n",
    "    \n",
    "    def doMerge(self, nums, left, right):\n",
    "        i = j = k = 0\n",
    "        \n",
    "        while i < len(left) and j < len(right):\n",
    "            if left[i] <= right[j]:\n",
    "                nums[k] = left[i]\n",
    "                i += 1\n",
    "            else:\n",
    "                nums[k] = right[j]\n",
    "                self.count += (len(left) - i) # counting the inversion\n",
    "                j += 1\n",
    "                \n",
    "            k += 1\n",
    "            \n",
    "        while i < len(left):\n",
    "            nums[k] = left[i]\n",
    "            i += 1\n",
    "            k += 1\n",
    "            \n",
    "        while j < len(right):\n",
    "            nums[k] = right[j]\n",
    "            j += 1\n",
    "            k += 1\n",
    "            \n",
    "# Approach 2 - Using Fenwick Tree\n",
    "def getInversions2(arr): # O(nlogn)T / O(2n)S\n",
    "    n = len(arr)\n",
    "    ft = [0] * (n + 1) # Fenwick Tree\n",
    "    ranks = {val: i + 1 for i, val in enumerate(sorted(arr))} # important to get ranks from sorted arr\n",
    "    res = 0\n",
    "    \n",
    "    def update(i):\n",
    "        while i <= n:\n",
    "            ft[i] += 1\n",
    "            \n",
    "            i += (i & -i)\n",
    "            \n",
    "    def getSum(i):\n",
    "        res = 0\n",
    "        \n",
    "        while i:\n",
    "            res += ft[i]\n",
    "            \n",
    "            i -= (i & -i)\n",
    "            \n",
    "        return res\n",
    "    \n",
    "    for i in reversed(range(n)):\n",
    "        res += getSum(ranks[arr[i]] - 1)\n",
    "        update(ranks[arr[i]])\n",
    "        \n",
    "    return res"
   ]
  },
  {
   "cell_type": "code",
   "execution_count": 49,
   "id": "52b91820",
   "metadata": {},
   "outputs": [
    {
     "name": "stdout",
     "output_type": "stream",
     "text": [
      "6\n",
      "4\n",
      "8\n"
     ]
    }
   ],
   "source": [
    "nums1 = [8,4,2,1]\n",
    "nums2 = [2,5,1,3,4]\n",
    "nums3 = [5,3,2,4,1]\n",
    "\n",
    "print(Solution().countInversions(nums1))\n",
    "print(Solution().countInversions(nums2))\n",
    "print(Solution().countInversions(nums3))"
   ]
  },
  {
   "cell_type": "code",
   "execution_count": 50,
   "id": "aac74bf4",
   "metadata": {},
   "outputs": [
    {
     "name": "stdout",
     "output_type": "stream",
     "text": [
      "6\n",
      "4\n",
      "8\n"
     ]
    }
   ],
   "source": [
    "nums1 = [8,4,2,1]\n",
    "nums2 = [2,5,1,3,4]\n",
    "nums3 = [5,3,2,4,1]\n",
    "\n",
    "print(getInversions2(nums1))\n",
    "print(getInversions2(nums2))\n",
    "print(getInversions2(nums3))"
   ]
  },
  {
   "cell_type": "markdown",
   "id": "b6227b6f",
   "metadata": {},
   "source": [
    "# 3. Arrays Part 3"
   ]
  },
  {
   "cell_type": "code",
   "execution_count": 51,
   "id": "79e6268f",
   "metadata": {},
   "outputs": [],
   "source": [
    "# 13. Search in a 2d Matrix"
   ]
  },
  {
   "cell_type": "code",
   "execution_count": 52,
   "id": "bdf2dd6f",
   "metadata": {},
   "outputs": [],
   "source": [
    "# Approach 1\n",
    "def searchMatrix1(matrix, target): # O(n+m)T / O(1)S\n",
    "    i = 0\n",
    "    j = len(matrix[0]) - 1\n",
    "\n",
    "    while i < len(matrix) and j >= 0:\n",
    "        if matrix[i][j] == target:\n",
    "            return True\n",
    "        elif matrix[i][j] <= target:\n",
    "            i += 1\n",
    "        else:\n",
    "            j -= 1\n",
    "\n",
    "    return False\n",
    "\n",
    "# Approach 2: Bianry Search\n",
    "def searchMatrix2(matrix, target): # O(log(n*m))T / O(1)S\n",
    "    m, n = len(matrix), len(matrix[0])\n",
    "    l, r = 0, (m * n) - 1\n",
    "\n",
    "    while l <= r:\n",
    "        mid = (l + r) // 2\n",
    "\n",
    "        row, col = mid // n, mid % n\n",
    "\n",
    "        if matrix[row][col] == target:\n",
    "            return True\n",
    "        elif matrix[row][col] > target:\n",
    "            r = mid - 1\n",
    "        else:\n",
    "            l = mid + 1\n",
    "\n",
    "    return False"
   ]
  },
  {
   "cell_type": "code",
   "execution_count": 53,
   "id": "8820a7e8",
   "metadata": {},
   "outputs": [],
   "source": [
    "matrix = [[1,3,5,7],[10,11,16,20],[23,30,34,60]]\n",
    "target1 = 3\n",
    "target2 = 13"
   ]
  },
  {
   "cell_type": "code",
   "execution_count": 54,
   "id": "20e4e85b",
   "metadata": {},
   "outputs": [
    {
     "name": "stdout",
     "output_type": "stream",
     "text": [
      "True\n",
      "False\n",
      "-----\n",
      "True\n",
      "False\n"
     ]
    }
   ],
   "source": [
    "print(searchMatrix1(matrix, target1))\n",
    "print(searchMatrix1(matrix, target2))\n",
    "print('-----')\n",
    "print(searchMatrix2(matrix, target1))\n",
    "print(searchMatrix2(matrix, target2))"
   ]
  },
  {
   "cell_type": "code",
   "execution_count": 55,
   "id": "b55f8216",
   "metadata": {},
   "outputs": [],
   "source": [
    "# 14. Pow(x, n)"
   ]
  },
  {
   "cell_type": "code",
   "execution_count": 56,
   "id": "9e4d81c7",
   "metadata": {},
   "outputs": [],
   "source": [
    "def myPow(x, n): # O(logn)T / O(1)S\n",
    "    res = 1\n",
    "    nn = n if n >= 0 else -n\n",
    "\n",
    "    while nn:\n",
    "        if nn & 1:\n",
    "            res *= x\n",
    "            nn -= 1\n",
    "        else:\n",
    "            x *= x\n",
    "            nn //= 2\n",
    "\n",
    "    if n < 0:\n",
    "        return 1 / res\n",
    "\n",
    "    return res\n",
    "\n",
    "    \"\"\"\n",
    "    x = 2, n = 10\n",
    "\n",
    "    res = 1\n",
    "    2 ** 10 -> (2 * 2) ** 5 = 4 ** 5\n",
    "\n",
    "    res = res * 4 = 4\n",
    "    4 ** 4 -> (4 * 4) ** 2 = 16 ** 2\n",
    "    16 ** 2 -> (16 * 16) ** 1 = 256 ** 1\n",
    "\n",
    "    res = res * 256 = 1024\n",
    "    \"\"\""
   ]
  },
  {
   "cell_type": "code",
   "execution_count": 57,
   "id": "8745d3a5",
   "metadata": {},
   "outputs": [],
   "source": [
    "x1, n1 = 2.10000, 3\n",
    "x2, n2 = 2.00000, -2"
   ]
  },
  {
   "cell_type": "code",
   "execution_count": 58,
   "id": "1cd7333d",
   "metadata": {},
   "outputs": [
    {
     "name": "stdout",
     "output_type": "stream",
     "text": [
      "9.261000000000001\n",
      "0.25\n"
     ]
    }
   ],
   "source": [
    "print(myPow(x1, n1))\n",
    "print(myPow(x2, n2))"
   ]
  },
  {
   "cell_type": "code",
   "execution_count": 59,
   "id": "ab83bb0a",
   "metadata": {},
   "outputs": [],
   "source": [
    "# 15. Majority Element(>N/2 times)"
   ]
  },
  {
   "cell_type": "code",
   "execution_count": 60,
   "id": "97b50ca8",
   "metadata": {},
   "outputs": [],
   "source": [
    "def majorityElement1(nums): # O(n)T / O(1)S\n",
    "    cnt, candidate = 0, 0\n",
    "        \n",
    "    for n in nums:\n",
    "        if not cnt:\n",
    "            candidate = n\n",
    "\n",
    "        if n == candidate:\n",
    "            cnt += 1\n",
    "        else:\n",
    "            cnt -= 1\n",
    "\n",
    "    return candidate"
   ]
  },
  {
   "cell_type": "code",
   "execution_count": 61,
   "id": "bff322bc",
   "metadata": {},
   "outputs": [],
   "source": [
    "nums1 = [3,2,3]\n",
    "nums2 = [2,2,1,1,1,2,2]"
   ]
  },
  {
   "cell_type": "code",
   "execution_count": 62,
   "id": "661b92dd",
   "metadata": {},
   "outputs": [
    {
     "name": "stdout",
     "output_type": "stream",
     "text": [
      "3\n",
      "2\n"
     ]
    }
   ],
   "source": [
    "print(majorityElement1(nums1))\n",
    "print(majorityElement1(nums2))"
   ]
  },
  {
   "cell_type": "code",
   "execution_count": 63,
   "id": "023eb647",
   "metadata": {},
   "outputs": [],
   "source": [
    "# 16. Majority Element(>N/3 times)"
   ]
  },
  {
   "cell_type": "code",
   "execution_count": 64,
   "id": "c98089c0",
   "metadata": {},
   "outputs": [],
   "source": [
    "def majorityElement2(nums): # O(2n)T / O(1)S\n",
    "    count1 = count2 = 0\n",
    "    candidate1 = candidate2 = None\n",
    "\n",
    "    for n in nums:\n",
    "        if n == candidate1:\n",
    "            count1 += 1\n",
    "        elif n == candidate2:\n",
    "            count2 += 1\n",
    "        elif count1 == 0:\n",
    "            candidate1 = n\n",
    "            count1 = 1\n",
    "        elif count2 == 0:\n",
    "            candidate2 = n\n",
    "            count2 = 1\n",
    "        else:\n",
    "            count1 -= 1\n",
    "            count2 -= 1\n",
    "\n",
    "    return [n for n in (candidate1, candidate2) if nums.count(n) > len(nums)//3]"
   ]
  },
  {
   "cell_type": "code",
   "execution_count": 65,
   "id": "c556c255",
   "metadata": {},
   "outputs": [],
   "source": [
    "nums1 = [3,2,3]\n",
    "nums2 = [1,5]\n",
    "nums3 = [1,1,1,3,3,2,2,2]"
   ]
  },
  {
   "cell_type": "code",
   "execution_count": 66,
   "id": "64d9248b",
   "metadata": {},
   "outputs": [
    {
     "name": "stdout",
     "output_type": "stream",
     "text": [
      "[3]\n",
      "[1, 5]\n",
      "[1, 2]\n"
     ]
    }
   ],
   "source": [
    "print(majorityElement2(nums1))\n",
    "print(majorityElement2(nums2))\n",
    "print(majorityElement2(nums3))"
   ]
  },
  {
   "cell_type": "code",
   "execution_count": 67,
   "id": "c3110bf3",
   "metadata": {},
   "outputs": [],
   "source": [
    "# 17. Grid Unique Paths"
   ]
  },
  {
   "cell_type": "code",
   "execution_count": 68,
   "id": "70ec8ef5",
   "metadata": {},
   "outputs": [],
   "source": [
    "# Approach 1: Recursion\n",
    "def uniquePaths1(m, n): # Exponential time and space complexity\n",
    "    def recurse1(i, j):\n",
    "        if i == m - 1 and j == n - 1:\n",
    "            return 1\n",
    "\n",
    "        if i >= m or j >= n:\n",
    "            return 0\n",
    "\n",
    "        return recurse1(i + 1, j) + recurse1(i, j + 1)\n",
    "\n",
    "    return recurse1(0, 0)\n",
    "\n",
    "# Approach 1: Recursion with Memoization\n",
    "def uniquePaths2(m, n): # O(n*m)T / O(n*m)S\n",
    "    def recurse2(i, j):\n",
    "        if (i, j) in mem:\n",
    "            return mem[(i, j)]\n",
    "\n",
    "        if i == m - 1 and j == n - 1:\n",
    "            return 1\n",
    "\n",
    "        if i >= m or j >= n:\n",
    "            return 0\n",
    "\n",
    "        mem[(i, j)] = recurse2(i + 1, j) + recurse2(i, j + 1)\n",
    "\n",
    "        return mem[(i, j)]\n",
    "\n",
    "    mem = {}\n",
    "\n",
    "    return recurse2(0, 0)\n",
    "\n",
    "# Approach 2: Combination\n",
    "def uniquePaths3(a, b): # O(a-1 or b-1)T / O(1)S\n",
    "    n = a + b - 2\n",
    "    r = (a - 1) if a < b else (b - 1)\n",
    "\n",
    "    res = 1\n",
    "\n",
    "    for i in range(r):\n",
    "        res *= (n - i)\n",
    "        res //= (i + 1)\n",
    "\n",
    "    return res\n",
    "\n",
    "\n",
    "    \"\"\"\n",
    "    Explanation:\n",
    "    -----------\n",
    "    Let a = 3, b = 2\n",
    "\n",
    "    matrix will be,\n",
    "    [[S, 0, 0],\n",
    "     [0, 0, E]] -> S is starting point, E is ending point\n",
    "\n",
    "    There are three ways to reach from S to E, they are,\n",
    "    R->R->D\n",
    "    R->D->R\n",
    "    D->R->R\n",
    "\n",
    "    We can observe that we need 3 steps to reach from S to E which is a - 1 + b - 1 = a + b - 2\n",
    "    We can see we need a-1 R and b-1 D to reach from S to E\n",
    "    So, this becomes a combination problem where in nCr, n = a + b - 2 (total num of steps)\n",
    "    and r = (a - 1) or (b - 1)     \n",
    "    \"\"\""
   ]
  },
  {
   "cell_type": "code",
   "execution_count": 69,
   "id": "b0f4f4a9",
   "metadata": {},
   "outputs": [],
   "source": [
    "m1, n1 = 3, 2\n",
    "m2, n2 = 3, 7\n",
    "m3, n3 = 10, 10"
   ]
  },
  {
   "cell_type": "code",
   "execution_count": 70,
   "id": "150d86d5",
   "metadata": {},
   "outputs": [
    {
     "name": "stdout",
     "output_type": "stream",
     "text": [
      "3\n",
      "28\n",
      "48620\n"
     ]
    }
   ],
   "source": [
    "print(uniquePaths1(m1, n1))\n",
    "print(uniquePaths2(m2, n2))\n",
    "print(uniquePaths3(m3, n3))"
   ]
  },
  {
   "cell_type": "code",
   "execution_count": 71,
   "id": "cb0258fd",
   "metadata": {},
   "outputs": [],
   "source": [
    "# 18. Reverse Pairs"
   ]
  },
  {
   "cell_type": "code",
   "execution_count": 72,
   "id": "97ee161e",
   "metadata": {},
   "outputs": [],
   "source": [
    "# Approach 1: Using Merge Sort \n",
    "class Solution: # O(nlogn + n)T / O(n)S\n",
    "    def __init__(self):\n",
    "        self.count = 0\n",
    "        \n",
    "    def reversePairs(self, nums):\n",
    "        self.mergeSort(nums)\n",
    "        return self.count\n",
    "    \n",
    "    def mergeSort(self, nums):\n",
    "        if len(nums) > 1:\n",
    "            midVal = len(nums) // 2\n",
    "            leftList = nums[:midVal]\n",
    "            rightList = nums[midVal:]\n",
    "            self.mergeSort(leftList)\n",
    "            self.mergeSort(rightList)\n",
    "            self.doMerge(nums, leftList, rightList)\n",
    "            \n",
    "    def doMerge(self, nums, left, right):\n",
    "        # counting reverse pairs, this runs at max O(n)T\n",
    "        j = 0\n",
    "        \n",
    "        for i in range(len(left)):\n",
    "            while j < len(right) and left[i] > (2 * right[j]):\n",
    "                j += 1\n",
    "                \n",
    "            self.count += j \n",
    "         \n",
    "        # merge steps as in normal mergesort\n",
    "        i = j = k = 0\n",
    "\n",
    "        while i < len(left) and j < len(right):\n",
    "            if left[i] <= right[j]:\n",
    "                nums[k] = left[i]\n",
    "                i += 1\n",
    "            else:\n",
    "                nums[k] = right[j]\n",
    "                j += 1\n",
    "\n",
    "            k += 1\n",
    "\n",
    "        while i < len(left):\n",
    "            nums[k] = left[i]\n",
    "            i += 1\n",
    "            k += 1\n",
    "\n",
    "        while j < len(right):\n",
    "            nums[k] = right[j]\n",
    "            j += 1\n",
    "            k += 1\n",
    "            \n",
    "# Approach 2: Using Fenwick Tree\n",
    "def reversePairs2(nums): # O(nlogn)T / O(2n)S\n",
    "    doubleNums = [n*2 for n in nums]\n",
    "    ranks = {val: i + 1 for i, val in enumerate(sorted(nums + doubleNums))}\n",
    "    n = len(nums) * 2 # len(nums) * 2 because we are including doubleNums in ranks\n",
    "    ft = [0] * (n + 1) # Fenwick Tree\n",
    "    res = 0\n",
    "\n",
    "    def update(i):\n",
    "        while i <= n:\n",
    "            ft[i] += 1\n",
    "\n",
    "            i += (i & -i)\n",
    "\n",
    "    def getSum(i):\n",
    "        res = 0\n",
    "\n",
    "        while i:\n",
    "            res += ft[i]\n",
    "\n",
    "            i -= (i & -i)\n",
    "\n",
    "        return res\n",
    "\n",
    "    for i in reversed(range(len(nums))):\n",
    "        res += getSum(ranks[nums[i]] - 1)\n",
    "        update(ranks[doubleNums[i]])\n",
    "\n",
    "    return res"
   ]
  },
  {
   "cell_type": "code",
   "execution_count": 73,
   "id": "ef541a1d",
   "metadata": {},
   "outputs": [
    {
     "name": "stdout",
     "output_type": "stream",
     "text": [
      "2\n",
      "3\n",
      "15\n"
     ]
    }
   ],
   "source": [
    "nums1 = [1,3,2,3,1]\n",
    "nums2 = [2,4,3,5,1]\n",
    "nums3 = [40,25,19,12,9,6,2]\n",
    "\n",
    "print(Solution().reversePairs(nums1))\n",
    "print(Solution().reversePairs(nums2))\n",
    "print(Solution().reversePairs(nums3))"
   ]
  },
  {
   "cell_type": "code",
   "execution_count": 74,
   "id": "a1fd9374",
   "metadata": {},
   "outputs": [
    {
     "name": "stdout",
     "output_type": "stream",
     "text": [
      "2\n",
      "3\n",
      "15\n"
     ]
    }
   ],
   "source": [
    "nums1 = [1,3,2,3,1]\n",
    "nums2 = [2,4,3,5,1]\n",
    "nums3 = [40,25,19,12,9,6,2]\n",
    "\n",
    "print(reversePairs2(nums1))\n",
    "print(reversePairs2(nums2))\n",
    "print(reversePairs2(nums3))"
   ]
  },
  {
   "cell_type": "markdown",
   "id": "01d30506",
   "metadata": {},
   "source": [
    "# 4. Arrays Part 4"
   ]
  },
  {
   "cell_type": "code",
   "execution_count": 75,
   "id": "67d31fdf",
   "metadata": {},
   "outputs": [],
   "source": [
    "# 19. 2 Sum Problem"
   ]
  },
  {
   "cell_type": "code",
   "execution_count": 76,
   "id": "f2b5a601",
   "metadata": {},
   "outputs": [],
   "source": [
    "def twoSum(nums, target): # O(n)T / O(n)S\n",
    "    dic = {}\n",
    "        \n",
    "    for i, n in enumerate(nums):\n",
    "        if target - n in dic:\n",
    "            return [i, dic[target - n]]\n",
    "\n",
    "        dic[n] = i\n",
    "\n",
    "    return -1"
   ]
  },
  {
   "cell_type": "code",
   "execution_count": 77,
   "id": "cb4bc025",
   "metadata": {},
   "outputs": [],
   "source": [
    "nums1, target1 = [2,7,11,15], 9\n",
    "nums2, target2 = [2,6,5,8,11], 14"
   ]
  },
  {
   "cell_type": "code",
   "execution_count": 78,
   "id": "a6b1b5fc",
   "metadata": {},
   "outputs": [
    {
     "name": "stdout",
     "output_type": "stream",
     "text": [
      "[1, 0]\n",
      "[3, 1]\n"
     ]
    }
   ],
   "source": [
    "print(twoSum(nums1, target1))\n",
    "print(twoSum(nums2, target2))"
   ]
  },
  {
   "cell_type": "code",
   "execution_count": 79,
   "id": "25f66d7b",
   "metadata": {},
   "outputs": [],
   "source": [
    "# 20. 4 Sum Problem"
   ]
  },
  {
   "cell_type": "code",
   "execution_count": 80,
   "id": "27b4c18f",
   "metadata": {},
   "outputs": [],
   "source": [
    "def fourSum(nums, target): # O(n^3 + nlogn)T / O(1)S\n",
    "    res = []\n",
    "    n = len(nums)\n",
    "    nums.sort() # O(nlogn)T\n",
    "\n",
    "    for i in range(n): # O(n)T\n",
    "        if i > 0 and nums[i] == nums[i - 1]:\n",
    "            continue\n",
    "\n",
    "        for j in range(i + 1, n): # O(n)T\n",
    "            if j > i + 1 and nums[j] == nums[j - 1]:\n",
    "                continue\n",
    "\n",
    "            target2 = target - nums[i] - nums[j]\n",
    "            front = j + 1\n",
    "            back = n - 1\n",
    "\n",
    "            while front < back: # O(n)T\n",
    "                twoSum = nums[front] + nums[back]\n",
    "\n",
    "                if twoSum < target2:\n",
    "                    front += 1\n",
    "                elif twoSum > target2:\n",
    "                    back -= 1\n",
    "                else:\n",
    "                    quad = [nums[i], nums[j], nums[front], nums[back]]\n",
    "                    res.append(quad)\n",
    "\n",
    "                    while front < back and nums[front] == quad[2]:\n",
    "                        front += 1\n",
    "\n",
    "                    while front < back and nums[back] == quad[3]:\n",
    "                        back -= 1\n",
    "\n",
    "    return res   "
   ]
  },
  {
   "cell_type": "code",
   "execution_count": 81,
   "id": "11c0858a",
   "metadata": {},
   "outputs": [],
   "source": [
    "nums1, target1 = [1,0,-1,0,-2,2], 0\n",
    "nums2, target2 = [2,2,2,2,2], 8"
   ]
  },
  {
   "cell_type": "code",
   "execution_count": 82,
   "id": "66dc821e",
   "metadata": {},
   "outputs": [
    {
     "name": "stdout",
     "output_type": "stream",
     "text": [
      "[[-2, -1, 1, 2], [-2, 0, 0, 2], [-1, 0, 0, 1]]\n",
      "[[2, 2, 2, 2]]\n"
     ]
    }
   ],
   "source": [
    "print(fourSum(nums1, target1))\n",
    "print(fourSum(nums2, target2))"
   ]
  },
  {
   "cell_type": "code",
   "execution_count": 83,
   "id": "93bea8ce",
   "metadata": {},
   "outputs": [],
   "source": [
    "# 21. Longest Consecutive Sequence"
   ]
  },
  {
   "cell_type": "code",
   "execution_count": 84,
   "id": "1f44e71c",
   "metadata": {},
   "outputs": [],
   "source": [
    "def longestConsecutive(nums): # O(2n)T / O(n)S\n",
    "    s, longest = set(nums), 0\n",
    "\n",
    "    for num in s: # O(n)T\n",
    "        if num - 1 in s: \n",
    "            continue\n",
    "\n",
    "        cur = num\n",
    "        j = 1\n",
    "\n",
    "        # The below while loop runs at max O(n)T\n",
    "        while cur + 1 in s: \n",
    "            cur += 1\n",
    "            j += 1\n",
    "\n",
    "        longest = max(longest, j)\n",
    "\n",
    "    return longest"
   ]
  },
  {
   "cell_type": "code",
   "execution_count": 85,
   "id": "a5776ecd",
   "metadata": {},
   "outputs": [],
   "source": [
    "nums1 = [100,4,200,1,3,2]\n",
    "nums2 = [0,3,7,2,5,8,4,6,0,1]"
   ]
  },
  {
   "cell_type": "code",
   "execution_count": 86,
   "id": "0ed3866d",
   "metadata": {},
   "outputs": [
    {
     "name": "stdout",
     "output_type": "stream",
     "text": [
      "4\n",
      "9\n"
     ]
    }
   ],
   "source": [
    "print(longestConsecutive(nums1))\n",
    "print(longestConsecutive(nums2))"
   ]
  },
  {
   "cell_type": "code",
   "execution_count": 87,
   "id": "abd794c4",
   "metadata": {},
   "outputs": [],
   "source": [
    "# 22. Largest Subarray with 0 Sum"
   ]
  },
  {
   "cell_type": "code",
   "execution_count": 88,
   "id": "c11a6a14",
   "metadata": {},
   "outputs": [],
   "source": [
    "def maxLen(arr): # O(n)T / O(n)S\n",
    "    prefixSum = {}\n",
    "    cur = 0\n",
    "    res = 0\n",
    "    \n",
    "    for i in range(len(arr)):\n",
    "        cur += arr[i]\n",
    "        \n",
    "        if cur == 0:\n",
    "            res = i + 1\n",
    "        elif cur not in prefixSum:\n",
    "            prefixSum[cur] = i\n",
    "        elif cur in prefixSum:\n",
    "            res = max(res, i - prefixSum[cur])\n",
    "            \n",
    "    return res"
   ]
  },
  {
   "cell_type": "code",
   "execution_count": 89,
   "id": "9821e046",
   "metadata": {},
   "outputs": [],
   "source": [
    "nums1 = [15,-2,2,-8,1,7,10,23]\n",
    "nums2 = [1,3,-1,4,-4]\n",
    "nums3 = [1,-1,2,-2]"
   ]
  },
  {
   "cell_type": "code",
   "execution_count": 90,
   "id": "244e10b9",
   "metadata": {},
   "outputs": [
    {
     "name": "stdout",
     "output_type": "stream",
     "text": [
      "5\n",
      "2\n",
      "4\n"
     ]
    }
   ],
   "source": [
    "print(maxLen(nums1))\n",
    "print(maxLen(nums2))\n",
    "print(maxLen(nums3))"
   ]
  },
  {
   "cell_type": "code",
   "execution_count": 91,
   "id": "bf1cfc70",
   "metadata": {},
   "outputs": [],
   "source": [
    "# 23. Count number of subarrays with XOR as given K"
   ]
  },
  {
   "cell_type": "code",
   "execution_count": 92,
   "id": "6d1a468d",
   "metadata": {},
   "outputs": [],
   "source": [
    "def subarraysXor(arr, x): # O(n)T / O(n)S\n",
    "    \"\"\"\n",
    "    arr = [5,2,9], x = 7\n",
    "    ---------------------------------\n",
    "    5     -> 5  -> 5^7=2  -> ans += 0\n",
    "    prefix = {5:1}, ans = 0\n",
    "    5^2   -> 7  -> 7^7=0  -> ans += 1 (for 5^2=7)\n",
    "    prefix = {5:1, 7:1}, ans = 1\n",
    "    5^2^9 -> 14 -> 14^7=9 -> ans += 0\n",
    "    prefix = {5:1, 7:1, 14:1}, ans = 1\n",
    "    so, ans = 1\n",
    "    \"\"\"\n",
    "    \n",
    "    prefXor = {}\n",
    "    xor, res = 0, 0\n",
    "    \n",
    "    prefXor[0] = 1\n",
    "    \n",
    "    for i in range(len(arr)):\n",
    "        xor = xor ^ arr[i]\n",
    "        req = xor ^ x\n",
    "        \n",
    "        if req in prefXor:\n",
    "            res += prefXor[req]\n",
    "            \n",
    "        if xor in prefXor:\n",
    "            prefXor[xor] += 1\n",
    "        else:\n",
    "            prefXor[xor] = 1\n",
    "        \n",
    "    return res"
   ]
  },
  {
   "cell_type": "code",
   "execution_count": 93,
   "id": "d9c2d0e3",
   "metadata": {},
   "outputs": [],
   "source": [
    "nums1, k1 = [4,2,2,6,4], 6\n",
    "nums2, k2 = [5,6,7,8,9], 5 \n",
    "nums3, k3 = [5,2,9], 7"
   ]
  },
  {
   "cell_type": "code",
   "execution_count": 94,
   "id": "b48591b7",
   "metadata": {},
   "outputs": [
    {
     "name": "stdout",
     "output_type": "stream",
     "text": [
      "4\n",
      "2\n",
      "1\n"
     ]
    }
   ],
   "source": [
    "print(subarraysXor(nums1, k1))\n",
    "print(subarraysXor(nums2, k2))\n",
    "print(subarraysXor(nums3, k3))"
   ]
  },
  {
   "cell_type": "code",
   "execution_count": 95,
   "id": "92e43a9f",
   "metadata": {},
   "outputs": [],
   "source": [
    "# 24. Longest Substring Without Repeat"
   ]
  },
  {
   "cell_type": "code",
   "execution_count": 96,
   "id": "c10c3ec1",
   "metadata": {},
   "outputs": [],
   "source": [
    "def lengthOfLongestSubstring(s): # O(n)T / O(n)S\n",
    "    lastSeen = {}\n",
    "    startIdx = 0\n",
    "    res = 0\n",
    "\n",
    "    for i in range(len(s)):\n",
    "        char = s[i]\n",
    "\n",
    "        if char in lastSeen:\n",
    "            startIdx = max(lastSeen[char] + 1, startIdx)\n",
    "\n",
    "        lastSeen[char] = i\n",
    "        res = max(res, i - startIdx + 1)\n",
    "\n",
    "    return res"
   ]
  },
  {
   "cell_type": "code",
   "execution_count": 97,
   "id": "d5b4d808",
   "metadata": {},
   "outputs": [],
   "source": [
    "s1 = 'abcabcbb'\n",
    "s2 = 'bbbb'\n",
    "s3 = 'abba'"
   ]
  },
  {
   "cell_type": "code",
   "execution_count": 98,
   "id": "b06619c1",
   "metadata": {},
   "outputs": [
    {
     "name": "stdout",
     "output_type": "stream",
     "text": [
      "3\n",
      "1\n",
      "2\n"
     ]
    }
   ],
   "source": [
    "print(lengthOfLongestSubstring(s1))\n",
    "print(lengthOfLongestSubstring(s2))\n",
    "print(lengthOfLongestSubstring(s3))"
   ]
  },
  {
   "cell_type": "markdown",
   "id": "73cd8581",
   "metadata": {},
   "source": [
    "# 5. Linked List"
   ]
  },
  {
   "cell_type": "code",
   "execution_count": 99,
   "id": "678e2d52",
   "metadata": {},
   "outputs": [],
   "source": [
    "# 25. Reverse a Linked List"
   ]
  },
  {
   "cell_type": "code",
   "execution_count": 100,
   "id": "d12ba2ac",
   "metadata": {},
   "outputs": [],
   "source": [
    "def reverseList(head): # O(n)T / O(1)S\n",
    "    if not head or not head.next:\n",
    "        return head\n",
    "\n",
    "    prev = None\n",
    "    cur = head\n",
    "\n",
    "    while cur:\n",
    "        nxt = cur.next\n",
    "        cur.next = prev\n",
    "        prev = cur\n",
    "        cur = nxt\n",
    "\n",
    "    return prev"
   ]
  },
  {
   "cell_type": "code",
   "execution_count": 101,
   "id": "d74a6fc8",
   "metadata": {},
   "outputs": [],
   "source": [
    "# 26. Find the middle of Linked List"
   ]
  },
  {
   "cell_type": "code",
   "execution_count": 102,
   "id": "37bbaf3f",
   "metadata": {},
   "outputs": [],
   "source": [
    "def middleNode(head): # O(n/2)T / O(1)S\n",
    "    slow = head\n",
    "    fast = head\n",
    "\n",
    "    while fast and fast.next:\n",
    "        slow = slow.next\n",
    "        fast = fast.next.next\n",
    "\n",
    "    return slow"
   ]
  },
  {
   "cell_type": "code",
   "execution_count": 103,
   "id": "18d387aa",
   "metadata": {},
   "outputs": [],
   "source": [
    "# 27. Merge two sorted Linked Lists"
   ]
  },
  {
   "cell_type": "code",
   "execution_count": 104,
   "id": "5e2583f1",
   "metadata": {},
   "outputs": [],
   "source": [
    "def mergeTwoLists(l1, l2): # O(n1 + n2)T / O(1)S\n",
    "    if not l1:\n",
    "        return l2\n",
    "\n",
    "    if not l2:\n",
    "        return l1\n",
    "\n",
    "    if l1.val > l2.val:\n",
    "        l1, l2 = l2, l1\n",
    "\n",
    "    res = l1\n",
    "\n",
    "    while l1 and l2:\n",
    "        temp = None\n",
    "\n",
    "        while l1 and l1.val <= l2.val:\n",
    "            temp = l1\n",
    "            l1 = l1.next\n",
    "\n",
    "        temp.next = l2 \n",
    "\n",
    "        l1, l2 = l2, l1\n",
    "\n",
    "    return res"
   ]
  },
  {
   "cell_type": "code",
   "execution_count": 105,
   "id": "0154097f",
   "metadata": {},
   "outputs": [],
   "source": [
    "# 28. Remove N-th node from back of Linked List"
   ]
  },
  {
   "cell_type": "code",
   "execution_count": 106,
   "id": "b8fead5a",
   "metadata": {},
   "outputs": [],
   "source": [
    "def removeNthFromEnd(head, n): # O(n)T / O(1)S\n",
    "    start = ListNode()\n",
    "    start.next = head\n",
    "    fast = slow = start\n",
    "\n",
    "    for i in range(n):\n",
    "        fast = fast.next\n",
    "\n",
    "    while fast.next:\n",
    "        fast = fast.next\n",
    "        slow = slow.next\n",
    "\n",
    "    slow.next = slow.next.next\n",
    "\n",
    "    return start.next"
   ]
  },
  {
   "cell_type": "code",
   "execution_count": 107,
   "id": "3830832d",
   "metadata": {},
   "outputs": [],
   "source": [
    "# 29. Add two numbers as LinkedList"
   ]
  },
  {
   "cell_type": "code",
   "execution_count": 108,
   "id": "b90deb80",
   "metadata": {},
   "outputs": [],
   "source": [
    "def addTwoNumbers(l1, l2): # O(max(n1, n2))T / O(n)S\n",
    "    dummy = node = ListNode()\n",
    "    carry = 0\n",
    "\n",
    "    while l1 or l2 or carry:\n",
    "        curSum = 0\n",
    "            \n",
    "        if l1:\n",
    "            curSum += l1.val\n",
    "            l1 = l1.next\n",
    "\n",
    "        if l2:\n",
    "            curSum += l2.val\n",
    "            l2 = l2.next\n",
    "\n",
    "        curSum += carry\n",
    "\n",
    "        carry = curSum // 10\n",
    "\n",
    "        node.next = ListNode(curSum % 10)\n",
    "        node = node.next\n",
    "\n",
    "    return dummy.next"
   ]
  },
  {
   "cell_type": "code",
   "execution_count": 109,
   "id": "b78c051d",
   "metadata": {},
   "outputs": [],
   "source": [
    "# 30. Delete the given Node when the Node is given"
   ]
  },
  {
   "cell_type": "code",
   "execution_count": 110,
   "id": "f39c9f02",
   "metadata": {},
   "outputs": [],
   "source": [
    "def deleteNode(node): # O(1)T / O(1)S\n",
    "    node.val = node.next.val\n",
    "    node.next = node.next.next"
   ]
  },
  {
   "cell_type": "markdown",
   "id": "3cfd834f",
   "metadata": {},
   "source": [
    "# 6. Linked List Part 2"
   ]
  },
  {
   "cell_type": "code",
   "execution_count": 111,
   "id": "8a8be44c",
   "metadata": {},
   "outputs": [],
   "source": [
    "# 31. Find intersection point of Y Linked List"
   ]
  },
  {
   "cell_type": "code",
   "execution_count": 112,
   "id": "70c6b455",
   "metadata": {},
   "outputs": [],
   "source": [
    "def getIntersectionNode(headA, headB): # O(2n))T / O(1)S -> n is length of longer list\n",
    "    a = headA\n",
    "    b = headB\n",
    "\n",
    "    while a != b:\n",
    "        a = headB if a is None else a.next\n",
    "        b = headA if b is None else b.next\n",
    "\n",
    "    return a "
   ]
  },
  {
   "cell_type": "code",
   "execution_count": 113,
   "id": "6f46db0a",
   "metadata": {},
   "outputs": [],
   "source": [
    "# 32. Detect a cycle in Linked List"
   ]
  },
  {
   "cell_type": "code",
   "execution_count": 114,
   "id": "817e1a52",
   "metadata": {},
   "outputs": [],
   "source": [
    "def hasCycle(head): # O(n)T / O(1)S\n",
    "    if not head or not head.next:\n",
    "        return False \n",
    "\n",
    "    slow = fast = head\n",
    "\n",
    "    while fast and fast.next:\n",
    "        fast = fast.next.next\n",
    "        slow = slow.next\n",
    "\n",
    "        if fast == slow:\n",
    "            return True\n",
    "\n",
    "    return False"
   ]
  },
  {
   "cell_type": "code",
   "execution_count": 115,
   "id": "2603e6aa",
   "metadata": {},
   "outputs": [],
   "source": [
    "# 33. Reverse a LinkedList in groups of size k."
   ]
  },
  {
   "cell_type": "code",
   "execution_count": 116,
   "id": "5a21d0d8",
   "metadata": {},
   "outputs": [],
   "source": [
    "def reverseKGroup(head, k): # O(n)T / O(1)S\n",
    "    if k == 1 or not head:\n",
    "        return head\n",
    "\n",
    "    dummy = ListNode()\n",
    "    dummy.next = head\n",
    "\n",
    "    cur = nex = pre = dummy\n",
    "    count = 0\n",
    "\n",
    "    while cur.next:\n",
    "        cur = cur.next\n",
    "        count += 1\n",
    "\n",
    "    while count >= k:\n",
    "        cur = pre.next\n",
    "        nex = cur.next\n",
    "\n",
    "        for i in range(1, k):\n",
    "            cur.next = nex.next\n",
    "            nex.next = pre.next\n",
    "            pre.next = nex\n",
    "            nex = cur.next\n",
    "\n",
    "        pre = cur\n",
    "        count -= k\n",
    "\n",
    "    return dummy.next\n",
    "\n",
    "#---------------------------------------------------\n",
    "\n",
    "# My Solution\n",
    "def reverseKGroup(head, k): # O(n)T / O(1)S\n",
    "    if k == 1 or not head:\n",
    "        return head\n",
    "    \n",
    "    n = 0\n",
    "    cur = head\n",
    "    while cur:\n",
    "        n += 1\n",
    "        cur = cur.next\n",
    "\n",
    "    res = ListNode()\n",
    "    prev = res\n",
    "    cur = head\n",
    "\n",
    "    while n >= k:\n",
    "        prev.next, cur.next = reverse(cur, k)\n",
    "        prev = cur\n",
    "        cur = cur.next\n",
    "        n -= k\n",
    "\n",
    "    return res.next\n",
    "\n",
    "def reverse(node, k):\n",
    "    prev = None\n",
    "    cur = node\n",
    "\n",
    "    for i in range(k):\n",
    "        nxxt = cur.next\n",
    "        cur.next = prev\n",
    "        prev = cur\n",
    "        cur = nxxt\n",
    "\n",
    "    return prev, cur"
   ]
  },
  {
   "cell_type": "code",
   "execution_count": 117,
   "id": "48b77c9e",
   "metadata": {},
   "outputs": [],
   "source": [
    "# 34. Check if a Linked List is palindrome or not"
   ]
  },
  {
   "cell_type": "code",
   "execution_count": 118,
   "id": "f8a6d594",
   "metadata": {},
   "outputs": [],
   "source": [
    "def isPalindrome(head): # O(3n/2)T / O(1)S\n",
    "    slow = fast = head\n",
    "\n",
    "    while fast and fast.next: # O(n/2)T\n",
    "        fast = fast.next.next\n",
    "        slow = slow.next\n",
    "\n",
    "    secondHalf = reverse(slow) # O(n/2)T\n",
    "    firstHalf = head\n",
    "\n",
    "    while secondHalf: # O(n/2)T\n",
    "        if firstHalf.val != secondHalf.val:\n",
    "            return False\n",
    "\n",
    "        firstHalf = firstHalf.next\n",
    "        secondHalf = secondHalf.next\n",
    "\n",
    "    return True\n",
    "\n",
    "def reverse(head):\n",
    "    prev = None\n",
    "    cur = head\n",
    "\n",
    "    while cur:\n",
    "        nxt = cur.next\n",
    "        cur.next = prev\n",
    "        prev = cur\n",
    "        cur = nxt\n",
    "\n",
    "    return prev"
   ]
  },
  {
   "cell_type": "code",
   "execution_count": 119,
   "id": "64ac83ed",
   "metadata": {},
   "outputs": [],
   "source": [
    "# 35. Find the starting point of the Loop of Linked List"
   ]
  },
  {
   "cell_type": "code",
   "execution_count": 120,
   "id": "0be375e1",
   "metadata": {},
   "outputs": [],
   "source": [
    "def detectCycle(head): # O(n)T / O(1)S\n",
    "    slow = fast = head\n",
    "\n",
    "    while fast and fast.next:\n",
    "        fast = fast.next.next\n",
    "        slow = slow.next\n",
    "\n",
    "        if fast == slow:\n",
    "            start = head\n",
    "\n",
    "            while start != slow:\n",
    "                start = start.next\n",
    "                slow = slow.next\n",
    "\n",
    "            return start\n",
    "\n",
    "    return None"
   ]
  },
  {
   "cell_type": "code",
   "execution_count": 121,
   "id": "2a8e62b9",
   "metadata": {},
   "outputs": [],
   "source": [
    "# 36. Flattening of a Linked List"
   ]
  },
  {
   "cell_type": "code",
   "execution_count": 122,
   "id": "087e8534",
   "metadata": {},
   "outputs": [],
   "source": [
    "def flattenList(root): # O(2x + 3x + 4x ... kx)T assuming the singly linked list to be of size x on average / O(1)S\n",
    "    if not root or not root.next:\n",
    "        return root\n",
    "    \n",
    "    root.next = flatten(root.next)\n",
    "    \n",
    "    root = mergeTwoList(root, root.next)\n",
    "    \n",
    "    return root\n",
    "\n",
    "def mergeTwoList(a, b):\n",
    "    res = Node(0)\n",
    "    temp = res\n",
    "    \n",
    "    while a and b:\n",
    "        if a.data < b.data:\n",
    "            temp.bottom = a\n",
    "            temp = temp.bottom\n",
    "            a = a.bottom\n",
    "        else:\n",
    "            temp.bottom = b\n",
    "            temp = temp.bottom\n",
    "            b = b.bottom\n",
    "            \n",
    "    if a:\n",
    "        temp.bottom = a\n",
    "    else:\n",
    "        temp.bottom = b\n",
    "        \n",
    "    return res.bottom"
   ]
  },
  {
   "cell_type": "markdown",
   "id": "ade5ed67",
   "metadata": {},
   "source": [
    "# 7. Linked List and Arrays"
   ]
  },
  {
   "cell_type": "code",
   "execution_count": 123,
   "id": "08a67489",
   "metadata": {},
   "outputs": [],
   "source": [
    "# 37. Rotate a Linked List"
   ]
  },
  {
   "cell_type": "code",
   "execution_count": 124,
   "id": "39fb4562",
   "metadata": {},
   "outputs": [],
   "source": [
    "def rotateRight(head, k): # O(n)T / O(1)S\n",
    "    if not head or not head.next or k == 0:\n",
    "        return head\n",
    "\n",
    "    l = 0\n",
    "    cur = head\n",
    "\n",
    "    while cur:\n",
    "        l += 1\n",
    "\n",
    "        if not cur.next:\n",
    "            cur.next = head\n",
    "            break\n",
    "\n",
    "        cur = cur.next\n",
    "\n",
    "    k = k % l\n",
    "    k = l - k\n",
    "\n",
    "    cur = head\n",
    "\n",
    "    while k > 1:\n",
    "        cur = cur.next\n",
    "        k -= 1\n",
    "\n",
    "    head = cur.next\n",
    "    cur.next = None\n",
    "\n",
    "    return head"
   ]
  },
  {
   "cell_type": "code",
   "execution_count": 125,
   "id": "95c4d9bf",
   "metadata": {},
   "outputs": [],
   "source": [
    "# 38. Clone a Linked List with Random and Next pointer"
   ]
  },
  {
   "cell_type": "code",
   "execution_count": 126,
   "id": "2b622ac5",
   "metadata": {},
   "outputs": [],
   "source": [
    "def copyRandomList(head): # O(3n)T / O(1)S\n",
    "    if head is None:\n",
    "        return head\n",
    "\n",
    "    newListWithClones(head) # O(n)T\n",
    "\n",
    "    setRandomPointer(head) # O(n)T\n",
    "\n",
    "    cloneHead = splitList(head) # O(n)T\n",
    "\n",
    "    return cloneHead\n",
    "\n",
    "def newListWithClones(head):\n",
    "    cur = head\n",
    "\n",
    "    while cur:\n",
    "        temp = cur.next\n",
    "\n",
    "        cur.next = Node(cur.val)\n",
    "        cur.next.next = temp\n",
    "\n",
    "        cur = cur.next.next\n",
    "\n",
    "def setRandomPointer(head):\n",
    "    cur = head\n",
    "\n",
    "    while cur:\n",
    "        cur.next.random = cur.random.next if cur.random else None \n",
    "        cur = cur.next.next\n",
    "\n",
    "def splitList(head):\n",
    "    dummy = cur = head.next\n",
    "\n",
    "    while cur:\n",
    "        cur.next = cur.next.next if cur.next else None\n",
    "        cur = cur.next\n",
    "\n",
    "    return dummy"
   ]
  },
  {
   "cell_type": "code",
   "execution_count": 127,
   "id": "a2729761",
   "metadata": {},
   "outputs": [],
   "source": [
    "# 39. 3 sum"
   ]
  },
  {
   "cell_type": "code",
   "execution_count": 128,
   "id": "b11d237a",
   "metadata": {},
   "outputs": [],
   "source": [
    "def threeSum(nums): # O(n^2)T / O(1)S\n",
    "    res = []\n",
    "    n = len(nums)\n",
    "    nums.sort()\n",
    "\n",
    "    for i in range(n): # O(n)T\n",
    "        if i > 0 and nums[i] == nums[i - 1]:\n",
    "            continue\n",
    "\n",
    "        l = i + 1\n",
    "        r = n - 1\n",
    "        sumReq = 0 - nums[i]\n",
    "\n",
    "        while l < r: # O(n)T\n",
    "            curSum = nums[l] + nums[r]\n",
    "\n",
    "            if curSum == sumReq:\n",
    "                res.append([nums[i], nums[l], nums[r]])\n",
    "\n",
    "                while l < r and nums[l] == nums[l + 1]:\n",
    "                    l += 1\n",
    "\n",
    "                while l < r and nums[r] == nums[r - 1]:\n",
    "                    r -= 1\n",
    "\n",
    "                l += 1\n",
    "                r -= 1\n",
    "            elif curSum < sumReq:\n",
    "                l += 1\n",
    "            else:\n",
    "                r -= 1\n",
    "\n",
    "    return res"
   ]
  },
  {
   "cell_type": "code",
   "execution_count": 129,
   "id": "71b341e7",
   "metadata": {},
   "outputs": [],
   "source": [
    "nums1 = [-1,0,1,2,-1,-4]\n",
    "nums2 = []"
   ]
  },
  {
   "cell_type": "code",
   "execution_count": 130,
   "id": "102812b1",
   "metadata": {},
   "outputs": [
    {
     "name": "stdout",
     "output_type": "stream",
     "text": [
      "[[-1, -1, 2], [-1, 0, 1]]\n",
      "[]\n"
     ]
    }
   ],
   "source": [
    "print(threeSum(nums1))\n",
    "print(threeSum(nums2))"
   ]
  },
  {
   "cell_type": "code",
   "execution_count": 131,
   "id": "293f5569",
   "metadata": {},
   "outputs": [],
   "source": [
    "# 40. Trapping rainwater"
   ]
  },
  {
   "cell_type": "code",
   "execution_count": 132,
   "id": "1e9fddc3",
   "metadata": {},
   "outputs": [],
   "source": [
    "def trap(height): # O(n)T / O(1)S\n",
    "    n = len(height)\n",
    "    l, r = 0, n - 1\n",
    "    leftMax = rightMax = res = 0\n",
    "\n",
    "    while l <= r:\n",
    "        if height[l] <= height[r]:\n",
    "            if height[l] >= leftMax:\n",
    "                leftMax = height[l]\n",
    "            else:\n",
    "                res += leftMax - height[l]\n",
    "\n",
    "            l += 1\n",
    "        else:\n",
    "            if height[r] >= rightMax:\n",
    "                rightMax = height[r]\n",
    "            else:\n",
    "                res += rightMax - height[r]\n",
    "\n",
    "            r -= 1\n",
    "\n",
    "    return res"
   ]
  },
  {
   "cell_type": "code",
   "execution_count": 133,
   "id": "33867b21",
   "metadata": {},
   "outputs": [],
   "source": [
    "height1 = [0,1,0,2,1,0,1,3,2,1,2,1]\n",
    "height2 = [4,2,0,3,2,5]"
   ]
  },
  {
   "cell_type": "code",
   "execution_count": 134,
   "id": "d075e8fb",
   "metadata": {},
   "outputs": [
    {
     "name": "stdout",
     "output_type": "stream",
     "text": [
      "6\n",
      "9\n"
     ]
    }
   ],
   "source": [
    "print(trap(height1))\n",
    "print(trap(height2))"
   ]
  },
  {
   "cell_type": "code",
   "execution_count": 135,
   "id": "0a723273",
   "metadata": {},
   "outputs": [],
   "source": [
    "# 41. Remove Duplicate from Sorted Array"
   ]
  },
  {
   "cell_type": "code",
   "execution_count": 136,
   "id": "e5547d17",
   "metadata": {},
   "outputs": [],
   "source": [
    "def removeDuplicates(nums): # O(n)T / O(1)S\n",
    "    \"\"\"\n",
    "    Logic: for i from (0 to n), if arr[c] != arr[i] then arr[c + 1] = arr[i], c++\n",
    "    \n",
    "    [ 0, 0, 1, 1, 1, 2, 2, 3, 3, 4]   \n",
    "      c  i                  \n",
    "      c     i\n",
    "         c     i\n",
    "         c        i\n",
    "         c           i\n",
    "            c           i\n",
    "            c              i\n",
    "               c              i\n",
    "               c                 i\n",
    "                  c                 i -> i out of bounds\n",
    "    \"\"\"\n",
    "    \n",
    "    cur = 0\n",
    "        \n",
    "    for i in range(1, len(nums)):\n",
    "        if nums[cur] != nums[i]:\n",
    "            nums[cur + 1] = nums[i]\n",
    "            cur += 1\n",
    "\n",
    "    return cur + 1"
   ]
  },
  {
   "cell_type": "code",
   "execution_count": 137,
   "id": "f51e28b4",
   "metadata": {},
   "outputs": [],
   "source": [
    "nums1 = [1,1,2]\n",
    "nums2 = [0,0,1,1,1,2,2,3,3,4]"
   ]
  },
  {
   "cell_type": "code",
   "execution_count": 138,
   "id": "45bc4596",
   "metadata": {},
   "outputs": [
    {
     "name": "stdout",
     "output_type": "stream",
     "text": [
      "2\n",
      "5\n"
     ]
    }
   ],
   "source": [
    "print(removeDuplicates(nums1))\n",
    "print(removeDuplicates(nums2))"
   ]
  },
  {
   "cell_type": "code",
   "execution_count": 139,
   "id": "b1f65828",
   "metadata": {},
   "outputs": [],
   "source": [
    "# 42. Max consecutive ones"
   ]
  },
  {
   "cell_type": "code",
   "execution_count": 140,
   "id": "36d5d1e7",
   "metadata": {},
   "outputs": [],
   "source": [
    "def findMaxConsecutiveOnes(nums): # O(n)T / O(1)S\n",
    "    count = maxi = 0\n",
    "\n",
    "    for i in range(len(nums)):\n",
    "        if nums[i] == 1:\n",
    "            count += 1\n",
    "        else:\n",
    "            count = 0\n",
    "\n",
    "        maxi = max(count, maxi)\n",
    "\n",
    "    return maxi"
   ]
  },
  {
   "cell_type": "code",
   "execution_count": 141,
   "id": "825abd3d",
   "metadata": {},
   "outputs": [],
   "source": [
    "nums1 = [1,1,0,1,1,1]\n",
    "nums2 = [1,0,1,1,0,1]"
   ]
  },
  {
   "cell_type": "code",
   "execution_count": 142,
   "id": "71c2fe43",
   "metadata": {},
   "outputs": [
    {
     "name": "stdout",
     "output_type": "stream",
     "text": [
      "3\n",
      "2\n"
     ]
    }
   ],
   "source": [
    "print(findMaxConsecutiveOnes(nums1))\n",
    "print(findMaxConsecutiveOnes(nums2))"
   ]
  },
  {
   "cell_type": "markdown",
   "id": "c13a4bad",
   "metadata": {},
   "source": [
    "# 8. Greedy Algorithm"
   ]
  },
  {
   "cell_type": "code",
   "execution_count": 143,
   "id": "4735628c",
   "metadata": {},
   "outputs": [],
   "source": [
    "# 43. N meetings in one room"
   ]
  },
  {
   "cell_type": "code",
   "execution_count": 144,
   "id": "586ba2c0",
   "metadata": {},
   "outputs": [],
   "source": [
    "def maxMeetings(start, end): # O(2n + nlogn)T / O(n)S\n",
    "    \"\"\"\n",
    "    Return the index of meetings that can take place in order\n",
    "    \"\"\"\n",
    "    arr = []\n",
    "    ans = []\n",
    "    \n",
    "    for i in range(len(start)): # O(n)T\n",
    "        arr.append([start[i], end[i], i])\n",
    "        \n",
    "    arr.sort(key = lambda x: x[1]) # O(nlogn)T\n",
    "    \n",
    "    ans.append(arr[0][2])\n",
    "    limit = arr[0][1]\n",
    "    \n",
    "    for i in range(1, len(arr)): # O(n)\n",
    "        if arr[i][0] > limit:\n",
    "            limit = arr[i][1]\n",
    "            ans.append(arr[i][2])\n",
    "    \n",
    "    return ans"
   ]
  },
  {
   "cell_type": "code",
   "execution_count": 145,
   "id": "426b6ec4",
   "metadata": {},
   "outputs": [
    {
     "data": {
      "text/plain": [
       "[0, 2, 4, 3]"
      ]
     },
     "execution_count": 145,
     "metadata": {},
     "output_type": "execute_result"
    }
   ],
   "source": [
    "start = [1,0,3,8,5,8]\n",
    "end = [2,6,4,9,7,9]\n",
    "\n",
    "maxMeetings(start, end)"
   ]
  },
  {
   "cell_type": "code",
   "execution_count": 146,
   "id": "ae8685b1",
   "metadata": {},
   "outputs": [],
   "source": [
    "# 44. Minimum number of platforms required for a railway"
   ]
  },
  {
   "cell_type": "code",
   "execution_count": 147,
   "id": "9de77f1b",
   "metadata": {},
   "outputs": [],
   "source": [
    "def minPlatforms(arr, dep): # O(2n + 2nlogn)T / O(1)S\n",
    "    arr.sort() # O(nlogn)T\n",
    "    dep.sort() # O(nlogn)T\n",
    "    \n",
    "    n = len(arr)\n",
    "    platform = 1\n",
    "    res = 0\n",
    "    i, j = 1, 0\n",
    "    \n",
    "    while i < n and j < n: # O(2n)T\n",
    "        if arr[i] <= dep[j]:\n",
    "            platform += 1\n",
    "            i += 1\n",
    "        elif arr[i] > dep[j]:\n",
    "            platform -= 1\n",
    "            j += 1\n",
    "            \n",
    "        res = max(platform, res)\n",
    "        \n",
    "    return res "
   ]
  },
  {
   "cell_type": "code",
   "execution_count": 148,
   "id": "7fbc1f13",
   "metadata": {},
   "outputs": [],
   "source": [
    "\"\"\"\n",
    "arrival and departure are given in minutes here\n",
    "\"\"\"\n",
    "arrival1, departure1 = [120,50,550,200,700,850], [600,550,700,500,900,1000]\n",
    "arrival2, departure2 = [540, 660, 755], [600, 720, 760]"
   ]
  },
  {
   "cell_type": "code",
   "execution_count": 149,
   "id": "0ae97ed6",
   "metadata": {},
   "outputs": [
    {
     "name": "stdout",
     "output_type": "stream",
     "text": [
      "3\n",
      "1\n"
     ]
    }
   ],
   "source": [
    "print(minPlatforms(arrival1, departure1))\n",
    "print(minPlatforms(arrival2, departure2))"
   ]
  },
  {
   "cell_type": "code",
   "execution_count": 150,
   "id": "6597de1b",
   "metadata": {},
   "outputs": [],
   "source": [
    "# 45. Job Sequencing Problem"
   ]
  },
  {
   "cell_type": "code",
   "execution_count": 151,
   "id": "3f6b3030",
   "metadata": {},
   "outputs": [],
   "source": [
    "def jobSequencing(arr): # O(nlogn + n*m)T / O(m)S -> n is length of arr, m is maximum deadline\n",
    "    n = len(arr)\n",
    "    arr.sort(key = lambda x: x[2], reverse = True) # O(nlogn)T\n",
    "    \n",
    "    maxi = 0\n",
    "    for i in range(n):\n",
    "        maxi = max(maxi, arr[i][1])\n",
    "        \n",
    "    res = [-1]*(maxi+1) # O(m)S\n",
    "    \n",
    "    jobCount = profit = 0\n",
    "    \n",
    "    for i in range(n): # O(n)T\n",
    "        deadLine = arr[i][1]\n",
    "        \n",
    "        for j in reversed(range(1, deadLine+1)): # O(m)T\n",
    "            if res[j] == -1:\n",
    "                profit += arr[i][2]\n",
    "                jobCount += 1\n",
    "                res[j] = arr[i][0]\n",
    "                break\n",
    "            \n",
    "    return jobCount, profit # we can get job ids from 'res' if required"
   ]
  },
  {
   "cell_type": "code",
   "execution_count": 152,
   "id": "7fa1c5a2",
   "metadata": {},
   "outputs": [],
   "source": [
    "\"\"\"\n",
    "[[id,deadline,profit],....]\n",
    "\"\"\"\n",
    "jobs1 = [(1,4,20),(2,1,10),(3,1,40),(4,1,30)]\n",
    "jobs2 = [(1,2,100),(2,1,19),(3,2,27),(4,1,25),(5,1,15)]"
   ]
  },
  {
   "cell_type": "code",
   "execution_count": 153,
   "id": "9b279159",
   "metadata": {},
   "outputs": [
    {
     "name": "stdout",
     "output_type": "stream",
     "text": [
      "(2, 60)\n",
      "(2, 127)\n"
     ]
    }
   ],
   "source": [
    "print(jobSequencing(jobs1))\n",
    "print(jobSequencing(jobs2))"
   ]
  },
  {
   "cell_type": "code",
   "execution_count": 154,
   "id": "99c8b67e",
   "metadata": {},
   "outputs": [],
   "source": [
    "# 46. Fractional Knapsack Problem"
   ]
  },
  {
   "cell_type": "code",
   "execution_count": 155,
   "id": "55ab170f",
   "metadata": {},
   "outputs": [],
   "source": [
    "def maximumValue(w, items): # O(nlogn + n)T / O(1)S\n",
    "    items.sort(key = lambda x: x[0] / x[1], reverse = True)\n",
    "    val = 0\n",
    "    \n",
    "    for i in range(len(items)):\n",
    "        itemVal = items[i][0]\n",
    "        itemWeight = items[i][1]\n",
    "        \n",
    "        if itemWeight <= w:\n",
    "            w -= itemWeight\n",
    "            val += itemVal\n",
    "        else:\n",
    "            valOfOneWeight = itemVal / itemWeight\n",
    "            val += valOfOneWeight*w\n",
    "            break\n",
    "            \n",
    "    val = round(val, 2) # reducing decimal to two places\n",
    "    \n",
    "    return val"
   ]
  },
  {
   "cell_type": "code",
   "execution_count": 156,
   "id": "22f336ef",
   "metadata": {},
   "outputs": [],
   "source": [
    "w1, items1 = 50, [(100,20),(120,30),(60,10)]\n",
    "w2, items2 = 200, [(45,200),(25,90),(40,50),(100,120),(50,40),(30,10)]     \n",
    "w3, items3 = 100, [(12,20),(35,24),(41,36),(25,40),(32,42)]"
   ]
  },
  {
   "cell_type": "code",
   "execution_count": 157,
   "id": "fc6b1ba7",
   "metadata": {},
   "outputs": [
    {
     "name": "stdout",
     "output_type": "stream",
     "text": [
      "240.0\n",
      "204.0\n",
      "106.48\n"
     ]
    }
   ],
   "source": [
    "print(maximumValue(w1, items1))\n",
    "print(maximumValue(w2, items2))\n",
    "print(maximumValue(w3, items3))"
   ]
  },
  {
   "cell_type": "code",
   "execution_count": 158,
   "id": "3e43265a",
   "metadata": {},
   "outputs": [],
   "source": [
    "# 47. Greedy algorithm to find minimum number of coins  "
   ]
  },
  {
   "cell_type": "code",
   "execution_count": 159,
   "id": "fc08f8a6",
   "metadata": {},
   "outputs": [],
   "source": [
    "def findMinCoins(val): # O(v)T / O(1)S -> v is val but time complexity will be much less for most val\n",
    "    \"\"\"\n",
    "    This function only works for denominations where no two denoms add up to another denom\n",
    "    \"\"\"\n",
    "    deno = [1,2,5,10,20,50,100,500,1000]\n",
    "    \n",
    "    res = []\n",
    "    \n",
    "    for d in reversed(deno):\n",
    "        while val >= d:\n",
    "            val -= d\n",
    "            res.append(d)\n",
    "            \n",
    "    return len(res), res"
   ]
  },
  {
   "cell_type": "code",
   "execution_count": 160,
   "id": "90de5ea0",
   "metadata": {},
   "outputs": [],
   "source": [
    "val1 = 13\n",
    "val2 = 49\n",
    "val3 = 70"
   ]
  },
  {
   "cell_type": "code",
   "execution_count": 161,
   "id": "45dea3a7",
   "metadata": {
    "scrolled": true
   },
   "outputs": [
    {
     "name": "stdout",
     "output_type": "stream",
     "text": [
      "(3, [10, 2, 1])\n",
      "(5, [20, 20, 5, 2, 2])\n",
      "(2, [50, 20])\n"
     ]
    }
   ],
   "source": [
    "print(findMinCoins(val1))\n",
    "print(findMinCoins(val2))\n",
    "print(findMinCoins(val3))"
   ]
  },
  {
   "cell_type": "markdown",
   "id": "45186bab",
   "metadata": {},
   "source": [
    "# 9. Recursion"
   ]
  },
  {
   "cell_type": "code",
   "execution_count": 162,
   "id": "cfff734c",
   "metadata": {},
   "outputs": [],
   "source": [
    "# 48. Subset Sums"
   ]
  },
  {
   "cell_type": "code",
   "execution_count": 163,
   "id": "cd75e198",
   "metadata": {},
   "outputs": [],
   "source": [
    "\"\"\"\n",
    "# Powerset, generating all subsets\n",
    "  --------------------------------\n",
    "  \n",
    "# Iterative\n",
    "def subsets(nums): # O((2^n)n)T / O((2^n)n)S\n",
    "    res = [[]]\n",
    "\n",
    "    for el in nums:\n",
    "        for i in range(len(res)):\n",
    "            newSet = res[i] + [el]\n",
    "            res.append(newSet)\n",
    "\n",
    "    return res\n",
    "\n",
    "---------------------------------------------\n",
    "    \n",
    "# Recursive 1\n",
    "def subsets(nums): # O((2^n)n)T / O((2^n)n)S\n",
    "    res = []\n",
    "    recurse(0, nums, [], res)\n",
    "    return res\n",
    "\n",
    "def recurse(self, i, nums, temp, res):\n",
    "    if i >= len(nums):\n",
    "        res.append(temp[::])\n",
    "        return \n",
    "\n",
    "    recurse(i + 1, nums, temp + [nums[i]], res)\n",
    "    recurse(i + 1, nums, temp, res)\n",
    "    \n",
    "---------------------------------------------\n",
    "\n",
    "# Recursive 2\n",
    "def subsets(nums): # O((2^n)n)T / O((2^n)n)S\n",
    "    res = []\n",
    "    recurse(0, nums, [], res)\n",
    "    return res\n",
    "\n",
    "def recurse(self, start, nums, temp, res):\n",
    "    res.append(temp[::])\n",
    "\n",
    "    for i in range(start, len(nums)):\n",
    "        temp.append(nums[i])\n",
    "        recurse(i + 1, nums, temp, res)\n",
    "        temp.pop()\n",
    "\"\"\"\n",
    "\n",
    "def subsetSums(arr): # O(2^n)T / O(2^n)S\n",
    "    n = len(arr)\n",
    "    idx = curSum = 0\n",
    "    res = []\n",
    "    \n",
    "    recurse(idx, curSum, arr, n, res)\n",
    "    \n",
    "    return res\n",
    "\n",
    "def recurse(idx, curSum, arr, n, res):\n",
    "    if idx == n:\n",
    "        res.append(curSum)\n",
    "        return\n",
    "    \n",
    "    recurse(idx + 1, curSum + arr[idx], arr, n, res)\n",
    "    recurse(idx + 1, curSum, arr, n, res)"
   ]
  },
  {
   "cell_type": "code",
   "execution_count": 164,
   "id": "d166ce4a",
   "metadata": {},
   "outputs": [],
   "source": [
    "arr1 = [3,1,2]\n",
    "arr2 = [2,3]\n",
    "arr3 = [5,2,1]"
   ]
  },
  {
   "cell_type": "code",
   "execution_count": 165,
   "id": "321eb148",
   "metadata": {},
   "outputs": [
    {
     "name": "stdout",
     "output_type": "stream",
     "text": [
      "[6, 4, 5, 3, 3, 1, 2, 0]\n",
      "[5, 2, 3, 0]\n",
      "[8, 7, 6, 5, 3, 2, 1, 0]\n"
     ]
    }
   ],
   "source": [
    "print(subsetSums(arr1))\n",
    "print(subsetSums(arr2))\n",
    "print(subsetSums(arr3))"
   ]
  },
  {
   "cell_type": "code",
   "execution_count": 166,
   "id": "870a1c45",
   "metadata": {},
   "outputs": [],
   "source": [
    "# 49. Subset 2"
   ]
  },
  {
   "cell_type": "code",
   "execution_count": 167,
   "id": "0e181296",
   "metadata": {},
   "outputs": [],
   "source": [
    "# Recursive Solution\n",
    "def subsetsWithDup1(nums):  # O(nlogn + (2^n)n)T / O((2^n)n)S\n",
    "    nums.sort() # O(nlogn)T\n",
    "    res = []\n",
    "\n",
    "    recurse(0, nums, [], res) # O((2^n)n)T\n",
    "\n",
    "    return res\n",
    "\n",
    "def recurse(start, nums, temp, res):\n",
    "    res.append(temp[::])\n",
    "\n",
    "    for i in range(start, len(nums)):\n",
    "        if i != start and nums[i] == nums[i - 1]:\n",
    "            continue\n",
    "\n",
    "        temp.append(nums[i])\n",
    "        recurse(i + 1, nums, temp, res)\n",
    "        temp.pop()\n",
    "        \n",
    "# Iterative Solution\n",
    "def subsetsWithDup2(nums): # O(nlogn + (2^n)n)T / O((2^n)n)S \n",
    "    nums.sort() \n",
    "    res = [[]]\n",
    "    prevLen = 0\n",
    "\n",
    "    for i in range(len(nums)):\n",
    "        el = nums[i]\n",
    "\n",
    "        if i > 0 and nums[i] == nums[i - 1]:\n",
    "            start = prevLen \n",
    "        else:\n",
    "            start = 0\n",
    "\n",
    "        prevLen = len(res) # updating prevLen to len of current res for next iteration\n",
    "\n",
    "        for j in range(start, len(res)):\n",
    "            newSet = res[j] + [el]\n",
    "            res.append(newSet)\n",
    "\n",
    "    return res"
   ]
  },
  {
   "cell_type": "code",
   "execution_count": 168,
   "id": "1d5789d8",
   "metadata": {},
   "outputs": [],
   "source": [
    "nums1 = [1,2,2]\n",
    "nums2 = [0]\n",
    "nums3 = [5,5,5,5,5]"
   ]
  },
  {
   "cell_type": "code",
   "execution_count": 169,
   "id": "87a736ac",
   "metadata": {},
   "outputs": [
    {
     "name": "stdout",
     "output_type": "stream",
     "text": [
      "[[], [1], [1, 2], [1, 2, 2], [2], [2, 2]]\n",
      "[[], [0]]\n",
      "[[], [5], [5, 5], [5, 5, 5], [5, 5, 5, 5], [5, 5, 5, 5, 5]]\n"
     ]
    }
   ],
   "source": [
    "print(subsetsWithDup1(nums1))\n",
    "print(subsetsWithDup1(nums2))\n",
    "print(subsetsWithDup1(nums3))"
   ]
  },
  {
   "cell_type": "code",
   "execution_count": 170,
   "id": "99102863",
   "metadata": {},
   "outputs": [
    {
     "name": "stdout",
     "output_type": "stream",
     "text": [
      "[[], [1], [2], [1, 2], [2, 2], [1, 2, 2]]\n",
      "[[], [0]]\n",
      "[[], [5], [5, 5], [5, 5, 5], [5, 5, 5, 5], [5, 5, 5, 5, 5]]\n"
     ]
    }
   ],
   "source": [
    "print(subsetsWithDup2(nums1))\n",
    "print(subsetsWithDup2(nums2))\n",
    "print(subsetsWithDup2(nums3))"
   ]
  },
  {
   "cell_type": "code",
   "execution_count": 171,
   "id": "1dde02c2",
   "metadata": {},
   "outputs": [],
   "source": [
    "# 50. Combination Sum 1"
   ]
  },
  {
   "cell_type": "code",
   "execution_count": 172,
   "id": "2fba1978",
   "metadata": {},
   "outputs": [],
   "source": [
    "def combinationSum(candidates, target): # O((2^t)k)T / SC is unpredictable -> t is target, k is avg len of ds in res \n",
    "    candidates.sort()\n",
    "    res = []\n",
    "\n",
    "    recurse(0, 0, candidates, target, [], res)\n",
    "\n",
    "    return res\n",
    "\n",
    "def recurse(start, curSum, c, target, tmp, res):\n",
    "    if curSum == target:\n",
    "        res.append(tmp[::])\n",
    "        return\n",
    "\n",
    "    for i in range(start, len(c)):\n",
    "        if curSum + c[i] > target:\n",
    "            break\n",
    "\n",
    "        tmp.append(c[i])\n",
    "        recurse(i, curSum + c[i], c, target, tmp, res)\n",
    "        tmp.pop()"
   ]
  },
  {
   "cell_type": "code",
   "execution_count": 173,
   "id": "56d19185",
   "metadata": {},
   "outputs": [],
   "source": [
    "candidates1, target1 = [2,3,6,7], 7\n",
    "candidates2, target2 = [2,3,5], 8\n",
    "candidates3, target3 = [2], 1"
   ]
  },
  {
   "cell_type": "code",
   "execution_count": 174,
   "id": "214635ed",
   "metadata": {},
   "outputs": [
    {
     "name": "stdout",
     "output_type": "stream",
     "text": [
      "[[2, 2, 3], [7]]\n",
      "[[2, 2, 2, 2], [2, 3, 3], [3, 5]]\n",
      "[]\n"
     ]
    }
   ],
   "source": [
    "print(combinationSum(candidates1, target1))\n",
    "print(combinationSum(candidates2, target2))\n",
    "print(combinationSum(candidates3, target3))"
   ]
  },
  {
   "cell_type": "code",
   "execution_count": 175,
   "id": "f1abe894",
   "metadata": {},
   "outputs": [],
   "source": [
    "# 51. Combination Sum 2"
   ]
  },
  {
   "cell_type": "code",
   "execution_count": 176,
   "id": "3a4d9b0a",
   "metadata": {},
   "outputs": [],
   "source": [
    "def combinationSum2(candidates, target): # O((2^n)k)T / SC is unpredictable -> n = len(candidates), k is avg len of ds in res\n",
    "    candidates.sort()\n",
    "    res = []\n",
    "\n",
    "    recurse(0, 0, candidates, target, [], res)\n",
    "\n",
    "    return res\n",
    "\n",
    "def recurse(start, curSum, c, target, tmp, res):\n",
    "    if curSum == target:\n",
    "        res.append(tmp[::])\n",
    "        return \n",
    "\n",
    "    for i in range(start, len(c)):\n",
    "        if i != start and c[i] == c[i - 1]:\n",
    "            continue\n",
    "\n",
    "        if curSum + c[i] > target:\n",
    "            break\n",
    "\n",
    "        tmp.append(c[i])\n",
    "        recurse(i + 1, curSum + c[i], c, target, tmp, res)\n",
    "        tmp.pop()"
   ]
  },
  {
   "cell_type": "code",
   "execution_count": 177,
   "id": "f888cbdd",
   "metadata": {},
   "outputs": [],
   "source": [
    "candidates1, target1 = [1,1,1,2,2], 4\n",
    "candidates2, target2 = [10,1,2,7,6,1,5], 8\n",
    "candidates3, target3 = [2,5,2,1,2], 5"
   ]
  },
  {
   "cell_type": "code",
   "execution_count": 178,
   "id": "49a6eba6",
   "metadata": {},
   "outputs": [
    {
     "name": "stdout",
     "output_type": "stream",
     "text": [
      "[[1, 1, 2], [2, 2]]\n",
      "[[1, 1, 6], [1, 2, 5], [1, 7], [2, 6]]\n",
      "[[1, 2, 2], [5]]\n"
     ]
    }
   ],
   "source": [
    "print(combinationSum2(candidates1, target1))\n",
    "print(combinationSum2(candidates2, target2))\n",
    "print(combinationSum2(candidates3, target3))"
   ]
  },
  {
   "cell_type": "code",
   "execution_count": 179,
   "id": "88c45ba0",
   "metadata": {},
   "outputs": [],
   "source": [
    "# 52. Palindrome Partitioning"
   ]
  },
  {
   "cell_type": "code",
   "execution_count": 180,
   "id": "799a23eb",
   "metadata": {},
   "outputs": [],
   "source": [
    "def partition(s): # O((2^n)nk) / SC is unpredictable -> n = len(s), k is avg len of ds in res\n",
    "    res = []    \n",
    "    recurse(0, s, [], res)\n",
    "    return res\n",
    "\n",
    "def recurse(start, s, tmp, res):\n",
    "    if start >= len(s):\n",
    "        res.append(tmp[::])\n",
    "\n",
    "    for i in range(start, len(s)):\n",
    "        if isPalindrome(start, i, s):\n",
    "            tmp.append(s[start: i + 1])\n",
    "            recurse(i + 1, s, tmp, res)\n",
    "            tmp.pop()\n",
    "\n",
    "def isPalindrome(l, r, s):\n",
    "    while l <= r:\n",
    "        if s[l] != s[r]:\n",
    "            return False\n",
    "\n",
    "        l += 1\n",
    "        r -= 1\n",
    "\n",
    "    return True"
   ]
  },
  {
   "cell_type": "code",
   "execution_count": 181,
   "id": "72ec5dad",
   "metadata": {},
   "outputs": [],
   "source": [
    "s1 = 'aab'\n",
    "s2 = 'a'\n",
    "s3 = 'aabb'"
   ]
  },
  {
   "cell_type": "code",
   "execution_count": 182,
   "id": "b9e4bf33",
   "metadata": {},
   "outputs": [
    {
     "name": "stdout",
     "output_type": "stream",
     "text": [
      "[['a', 'a', 'b'], ['aa', 'b']]\n",
      "[['a']]\n",
      "[['a', 'a', 'b', 'b'], ['a', 'a', 'bb'], ['aa', 'b', 'b'], ['aa', 'bb']]\n"
     ]
    }
   ],
   "source": [
    "print(partition(s1))\n",
    "print(partition(s2))\n",
    "print(partition(s3))"
   ]
  },
  {
   "cell_type": "code",
   "execution_count": 183,
   "id": "60ca7c33",
   "metadata": {},
   "outputs": [],
   "source": [
    "# 53. K-th Permutation Sequence "
   ]
  },
  {
   "cell_type": "code",
   "execution_count": 184,
   "id": "bad2c198",
   "metadata": {},
   "outputs": [],
   "source": [
    "def getPermutation(n, k): # O(n^2)T / O(n)S\n",
    "    fact = 1\n",
    "    nums = []\n",
    "\n",
    "    for i in range(1, n):\n",
    "        fact *= i\n",
    "        nums.append(i)\n",
    "\n",
    "    nums.append(n)\n",
    "\n",
    "    ans = []\n",
    "    k = k - 1\n",
    "\n",
    "    while True:\n",
    "        ans.append(str(nums[k // fact]))\n",
    "        nums.pop(k // fact)\n",
    "\n",
    "        if not nums:\n",
    "            break\n",
    "\n",
    "        k = k % fact\n",
    "        fact = fact // len(nums)\n",
    "\n",
    "    return ''.join(ans)"
   ]
  },
  {
   "cell_type": "code",
   "execution_count": 185,
   "id": "60920bd1",
   "metadata": {},
   "outputs": [],
   "source": [
    "n1, k1 = 3, 3\n",
    "n2, k2 = 4, 9\n",
    "n3, k3 = 3, 1"
   ]
  },
  {
   "cell_type": "code",
   "execution_count": 186,
   "id": "6be52e7d",
   "metadata": {},
   "outputs": [
    {
     "name": "stdout",
     "output_type": "stream",
     "text": [
      "213\n",
      "2314\n",
      "123\n"
     ]
    }
   ],
   "source": [
    "print(getPermutation(n1, k1))\n",
    "print(getPermutation(n2, k2))\n",
    "print(getPermutation(n3, k3))"
   ]
  },
  {
   "cell_type": "markdown",
   "id": "da24fbc2",
   "metadata": {},
   "source": [
    "# 10. Recursion and Backtracking"
   ]
  },
  {
   "cell_type": "code",
   "execution_count": 187,
   "id": "eec44db6",
   "metadata": {},
   "outputs": [],
   "source": [
    "# 54. Print all permutations of a string/array"
   ]
  },
  {
   "cell_type": "code",
   "execution_count": 188,
   "id": "7e2f13e7",
   "metadata": {},
   "outputs": [],
   "source": [
    "# Approach 1\n",
    "def permute1(nums): # O((n^2)*n!)T / O(n*n!)S\n",
    "    res = []\n",
    "    recurse1(nums, [], res)\n",
    "    return res\n",
    "\n",
    "def recurse1(nums, tmp, res):\n",
    "    if not nums and tmp:\n",
    "        res.append(tmp[::])\n",
    "        return\n",
    "\n",
    "    for i in range(len(nums)):\n",
    "        newTmp = tmp + [nums[i]]\n",
    "        newNums = nums[: i] + nums[i + 1:]\n",
    "        recurse1(newNums, newTmp, res)\n",
    "            \n",
    "# Approach 2\n",
    "def permute2(nums): # O(n*n!)T / O(n*n!)S\n",
    "    res = []\n",
    "    recurse2(0, nums, res)\n",
    "    return res\n",
    "\n",
    "def recurse2(start, nums, res):\n",
    "    if start >= len(nums):\n",
    "        res.append(nums[::])\n",
    "        return\n",
    "\n",
    "    for i in range(start, len(nums)):\n",
    "        nums[start], nums[i] = nums[i], nums[start]\n",
    "        recurse2(start + 1, nums, res)\n",
    "        nums[start], nums[i] = nums[i], nums[start]"
   ]
  },
  {
   "cell_type": "code",
   "execution_count": 189,
   "id": "c81453b3",
   "metadata": {},
   "outputs": [],
   "source": [
    "nums1 = [1,2,3]\n",
    "nums2 = [0,1]\n",
    "nums3 = [1]"
   ]
  },
  {
   "cell_type": "code",
   "execution_count": 190,
   "id": "054da8ed",
   "metadata": {},
   "outputs": [
    {
     "name": "stdout",
     "output_type": "stream",
     "text": [
      "[[1, 2, 3], [1, 3, 2], [2, 1, 3], [2, 3, 1], [3, 1, 2], [3, 2, 1]]\n",
      "[[0, 1], [1, 0]]\n",
      "[[1]]\n"
     ]
    }
   ],
   "source": [
    "print(permute1(nums1))\n",
    "print(permute2(nums2))\n",
    "print(permute2(nums3))"
   ]
  },
  {
   "cell_type": "code",
   "execution_count": 191,
   "id": "8166e0ce",
   "metadata": {},
   "outputs": [],
   "source": [
    "# 55. N Queens Problem"
   ]
  },
  {
   "cell_type": "code",
   "execution_count": 192,
   "id": "dc96d495",
   "metadata": {},
   "outputs": [],
   "source": [
    "def solveNQueens(n): # O(n!)T / O(n!)S\n",
    "    board = [['.' for _ in range(n)] for _ in range(n)]\n",
    "    ans = []\n",
    "    leftRow = [0]*n\n",
    "    upperDiag = [0]*(2*n)\n",
    "    lowerDiag = [0]*(2*n)\n",
    "\n",
    "    solve(0, board, ans, n, leftRow, upperDiag, lowerDiag)\n",
    "\n",
    "    return ans\n",
    "\n",
    "def solve(col, b, ans, n, leftRow, uppDiag, lowDiag):\n",
    "    if col == n:\n",
    "        ans.append(change(b))\n",
    "        return\n",
    "\n",
    "    for row in range(n):\n",
    "        if not leftRow[row] and not uppDiag[n - 1 + col - row] and not lowDiag[row + col]:\n",
    "            b[row][col] = 'Q'\n",
    "            leftRow[row] = 1\n",
    "            uppDiag[n - 1 + col - row] = 1\n",
    "            lowDiag[row + col] = 1\n",
    "\n",
    "            solve(col + 1, b, ans, n, leftRow, uppDiag, lowDiag)\n",
    "\n",
    "            lowDiag[row + col] = 0\n",
    "            uppDiag[n - 1 + col - row] = 0\n",
    "            leftRow[row] = 0\n",
    "            b[row][col] = '.'\n",
    "\n",
    "def change(b):\n",
    "    newB = []\n",
    "\n",
    "    for row in b:\n",
    "        newB.append(''.join(row))\n",
    "\n",
    "    return newB"
   ]
  },
  {
   "cell_type": "code",
   "execution_count": 193,
   "id": "376f86da",
   "metadata": {},
   "outputs": [],
   "source": [
    "n1 = 1\n",
    "n2 = 4"
   ]
  },
  {
   "cell_type": "code",
   "execution_count": 194,
   "id": "75d0e116",
   "metadata": {},
   "outputs": [
    {
     "name": "stdout",
     "output_type": "stream",
     "text": [
      "[['Q']]\n",
      "[['..Q.', 'Q...', '...Q', '.Q..'], ['.Q..', '...Q', 'Q...', '..Q.']]\n"
     ]
    }
   ],
   "source": [
    "print(solveNQueens(n1))\n",
    "print(solveNQueens(n2))"
   ]
  },
  {
   "cell_type": "code",
   "execution_count": 195,
   "id": "191e57f1",
   "metadata": {},
   "outputs": [],
   "source": [
    "# 56. Sudoku Solver"
   ]
  },
  {
   "cell_type": "code",
   "execution_count": 196,
   "id": "a07db9de",
   "metadata": {},
   "outputs": [],
   "source": [
    "def solveSudoku(board): # O(9^(n^2))T / O(1)S -> on worst case, for each cell in the n^2 board, we have 9 possible numbers\n",
    "    \"\"\" \n",
    "    Do not return anything, modify board in-place instead.\n",
    "    \"\"\"\n",
    "\n",
    "    solve(board)\n",
    "    \n",
    "def solve(board):\n",
    "    for i in range(9):\n",
    "        for j in range(9):\n",
    "            if board[i][j] == '.':\n",
    "                for k in range(1, 10):\n",
    "                    if isValid(i, j, board, k):\n",
    "                        board[i][j] = str(k)\n",
    "\n",
    "                        if solve(board):\n",
    "                            return True\n",
    "                        else:\n",
    "                            board[i][j] = '.'\n",
    "\n",
    "                return False\n",
    "\n",
    "    return True\n",
    "\n",
    "def isValid(row, col, board, k):\n",
    "    k = str(k)\n",
    "\n",
    "    for i in range(9):\n",
    "        if board[row][i] == k:\n",
    "            return False\n",
    "\n",
    "        if board[i][col] == k:\n",
    "            return False\n",
    "\n",
    "        if board[3 * (row // 3) + i // 3][3 * (col // 3) + i % 3] == k:\n",
    "            return False\n",
    "\n",
    "    \"\"\"\n",
    "    See below code for understanding of the 3rd IF condition in the above for loop\n",
    "    \n",
    "    i = (row // 3)*3\n",
    "    j = (col // 3)*3\n",
    "\n",
    "    for s in range(i, i+3):\n",
    "        for t in range(j, j + 3):\n",
    "            if board[s][t] == k:\n",
    "                return False\n",
    "    \"\"\"\n",
    "            \n",
    "    return True"
   ]
  },
  {
   "cell_type": "code",
   "execution_count": 197,
   "id": "b677cbf8",
   "metadata": {},
   "outputs": [],
   "source": [
    "board = [[\"5\",\"3\",\".\",\".\",\"7\",\".\",\".\",\".\",\".\"],\n",
    "         [\"6\",\".\",\".\",\"1\",\"9\",\"5\",\".\",\".\",\".\"],\n",
    "         [\".\",\"9\",\"8\",\".\",\".\",\".\",\".\",\"6\",\".\"],\n",
    "         [\"8\",\".\",\".\",\".\",\"6\",\".\",\".\",\".\",\"3\"],\n",
    "         [\"4\",\".\",\".\",\"8\",\".\",\"3\",\".\",\".\",\"1\"],\n",
    "         [\"7\",\".\",\".\",\".\",\"2\",\".\",\".\",\".\",\"6\"],\n",
    "         [\".\",\"6\",\".\",\".\",\".\",\".\",\"2\",\"8\",\".\"],\n",
    "         [\".\",\".\",\".\",\"4\",\"1\",\"9\",\".\",\".\",\"5\"],\n",
    "         [\".\",\".\",\".\",\".\",\"8\",\".\",\".\",\"7\",\"9\"]]"
   ]
  },
  {
   "cell_type": "code",
   "execution_count": 198,
   "id": "9c4dcad3",
   "metadata": {},
   "outputs": [
    {
     "data": {
      "text/plain": [
       "[['5', '3', '4', '6', '7', '8', '9', '1', '2'],\n",
       " ['6', '7', '2', '1', '9', '5', '3', '4', '8'],\n",
       " ['1', '9', '8', '3', '4', '2', '5', '6', '7'],\n",
       " ['8', '5', '9', '7', '6', '1', '4', '2', '3'],\n",
       " ['4', '2', '6', '8', '5', '3', '7', '9', '1'],\n",
       " ['7', '1', '3', '9', '2', '4', '8', '5', '6'],\n",
       " ['9', '6', '1', '5', '3', '7', '2', '8', '4'],\n",
       " ['2', '8', '7', '4', '1', '9', '6', '3', '5'],\n",
       " ['3', '4', '5', '2', '8', '6', '1', '7', '9']]"
      ]
     },
     "execution_count": 198,
     "metadata": {},
     "output_type": "execute_result"
    }
   ],
   "source": [
    "solveSudoku(board)\n",
    "\n",
    "board"
   ]
  },
  {
   "cell_type": "code",
   "execution_count": 199,
   "id": "ee9081a6",
   "metadata": {},
   "outputs": [],
   "source": [
    "# 57. M Coloring Problem"
   ]
  },
  {
   "cell_type": "code",
   "execution_count": 200,
   "id": "f8a91730",
   "metadata": {},
   "outputs": [],
   "source": [
    "def coloringProblem(N, m, edges): # O(n^m)T / O(n)S -> m is num of colors, n is num of nodes\n",
    "    adj = [[] for _ in range(N)] # adjacency list\n",
    "    \n",
    "    for i, j in edges:\n",
    "        adj[i].append(j)\n",
    "        adj[j].append(i)\n",
    "    \n",
    "    colorsArr = [0]*N\n",
    "    \n",
    "    return solve(0, adj, colorsArr, N, m)\n",
    "    \n",
    "    \n",
    "def solve(node, adj, colArr, N, m):\n",
    "    if node == N:\n",
    "        return True\n",
    "    \n",
    "    for col in range(1, m + 1):\n",
    "        if isSafe(node, adj, colArr, N, col):\n",
    "            colArr[node] = col\n",
    "\n",
    "            if solve(node + 1, adj, colArr, N, m):\n",
    "                return True\n",
    "\n",
    "            colArr[node] = 0\n",
    "                \n",
    "    return False\n",
    "\n",
    "def isSafe(node, adj, colArr, N, col):\n",
    "    for nd in adj[node]:\n",
    "        if colArr[nd] == col:\n",
    "            return False\n",
    "        \n",
    "    return True"
   ]
  },
  {
   "cell_type": "code",
   "execution_count": 201,
   "id": "e6c7ee04",
   "metadata": {},
   "outputs": [],
   "source": [
    "\"\"\"\n",
    "N is nodes, m is colors\n",
    "\"\"\"\n",
    "N1, m1 = 4, 3\n",
    "edges1 = [(0,1),(1,2),(2,3),(3,0),(0,2)]\n",
    "N2, m2 = 3, 2\n",
    "edges2 = [(0,1),(1,2),(0,2)]\n",
    "N3, m3 = 4, 3\n",
    "edges3 = [(0,1),(1,0),(2,0),(3,0),(0,2),(0,3),(1,2),(2,1),(2,3),(3,2)]\n",
    "N4, m4 = 4, 2\n",
    "edges4 = [(0,1),(1,0),(2,0),(3,0),(0,2),(0,3),(1,2),(2,1),(2,3),(3,2)]"
   ]
  },
  {
   "cell_type": "code",
   "execution_count": 202,
   "id": "02b3edcf",
   "metadata": {},
   "outputs": [
    {
     "name": "stdout",
     "output_type": "stream",
     "text": [
      "True\n",
      "False\n",
      "True\n",
      "False\n"
     ]
    }
   ],
   "source": [
    "print(coloringProblem(N1,m1,edges1))\n",
    "print(coloringProblem(N2,m2,edges2))\n",
    "print(coloringProblem(N3,m3,edges3))\n",
    "print(coloringProblem(N4,m4,edges4))"
   ]
  },
  {
   "cell_type": "code",
   "execution_count": 203,
   "id": "e5acc9cc",
   "metadata": {},
   "outputs": [],
   "source": [
    "# 58. Rat in a Maze"
   ]
  },
  {
   "cell_type": "code",
   "execution_count": 204,
   "id": "d08546cd",
   "metadata": {},
   "outputs": [],
   "source": [
    "def findPath(n, m): # O(4^(n^2))T / O(1)S -> at max O(n^2) Auxilliary Space is used for recursion call stack\n",
    "    ans = []\n",
    "\n",
    "    recurse(0, 0, m, n, '', ans)\n",
    "\n",
    "    if ans:\n",
    "        return ans\n",
    "\n",
    "    return [-1]\n",
    "\n",
    "def recurse(i, j, m, n, ds, ans):\n",
    "    if i < 0 or j < 0 or i >= n or j >= n:\n",
    "        return \n",
    "\n",
    "    if m[i][j] == 0:\n",
    "        return \n",
    "\n",
    "    if i == n - 1 and j == n - 1:\n",
    "        ans.append(ds)\n",
    "        return \n",
    "\n",
    "    m[i][j] = 0\n",
    "    \n",
    "    recurse(i + 1, j, m, n, ds + 'D', ans)\n",
    "\n",
    "    recurse(i, j - 1, m, n, ds + 'L', ans)\n",
    "\n",
    "    recurse(i, j + 1, m, n, ds + 'R', ans)\n",
    "\n",
    "    recurse(i - 1, j, m, n, ds + 'U', ans)\n",
    "    \n",
    "    m[i][j] = 1"
   ]
  },
  {
   "cell_type": "code",
   "execution_count": 205,
   "id": "b0cd76d0",
   "metadata": {},
   "outputs": [],
   "source": [
    "n1 = 4\n",
    "m1 = [[1, 0, 0, 0],\n",
    "      [1, 1, 0, 1],\n",
    "      [1, 1, 0, 0],\n",
    "      [0, 1, 1, 1]]\n",
    "n2 = 2\n",
    "m2 = [[1,0],\n",
    "      [1,0]]"
   ]
  },
  {
   "cell_type": "code",
   "execution_count": 206,
   "id": "c4f30367",
   "metadata": {},
   "outputs": [
    {
     "name": "stdout",
     "output_type": "stream",
     "text": [
      "['DDRDRR', 'DRDDRR']\n",
      "[-1]\n"
     ]
    }
   ],
   "source": [
    "print(findPath(n1, m1))\n",
    "print(findPath(n2, m2))"
   ]
  },
  {
   "cell_type": "code",
   "execution_count": 207,
   "id": "05c36b67",
   "metadata": {},
   "outputs": [],
   "source": [
    "# 59. Word Break"
   ]
  },
  {
   "cell_type": "code",
   "execution_count": 208,
   "id": "21507f0f",
   "metadata": {},
   "outputs": [],
   "source": [
    "# Leet Code 139, Word Break 1\n",
    "\n",
    "# Approach 1: Recursion\n",
    "def wordBreak1(s, wordDict): # O(2^n)T / O(m)S \n",
    "    wordDict = set(wordDict) \n",
    "\n",
    "    return solve1(0, s, wordDict)\n",
    "\n",
    "def solve1(i, s, wordDict):\n",
    "    if i == len(s):\n",
    "        return True\n",
    "\n",
    "    for j in range(i, len(s)):\n",
    "        if s[i:j+1] in wordDict:\n",
    "            if solve1(j+1, s, wordDict):\n",
    "                return True\n",
    "\n",
    "    return False\n",
    "\n",
    "# Approach 2: Recursion with Memoization\n",
    "def wordBreak2(s, wordDict): # O((n*m)n)T -> n*m for recursion and n for s[i:j+1] / O(m + n)S \n",
    "    wordDict = set(wordDict)\n",
    "    mem = {}\n",
    "\n",
    "    return solve2(0, s, wordDict, mem)\n",
    "\n",
    "def solve2(i, s, wordDict, mem):\n",
    "    if i == len(s):\n",
    "        return True\n",
    "\n",
    "    if i in mem:\n",
    "        return mem[i]\n",
    "\n",
    "    for j in range(i, len(s)):\n",
    "        if s[i:j+1] in wordDict:\n",
    "            mem[j+1] = solve2(j+1, s, wordDict, mem)\n",
    "\n",
    "            if mem[j+1]:\n",
    "                return True\n",
    "\n",
    "    return False\n",
    "\n",
    "# Approach 3: Dynamic Programming - Tabulation \n",
    "def wordBreak3(s, wordDict): # O((n*m)n)T / O(n)S\n",
    "    n = len(s)\n",
    "    dp = [False] * (n + 1)\n",
    "    dp[n] = True\n",
    "    \n",
    "    for i in reversed(range(0, n)):\n",
    "        for w in wordDict:\n",
    "            if i + len(w) <= n and s[i : i + len(w)] == w:\n",
    "                dp[i] = dp[i + len(w)]\n",
    "                \n",
    "            # print('i',i,'w',w,'dp',dp)\n",
    "            \n",
    "            if dp[i]:\n",
    "                break\n",
    "\n",
    "    return dp[0]\n",
    "\n",
    "# ----------------------------------------------------------\n",
    "\n",
    "# Leet Code 140, Word Break 2 \n",
    "\n",
    "# Approach 1: Recursion\n",
    "def wordBreak4(s, wordDict): # O((2^n) * (n^2))T / SC is unpredictable\n",
    "        wordDict = set(wordDict) \n",
    "        res = []\n",
    "        ds = []\n",
    "\n",
    "        solve4(0, s, wordDict, ds, res)\n",
    "\n",
    "        return res\n",
    "\n",
    "def solve4(i, s, wordDict, ds, res):\n",
    "    if i == len(s):\n",
    "        res.append(' '.join(ds))\n",
    "        return \n",
    "\n",
    "    for j in range(i, len(s)):\n",
    "        if s[i:j+1] in wordDict:\n",
    "            ds.append(s[i:j+1])\n",
    "            solve4(j+1, s, wordDict, ds, res)\n",
    "            ds.pop()\n",
    "\n",
    "# Approach 2: Recursion \n",
    "def wordBreak5(s, dictionary): # O((2^n) * (n^2))T / SC is unpredictable\n",
    "    dic = set(dictionary)\n",
    "    \n",
    "    return recurse(0, s, dic)\n",
    "\n",
    "def recurse(i, s, dic):\n",
    "    if i == len(s):\n",
    "        return ['']\n",
    "    \n",
    "    ans = []\n",
    "    for j in range(len(s)):\n",
    "        if s[i: j + 1] in dic:\n",
    "            words = recurse(j + 1, s, dic)\n",
    "            \n",
    "            for w in words:\n",
    "                if w == '':\n",
    "                    ans.append(s[i: j + 1])\n",
    "                else:\n",
    "                    ans.append(s[i: j + 1] + ' ' + w)\n",
    "                    \n",
    "    return ans\n",
    "\n",
    "# Approach 3: Recursion with Memoization # O((n*m)*n)T / SC is unpredictable\n",
    "def wordBreak6(s, wordDict):\n",
    "        wordDict = set(wordDict) \n",
    "\n",
    "        return solve6(0, s, wordDict, {})\n",
    "\n",
    "def solve6(i, s, wordDict, mem):\n",
    "    if i == len(s):\n",
    "        return ['']\n",
    "\n",
    "    if i in mem:\n",
    "        return mem[i]\n",
    "\n",
    "    ans = []\n",
    "\n",
    "    for j in range(i, len(s)):\n",
    "        if s[i:j+1] in wordDict:\n",
    "            mem[j+1] = solve6(j+1, s, wordDict, mem)\n",
    "\n",
    "            for word in mem[j+1]:\n",
    "                if not word:\n",
    "                    ans.append(s[i:j+1])\n",
    "                else:\n",
    "                    ans.append(s[i:j+1] + ' ' + word)\n",
    "\n",
    "    return ans"
   ]
  },
  {
   "cell_type": "code",
   "execution_count": 209,
   "id": "5a2cc916",
   "metadata": {},
   "outputs": [],
   "source": [
    "s1, wordDict1 = \"leetcode\", [\"leet\",\"code\"]\n",
    "s2, wordDict2 = \"applepenapple\", [\"apple\",\"pen\"]\n",
    "s3, wordDict3 = \"catsandog\", [\"cats\",\"dog\",\"sand\",\"and\",\"cat\"]"
   ]
  },
  {
   "cell_type": "code",
   "execution_count": 210,
   "id": "af80eab5",
   "metadata": {},
   "outputs": [
    {
     "name": "stdout",
     "output_type": "stream",
     "text": [
      "True\n",
      "True\n",
      "False\n"
     ]
    }
   ],
   "source": [
    "print(wordBreak1(s1, wordDict1))\n",
    "print(wordBreak2(s2, wordDict2))\n",
    "print(wordBreak3(s3, wordDict3))"
   ]
  },
  {
   "cell_type": "code",
   "execution_count": 211,
   "id": "17b1feb5",
   "metadata": {},
   "outputs": [],
   "source": [
    "s4, wordDict4 = \"catsanddog\", [\"cat\",\"cats\",\"and\",\"sand\",\"dog\"]\n",
    "s5, wordDict5 = \"pineapplepenapple\", [\"apple\",\"pen\",\"applepen\",\"pine\",\"pineapple\"]\n",
    "s6, wordDict6 = \"catsandog\", [\"cats\",\"dog\",\"sand\",\"and\",\"cat\"]"
   ]
  },
  {
   "cell_type": "code",
   "execution_count": 212,
   "id": "9598d7dd",
   "metadata": {},
   "outputs": [
    {
     "name": "stdout",
     "output_type": "stream",
     "text": [
      "['cat sand dog', 'cats and dog']\n",
      "['pine apple pen apple', 'pine applepen apple', 'pineapple pen apple']\n",
      "[]\n"
     ]
    }
   ],
   "source": [
    "print(wordBreak4(s4, wordDict4))\n",
    "print(wordBreak5(s5, wordDict5))\n",
    "print(wordBreak6(s6, wordDict6))"
   ]
  },
  {
   "cell_type": "markdown",
   "id": "44d53753",
   "metadata": {},
   "source": [
    "# 11. Binary Search"
   ]
  },
  {
   "cell_type": "code",
   "execution_count": 213,
   "id": "1168cdd4",
   "metadata": {},
   "outputs": [],
   "source": [
    "# 60. The N-th root of an integer"
   ]
  },
  {
   "cell_type": "code",
   "execution_count": 214,
   "id": "3a256f04",
   "metadata": {},
   "outputs": [],
   "source": [
    "def findNthRoot(n, m): # O(n*log(m*(10^d)))T -> d is num of decimal places we need / O(1)S\n",
    "    lo, hi = 1, m\n",
    "    diff = 10**-6\n",
    "    \n",
    "    while lo <= hi:\n",
    "        mid = (lo + hi) / 2\n",
    "        \n",
    "        if hi - lo <= diff:\n",
    "            ans = round(mid, 3)\n",
    "            return format(ans, '.3f')\n",
    "        elif mid**n > m:\n",
    "            hi = mid\n",
    "        else:\n",
    "            lo = mid \n",
    "            \n",
    "    return -1"
   ]
  },
  {
   "cell_type": "code",
   "execution_count": 215,
   "id": "6093110c",
   "metadata": {},
   "outputs": [],
   "source": [
    "n1, m1 = 2, 16\n",
    "n2, m2 = 4, 15\n",
    "n3, m3 = 5, 243"
   ]
  },
  {
   "cell_type": "code",
   "execution_count": 216,
   "id": "fd8fe336",
   "metadata": {},
   "outputs": [
    {
     "name": "stdout",
     "output_type": "stream",
     "text": [
      "4.000\n",
      "1.968\n",
      "3.000\n"
     ]
    }
   ],
   "source": [
    "print(findNthRoot(n1, m1))\n",
    "print(findNthRoot(n2, m2))\n",
    "print(findNthRoot(n3, m3))"
   ]
  },
  {
   "cell_type": "code",
   "execution_count": 217,
   "id": "7c4d3be6",
   "metadata": {},
   "outputs": [],
   "source": [
    "# 61. Matrix Median"
   ]
  },
  {
   "cell_type": "code",
   "execution_count": 218,
   "id": "4c45636c",
   "metadata": {},
   "outputs": [],
   "source": [
    "def matrixMedian(matrix): # O(log(2^32) * n * logm)T / O(1)S -> n = len(s), m = len(s[0])\n",
    "    \"\"\"\n",
    "    Constraints:\n",
    "    1. Matrix is filled up with integers where every row is sorted in non-decreasing order.\n",
    "    2. 1 <= 'T' <= 50\n",
    "    3. 1 <= 'N' , 'M' <= 100\n",
    "    4. 1 <= 'MATRIX'['I']['J'] <= 10 ^ 5\n",
    "    5. 'N' * 'M' is always an odd number.\n",
    "    \"\"\"\n",
    "    \n",
    "    lo = 1\n",
    "    hi = 10 ** 5\n",
    "    \n",
    "    while lo <= hi:\n",
    "        mid = (lo + hi) // 2\n",
    "        cnt = 0\n",
    "        \n",
    "        for i in range(len(matrix)):\n",
    "            cnt += countSmallerThanEqualToMid(matrix[i], mid)\n",
    "        \n",
    "        if cnt <= (len(matrix) * len(matrix[0])) // 2:\n",
    "            lo = mid + 1\n",
    "        else:\n",
    "            hi = mid - 1\n",
    "            \n",
    "    return lo\n",
    "            \n",
    "def countSmallerThanEqualToMid(row, val):\n",
    "    lo = 0\n",
    "    hi = len(row) - 1\n",
    "    \n",
    "    while lo <= hi:\n",
    "        mid = (lo + hi) // 2\n",
    "        \n",
    "        if row[mid] <= val:\n",
    "            lo = mid + 1\n",
    "        else:\n",
    "            hi = mid - 1\n",
    "            \n",
    "    return lo"
   ]
  },
  {
   "cell_type": "code",
   "execution_count": 219,
   "id": "990d62bd",
   "metadata": {},
   "outputs": [],
   "source": [
    "s1 = [[1,3,6],[2,6,9],[3,6,9]]\n",
    "s2 = [[1, 3, 5],[2, 6, 9],[3, 6, 9]]\n",
    "s3 = [[5, 17, 100]]"
   ]
  },
  {
   "cell_type": "code",
   "execution_count": 220,
   "id": "2df30b50",
   "metadata": {},
   "outputs": [
    {
     "name": "stdout",
     "output_type": "stream",
     "text": [
      "6\n",
      "5\n",
      "17\n"
     ]
    }
   ],
   "source": [
    "print(matrixMedian(s1))\n",
    "print(matrixMedian(s2))\n",
    "print(matrixMedian(s3))"
   ]
  },
  {
   "cell_type": "code",
   "execution_count": 221,
   "id": "60af5f91",
   "metadata": {},
   "outputs": [],
   "source": [
    "# 62. Find the element that appears once in a sorted array, while other elements appear twice (Binary search)"
   ]
  },
  {
   "cell_type": "code",
   "execution_count": 222,
   "id": "cbe00cd4",
   "metadata": {},
   "outputs": [],
   "source": [
    "def singleNonDuplicate(nums): # O(logn)T / O(1)S\n",
    "    \"\"\"\n",
    "    Logic:\n",
    "    Before the num that appears once, \n",
    "    first instance of every num will be in even index and second instance in odd index.\n",
    "    After the num that appears once,\n",
    "    first instance of every num will be in odd index and second instance in even index.\n",
    "    So using Binary Search we can find the index where the num appears once.\n",
    "    \"\"\"\n",
    "    \n",
    "    low = 0\n",
    "    high = len(nums) - 2\n",
    "\n",
    "    while low <= high:\n",
    "        mid = (low + high) // 2\n",
    "\n",
    "        # XOR 1 with even num gives next odd num and with odd num gives previous even num\n",
    "        # i.e, 3 ^ 1 = 2, 4 ^ 1 = 5\n",
    "        if nums[mid] == nums[mid ^ 1]:\n",
    "            low = mid + 1\n",
    "        else:\n",
    "            high = mid - 1\n",
    "\n",
    "    return nums[low]"
   ]
  },
  {
   "cell_type": "code",
   "execution_count": 223,
   "id": "c6f5de9c",
   "metadata": {},
   "outputs": [],
   "source": [
    "nums1 = [1,1,2,3,3,4,4,8,8]\n",
    "nums2 = [3,3,7,7,10,11,11]\n",
    "nums3 = [11,22,22,34,34,57,57] "
   ]
  },
  {
   "cell_type": "code",
   "execution_count": 224,
   "id": "0b61c85c",
   "metadata": {},
   "outputs": [
    {
     "name": "stdout",
     "output_type": "stream",
     "text": [
      "2\n",
      "10\n",
      "11\n"
     ]
    }
   ],
   "source": [
    "print(singleNonDuplicate(nums1))\n",
    "print(singleNonDuplicate(nums2))\n",
    "print(singleNonDuplicate(nums3))"
   ]
  },
  {
   "cell_type": "code",
   "execution_count": 225,
   "id": "1c27f876",
   "metadata": {},
   "outputs": [],
   "source": [
    "# 63. Search element in a sorted and rotated array"
   ]
  },
  {
   "cell_type": "code",
   "execution_count": 226,
   "id": "f73cf08f",
   "metadata": {},
   "outputs": [],
   "source": [
    "def search(nums, target): # O(logn)T / O(1)S\n",
    "    lo = 0\n",
    "    hi = len(nums) - 1\n",
    "\n",
    "    while lo <= hi:\n",
    "        mid = (lo + hi) // 2\n",
    "\n",
    "        if nums[mid] == target:\n",
    "            return mid\n",
    "\n",
    "        if nums[lo] <= nums[mid]:\n",
    "            if nums[lo] <= target <= nums[mid]:\n",
    "                hi = mid - 1\n",
    "            else:\n",
    "                lo = mid + 1\n",
    "        else:\n",
    "            if nums[mid] <= target <= nums[hi]:\n",
    "                lo = mid + 1\n",
    "            else:\n",
    "                hi = mid - 1\n",
    "\n",
    "    return -1"
   ]
  },
  {
   "cell_type": "code",
   "execution_count": 227,
   "id": "f9006996",
   "metadata": {},
   "outputs": [],
   "source": [
    "nums1, target1 = [4,5,6,7,0,1,2], 0\n",
    "nums2, target2 = [5,1,3], 5\n",
    "nums3, target3 = [4,5,6,7,0,1,2], 3"
   ]
  },
  {
   "cell_type": "code",
   "execution_count": 228,
   "id": "ea6e4956",
   "metadata": {},
   "outputs": [
    {
     "name": "stdout",
     "output_type": "stream",
     "text": [
      "4\n",
      "0\n",
      "-1\n"
     ]
    }
   ],
   "source": [
    "print(search(nums1, target1))\n",
    "print(search(nums2, target2))\n",
    "print(search(nums3, target3))"
   ]
  },
  {
   "cell_type": "code",
   "execution_count": 229,
   "id": "ae620e1f",
   "metadata": {},
   "outputs": [],
   "source": [
    "# 64. Median of 2 sorted arrays"
   ]
  },
  {
   "cell_type": "code",
   "execution_count": 230,
   "id": "c4a721a9",
   "metadata": {},
   "outputs": [],
   "source": [
    "def findMedianSortedArrays(nums1, nums2): # O(log(min(n1,n2)))T / O(1)S\n",
    "    if len(nums1) > len(nums2):\n",
    "        return findMedianSortedArrays(nums2, nums1)\n",
    "\n",
    "    n1 = len(nums1)\n",
    "    n2 = len(nums2)\n",
    "\n",
    "    lo = 0\n",
    "    hi = n1\n",
    "\n",
    "    while lo <= hi:\n",
    "        cut1 = (lo + hi) // 2\n",
    "        cut2 = (n1 + n2 + 1) // 2 - cut1\n",
    "\n",
    "        left1 = nums1[cut1 - 1] if cut1 else float('-inf')\n",
    "        left2 = nums2[cut2 - 1] if cut2 else float('-inf')\n",
    "\n",
    "        right1 = nums1[cut1] if cut1 < n1 else float('inf')\n",
    "        right2 = nums2[cut2] if cut2 < n2 else float('inf')\n",
    "\n",
    "        if left1 <= right2 and left2 <= right1:\n",
    "            if (n1 + n2) % 2 == 0:\n",
    "                return (max(left1, left2) + min(right1, right2)) / 2\n",
    "            else:\n",
    "                return max(left1, left2)\n",
    "        elif left1 > right2:\n",
    "            hi = cut1 - 1\n",
    "        else:\n",
    "            lo = cut1 + 1\n",
    "\n",
    "    return -1"
   ]
  },
  {
   "cell_type": "code",
   "execution_count": 231,
   "id": "f4ed5f30",
   "metadata": {},
   "outputs": [
    {
     "name": "stdout",
     "output_type": "stream",
     "text": [
      "5.0\n",
      "2\n",
      "2.5\n"
     ]
    }
   ],
   "source": [
    "print(findMedianSortedArrays([1,3,4,7,10,12], [2,3,6,15]))\n",
    "print(findMedianSortedArrays([1,3], [2]))\n",
    "print(findMedianSortedArrays([1,2], [3,4]))"
   ]
  },
  {
   "cell_type": "code",
   "execution_count": 232,
   "id": "c275eeae",
   "metadata": {},
   "outputs": [],
   "source": [
    "# 65. K-th element of two sorted arrays"
   ]
  },
  {
   "cell_type": "code",
   "execution_count": 233,
   "id": "a7513c39",
   "metadata": {},
   "outputs": [],
   "source": [
    "def kthElement(arr1, arr2, k): # O(log(min(m,n)))T / O(1)S\n",
    "    n = len(arr1)\n",
    "    m = len(arr2)\n",
    "\n",
    "    if n > m:\n",
    "        return kthElement(arr2, arr1, k)\n",
    "\n",
    "    lo = max(0, k - m)\n",
    "    hi = min(k, n)\n",
    "\n",
    "    while lo <= hi:\n",
    "        cut1 = (lo + hi) // 2\n",
    "        cut2 = k - cut1\n",
    "\n",
    "        left1 = arr1[cut1 - 1] if cut1 else float('-inf')\n",
    "        left2 = arr2[cut2 - 1] if cut2 else float('-inf')\n",
    "\n",
    "        right1 = arr1[cut1] if cut1 < n else float('inf')\n",
    "        right2 = arr2[cut2] if cut2 < m else float('inf')\n",
    "\n",
    "        if left1 <= right2 and left2 <= right1:\n",
    "            return max(left1, left2)\n",
    "        elif left1 > right2:\n",
    "            hi = cut1 - 1\n",
    "        else:\n",
    "            lo = cut1 + 1\n",
    "\n",
    "    return -1"
   ]
  },
  {
   "cell_type": "code",
   "execution_count": 234,
   "id": "5f80358f",
   "metadata": {},
   "outputs": [],
   "source": [
    "arr1, arr2, k1 = [2,3,6,7,9], [1,4,8,10], 5\n",
    "arr3, arr4, k2 = [100,112,256,349,770], [72,86,113,119,265,445,892], 7"
   ]
  },
  {
   "cell_type": "code",
   "execution_count": 235,
   "id": "35e0bad2",
   "metadata": {},
   "outputs": [
    {
     "name": "stdout",
     "output_type": "stream",
     "text": [
      "6\n",
      "256\n"
     ]
    }
   ],
   "source": [
    "print(kthElement(arr1, arr2, k1))\n",
    "print(kthElement(arr3, arr4, k2))"
   ]
  },
  {
   "cell_type": "code",
   "execution_count": 236,
   "id": "2690ba2c",
   "metadata": {},
   "outputs": [],
   "source": [
    "# 66. Allocate Minimum Number of Pages"
   ]
  },
  {
   "cell_type": "code",
   "execution_count": 237,
   "id": "7881eb04",
   "metadata": {},
   "outputs": [],
   "source": [
    "def allocateBooks(arr, k): # O(nlogn)T / O(1)S\n",
    "    if k > len(arr):\n",
    "        return -1\n",
    "    \n",
    "    lo = arr[0] # arr is sorted so arr[0] is min val\n",
    "    hi = sum(arr)\n",
    "    res = -1\n",
    "    \n",
    "    while lo <= hi:\n",
    "        mid = (lo + hi) // 2\n",
    "        \n",
    "        if allocationIsPossible(arr, mid, k):\n",
    "            res = mid\n",
    "            hi = mid - 1\n",
    "        else:\n",
    "            lo = mid + 1\n",
    "            \n",
    "    return res\n",
    "\n",
    "def allocationIsPossible(arr, pages, students):\n",
    "    cnt = 0\n",
    "    allocatedPages = 0\n",
    "    \n",
    "    for i in range(len(arr)):\n",
    "        if allocatedPages + arr[i] > pages:\n",
    "            cnt += 1\n",
    "            allocatedPages = arr[i]\n",
    "            \n",
    "            if allocatedPages > pages:\n",
    "                return False\n",
    "        else:\n",
    "            allocatedPages += arr[i]\n",
    "    \n",
    "    if cnt < students: \n",
    "        return True\n",
    "    \n",
    "    return False"
   ]
  },
  {
   "cell_type": "code",
   "execution_count": 238,
   "id": "e86b4958",
   "metadata": {},
   "outputs": [],
   "source": [
    "arr1, k1 = [12, 34, 67, 90], 2\n",
    "arr2, k2 = [5, 17, 100, 11], 4"
   ]
  },
  {
   "cell_type": "code",
   "execution_count": 239,
   "id": "0f97b81d",
   "metadata": {},
   "outputs": [
    {
     "name": "stdout",
     "output_type": "stream",
     "text": [
      "113\n",
      "100\n"
     ]
    }
   ],
   "source": [
    "print(allocateBooks(arr1, k1))\n",
    "print(allocateBooks(arr2, k2))"
   ]
  },
  {
   "cell_type": "code",
   "execution_count": 240,
   "id": "69480b04",
   "metadata": {},
   "outputs": [],
   "source": [
    "# 67. Aggressive Cows"
   ]
  },
  {
   "cell_type": "code",
   "execution_count": 241,
   "id": "0dcd46f1",
   "metadata": {},
   "outputs": [],
   "source": [
    "def aggressiveCows(arr, n, cows): # O(nlogn)T / O(1)S\n",
    "    arr.sort()\n",
    "    lo = 1\n",
    "    hi = arr[n - 1] - arr[0]\n",
    "    res = -1\n",
    "    \n",
    "    while lo <= hi:\n",
    "        mid = (lo + hi) // 2\n",
    "        \n",
    "        if canPlaceCows(arr, n, cows, mid):\n",
    "            res = max(res, mid)\n",
    "            lo = mid + 1\n",
    "        else:\n",
    "            hi = mid - 1\n",
    "            \n",
    "    return res\n",
    "\n",
    "def canPlaceCows(arr, n, cows, minDist):\n",
    "    cntCows = 1\n",
    "    lastPlacedCow = arr[0]\n",
    "    \n",
    "    for i in range(1, n):\n",
    "        if arr[i] - lastPlacedCow >= minDist:\n",
    "            cntCows += 1\n",
    "            lastPlacedCow = arr[i]\n",
    "            \n",
    "    if cntCows >= cows:\n",
    "        return True\n",
    "    \n",
    "    return False"
   ]
  },
  {
   "cell_type": "code",
   "execution_count": 242,
   "id": "e7f464c3",
   "metadata": {},
   "outputs": [
    {
     "data": {
      "text/plain": [
       "3"
      ]
     },
     "execution_count": 242,
     "metadata": {},
     "output_type": "execute_result"
    }
   ],
   "source": [
    "aggressiveCows([1,8,2,9,4], 5, 3)"
   ]
  },
  {
   "cell_type": "markdown",
   "id": "4d55b345",
   "metadata": {},
   "source": [
    "# 12. Trie"
   ]
  },
  {
   "cell_type": "code",
   "execution_count": 243,
   "id": "60039f6d",
   "metadata": {},
   "outputs": [],
   "source": [
    "# 68. Implement Trie (Prefix Tree)"
   ]
  },
  {
   "cell_type": "code",
   "execution_count": 244,
   "id": "d51e7b20",
   "metadata": {},
   "outputs": [],
   "source": [
    "class Trie:\n",
    "    def __init__(self):\n",
    "        self.root = {}\n",
    "        \n",
    "    def insert(self, word):\n",
    "        node = self.root\n",
    "        \n",
    "        for c in word:\n",
    "            if c not in node:\n",
    "                node[c] = {}\n",
    "            \n",
    "            node = node[c]\n",
    "        \n",
    "        node['*'] = True\n",
    "        \n",
    "    def search(self, word):\n",
    "        node = self.root\n",
    "        \n",
    "        for c in word:\n",
    "            if c not in node:\n",
    "                return False\n",
    "            \n",
    "            node = node[c]\n",
    "            \n",
    "        return '*' in node\n",
    "\n",
    "    def startsWith(self, prefix):\n",
    "        node = self.root\n",
    "        \n",
    "        for c in prefix:\n",
    "            if c not in node:\n",
    "                return False\n",
    "            \n",
    "            node = node[c]\n",
    "            \n",
    "        return True"
   ]
  },
  {
   "cell_type": "code",
   "execution_count": 245,
   "id": "0629f7bd",
   "metadata": {},
   "outputs": [
    {
     "name": "stdout",
     "output_type": "stream",
     "text": [
      "True\n",
      "False\n",
      "True\n",
      "True\n"
     ]
    }
   ],
   "source": [
    "t = Trie()\n",
    "\n",
    "t.insert('apple')\n",
    "print(t.search('apple'))\n",
    "print(t.search('app'))\n",
    "print(t.startsWith('app'))\n",
    "t.insert('app')\n",
    "print(t.search('app'))"
   ]
  },
  {
   "cell_type": "code",
   "execution_count": 246,
   "id": "3859c66c",
   "metadata": {},
   "outputs": [],
   "source": [
    "# 69. Implement Trie – 2 (Prefix Tree)"
   ]
  },
  {
   "cell_type": "code",
   "execution_count": 247,
   "id": "0f954e86",
   "metadata": {},
   "outputs": [],
   "source": [
    "class Trie2:\n",
    "    def __init__(self):\n",
    "        self.root = {}\n",
    "\n",
    "    def insert(self, word):\n",
    "        node = self.root\n",
    "        \n",
    "        for c in word:\n",
    "            if c not in node:\n",
    "                node[c] = {}\n",
    "                \n",
    "            node = node[c]\n",
    "            \n",
    "            if 'countPrefix' in node:\n",
    "                node['countPrefix'] += 1\n",
    "            else:\n",
    "                node['countPrefix'] = 1\n",
    "                \n",
    "        if 'endsWith' in node:\n",
    "            node['endsWith'] += 1\n",
    "        else:\n",
    "            node['endsWith'] = 1\n",
    "\n",
    "    def countWordsEqualTo(self, word):\n",
    "        node = self.root\n",
    "\n",
    "        for c in word:\n",
    "            if c not in node:\n",
    "                return 0\n",
    "            \n",
    "            node = node[c]\n",
    "\n",
    "        if 'endsWith' in node:\n",
    "            return node['endsWith']\n",
    "\n",
    "        return 0\n",
    "\n",
    "    def countWordsStartingWith(self, word):\n",
    "        node = self.root\n",
    "\n",
    "        for c in word:\n",
    "            if c not in node:\n",
    "                return 0\n",
    "            \n",
    "            node = node[c]\n",
    "\n",
    "        return node['countPrefix']\n",
    "\n",
    "    def erase(self, word):\n",
    "        node = self.root\n",
    "        \n",
    "        for c in word:\n",
    "            if c not in node:\n",
    "                node[c] = {}\n",
    "                \n",
    "            node = node[c]\n",
    "\n",
    "            node['countPrefix'] -= 1\n",
    "\n",
    "        node['endsWith'] -= 1"
   ]
  },
  {
   "cell_type": "code",
   "execution_count": 248,
   "id": "f96c7459",
   "metadata": {},
   "outputs": [
    {
     "name": "stdout",
     "output_type": "stream",
     "text": [
      "2\n",
      "0\n"
     ]
    }
   ],
   "source": [
    "t = Trie2()\n",
    "\n",
    "t.insert('samsung')\n",
    "t.insert('samsung')\n",
    "t.insert('vivo')\n",
    "t.erase('vivo')\n",
    "print(t.countWordsEqualTo('samsung'))\n",
    "print(t.countWordsStartingWith('vi'))"
   ]
  },
  {
   "cell_type": "code",
   "execution_count": 249,
   "id": "b47a299b",
   "metadata": {},
   "outputs": [],
   "source": [
    "# 70. Longest String with All Prefixes"
   ]
  },
  {
   "cell_type": "code",
   "execution_count": 250,
   "id": "254a9133",
   "metadata": {},
   "outputs": [],
   "source": [
    "def completeString(arr): # O(2(n*k))T / SC is unpredictable -> n = len(arr), k is avg len of a[i]\n",
    "    t = Trei3()\n",
    "\n",
    "    for w in arr: # O(n*k)T\n",
    "        t.insert(w)\n",
    "\n",
    "    ans = None\n",
    "\n",
    "    for w in arr: # O(n*k)T\n",
    "        temp = t.modifiedSearch(w)\n",
    "\n",
    "        if not temp:\n",
    "            continue\n",
    "        elif not ans:\n",
    "            ans = temp\n",
    "        elif len(ans) == len(temp):\n",
    "            ans = min(ans, temp)\n",
    "        elif len(ans) < len(temp):\n",
    "            ans = temp\n",
    "\n",
    "    return ans\n",
    "\n",
    "class Trei3:\n",
    "    def __init__(self):\n",
    "        self.root = {}\n",
    "\n",
    "    def insert(self, word):\n",
    "        n = self.root\n",
    "\n",
    "        for c in word:\n",
    "            if c not in n:\n",
    "                n[c] = {}\n",
    "\n",
    "            n = n[c]\n",
    "\n",
    "        n['*'] = True\n",
    "\n",
    "    def modifiedSearch(self, word):\n",
    "        n = self.root\n",
    "\n",
    "        for c in word:\n",
    "            n = n[c]\n",
    "\n",
    "            if '*' not in n:\n",
    "                return None\n",
    "\n",
    "        return word"
   ]
  },
  {
   "cell_type": "code",
   "execution_count": 251,
   "id": "b6fa7942",
   "metadata": {},
   "outputs": [],
   "source": [
    "a = ['n', 'ni', 'nin', 'ninj', 'ninja', 'ninga']\n",
    "b = ['ab', 'bc']\n",
    "c = ['g', 'l', 'lm', 'ga', 'lmn', 'gaz']"
   ]
  },
  {
   "cell_type": "code",
   "execution_count": 252,
   "id": "bc56d93b",
   "metadata": {},
   "outputs": [
    {
     "name": "stdout",
     "output_type": "stream",
     "text": [
      "ninja\n",
      "None\n",
      "gaz\n"
     ]
    }
   ],
   "source": [
    "print(completeString(a))\n",
    "print(completeString(b))\n",
    "print(completeString(c))"
   ]
  },
  {
   "cell_type": "code",
   "execution_count": 253,
   "id": "d70a541a",
   "metadata": {},
   "outputs": [],
   "source": [
    "# 71. Number of Distinct Substrings in a String"
   ]
  },
  {
   "cell_type": "code",
   "execution_count": 254,
   "id": "c7004b7a",
   "metadata": {},
   "outputs": [],
   "source": [
    "def countDistinctSubstrings(s): # O(n^2)T / SC is unpredictable\n",
    "    t = modifiedTrei()\n",
    "    t.insert(s)\n",
    "\n",
    "    return t.count + 1 # add 1 for empty substring\n",
    "\n",
    "class modifiedTrei: \n",
    "    def __init__(self):\n",
    "        self.root = {}\n",
    "        self.count = 0\n",
    "\n",
    "    def insert(self, word):\n",
    "        for i in range(len(word)):\n",
    "            n = self.root\n",
    "            for j in range(i, len(word)):\n",
    "                c = word[j]\n",
    "\n",
    "                if c not in n:\n",
    "                    n[c] = {}\n",
    "                    self.count += 1\n",
    "\n",
    "                n = n[c]"
   ]
  },
  {
   "cell_type": "code",
   "execution_count": 255,
   "id": "17c1e720",
   "metadata": {},
   "outputs": [],
   "source": [
    "a = 'sds'\n",
    "b = 'abc'\n",
    "c = 'aa'\n",
    "d = 'abab'"
   ]
  },
  {
   "cell_type": "code",
   "execution_count": 256,
   "id": "9d61088e",
   "metadata": {},
   "outputs": [
    {
     "name": "stdout",
     "output_type": "stream",
     "text": [
      "6\n",
      "7\n",
      "3\n",
      "8\n"
     ]
    }
   ],
   "source": [
    "print(countDistinctSubstrings(a))\n",
    "print(countDistinctSubstrings(b))\n",
    "print(countDistinctSubstrings(c))\n",
    "print(countDistinctSubstrings(d))"
   ]
  },
  {
   "cell_type": "code",
   "execution_count": 257,
   "id": "0b05587a",
   "metadata": {},
   "outputs": [],
   "source": [
    "# 72. Power Set using Bit Manipulation"
   ]
  },
  {
   "cell_type": "code",
   "execution_count": 258,
   "id": "2052cbd6",
   "metadata": {},
   "outputs": [],
   "source": [
    "def allPossibleStrings(s): # O((2^n)n)T / O(1)S\n",
    "    \"\"\"\n",
    "    Logic:\n",
    "    s = 'abc'\n",
    "    n = len(s)\n",
    "    number of possible substrings for s is 2**n\n",
    "    so, we check the set bits for all nums from 1 to 2**n\n",
    "    \n",
    "        2 1 0\n",
    "    ---------\n",
    "    0 - 0 0 0 -> ''\n",
    "    1 - 0 0 1 -> a\n",
    "    2 - 0 1 0 -> b\n",
    "    3 - 0 1 1 -> a b\n",
    "    4 - 1 0 0 -> c\n",
    "    5 - 1 0 1 -> a c\n",
    "    6 - 1 1 0 -> b c\n",
    "    7 - 1 1 1 -> a b c\n",
    "    \"\"\"\n",
    "    \n",
    "    n = len(s)\n",
    "    ans = ['']\n",
    "\n",
    "    for i in range(1, 1 << n): # 1<<n equals 2**n\n",
    "        temp = []\n",
    "        \n",
    "        for j in range(n):\n",
    "            if (1 << j) & i:\n",
    "                temp.append(s[j])\n",
    "                \n",
    "        ans.append(''.join(temp))\n",
    "\n",
    "    return ans"
   ]
  },
  {
   "cell_type": "code",
   "execution_count": 259,
   "id": "3a69be54",
   "metadata": {},
   "outputs": [
    {
     "data": {
      "text/plain": [
       "['', 'a', 'b', 'ab', 'c', 'ac', 'bc', 'abc']"
      ]
     },
     "execution_count": 259,
     "metadata": {},
     "output_type": "execute_result"
    }
   ],
   "source": [
    "allPossibleStrings('abc')"
   ]
  },
  {
   "cell_type": "code",
   "execution_count": 260,
   "id": "f590613e",
   "metadata": {},
   "outputs": [],
   "source": [
    "# 73. Maximum XOR of two numbers in an array"
   ]
  },
  {
   "cell_type": "code",
   "execution_count": 261,
   "id": "04a85791",
   "metadata": {},
   "outputs": [],
   "source": [
    "def findMaximumXOR(nums): # O(2(n*32))T / SC is unpredictable\n",
    "    t = TrieNode()\n",
    "    maxXor = 0\n",
    "\n",
    "    for n in nums:\n",
    "        t.insert(n)\n",
    "\n",
    "    for n in nums:\n",
    "        maxXor = max(maxXor, t.findMax(n))\n",
    "\n",
    "    return maxXor\n",
    "        \n",
    "class TrieNode:\n",
    "    def __init__(self):\n",
    "        self.root = Node()\n",
    "        \n",
    "    def insert(self, num):\n",
    "        nd = self.root\n",
    "        \n",
    "        for i in reversed(range(32)):\n",
    "            bit = (num >> i) & 1\n",
    "            \n",
    "            if bit not in nd.children:\n",
    "                nd.children[bit] = Node()\n",
    "                \n",
    "            nd = nd.children[bit]\n",
    "            \n",
    "    def findMax(self, num):\n",
    "        nd = self.root\n",
    "        maxNum = 0\n",
    "        \n",
    "        for i in reversed(range(32)):\n",
    "            bit = (num >> i) & 1\n",
    "            \n",
    "            if 1 - bit in nd.children:\n",
    "                maxNum = maxNum | (1 << i)\n",
    "                nd = nd.children[1 - bit]\n",
    "            else:\n",
    "                nd = nd.children[bit]\n",
    "                \n",
    "        return maxNum\n",
    "        \n",
    "class Node:\n",
    "    def __init__(self):\n",
    "        self.val = 0\n",
    "        self.children = {}"
   ]
  },
  {
   "cell_type": "code",
   "execution_count": 262,
   "id": "a44a7347",
   "metadata": {},
   "outputs": [],
   "source": [
    "nums1 = [3,10,5,25,2,8]\n",
    "nums2 = [14,70,53,83,49,91,36,80,92,51,66,70]"
   ]
  },
  {
   "cell_type": "code",
   "execution_count": 263,
   "id": "7f6e71ff",
   "metadata": {},
   "outputs": [
    {
     "name": "stdout",
     "output_type": "stream",
     "text": [
      "28\n",
      "127\n"
     ]
    }
   ],
   "source": [
    "print(findMaximumXOR(nums1))\n",
    "print(findMaximumXOR(nums2))"
   ]
  },
  {
   "cell_type": "code",
   "execution_count": 264,
   "id": "38508609",
   "metadata": {},
   "outputs": [],
   "source": [
    "# 74. Maximum XOR with an Element from Array"
   ]
  },
  {
   "cell_type": "code",
   "execution_count": 265,
   "id": "195f6c8d",
   "metadata": {},
   "outputs": [],
   "source": [
    "def maximizeXor(nums, queries): # O((n*logn) + (m*logm))T / SC is unpredictable -> n = len(nums), m = len(queries)\n",
    "    n = len(nums)\n",
    "    m = len(queries)\n",
    "\n",
    "    for i in range(m):\n",
    "        queries[i].append(i)\n",
    "\n",
    "    queries.sort(key = lambda x: x[1]) # O(m*logm)T\n",
    "    nums.sort() # O(n*logn)T\n",
    "\n",
    "    t = TrieNode()\n",
    "    ans = [-1] * m\n",
    "    j = 0\n",
    "\n",
    "    # O((n*30) + (m*30))T\n",
    "    for i in range(m):\n",
    "        ai = queries[i][1]\n",
    "\n",
    "        while j < n and nums[j] <= ai: # this while-loop runs at max O(n) for the whole for-loop\n",
    "            t.insert(nums[j])\n",
    "            j += 1\n",
    "\n",
    "        if j == 0:\n",
    "            continue\n",
    "\n",
    "        ans[queries[i][2]] = t.findMax(queries[i][0])\n",
    "\n",
    "    return ans\n",
    "                       \n",
    "class TrieNode:\n",
    "    def __init__(self):\n",
    "        self.root = dict()\n",
    "        \n",
    "    def insert(self, num): \n",
    "        nd = self.root\n",
    "        \n",
    "        for i in reversed(range(30)): # since 0 <= nums[j], xi, mi <= 10^9, 30 bits is enough\n",
    "            bit = (num >> i) & 1\n",
    "            \n",
    "            if bit not in nd:\n",
    "                nd[bit] = dict()\n",
    "                \n",
    "            nd = nd[bit]\n",
    "            \n",
    "    def findMax(self, num):\n",
    "        nd = self.root\n",
    "        maxNum = 0\n",
    "        \n",
    "        for i in reversed(range(30)):\n",
    "            bit = (num >> i) & 1\n",
    "            \n",
    "            if 1 - bit in nd:\n",
    "                maxNum = maxNum | (1 << i)\n",
    "                nd = nd[1 - bit]\n",
    "            else:\n",
    "                nd = nd[bit]\n",
    "            \n",
    "        return maxNum"
   ]
  },
  {
   "cell_type": "code",
   "execution_count": 266,
   "id": "baeb92d6",
   "metadata": {},
   "outputs": [],
   "source": [
    "nums1, queries1 = [0,1,2,3,4], [[3,1],[1,3],[5,6]]\n",
    "nums2, queries2 = [5,2,4,6,6,3], [[12,4],[8,1],[6,3]]"
   ]
  },
  {
   "cell_type": "code",
   "execution_count": 267,
   "id": "45ab7e5a",
   "metadata": {},
   "outputs": [
    {
     "name": "stdout",
     "output_type": "stream",
     "text": [
      "[3, 3, 7]\n",
      "[15, -1, 5]\n"
     ]
    }
   ],
   "source": [
    "print(maximizeXor(nums1, queries1))\n",
    "print(maximizeXor(nums2, queries2))"
   ]
  }
 ],
 "metadata": {
  "kernelspec": {
   "display_name": "Python 3 (ipykernel)",
   "language": "python",
   "name": "python3"
  },
  "language_info": {
   "codemirror_mode": {
    "name": "ipython",
    "version": 3
   },
   "file_extension": ".py",
   "mimetype": "text/x-python",
   "name": "python",
   "nbconvert_exporter": "python",
   "pygments_lexer": "ipython3",
   "version": "3.9.8"
  }
 },
 "nbformat": 4,
 "nbformat_minor": 5
}
