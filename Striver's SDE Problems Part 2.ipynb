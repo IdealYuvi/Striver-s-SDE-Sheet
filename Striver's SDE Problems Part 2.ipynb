{
 "cells": [
  {
   "cell_type": "markdown",
   "id": "336becc8",
   "metadata": {},
   "source": [
    "# Striver’s SDE Sheet – Top Coding Interview Problems\n",
    "\n",
    "https://takeuforward.org/interviews/strivers-sde-sheet-top-coding-interview-problems/"
   ]
  },
  {
   "cell_type": "markdown",
   "id": "b7b3250b",
   "metadata": {},
   "source": [
    "1. Stack and Queue\n",
    "2. Stack and Queue Part 2\n",
    "3. Graph\n",
    "4. Graph Part 2\n",
    "5. Binary Tree"
   ]
  },
  {
   "cell_type": "markdown",
   "id": "32a9cd0e",
   "metadata": {},
   "source": [
    "# 1. Stack and Queue"
   ]
  },
  {
   "cell_type": "code",
   "execution_count": 1,
   "id": "eb06b4b0",
   "metadata": {},
   "outputs": [],
   "source": [
    "# 1. Implement Stack using Arrays"
   ]
  },
  {
   "cell_type": "code",
   "execution_count": 2,
   "id": "ff32d5f2",
   "metadata": {},
   "outputs": [],
   "source": [
    "class Stack:\n",
    "    def __init__(self):\n",
    "        self.arr = [0]*5000\n",
    "        self.top = -1\n",
    "        \n",
    "    def push(self, val):\n",
    "        self.top += 1\n",
    "        self.arr[self.top] = val\n",
    "        \n",
    "    def pop(self, val):\n",
    "        if self.top == -1:\n",
    "            return \n",
    "        \n",
    "        self.top -= 1\n",
    "        \n",
    "    def topVal(self):\n",
    "        if self.top == -1:\n",
    "            return None\n",
    "        \n",
    "        return self.arr[self.top]\n",
    "    \n",
    "    def size(self):\n",
    "        return self.top + 1\n",
    "    \n",
    "    def isEmpty(self):\n",
    "        return self.top == -1"
   ]
  },
  {
   "cell_type": "code",
   "execution_count": 3,
   "id": "5dd4d8ae",
   "metadata": {},
   "outputs": [],
   "source": [
    "# 2. Implement Queue using Arrays"
   ]
  },
  {
   "cell_type": "code",
   "execution_count": 4,
   "id": "9169f4f3",
   "metadata": {},
   "outputs": [],
   "source": [
    "class Queue :\n",
    "    def __init__(self):\n",
    "        self.arr = [0]*5000\n",
    "        self.count = 0\n",
    "        self.frnt = 0\n",
    "        self.rear = 0\n",
    "        self.n = 5000\n",
    "   \n",
    "    def isEmpty(self) :\n",
    "        return self.count == 0\n",
    "\n",
    "\n",
    "    def enqueue(self, data) :\n",
    "        if self.count == self.n:\n",
    "            return -1\n",
    "        \n",
    "        self.arr[self.rear % self.n] = data\n",
    "        self.rear += 1\n",
    "        self.count += 1\n",
    "\n",
    "    def dequeue(self) :\n",
    "        if self.count == 0:\n",
    "            return -1\n",
    "        \n",
    "        el = self.arr[self.frnt % self.n]\n",
    "        self.arr[self.frnt % self.n] = -1\n",
    "        self.frnt += 1\n",
    "        self.count -= 1\n",
    "        \n",
    "        return el\n",
    "\n",
    "    def front(self) :\n",
    "        if self.count == 0:\n",
    "            return -1\n",
    "        \n",
    "        return self.arr[self.frnt % self.n]"
   ]
  },
  {
   "cell_type": "code",
   "execution_count": 5,
   "id": "106d5aa1",
   "metadata": {},
   "outputs": [],
   "source": [
    "# 3. Implement Stack using Queue (using single queue)"
   ]
  },
  {
   "cell_type": "code",
   "execution_count": 6,
   "id": "0089f4a2",
   "metadata": {},
   "outputs": [],
   "source": [
    "class MyStack:\n",
    "    def __init__(self):\n",
    "        self.q = deque()\n",
    "\n",
    "    def push(self, x): # O(n)T\n",
    "        q = self.q\n",
    "        q.append(x)\n",
    "        \n",
    "        for i in range(len(q) - 1):\n",
    "            q.append(q.popleft())\n",
    "            \n",
    "    def pop(self): # O(1)T\n",
    "        return self.q.popleft()\n",
    "    \n",
    "    def top(self): # O(1)T\n",
    "        return self.q[0]\n",
    "\n",
    "    def empty(self): # O(1)T\n",
    "        return len(self.q) == 0"
   ]
  },
  {
   "cell_type": "code",
   "execution_count": 7,
   "id": "f763fcb4",
   "metadata": {},
   "outputs": [],
   "source": [
    "# 4. Implement Queue using Stack (0(1) amortized method)"
   ]
  },
  {
   "cell_type": "code",
   "execution_count": 8,
   "id": "7c171834",
   "metadata": {},
   "outputs": [],
   "source": [
    "class MyQueue:\n",
    "    def __init__(self):\n",
    "        self.input = list()\n",
    "        self.output = list()\n",
    "        \n",
    "    def push(self, x): # O(1)T\n",
    "        self.input.append(x)\n",
    "\n",
    "    def pop(self): # O(1) Amortised TC\n",
    "        ip = self.input\n",
    "        op = self.output\n",
    "        \n",
    "        \n",
    "        if op:\n",
    "            return op.pop()\n",
    "        else:\n",
    "            for i in range(len(ip)):\n",
    "                op.append(ip.pop())\n",
    "                \n",
    "            return op.pop()\n",
    "\n",
    "    def peek(self): # O(1) Amortised TC\n",
    "        ip = self.input\n",
    "        op = self.output\n",
    "        \n",
    "        \n",
    "        if op:\n",
    "            return op[-1]\n",
    "        else:\n",
    "            for i in range(len(ip)):\n",
    "                op.append(ip.pop())\n",
    "                \n",
    "            return op[-1]\n",
    "\n",
    "    def empty(self): # O(1)T\n",
    "        return len(self.input) == 0 and len(self.output) == 0"
   ]
  },
  {
   "cell_type": "code",
   "execution_count": 9,
   "id": "d66cf214",
   "metadata": {},
   "outputs": [],
   "source": [
    "# 5. Check for balanced parentheses"
   ]
  },
  {
   "cell_type": "code",
   "execution_count": 10,
   "id": "7b9756aa",
   "metadata": {},
   "outputs": [],
   "source": [
    "def isValidParen(s): # O(n)T / O(n)S\n",
    "    pairs = {'{':'}', '[':']', '(':')'}\n",
    "    stack = list()\n",
    "\n",
    "    for b in s:\n",
    "        if b in pairs:\n",
    "            stack.append(b)\n",
    "        else:\n",
    "            if not stack or pairs[stack.pop()] != b:\n",
    "                return False\n",
    "\n",
    "    return len(stack) == 0"
   ]
  },
  {
   "cell_type": "code",
   "execution_count": 11,
   "id": "ec13fea7",
   "metadata": {},
   "outputs": [],
   "source": [
    "s1 = '()[]{}'\n",
    "s2 = '(]'"
   ]
  },
  {
   "cell_type": "code",
   "execution_count": 12,
   "id": "1218da4c",
   "metadata": {},
   "outputs": [
    {
     "name": "stdout",
     "output_type": "stream",
     "text": [
      "True\n",
      "False\n"
     ]
    }
   ],
   "source": [
    "print(isValidParen(s1))\n",
    "print(isValidParen(s2))"
   ]
  },
  {
   "cell_type": "code",
   "execution_count": 13,
   "id": "e85a8344",
   "metadata": {},
   "outputs": [],
   "source": [
    "# 6. Next Greater Element"
   ]
  },
  {
   "cell_type": "code",
   "execution_count": 14,
   "id": "84258fe5",
   "metadata": {},
   "outputs": [],
   "source": [
    "def nextGreater(arr): # O(2n)T / O(n)S\n",
    "    n = len(arr)\n",
    "    res = [-1] * n\n",
    "    st = [] # stack\n",
    "    \n",
    "    for i in reversed(range(n)): # if given a circular array, then use range(2 * n) and arr[i % n]\n",
    "        while st and st[-1] <= arr[i]:\n",
    "            st.pop()\n",
    "            \n",
    "        if st:\n",
    "            res[i] = st[-1]\n",
    "            \n",
    "        st.append(arr[i])\n",
    "            \n",
    "    return res"
   ]
  },
  {
   "cell_type": "code",
   "execution_count": 15,
   "id": "f8fb5d10",
   "metadata": {},
   "outputs": [],
   "source": [
    "nums1 = [4,3,5]\n",
    "nums2 = [5,4,3,2,1]\n",
    "nums3 = [6,3,7,3,6,2]\n",
    "nums4 = [1,2,3,4]\n",
    "nums5 = [3]"
   ]
  },
  {
   "cell_type": "code",
   "execution_count": 16,
   "id": "95a20d89",
   "metadata": {},
   "outputs": [
    {
     "name": "stdout",
     "output_type": "stream",
     "text": [
      "[5, 5, -1]\n",
      "[-1, -1, -1, -1, -1]\n",
      "[7, 7, -1, 6, -1, -1]\n",
      "[2, 3, 4, -1]\n",
      "[-1]\n"
     ]
    }
   ],
   "source": [
    "print(nextGreater(nums1))\n",
    "print(nextGreater(nums2))\n",
    "print(nextGreater(nums3))\n",
    "print(nextGreater(nums4))\n",
    "print(nextGreater(nums5))"
   ]
  },
  {
   "cell_type": "code",
   "execution_count": 17,
   "id": "5b57c027",
   "metadata": {},
   "outputs": [],
   "source": [
    "# 7. Sort a Stack using only Recursion"
   ]
  },
  {
   "cell_type": "code",
   "execution_count": 18,
   "id": "70c227be",
   "metadata": {},
   "outputs": [],
   "source": [
    "def sortStack(stack): # O(n^2)T / O(1)S\n",
    "    recurse(stack)\n",
    "    \n",
    "    return stack\n",
    "\n",
    "def recurse(stack):\n",
    "    if stack:\n",
    "        temp = stack.pop()\n",
    "        \n",
    "        recurse(stack)\n",
    "        \n",
    "        sorting(stack, temp)\n",
    "        \n",
    "def sorting(stack, val):\n",
    "    if not stack or stack[-1] < val:\n",
    "        stack.append(val)\n",
    "        return \n",
    "    \n",
    "    temp = stack.pop()\n",
    "    \n",
    "    sorting(stack, val)\n",
    "    \n",
    "    stack.append(temp)"
   ]
  },
  {
   "cell_type": "code",
   "execution_count": 19,
   "id": "2238c67b",
   "metadata": {},
   "outputs": [],
   "source": [
    "nums1 = [5,-2,9,-7,3]\n",
    "nums2 = [-3,14,18,-5,30]"
   ]
  },
  {
   "cell_type": "code",
   "execution_count": 20,
   "id": "08483565",
   "metadata": {},
   "outputs": [
    {
     "name": "stdout",
     "output_type": "stream",
     "text": [
      "[-7, -2, 3, 5, 9]\n",
      "[-5, -3, 14, 18, 30]\n"
     ]
    }
   ],
   "source": [
    "print(sortStack([5,-2,9,-7,3]))\n",
    "print(sortStack([-3,14,18,-5,30]))"
   ]
  },
  {
   "cell_type": "markdown",
   "id": "1a6fe85b",
   "metadata": {},
   "source": [
    "# 2. Stack and Queue Part 2"
   ]
  },
  {
   "cell_type": "code",
   "execution_count": 21,
   "id": "76740451",
   "metadata": {},
   "outputs": [],
   "source": [
    "# 8. Next Smaller Element"
   ]
  },
  {
   "cell_type": "code",
   "execution_count": 22,
   "id": "c88ca178",
   "metadata": {},
   "outputs": [],
   "source": [
    "def nextSmallerElement(arr):# O(2n)T / O(n)S\n",
    "    n = len(arr) \n",
    "    res = [-1] * n\n",
    "    st = [] # stack\n",
    "    \n",
    "    for i in reversed(range(n)): # if given a circular array, then use range(2 * n) and arr[i % n]\n",
    "        while st and st[-1] >= arr[i]:\n",
    "            st.pop()\n",
    "            \n",
    "        if st:\n",
    "            res[i] = st[-1]\n",
    "        \n",
    "        st.append(arr[i])\n",
    "            \n",
    "    return res"
   ]
  },
  {
   "cell_type": "code",
   "execution_count": 23,
   "id": "b2a62546",
   "metadata": {},
   "outputs": [],
   "source": [
    "nums1 = [2,1,4,3]\n",
    "nums2 = [1,3,2]\n",
    "nums3 = [5,4,3,2,1]"
   ]
  },
  {
   "cell_type": "code",
   "execution_count": 24,
   "id": "b50f9218",
   "metadata": {},
   "outputs": [
    {
     "name": "stdout",
     "output_type": "stream",
     "text": [
      "[1, -1, 3, -1]\n",
      "[-1, 2, -1]\n",
      "[4, 3, 2, 1, -1]\n"
     ]
    }
   ],
   "source": [
    "print(nextSmallerElement(nums1))\n",
    "print(nextSmallerElement(nums2))\n",
    "print(nextSmallerElement(nums3))"
   ]
  },
  {
   "cell_type": "code",
   "execution_count": 25,
   "id": "7bf6e875",
   "metadata": {},
   "outputs": [],
   "source": [
    "# 9. LRU Cache (important)"
   ]
  },
  {
   "cell_type": "code",
   "execution_count": 26,
   "id": "3bb8bbcc",
   "metadata": {},
   "outputs": [],
   "source": [
    "# Approach 1 - using Doubly Linked List and Dictionary (this is standard, study this)\n",
    "class LRUCache:\n",
    "    def __init__(self, capacity: int):\n",
    "        self.cap = capacity\n",
    "        self.cache = {}\n",
    "        \n",
    "        self.head = ListNode(-1, -1)\n",
    "        self.tail = ListNode(-1, -1)\n",
    "        self.head.next = self.tail\n",
    "        self.tail.prev = self.head\n",
    "\n",
    "    def get(self, key: int) -> int:\n",
    "        if key not in self.cache:\n",
    "            return -1\n",
    "        \n",
    "        self.updateCache(self.cache[key], key, self.cache[key].val)\n",
    "        \n",
    "        return self.cache[key].val\n",
    "\n",
    "    def put(self, key: int, value: int) -> None:\n",
    "        if key in self.cache:\n",
    "            self.updateCache(self.cache[key], key, value)\n",
    "        else:\n",
    "            if self.cap <= 0:\n",
    "                nodeKey = self.removeAtTail()\n",
    "                del self.cache[nodeKey]            \n",
    "                \n",
    "            node = ListNode(key, value)\n",
    "            self.insertAtHead(node)\n",
    "            self.cache[key] = node\n",
    "            self.cap -= 1\n",
    "    \n",
    "    def updateCache(self, node, key, val):\n",
    "        self.removeNode(node)\n",
    "        \n",
    "        node.val = val\n",
    "        \n",
    "        self.insertAtHead(node)\n",
    "    \n",
    "    def insertAtHead(self, node):\n",
    "        node.next = self.head.next\n",
    "        self.head.next = node\n",
    "        node.prev = self.head\n",
    "        node.next.prev = node\n",
    "        \n",
    "    def removeNode(self, node):\n",
    "        node.prev.next = node.next\n",
    "        node.next.prev = node.prev\n",
    "        \n",
    "        node.next = None\n",
    "        node.prev = None\n",
    "        \n",
    "    def removeAtTail(self):\n",
    "        if self.tail.prev == self.head:\n",
    "            return \n",
    "        \n",
    "        node = self.tail.prev\n",
    "        self.removeNode(node)\n",
    "        \n",
    "        return node.key\n",
    "\n",
    "class ListNode:\n",
    "    def __init__(self, key, val):\n",
    "        self.key = key\n",
    "        self.val = val\n",
    "        self.prev = None\n",
    "        self.next = None\n",
    "        \n",
    "# Approach 2 - using Python's OrderedDict\n",
    "class LRUCache:\n",
    "    def __init__(self, capacity):\n",
    "        self.dic = collections.OrderedDict()\n",
    "        self.remain = capacity\n",
    "\n",
    "    def get(self, key):\n",
    "        if key not in self.dic:\n",
    "            return -1\n",
    "        v = self.dic.pop(key) \n",
    "        self.dic[key] = v   # set key as the newest one\n",
    "        return v\n",
    "\n",
    "    def put(self, key, value):\n",
    "        if key in self.dic:    \n",
    "            self.dic.pop(key)\n",
    "        else:\n",
    "            if self.remain > 0:\n",
    "                self.remain -= 1  \n",
    "            else:  # self.dic is full\n",
    "                self.dic.popitem(last=False) \n",
    "        self.dic[key] = value"
   ]
  },
  {
   "cell_type": "code",
   "execution_count": 27,
   "id": "f84ac513",
   "metadata": {},
   "outputs": [],
   "source": [
    "# 10. LFU Cache"
   ]
  },
  {
   "cell_type": "code",
   "execution_count": 28,
   "id": "694322f6",
   "metadata": {},
   "outputs": [],
   "source": [
    " class LFUCache:\n",
    "    def __init__(self, capacity: int):\n",
    "        self.cap = capacity\n",
    "        self.cache = {}\n",
    "        self.freqTable = defaultdict(DLL)\n",
    "        self.minFreq = 0       \n",
    "\n",
    "    def get(self, key: int) -> int:\n",
    "        if key not in self.cache:\n",
    "            return -1 \n",
    "        \n",
    "        self.updateCache(self.cache[key], key, self.cache[key].val)\n",
    "        \n",
    "        return self.cache[key].val\n",
    "\n",
    "    def put(self, key: int, value: int) -> None:\n",
    "        if not self.cap:\n",
    "            return \n",
    "        \n",
    "        if key in self.cache:\n",
    "            self.updateCache(self.cache[key], key, value)\n",
    "        else:\n",
    "            if len(self.cache) == self.cap:\n",
    "                node = self.freqTable[self.minFreq].removeAtTail()\n",
    "                del self.cache[node.key]\n",
    "            \n",
    "            node = ListNode(key, value)\n",
    "            self.freqTable[1].insertAtHead(node)\n",
    "            self.cache[key] = node\n",
    "            self.minFreq = 1\n",
    "        \n",
    "    def updateCache(self, node, key, val):\n",
    "        self.freqTable[node.freq].removeNode(node)\n",
    "        \n",
    "        node.freq += 1\n",
    "        node.val = val\n",
    "        \n",
    "        self.freqTable[node.freq].insertAtHead(node)\n",
    "        \n",
    "        if node.freq - 1 == self.minFreq and self.freqTable[node.freq - 1].size == 0:\n",
    "            self.minFreq += 1\n",
    "\n",
    "class DLL: # Doubly Linked List\n",
    "    def __init__(self):\n",
    "        self.head = ListNode(-1, -1)\n",
    "        self.tail = ListNode(-1, -1)\n",
    "        self.head.next = self.tail\n",
    "        self.tail.prev = self.head\n",
    "        self.size = 0\n",
    "        \n",
    "    def insertAtHead(self, node):\n",
    "        node.next = self.head.next\n",
    "        self.head.next = node\n",
    "        node.prev = self.head\n",
    "        node.next.prev = node\n",
    "        \n",
    "        self.size += 1\n",
    "        \n",
    "    def removeNode(self, node):\n",
    "        node.prev.next = node.next\n",
    "        node.next.prev = node.prev\n",
    "        \n",
    "        node.next = None\n",
    "        node.prev = None\n",
    "        \n",
    "        self.size -= 1\n",
    "        \n",
    "    def removeAtTail(self):\n",
    "        node = self.tail.prev\n",
    "        self.removeNode(node)\n",
    "        \n",
    "        return node\n",
    "        \n",
    "class ListNode:\n",
    "    def __init__(self, key, val):\n",
    "        self.key = key\n",
    "        self.val = val\n",
    "        self.prev = None\n",
    "        self.next = None \n",
    "        self.freq = 1 "
   ]
  },
  {
   "cell_type": "code",
   "execution_count": 29,
   "id": "4316705f",
   "metadata": {},
   "outputs": [],
   "source": [
    "# 11. Largest rectangle in a histogram"
   ]
  },
  {
   "cell_type": "code",
   "execution_count": 30,
   "id": "0fa7cb29",
   "metadata": {},
   "outputs": [],
   "source": [
    "# Approach 1 \n",
    "def largestRectangleArea1(heights): # O(5n)T / O(n)S\n",
    "    n = len(heights)\n",
    "    st = []\n",
    "    leftSmall = [0] * n\n",
    "    rightSmall = [n - 1] * n\n",
    "    ans = 0      \n",
    "\n",
    "    for i in range(n): # O(2n)T\n",
    "        while st and heights[st[-1]] >= heights[i]:\n",
    "            st.pop()\n",
    "\n",
    "        if st:\n",
    "            leftSmall[i] = st[-1] + 1\n",
    "\n",
    "        st.append(i)\n",
    "\n",
    "    st = []\n",
    "\n",
    "    for i in reversed(range(n)): # O(2n)T\n",
    "        while st and heights[st[-1]] >= heights[i]:\n",
    "            st.pop()\n",
    "\n",
    "        if st:\n",
    "            rightSmall[i] = st[-1] - 1\n",
    "\n",
    "        st.append(i)\n",
    "\n",
    "    for i in range(n): # O(n)T\n",
    "        area = (rightSmall[i] - leftSmall[i] + 1) * heights[i]\n",
    "        ans = max(area, ans)\n",
    "\n",
    "    return ans\n",
    "\n",
    "# Approach 2 (Approach 1 Optimised)\n",
    "def largestRectangleArea2(heights): # O(2n)T / O(n)S\n",
    "    n = len(heights)\n",
    "    area = 0\n",
    "    st = []\n",
    "\n",
    "    for i in range(n + 1):\n",
    "        while st and (i == n or heights[st[-1]] >= heights[i]):\n",
    "            height = heights[st.pop()]\n",
    "\n",
    "            if st:\n",
    "                width = i - st[-1] - 1\n",
    "            else:\n",
    "                width = i\n",
    "\n",
    "            area = max(area, height * width)\n",
    "\n",
    "        st.append(i)\n",
    "\n",
    "    return area"
   ]
  },
  {
   "cell_type": "code",
   "execution_count": 31,
   "id": "6a50215e",
   "metadata": {},
   "outputs": [],
   "source": [
    "heights1 = [2,1,5,6,2,3]\n",
    "heights2 = [2,4]"
   ]
  },
  {
   "cell_type": "code",
   "execution_count": 32,
   "id": "7934ff19",
   "metadata": {},
   "outputs": [
    {
     "name": "stdout",
     "output_type": "stream",
     "text": [
      "10\n",
      "4\n"
     ]
    }
   ],
   "source": [
    "print(largestRectangleArea1(heights1))\n",
    "print(largestRectangleArea2(heights2))"
   ]
  },
  {
   "cell_type": "code",
   "execution_count": 33,
   "id": "88cb292c",
   "metadata": {},
   "outputs": [],
   "source": [
    "# 12. Sliding Window Maximum"
   ]
  },
  {
   "cell_type": "code",
   "execution_count": 34,
   "id": "276a7013",
   "metadata": {},
   "outputs": [],
   "source": [
    "from collections import deque\n",
    "\n",
    "def maxSlidingWindow(nums, k): # O(2n)T / O(k)S\n",
    "    ans = []\n",
    "    q = deque()\n",
    "    l = r = 0\n",
    "\n",
    "    while r < len(nums):\n",
    "        while q and nums[q[-1]] < nums[r]:\n",
    "            q.pop()\n",
    "\n",
    "        q.append(r)\n",
    "\n",
    "        if l > q[0]:\n",
    "            q.popleft()\n",
    "\n",
    "        if r + 1 >= k:\n",
    "            ans.append(nums[q[0]])\n",
    "            l += 1\n",
    "\n",
    "        r += 1\n",
    "\n",
    "    return ans"
   ]
  },
  {
   "cell_type": "code",
   "execution_count": 35,
   "id": "d5259ac9",
   "metadata": {},
   "outputs": [],
   "source": [
    "nums1, k1 = [1,3,-1,-3,5,3,6,7], 3\n",
    "nums2, k2 = [1], 1"
   ]
  },
  {
   "cell_type": "code",
   "execution_count": 36,
   "id": "fe3fa8a1",
   "metadata": {},
   "outputs": [
    {
     "name": "stdout",
     "output_type": "stream",
     "text": [
      "[3, 3, 5, 5, 6, 7]\n",
      "[1]\n"
     ]
    }
   ],
   "source": [
    "print(maxSlidingWindow(nums1, k1))\n",
    "print(maxSlidingWindow(nums2, k2))"
   ]
  },
  {
   "cell_type": "code",
   "execution_count": 37,
   "id": "c8a40b4a",
   "metadata": {},
   "outputs": [],
   "source": [
    "# 13. Implement Min Stack"
   ]
  },
  {
   "cell_type": "code",
   "execution_count": 38,
   "id": "d2f96032",
   "metadata": {},
   "outputs": [],
   "source": [
    "# Approach 1\n",
    "class MinStack: # O(1)T / O(2n)S\n",
    "    def __init__(self):\n",
    "        self.st = []\n",
    "\n",
    "    def push(self, val: int) -> None: \n",
    "        st = self.st\n",
    "        \n",
    "        if not st:\n",
    "            st.append((val, val))\n",
    "        else:\n",
    "            if val < st[-1][1]:\n",
    "                st.append((val, val))\n",
    "            else:\n",
    "                st.append((val, st[-1][1]))\n",
    "\n",
    "    def pop(self) -> None:         \n",
    "        if not self.st:\n",
    "            return -1\n",
    "        \n",
    "        self.st.pop()\n",
    "\n",
    "    def top(self) -> int:\n",
    "        if not self.st:\n",
    "            return -1\n",
    "        \n",
    "        return self.st[-1][0]\n",
    "\n",
    "    def getMin(self) -> int:\n",
    "        return self.st[-1][1]\n",
    "\n",
    "# Approach 2\n",
    "class MinStack: # O(1)T / O(n)S\n",
    "    def __init__(self):\n",
    "        self.st = []\n",
    "        self.mini = 2**32\n",
    "\n",
    "    def push(self, val: int) -> None: \n",
    "        st = self.st\n",
    "        \n",
    "        if not st:\n",
    "            st.append(val)\n",
    "            self.mini = val\n",
    "        else:\n",
    "            if val < self.mini:\n",
    "                st.append(2 * val - self.mini)\n",
    "                self.mini = val\n",
    "            else:\n",
    "                st.append(val)\n",
    "\n",
    "    def pop(self) -> None:\n",
    "        st = self.st\n",
    "                \n",
    "        if not st:\n",
    "            return -1\n",
    "        \n",
    "        el = st.pop()\n",
    "        \n",
    "        if el < self.mini:\n",
    "            self.mini = 2 * self.mini - el\n",
    "\n",
    "    def top(self) -> int:\n",
    "        if not self.st:\n",
    "            return -1\n",
    "        \n",
    "        el = self.st[-1]\n",
    "        \n",
    "        if el < self.mini:\n",
    "            return self.mini\n",
    "        else:\n",
    "            return el\n",
    "\n",
    "    def getMin(self) -> int:\n",
    "        return self.mini"
   ]
  },
  {
   "cell_type": "code",
   "execution_count": 39,
   "id": "ed0a729b",
   "metadata": {},
   "outputs": [],
   "source": [
    "# 14. Rotten Orange (Using BFS)"
   ]
  },
  {
   "cell_type": "code",
   "execution_count": 40,
   "id": "a40f8ccc",
   "metadata": {},
   "outputs": [],
   "source": [
    "def orangesRotting(grid): # O(5(m*n))T / O(m*n)S -> m = len(grid), n = len(grid[0])\n",
    "    rottenQ = deque()\n",
    "    minutes = totalOranges = rottenOranges = 0\n",
    "\n",
    "    for i in range(len(grid)): # O(m*n)T\n",
    "        for j in range(len(grid[0])):\n",
    "            if grid[i][j] == 2:\n",
    "                rottenQ.append((i, j))\n",
    "\n",
    "            if grid[i][j] != 0:\n",
    "                totalOranges += 1\n",
    "\n",
    "    dx = [0, 0, 1, -1]\n",
    "    dy = [1, -1, 0, 0]\n",
    "\n",
    "    while rottenQ: # O(4(m*n))T\n",
    "        rottenOranges += len(rottenQ)\n",
    "\n",
    "        for _ in range(len(rottenQ)):\n",
    "            x, y = rottenQ.popleft()\n",
    "\n",
    "            for n in range(4):\n",
    "\n",
    "                i = x + dx[n]\n",
    "                j = y + dy[n]\n",
    "\n",
    "                if i < 0 or j < 0 or i >= len(grid) or j >= len(grid[0]) or grid[i][j] != 1:\n",
    "                    continue\n",
    "\n",
    "                grid[i][j] = 2\n",
    "                rottenQ.append((i, j))\n",
    "\n",
    "        if rottenQ:\n",
    "            minutes += 1\n",
    "\n",
    "    return minutes if totalOranges == rottenOranges else -1"
   ]
  },
  {
   "cell_type": "code",
   "execution_count": 41,
   "id": "ca6ba249",
   "metadata": {},
   "outputs": [],
   "source": [
    "grid1 = [[2,1,1],[1,1,0],[0,1,1]]\n",
    "grid2 = [[2,1,1],[0,1,1],[1,0,1]]\n",
    "grid3 = [[0,2]]\n",
    "grid4 = [[1,2]]"
   ]
  },
  {
   "cell_type": "code",
   "execution_count": 42,
   "id": "2f2734b4",
   "metadata": {},
   "outputs": [
    {
     "name": "stdout",
     "output_type": "stream",
     "text": [
      "4\n",
      "-1\n",
      "0\n",
      "1\n"
     ]
    }
   ],
   "source": [
    "print(orangesRotting(grid1))\n",
    "print(orangesRotting(grid2))\n",
    "print(orangesRotting(grid3))\n",
    "print(orangesRotting(grid4))"
   ]
  },
  {
   "cell_type": "code",
   "execution_count": 43,
   "id": "ae85ab80",
   "metadata": {},
   "outputs": [],
   "source": [
    "# 15. Stock Span Problem"
   ]
  },
  {
   "cell_type": "code",
   "execution_count": 44,
   "id": "f5f60a86",
   "metadata": {},
   "outputs": [],
   "source": [
    "class StockSpanner: # O(2n)T / O(n)S\n",
    "    def __init__(self):\n",
    "        self.stack = []  # (price, span)\n",
    "        \n",
    "    def next(self, price: int) -> int:\n",
    "        span = 1\n",
    "        \n",
    "        while self.stack and self.stack[-1][0] <= price:\n",
    "            span += self.stack[-1][1]\n",
    "            self.stack.pop()\n",
    "        \n",
    "        self.stack.append((price, span))\n",
    "        \n",
    "        return span"
   ]
  },
  {
   "cell_type": "code",
   "execution_count": 45,
   "id": "3e637419",
   "metadata": {},
   "outputs": [],
   "source": [
    "# 16. Find the maximum of minimums of every window size"
   ]
  },
  {
   "cell_type": "code",
   "execution_count": 46,
   "id": "744aabf7",
   "metadata": {},
   "outputs": [],
   "source": [
    "def maxMinWindow(arr): # O(4n)T / O(n)S\n",
    "    n = len(arr)\n",
    "    answer = [float('-inf')] * n\n",
    "\n",
    "    prev = prevSmaller(arr, n) # O(n)T\n",
    "    nxxt = nextSmaller(arr, n) # O(n)T\n",
    "    \n",
    "    for i in range(n): # O(n)T\n",
    "        length = nxxt[i] - prev[i] - 1\n",
    "        answer[length - 1] = max(answer[length - 1], arr[i]) \n",
    "\n",
    "    for i in reversed(range(n - 1)): # O(n)T\n",
    "        answer[i] = max(answer[i], answer[i + 1])\n",
    "\n",
    "    return answer\n",
    "\n",
    "def prevSmaller(arr, n):\n",
    "    prev = []\n",
    "    s = []\n",
    "\n",
    "    for i in range(n):\n",
    "\n",
    "        while (len(s) != 0 and arr[s[-1]] >= arr[i]):\n",
    "            s.pop()\n",
    "\n",
    "        if (len(s) == 0):\n",
    "            prev.append(-1)\n",
    "        else:\n",
    "            prev.append(s[-1])\n",
    "\n",
    "        s.append(i)\n",
    "\n",
    "    return prev\n",
    "\n",
    "def nextSmaller(arr, n):\n",
    "    s = []\n",
    "    next = [0] * n\n",
    "\n",
    "    for i in reversed(range(n)):\n",
    "\n",
    "        while (len(s) != 0 and arr[s[-1]] >= arr[i]):\n",
    "            s.pop()\n",
    "\n",
    "        if (len(s) == 0):\n",
    "            next[i] = n\n",
    "        else:\n",
    "            next[i] = s[-1]\n",
    "\n",
    "        s.append(i)\n",
    "\n",
    "    return next"
   ]
  },
  {
   "cell_type": "code",
   "execution_count": 47,
   "id": "1cc6b719",
   "metadata": {},
   "outputs": [
    {
     "data": {
      "text/plain": [
       "[70, 30, 20, 10, 10, 10, 10]"
      ]
     },
     "execution_count": 47,
     "metadata": {},
     "output_type": "execute_result"
    }
   ],
   "source": [
    "maxMinWindow([10, 20, 30, 50, 10, 70, 30])"
   ]
  },
  {
   "cell_type": "code",
   "execution_count": 48,
   "id": "d4ed05cc",
   "metadata": {},
   "outputs": [],
   "source": [
    "# 17. The Celebrity Problem"
   ]
  },
  {
   "cell_type": "code",
   "execution_count": 49,
   "id": "ee08d593",
   "metadata": {},
   "outputs": [],
   "source": [
    "def findCelebrity(n, knows): # O(n)T / O(1)S\n",
    "    p = 0\n",
    "    q = n - 1\n",
    "    \n",
    "    while p < q:\n",
    "        if knows(p, q):\n",
    "            p += 1\n",
    "        else:\n",
    "            q -= 1\n",
    "            \n",
    "    celebrity = p\n",
    "    \n",
    "    for i in range(n):\n",
    "        if (i != celebrity and not knows(i, celebrity)) or knows(celebrity, i):\n",
    "            return -1\n",
    "        \n",
    "    return celebrity"
   ]
  },
  {
   "cell_type": "markdown",
   "id": "ae0cbb82",
   "metadata": {},
   "source": [
    "# 3. Graph "
   ]
  },
  {
   "cell_type": "code",
   "execution_count": 50,
   "id": "97f33017",
   "metadata": {},
   "outputs": [],
   "source": [
    "# 18. Clone a graph"
   ]
  },
  {
   "cell_type": "code",
   "execution_count": 51,
   "id": "b8d0e859",
   "metadata": {},
   "outputs": [],
   "source": [
    "def cloneGraph(node): # O(n + e)T / O(n)S -> n = nodes, e = edges\n",
    "    if not node:\n",
    "        return node\n",
    "\n",
    "    oldToNew = {}\n",
    "\n",
    "    def dfs(node):\n",
    "        if node in oldToNew:\n",
    "            return oldToNew[node]\n",
    "\n",
    "        copy = Node(node.val)\n",
    "        oldToNew[node] = copy\n",
    "\n",
    "        for nei in node.neighbors:\n",
    "            copy.neighbors.append(dfs(nei))\n",
    "\n",
    "        return copy\n",
    "\n",
    "    return dfs(node)"
   ]
  },
  {
   "cell_type": "code",
   "execution_count": 52,
   "id": "ed5868a2",
   "metadata": {},
   "outputs": [],
   "source": [
    "# 19. DFS"
   ]
  },
  {
   "cell_type": "code",
   "execution_count": 53,
   "id": "7227f05d",
   "metadata": {},
   "outputs": [],
   "source": [
    "def dfsOfGraph(V, adj): # O(n + e)T / O(n)S\n",
    "    visited = set()\n",
    "    V = V\n",
    "    adj = adj\n",
    "    res = []\n",
    "    \n",
    "    def dfs(node):\n",
    "        if node in visited:\n",
    "            return\n",
    "\n",
    "        res.append(node)\n",
    "        visited.add(node)\n",
    "\n",
    "        for n in adj[node]:\n",
    "            dfs(n)\n",
    "\n",
    "    dfs(0)\n",
    "\n",
    "    return res"
   ]
  },
  {
   "cell_type": "code",
   "execution_count": 54,
   "id": "3ee72bbc",
   "metadata": {},
   "outputs": [
    {
     "data": {
      "text/plain": [
       "[0, 1, 2, 3]"
      ]
     },
     "execution_count": 54,
     "metadata": {},
     "output_type": "execute_result"
    }
   ],
   "source": [
    "v, adj = 4, [[1,3],[2],[],[],[]]\n",
    "\n",
    "dfsOfGraph(v, adj)"
   ]
  },
  {
   "cell_type": "code",
   "execution_count": 55,
   "id": "9a75d659",
   "metadata": {},
   "outputs": [],
   "source": [
    "# 20. BFS"
   ]
  },
  {
   "cell_type": "code",
   "execution_count": 56,
   "id": "e730b945",
   "metadata": {},
   "outputs": [],
   "source": [
    "from collections import deque\n",
    "def bfsOfGraph(V, adj): # O(n + e)T / O(n)S\n",
    "    res = []\n",
    "    visited = [0] * (V)\n",
    "\n",
    "    q = deque()\n",
    "    q.append(0)\n",
    "\n",
    "    visited[0] = 1\n",
    "\n",
    "    while q:\n",
    "        node = q.popleft()\n",
    "\n",
    "        res.append(node)\n",
    "\n",
    "        for n in adj[node]:\n",
    "            if not visited[n]:\n",
    "                q.append(n)\n",
    "                visited[n] = 1\n",
    "\n",
    "    return res"
   ]
  },
  {
   "cell_type": "code",
   "execution_count": 57,
   "id": "f756a72a",
   "metadata": {},
   "outputs": [
    {
     "data": {
      "text/plain": [
       "[0, 1, 2, 3, 4]"
      ]
     },
     "execution_count": 57,
     "metadata": {},
     "output_type": "execute_result"
    }
   ],
   "source": [
    "v, adj = 5, [[1,2,3],[],[4],[],[]]\n",
    "\n",
    "bfsOfGraph(v, adj)"
   ]
  },
  {
   "cell_type": "code",
   "execution_count": 58,
   "id": "a9bb2a5d",
   "metadata": {},
   "outputs": [],
   "source": [
    "# 21. Detect A cycle in Undirected Graph using DFS"
   ]
  },
  {
   "cell_type": "code",
   "execution_count": 59,
   "id": "097b5fef",
   "metadata": {},
   "outputs": [],
   "source": [
    "def cycleDetection(edges, n): # O(n + e)T / O(2n + e)S\n",
    "    adj = [[] for i in range(n + 1)]\n",
    "    \n",
    "    for x, y in edges:\n",
    "        adj[x].append(y)\n",
    "        adj[y].append(x)\n",
    "    \n",
    "    visited = [0] * (n + 1)\n",
    "    \n",
    "    for i in range(1, n + 1):\n",
    "        if not visited[i]:\n",
    "            if dfs(i, -1, visited, adj):\n",
    "                return True\n",
    "            \n",
    "    return False\n",
    "            \n",
    "def dfs(node, parent, visited, adj):\n",
    "    visited[node] = 1\n",
    "    \n",
    "    for n in adj[node]:\n",
    "        if not visited[n]:\n",
    "            if dfs(n, node, visited, adj):\n",
    "                return True\n",
    "        elif n != parent:\n",
    "            return True\n",
    "        \n",
    "    return False"
   ]
  },
  {
   "cell_type": "code",
   "execution_count": 60,
   "id": "ca796437",
   "metadata": {},
   "outputs": [
    {
     "name": "stdout",
     "output_type": "stream",
     "text": [
      "True\n",
      "False\n"
     ]
    }
   ],
   "source": [
    "n1, edges1 = 4, [[0,1],[1,2],[2,3],[0,2]] \n",
    "n2, edges2 = 4, [[0,1],[1,2],[2,3]]\n",
    "\n",
    "print(cycleDetection(edges1, n1))\n",
    "print(cycleDetection(edges2, n2))"
   ]
  },
  {
   "cell_type": "code",
   "execution_count": 61,
   "id": "aa991d5c",
   "metadata": {},
   "outputs": [],
   "source": [
    "# 22. Detect A cycle in Undirected Graph using BFS"
   ]
  },
  {
   "cell_type": "code",
   "execution_count": 62,
   "id": "bdd8b243",
   "metadata": {},
   "outputs": [],
   "source": [
    "from collections import deque\n",
    "def cycleDetection2(edges, n): # O(n + e)T / O(2n + e)S\n",
    "    adj = [[] for i in range(n + 1)]\n",
    "    \n",
    "    for x, y in edges:\n",
    "        adj[x].append(y)\n",
    "        adj[y].append(x)\n",
    "    \n",
    "    visited = [0] * (n + 1)\n",
    "    \n",
    "    for i in range(n):\n",
    "        if not visited[i]:\n",
    "            if bfs(i, visited, adj):\n",
    "                return True\n",
    "            \n",
    "    return False\n",
    "            \n",
    "def bfs(i, visited, adj):\n",
    "    q = deque()\n",
    "    q.append((i, -1))\n",
    "    visited[i] = 1\n",
    "    \n",
    "    while q:\n",
    "        node, parent = q.popleft()\n",
    "        \n",
    "        for n in adj[node]:\n",
    "            if not visited[n]:\n",
    "                q.append((n, node))\n",
    "                visited[n] = 1\n",
    "            elif n != parent:\n",
    "                return True\n",
    "    \n",
    "    return False"
   ]
  },
  {
   "cell_type": "code",
   "execution_count": 63,
   "id": "950656b5",
   "metadata": {},
   "outputs": [
    {
     "name": "stdout",
     "output_type": "stream",
     "text": [
      "True\n",
      "False\n"
     ]
    }
   ],
   "source": [
    "n1, edges1 = 4, [[0,1],[1,2],[2,3],[0,2]] \n",
    "n2, edges2 = 4, [[0,1],[1,2],[2,3]]\n",
    "\n",
    "print(cycleDetection2(edges1, n1))\n",
    "print(cycleDetection2(edges2, n2))"
   ]
  },
  {
   "cell_type": "code",
   "execution_count": 64,
   "id": "c3a0b9b6",
   "metadata": {},
   "outputs": [],
   "source": [
    "# 23. Detect A cycle in a Directed Graph using DFS"
   ]
  },
  {
   "cell_type": "code",
   "execution_count": 65,
   "id": "ef28904a",
   "metadata": {},
   "outputs": [],
   "source": [
    "def cycleDetection3(V, edges): # O(n + e)T / O(2n + e)S\n",
    "    visited = [0] * V\n",
    "    dfsVisit = [0] * V\n",
    "    adj = [[] for _ in range(V)]\n",
    "\n",
    "    for x, y in edges:\n",
    "        adj[x].append(y)\n",
    "    \n",
    "    for i in range(V):\n",
    "        if not visited[i]:\n",
    "            if dfs(i, visited, dfsVisit, adj):\n",
    "                return True\n",
    "\n",
    "    return False\n",
    "\n",
    "def dfs(node, visited, dfsVisit, adj):\n",
    "    visited[node] = 1\n",
    "    dfsVisit[node] = 1\n",
    "\n",
    "    for n in adj[node]:\n",
    "        if not visited[n]:\n",
    "            if dfs(n, visited, dfsVisit, adj):\n",
    "                return True\n",
    "        elif dfsVisit[n]:\n",
    "            return True\n",
    "\n",
    "    dfsVisit[node] = 0\n",
    "\n",
    "    return False"
   ]
  },
  {
   "cell_type": "code",
   "execution_count": 66,
   "id": "becf8158",
   "metadata": {},
   "outputs": [
    {
     "name": "stdout",
     "output_type": "stream",
     "text": [
      "True\n",
      "False\n"
     ]
    }
   ],
   "source": [
    "v1, edges1 = 4, [[0,1],[0,2],[1,2],[2,0],[2,3],[3,3]]\n",
    "v2, edges2 = 4, [[0,1],[0,2],[1,2],[2,3]]\n",
    "\n",
    "print(cycleDetection3(v1, edges1))\n",
    "print(cycleDetection3(v2, edges2))"
   ]
  },
  {
   "cell_type": "code",
   "execution_count": 67,
   "id": "77315f64",
   "metadata": {},
   "outputs": [],
   "source": [
    "# 24. Bipartite Check using BFS"
   ]
  },
  {
   "cell_type": "code",
   "execution_count": 68,
   "id": "1b2edc96",
   "metadata": {},
   "outputs": [],
   "source": [
    "from collections import deque\n",
    "def isBipartite1(graph): # O(n + e)T / O(n)S\n",
    "    n = len(graph)\n",
    "    colors = [-1] * n\n",
    "\n",
    "    for i in range(n):\n",
    "        if colors[i] == -1:\n",
    "            if not bfs(i, graph, colors):\n",
    "                return False\n",
    "\n",
    "    return True\n",
    "\n",
    "def bfs(i, adj, colors):\n",
    "    q = deque()\n",
    "    q.append(i)\n",
    "\n",
    "    colors[i] = 1\n",
    "\n",
    "    while q:\n",
    "        node = q.popleft()\n",
    "\n",
    "        for n in adj[node]:\n",
    "            if colors[n] == -1:\n",
    "                colors[n] = 1 - colors[node]\n",
    "                q.append(n)\n",
    "            elif colors[n] == colors[node]:\n",
    "                return False\n",
    "\n",
    "    return True"
   ]
  },
  {
   "cell_type": "code",
   "execution_count": 69,
   "id": "7b00753d",
   "metadata": {},
   "outputs": [],
   "source": [
    "graph1 = [[1,2,3],[0,2],[0,1,3],[0,2]]\n",
    "graph2 = [[1,3],[0,2],[1,3],[0,2]]"
   ]
  },
  {
   "cell_type": "code",
   "execution_count": 70,
   "id": "2078a88a",
   "metadata": {},
   "outputs": [
    {
     "name": "stdout",
     "output_type": "stream",
     "text": [
      "False\n",
      "True\n"
     ]
    }
   ],
   "source": [
    "print(isBipartite1(graph1))\n",
    "print(isBipartite1(graph2))"
   ]
  },
  {
   "cell_type": "code",
   "execution_count": 71,
   "id": "865d9f74",
   "metadata": {},
   "outputs": [],
   "source": [
    "# 25. Bipartite Check using DFS"
   ]
  },
  {
   "cell_type": "code",
   "execution_count": 72,
   "id": "92c23553",
   "metadata": {},
   "outputs": [],
   "source": [
    "def isBipartite2(graph): # O(n + e)T / O(n)S\n",
    "    n = len(graph)\n",
    "    colors = [-1] * n\n",
    "\n",
    "    for i in range(n):\n",
    "        if colors[i] == -1:\n",
    "            if not dfs(i, graph, colors):\n",
    "                return False\n",
    "\n",
    "    return True\n",
    "\n",
    "def dfs(node, adj, colors):\n",
    "    if colors[node] == -1:\n",
    "        colors[node] = 1\n",
    "\n",
    "    for n in adj[node]:\n",
    "        if colors[n] == -1:\n",
    "            colors[n] = 1 - colors[node]\n",
    "\n",
    "            if not dfs(n, adj, colors):\n",
    "                return False\n",
    "        elif colors[n] == colors[node]:\n",
    "            return False\n",
    "\n",
    "    return True"
   ]
  },
  {
   "cell_type": "code",
   "execution_count": 73,
   "id": "df822743",
   "metadata": {},
   "outputs": [
    {
     "name": "stdout",
     "output_type": "stream",
     "text": [
      "False\n",
      "True\n"
     ]
    }
   ],
   "source": [
    "print(isBipartite2(graph1))\n",
    "print(isBipartite2(graph2))"
   ]
  },
  {
   "cell_type": "code",
   "execution_count": 74,
   "id": "45eca757",
   "metadata": {},
   "outputs": [],
   "source": [
    "# 26. Topological Sort DFS"
   ]
  },
  {
   "cell_type": "code",
   "execution_count": 75,
   "id": "3c58e749",
   "metadata": {},
   "outputs": [],
   "source": [
    "def topoSort1(V, adj): # O(n + e)T / O(n)S\n",
    "    vis = [0] * V\n",
    "    st = []\n",
    "\n",
    "    for i in range(V):\n",
    "        if not vis[i]:\n",
    "            dfs(i, adj, vis, st)\n",
    "\n",
    "    res = []\n",
    "\n",
    "    return st[::-1]\n",
    "\n",
    "def dfs(node, adj, vis, st):\n",
    "    vis[node] = 1\n",
    "\n",
    "    for n in adj[node]:\n",
    "        if not vis[n]:\n",
    "            dfs(n, adj, vis, st)\n",
    "\n",
    "    st.append(node)"
   ]
  },
  {
   "cell_type": "code",
   "execution_count": 76,
   "id": "65aed095",
   "metadata": {},
   "outputs": [],
   "source": [
    "v1, graph1 = 4, [[],[0],[0],[0]]\n",
    "v2, graph2 = 6, [[],[3],[3],[],[0,1],[0,2]]"
   ]
  },
  {
   "cell_type": "code",
   "execution_count": 77,
   "id": "8d9db849",
   "metadata": {},
   "outputs": [
    {
     "name": "stdout",
     "output_type": "stream",
     "text": [
      "[3, 2, 1, 0]\n",
      "[5, 4, 2, 1, 3, 0]\n"
     ]
    }
   ],
   "source": [
    "print(topoSort1(v1, graph1))\n",
    "print(topoSort1(v2, graph2))"
   ]
  },
  {
   "cell_type": "code",
   "execution_count": 78,
   "id": "9b8e8066",
   "metadata": {},
   "outputs": [],
   "source": [
    "# 27. Topological Sort BFS (Kahn's Algorithm)"
   ]
  },
  {
   "cell_type": "code",
   "execution_count": 79,
   "id": "2c6a8392",
   "metadata": {},
   "outputs": [],
   "source": [
    "def topoSort2(V, adj): # (2(n + e))T / O(n + e)S\n",
    "    res = []\n",
    "    inDegree = [0] * V\n",
    "\n",
    "    for i in range(V):\n",
    "        for nd in adj[i]:\n",
    "            inDegree[nd] += 1\n",
    "\n",
    "    q = deque()\n",
    "\n",
    "    for i in range(V):\n",
    "        if inDegree[i] == 0:\n",
    "            q.append(i)\n",
    "\n",
    "    while q:\n",
    "        node = q.popleft()\n",
    "        res.append(node)\n",
    "\n",
    "        for nd in adj[node]:\n",
    "            inDegree[nd] -= 1\n",
    "\n",
    "            if inDegree[nd] == 0:\n",
    "                q.append(nd)\n",
    "\n",
    "    return res"
   ]
  },
  {
   "cell_type": "code",
   "execution_count": 80,
   "id": "8aef6cce",
   "metadata": {},
   "outputs": [],
   "source": [
    "v1, graph1 = 4, [[],[0],[0],[0]]\n",
    "v2, graph2 = 6, [[],[3],[3],[],[0,1],[0,2]]"
   ]
  },
  {
   "cell_type": "code",
   "execution_count": 81,
   "id": "c26fdf08",
   "metadata": {},
   "outputs": [
    {
     "name": "stdout",
     "output_type": "stream",
     "text": [
      "[1, 2, 3, 0]\n",
      "[4, 5, 1, 0, 2, 3]\n"
     ]
    }
   ],
   "source": [
    "print(topoSort2(v1, graph1))\n",
    "print(topoSort2(v2, graph2))"
   ]
  },
  {
   "cell_type": "code",
   "execution_count": 82,
   "id": "e39b839f",
   "metadata": {},
   "outputs": [],
   "source": [
    "# 28. Detect A cycle in a Directed Graph using BFS"
   ]
  },
  {
   "cell_type": "code",
   "execution_count": 83,
   "id": "b26814d2",
   "metadata": {},
   "outputs": [],
   "source": [
    "def cycleDetection4(V, edges): # (2(n + e))T / O(n + e)S\n",
    "    adj = [[] for _ in range(V)]\n",
    "    inDegree = [0] * V\n",
    "\n",
    "    for x, y in edges:\n",
    "        adj[x].append(y)\n",
    "\n",
    "    for i in range(V):\n",
    "        for nd in adj[i]:\n",
    "            inDegree[nd] += 1\n",
    "\n",
    "    q = deque()\n",
    "\n",
    "    for i in range(V):\n",
    "        if inDegree[i] == 0:\n",
    "            q.append(i)\n",
    "\n",
    "    count = 0\n",
    "\n",
    "    while q:\n",
    "        node = q.popleft()\n",
    "        count += 1\n",
    "\n",
    "        for nd in adj[node]:\n",
    "            inDegree[nd] -= 1\n",
    "\n",
    "            if inDegree[nd] == 0:\n",
    "                q.append(nd)\n",
    "\n",
    "    return not count == V"
   ]
  },
  {
   "cell_type": "code",
   "execution_count": 84,
   "id": "1814164d",
   "metadata": {},
   "outputs": [
    {
     "name": "stdout",
     "output_type": "stream",
     "text": [
      "True\n",
      "False\n"
     ]
    }
   ],
   "source": [
    "v1, edges1 = 4, [[0,1],[0,2],[1,2],[2,0],[2,3],[3,3]]\n",
    "v2, edges2 = 4, [[0,1],[0,2],[1,2],[2,3]]\n",
    "\n",
    "print(cycleDetection4(v1, edges1))\n",
    "print(cycleDetection4(v2, edges2))"
   ]
  },
  {
   "cell_type": "code",
   "execution_count": 85,
   "id": "aa1fb0f9",
   "metadata": {},
   "outputs": [],
   "source": [
    "# 29. Number of Islands"
   ]
  },
  {
   "cell_type": "code",
   "execution_count": 86,
   "id": "dba8a1c9",
   "metadata": {},
   "outputs": [],
   "source": [
    "def numIslands(grid): # O(n*m)T / O(1)S\n",
    "    m, n = len(grid), len(grid[0])\n",
    "    count = 0\n",
    "\n",
    "    for i in range(m):\n",
    "        for j in range(n):\n",
    "            if grid[i][j] == '1':\n",
    "                count += 1\n",
    "                dfs(i, j, grid)\n",
    "\n",
    "    return count\n",
    "\n",
    "def dfs(i, j, grid):\n",
    "    if i < 0 or j < 0 or i >= len(grid) or j >= len(grid[0]) or grid[i][j] == '0':\n",
    "        return\n",
    "\n",
    "    grid[i][j] = '0'\n",
    "\n",
    "    dfs(i + 1, j, grid)\n",
    "    dfs(i - 1, j, grid)\n",
    "    dfs(i, j + 1, grid)\n",
    "    dfs(i, j - 1, grid)"
   ]
  },
  {
   "cell_type": "code",
   "execution_count": 87,
   "id": "80783e1e",
   "metadata": {},
   "outputs": [],
   "source": [
    "grid1 = [[\"1\",\"1\",\"1\",\"1\",\"0\"],\n",
    "         [\"1\",\"1\",\"0\",\"1\",\"0\"],\n",
    "         [\"1\",\"1\",\"0\",\"0\",\"0\"],\n",
    "         [\"0\",\"0\",\"0\",\"0\",\"0\"]]\n",
    "grid2 = [[\"1\",\"1\",\"0\",\"0\",\"0\"],\n",
    "         [\"1\",\"1\",\"0\",\"0\",\"0\"],\n",
    "         [\"0\",\"0\",\"1\",\"0\",\"0\"],\n",
    "         [\"0\",\"0\",\"0\",\"1\",\"1\"]]"
   ]
  },
  {
   "cell_type": "code",
   "execution_count": 88,
   "id": "1e74eebd",
   "metadata": {
    "scrolled": false
   },
   "outputs": [
    {
     "name": "stdout",
     "output_type": "stream",
     "text": [
      "1\n",
      "3\n"
     ]
    }
   ],
   "source": [
    "print(numIslands(grid1))\n",
    "print(numIslands(grid2))"
   ]
  },
  {
   "cell_type": "markdown",
   "id": "e4232c98",
   "metadata": {},
   "source": [
    "# 4. Graph Part 2"
   ]
  },
  {
   "cell_type": "code",
   "execution_count": 89,
   "id": "d1a71882",
   "metadata": {},
   "outputs": [],
   "source": [
    "# 30. Dijkstra’s Algorithm (Shortest Path in Undirected Weighted Graph)"
   ]
  },
  {
   "cell_type": "code",
   "execution_count": 90,
   "id": "0da3489f",
   "metadata": {},
   "outputs": [],
   "source": [
    "\"\"\"\n",
    "# Shortest Path in Undirected Graph with Unit Weights\n",
    "\n",
    "def shortestPath(n, src, adjList):\n",
    "    dist = [float('inf') for _ in range(n)]\n",
    "    dist[src] = 0\n",
    "    \n",
    "    queue = deque()\n",
    "    queue.append(src)\n",
    "    \n",
    "    while queue:\n",
    "        node = queue.popleft()\n",
    "        \n",
    "        for i in adjList[node]:\n",
    "            if (dist[node] + 1) < dist[i]:\n",
    "                dist[i] = dist[node] + 1\n",
    "                queue.append(i)\n",
    "                \n",
    "    return dist\n",
    "\"\"\"\n",
    "\n",
    "import heapq as hq\n",
    "\n",
    "def dijkstra(V, adj, S): # O((n+e)logn)T / O(n)S\n",
    "    distArr = [float('inf')] * V\n",
    "    distArr[S] = 0\n",
    "    minHeap = [(0, S)] # put distance first in tuple to sort by distance\n",
    "\n",
    "    while minHeap:\n",
    "        dist, node = hq.heappop(minHeap)\n",
    "\n",
    "        for nd, di in adj[node]:\n",
    "            if dist + di < distArr[nd]:\n",
    "                distArr[nd] = dist + di\n",
    "                hq.heappush(minHeap, (distArr[nd], nd))\n",
    "\n",
    "    return distArr"
   ]
  },
  {
   "cell_type": "code",
   "execution_count": 91,
   "id": "78559578",
   "metadata": {},
   "outputs": [],
   "source": [
    "\"\"\"\n",
    "adj[i] contains a list of tuples containing two integers \n",
    "where the first integer j denotes that there is an edge between i and j \n",
    "and second integer w denotes that the weight between edge i and j is w.\n",
    "\"\"\"\n",
    "v1, adj1, s1 = 2, [[(1,9)],[(0,9)]], 0\n",
    "v2, adj2, s2 = 3, [[(1,1),(2,6)],[(0,1),(2,3)],[(0,6),(1,3)]], 2"
   ]
  },
  {
   "cell_type": "code",
   "execution_count": 92,
   "id": "aed3f70d",
   "metadata": {},
   "outputs": [
    {
     "name": "stdout",
     "output_type": "stream",
     "text": [
      "[0, 9]\n",
      "[4, 3, 0]\n"
     ]
    }
   ],
   "source": [
    "print(dijkstra(v1, adj1, s1))\n",
    "print(dijkstra(v2, adj2, s2))"
   ]
  },
  {
   "cell_type": "code",
   "execution_count": 93,
   "id": "6d26e3e3",
   "metadata": {},
   "outputs": [],
   "source": [
    "# 31. MST using Prim’s Algo"
   ]
  },
  {
   "cell_type": "code",
   "execution_count": 94,
   "id": "aebf9669",
   "metadata": {},
   "outputs": [],
   "source": [
    "def spanningTree1(V, adj): # O(nlogn)T / O(3n)S\n",
    "    parent = [-1] * V\n",
    "    keys = [float('inf')] * V\n",
    "    mst = [False] * V\n",
    "\n",
    "    keys[0] = 0\n",
    "    minHeap = [(0, 0)]\n",
    "    res = 0\n",
    "\n",
    "    while minHeap:\n",
    "        weight, node = hq.heappop(minHeap)\n",
    "\n",
    "        if mst[node]:\n",
    "            continue\n",
    "\n",
    "        mst[node] = True\n",
    "        res += weight\n",
    "\n",
    "        for nei, neiWeight in adj[node]:\n",
    "            if not mst[nei] and neiWeight < keys[nei]:\n",
    "                keys[nei] = neiWeight\n",
    "                hq.heappush(minHeap, (neiWeight, nei))\n",
    "\n",
    "    return res # res == sum(keys)\n",
    "\n",
    "# ------------------------------------------------------------------------------------\n",
    "\n",
    "# LeetCode Problem 1584\n",
    "# Approach 1\n",
    "def minCostConnectPoints1(points): # O(2(n^2))T / O(2n)S\n",
    "    n = len(points)\n",
    "    key = [float('inf')] * n\n",
    "    mst = [False] * n\n",
    "\n",
    "    key[0] = 0\n",
    "    res = 0\n",
    "\n",
    "    for _ in range(n):\n",
    "        minIdx = float('inf')\n",
    "        minDist = float('inf')\n",
    "\n",
    "        for i in range(n):\n",
    "            if key[i] < minDist and not mst[i]:\n",
    "                minDist = key[i]\n",
    "                minIdx = i\n",
    "\n",
    "        res += minDist\n",
    "        mst[minIdx] = True\n",
    "\n",
    "        for i in range(n):\n",
    "            if not mst[i]:\n",
    "                dist = abs(points[i][0] - points[minIdx][0]) + abs(points[i][1] - points[minIdx][1])\n",
    "                if dist < key[i]:\n",
    "                    key[i] = dist\n",
    "\n",
    "    return res\n",
    "\n",
    "# Approach 2 (approach 1 with min heap)\n",
    "import heapq as hq\n",
    "def minCostConnectPoints2(points): # O((n^2)*logn)T / O(2n)S\n",
    "        n = len(points)\n",
    "        key = [float('inf')] * n\n",
    "        mst = [False] * n\n",
    "        minHeap = [[0, 0]]\n",
    "        \n",
    "        key[0] = 0\n",
    "        res = 0\n",
    "        \n",
    "        while minHeap:\n",
    "            minDist, minIdx = hq.heappop(minHeap)\n",
    "            \n",
    "            if mst[minIdx]:\n",
    "                continue\n",
    "                \n",
    "            res += minDist\n",
    "            mst[minIdx] = True\n",
    "            \n",
    "            for i in range(n):\n",
    "                if not mst[i]:\n",
    "                    dist = abs(points[i][0] - points[minIdx][0]) + abs(points[i][1] - points[minIdx][1])\n",
    "                    if dist < key[i]:\n",
    "                        key[i] = dist\n",
    "                        hq.heappush(minHeap, [dist, i])\n",
    "\n",
    "        return res"
   ]
  },
  {
   "cell_type": "code",
   "execution_count": 95,
   "id": "8e5b0322",
   "metadata": {},
   "outputs": [
    {
     "data": {
      "text/plain": [
       "4"
      ]
     },
     "execution_count": 95,
     "metadata": {},
     "output_type": "execute_result"
    }
   ],
   "source": [
    "\"\"\"\n",
    "Here adj[i] contains a list of lists containing two integers \n",
    "where the first integer a[i][j][0] denotes that there is an edge between i and a[i][j][0] \n",
    "and second integer a[i][j][1] denotes the distance between i and a[i][j][0] \n",
    "\"\"\"\n",
    "v, adj = 3, [[[1, 5], [2, 1]], [[0, 5], [2, 3]], [[1, 3], [0, 1]]] \n",
    "\n",
    "spanningTree1(v, adj)"
   ]
  },
  {
   "cell_type": "code",
   "execution_count": 96,
   "id": "1481402b",
   "metadata": {},
   "outputs": [],
   "source": [
    "points1 = [[0,0],[2,2],[3,10],[5,2],[7,0]]\n",
    "points2 = [[3,12],[-2,5],[-4,1]]"
   ]
  },
  {
   "cell_type": "code",
   "execution_count": 97,
   "id": "4d2a85ec",
   "metadata": {},
   "outputs": [
    {
     "name": "stdout",
     "output_type": "stream",
     "text": [
      "20\n",
      "18\n"
     ]
    }
   ],
   "source": [
    "print(minCostConnectPoints1(points1))\n",
    "print(minCostConnectPoints2(points2))"
   ]
  },
  {
   "cell_type": "code",
   "execution_count": 98,
   "id": "af4d7fa0",
   "metadata": {},
   "outputs": [],
   "source": [
    "# 32. MST using Kruskal’s Algo"
   ]
  },
  {
   "cell_type": "code",
   "execution_count": 99,
   "id": "ff8135e1",
   "metadata": {},
   "outputs": [],
   "source": [
    "def spanningTree2(V, adj): # O(nlogn)T / O(3n)S\n",
    "    \"\"\"\n",
    "    findParent & union functions mathematically proven to take O(4)T\n",
    "    \"\"\"\n",
    "    edges = [] # list of (weight, u, v)\n",
    "\n",
    "    for i in range(V):\n",
    "        node = i\n",
    "\n",
    "        for j in range(len(adj[i])):\n",
    "            nei, weight = adj[i][j]\n",
    "            edges.append((weight, node, nei))\n",
    "\n",
    "    edges.sort()\n",
    "\n",
    "    parent = [i for i in range(V)]\n",
    "    rank = [0] * V\n",
    "    # mst = []\n",
    "    mstCost = 0\n",
    "\n",
    "    for edge in edges:\n",
    "        weight, u, v = edge\n",
    "\n",
    "        if findParent(u, parent) != findParent(v, parent):\n",
    "            # mst.append((u, v))\n",
    "            mstCost += weight\n",
    "            union(u, v, parent, rank)\n",
    "\n",
    "    return mstCost\n",
    "        \n",
    "def findParent(node, parent):\n",
    "    if node == parent[node]:\n",
    "        return node\n",
    "        \n",
    "    parent[node] = findParent(parent[node], parent)\n",
    "    \n",
    "    return parent[node]\n",
    "    \n",
    "def union(u, v, parent, rank):\n",
    "    u = findParent(u, parent)\n",
    "    v = findParent(v, parent)\n",
    "    \n",
    "    if rank[u] > rank[v]:\n",
    "        parent[v] = u\n",
    "    elif rank[u] < rank[v]:\n",
    "        parent[u] = v\n",
    "    else:\n",
    "        parent[u] = v\n",
    "        rank[v] += 1"
   ]
  },
  {
   "cell_type": "code",
   "execution_count": 100,
   "id": "726d9b20",
   "metadata": {},
   "outputs": [
    {
     "data": {
      "text/plain": [
       "4"
      ]
     },
     "execution_count": 100,
     "metadata": {},
     "output_type": "execute_result"
    }
   ],
   "source": [
    "\"\"\"\n",
    "Here adj[i] contains a list of lists containing two integers \n",
    "where the first integer a[i][j][0] denotes that there is an edge between i and a[i][j][0] \n",
    "and second integer a[i][j][1] denotes the distance between i and a[i][j][0] \n",
    "\"\"\"\n",
    "v, adj = 3, [[[1, 5], [2, 1]], [[0, 5], [2, 3]], [[1, 3], [0, 1]]] \n",
    "\n",
    "spanningTree2(v, adj)"
   ]
  },
  {
   "cell_type": "code",
   "execution_count": 101,
   "id": "55e2b2c9",
   "metadata": {},
   "outputs": [],
   "source": [
    "# 33. Strongly Connected Component (using KosaRaju’s algo)"
   ]
  },
  {
   "cell_type": "code",
   "execution_count": 102,
   "id": "df189f89",
   "metadata": {},
   "outputs": [],
   "source": [
    "def stronglyConnectedComponents(n, edges): # O(3(n + e))T / O(n)S -> n = num of nodes, e = num of edges\n",
    "    # Creating adj list\n",
    "    adj = [[] for _ in range(n)]\n",
    "    for i, j in edges:\n",
    "        adj[i].append(j)\n",
    "        \n",
    "    # Finding topo sort of the given graph\n",
    "    vis = [0] * n\n",
    "    st = []\n",
    "    for i in range(n):\n",
    "        if not vis[i]:\n",
    "            topoSort(i, adj, vis, st)\n",
    "    \n",
    "    # Reinitializing vis arr to use for next dfs\n",
    "    for i in range(n):\n",
    "        vis[i] = 0\n",
    "    \n",
    "    # Creating an adj list with reversed edges\n",
    "    reversedGraph = [[] for _ in range(n)]\n",
    "    for i, j in edges:\n",
    "        reversedGraph[j].append(i)\n",
    "    \n",
    "    # Doing a dfs traversal with reversedGraph and st containing topo sort\n",
    "    ans = []\n",
    "    while st:\n",
    "        node = st.pop()\n",
    "        temp = []\n",
    "        \n",
    "        if not vis[node]:\n",
    "            dfs(node, temp, reversedGraph, vis)\n",
    "            ans.append(temp)\n",
    "            \n",
    "    return ans\n",
    "            \n",
    "def dfs(node, ans, adj, vis):\n",
    "    vis[node] = 1\n",
    "    ans.append(node)\n",
    "    \n",
    "    for nd in adj[node]:\n",
    "        if not vis[nd]:\n",
    "            dfs(nd, ans, adj, vis)\n",
    "\n",
    "def topoSort(i, adj, vis, st):\n",
    "    vis[i] = 1\n",
    "    \n",
    "    for nd in adj[i]:\n",
    "        if not vis[nd]:\n",
    "            topoSort(nd, adj, vis, st)\n",
    "        \n",
    "    st.append(i)"
   ]
  },
  {
   "cell_type": "code",
   "execution_count": 103,
   "id": "421d79e2",
   "metadata": {},
   "outputs": [
    {
     "data": {
      "text/plain": [
       "[[0, 4, 1], [2, 3]]"
      ]
     },
     "execution_count": 103,
     "metadata": {},
     "output_type": "execute_result"
    }
   ],
   "source": [
    "n, edges = 5, [[0,1],[1,2],[1,4],[2,3],[3,2],[4,0]]\n",
    "\n",
    "stronglyConnectedComponents(5, edges)"
   ]
  },
  {
   "cell_type": "code",
   "execution_count": 104,
   "id": "2ae521fd",
   "metadata": {},
   "outputs": [],
   "source": [
    "# 34. Bellman-Ford Algo (for finding shortest path in a graph with negative weights)"
   ]
  },
  {
   "cell_type": "code",
   "execution_count": 105,
   "id": "213654ec",
   "metadata": {},
   "outputs": [],
   "source": [
    "def bellmanFord(V, edges, S): # O(V*e)T / O(n)S -> n = num of nodes, e = num of edges \n",
    "    dist = [float('inf')] * (V)\n",
    "    dist[S] = 0\n",
    "\n",
    "    for i in range(V - 1): # Has to run for exactly V-1 times\n",
    "        for u, v, wt in edges:\n",
    "            if dist[u] + wt < dist[v]:\n",
    "                dist[v] = dist[u] + wt\n",
    "\n",
    "    for u, v, wt in edges:\n",
    "        if dist[u] + wt < dist[v]: # If true, there is a negative weight cycle in the graph\n",
    "            return -1\n",
    "    \n",
    "    return dist # Impossible to reach nodes will have dist of float('inf')"
   ]
  },
  {
   "cell_type": "code",
   "execution_count": 106,
   "id": "f550da57",
   "metadata": {},
   "outputs": [],
   "source": [
    "v1, edges1, src1 = 2, [[0,1,9]], 0\n",
    "v2, edges2, src2 = 3, [[0,1,5],[1,0,3],[1,2,-1],[2,0,1]], 2"
   ]
  },
  {
   "cell_type": "code",
   "execution_count": 107,
   "id": "b3fa18ca",
   "metadata": {},
   "outputs": [
    {
     "name": "stdout",
     "output_type": "stream",
     "text": [
      "[0, 9]\n",
      "[1, 6, 0]\n"
     ]
    }
   ],
   "source": [
    "print(bellmanFord(v1, edges1, src1))\n",
    "print(bellmanFord(v2, edges2, src2))"
   ]
  },
  {
   "cell_type": "code",
   "execution_count": 108,
   "id": "3f43d1c9",
   "metadata": {},
   "outputs": [],
   "source": [
    "# 35. Floyd Warshall Algorithm"
   ]
  },
  {
   "cell_type": "code",
   "execution_count": 109,
   "id": "9bac4708",
   "metadata": {},
   "outputs": [],
   "source": [
    "def shortestDistance(matrix): # O(n^3)T / o(1)S\n",
    "    n = len(matrix)\n",
    "\n",
    "    for k in range(n):\n",
    "        for i in range(n):\n",
    "            for j in range(n):\n",
    "                matrix[i][j] = min(matrix[i][j], matrix[k][j] + matrix[i][k])\n",
    "\n",
    "    return matrix"
   ]
  },
  {
   "cell_type": "code",
   "execution_count": 110,
   "id": "4d3cd2ee",
   "metadata": {},
   "outputs": [
    {
     "data": {
      "text/plain": [
       "[[0, 1, 7], [1, 0, 6], [inf, inf, 0]]"
      ]
     },
     "execution_count": 110,
     "metadata": {},
     "output_type": "execute_result"
    }
   ],
   "source": [
    "\"\"\"In the matrix float('inf') represents that there is no edge between the nodes i, j\"\"\"\n",
    "matrix = [[0,1,43],[1,0,6],[float('inf'),float('inf'),0]]\n",
    "\n",
    "shortestDistance(matrix)"
   ]
  },
  {
   "cell_type": "markdown",
   "id": "79944d38",
   "metadata": {},
   "source": [
    "# 5. Binary Tree"
   ]
  },
  {
   "cell_type": "code",
   "execution_count": 111,
   "id": "0b757e86",
   "metadata": {},
   "outputs": [],
   "source": [
    "# 36. Inorder Traversal"
   ]
  },
  {
   "cell_type": "code",
   "execution_count": 112,
   "id": "e0453c62",
   "metadata": {},
   "outputs": [],
   "source": [
    "# Iterative Approach\n",
    "def inorderTraversal(root): # O(n)T / O(n)S\n",
    "    if root is None:\n",
    "        return []\n",
    "\n",
    "    res = []\n",
    "    st = []\n",
    "    node = root\n",
    "\n",
    "    while True:\n",
    "        if node is None:\n",
    "            if not st:\n",
    "                break\n",
    "\n",
    "            node = st.pop()\n",
    "            res.append(node.val)\n",
    "            node = node.right\n",
    "        else:\n",
    "            st.append(node)\n",
    "            node = node.left\n",
    "\n",
    "    return res\n",
    "    \n",
    "# Recursive Approach\n",
    "def inorderTraversal(root): # O(n + n-1)T / O(1)S -> n is num of nodes, n-1 is num of edges\n",
    "    res = []\n",
    "    recurseInorder(root, res)\n",
    "    return res\n",
    "\n",
    "def recurseInorder(node, res):\n",
    "    if node is None:\n",
    "        return \n",
    "\n",
    "    recurseInorder(node.left, res)\n",
    "    res.append(node.val)\n",
    "    recurseInorder(node.right, res)"
   ]
  },
  {
   "cell_type": "code",
   "execution_count": 113,
   "id": "692e9e61",
   "metadata": {},
   "outputs": [],
   "source": [
    "# 37. Preorder Traversal"
   ]
  },
  {
   "cell_type": "code",
   "execution_count": 114,
   "id": "e284fc2f",
   "metadata": {},
   "outputs": [],
   "source": [
    "# Iterative Approach\n",
    "def preorderTraversal(root): # O(n)T / O(n)S\n",
    "    if root is None:\n",
    "        return []\n",
    "\n",
    "    res = []\n",
    "    st = [root]\n",
    "\n",
    "    while st:\n",
    "        node = st.pop()\n",
    "        res.append(node.val)\n",
    "\n",
    "        # first you have to append right node to stack then the left node\n",
    "        if node.right: \n",
    "            st.append(node.right)\n",
    "\n",
    "        if node.left:\n",
    "            st.append(node.left)\n",
    "\n",
    "    return res\n",
    "\n",
    "# Recursive Approach\n",
    "def preorderTraversal(root): # O(n + n-1)T / O(1)S -> n is num of nodes, n-1 is num of edges\n",
    "    res = []\n",
    "    recursePreorder(root, res)\n",
    "    return res\n",
    "\n",
    "def recursePreorder(node, res):\n",
    "    if node is None:\n",
    "        return\n",
    "\n",
    "    res.append(node.val)\n",
    "    recursePreorder(node.left, res)\n",
    "    recursePreorder(node.right, res)"
   ]
  },
  {
   "cell_type": "code",
   "execution_count": 115,
   "id": "f072145f",
   "metadata": {},
   "outputs": [],
   "source": [
    "# 38. Postorder Traversal"
   ]
  },
  {
   "cell_type": "code",
   "execution_count": 116,
   "id": "c16dcb6d",
   "metadata": {},
   "outputs": [],
   "source": [
    "# Iterative Approach 1\n",
    "def postorderTraversal(root): # O(n)T / O(n)S\n",
    "    if root is None:\n",
    "        return []\n",
    "\n",
    "    res = []\n",
    "    st = [root]\n",
    "\n",
    "    while st:\n",
    "        node = st.pop()\n",
    "        res.append(node.val)\n",
    "\n",
    "        # first you have to append left node to stack then the right node\n",
    "        if node.left:\n",
    "            st.append(node.left)\n",
    "\n",
    "        if node.right:\n",
    "            st.append(node.right)\n",
    "\n",
    "    return res[::-1]\n",
    "\n",
    "# Iterative Approach 2\n",
    "def postorderTraversal(root):\n",
    "    if root is None:\n",
    "        return []\n",
    "\n",
    "    res = []\n",
    "    st = []\n",
    "    cur = root\n",
    "\n",
    "    while cur or st:\n",
    "        if cur:\n",
    "            st.append(cur)\n",
    "            cur = cur.left\n",
    "        else:\n",
    "            temp = st[-1].right\n",
    "\n",
    "            if temp is None:\n",
    "                node = st.pop()\n",
    "                res.append(node.val)\n",
    "\n",
    "                while st and st[-1].right == node:\n",
    "                    node = st.pop()\n",
    "                    res.append(node.val)\n",
    "            else:\n",
    "                cur = temp\n",
    "\n",
    "    return res\n",
    "    \n",
    "# Recursive Approach\n",
    "def postorderTraversal(root): # O(n + n-1)T / O(1)S -> n is num of nodes, n-1 is num of edges\n",
    "    res = []\n",
    "    recursePostorder(root, res)\n",
    "    return res\n",
    "\n",
    "def recursePostorder(node, res):\n",
    "    if node is None:\n",
    "        return\n",
    "\n",
    "    recursePostorder(node.left, res)\n",
    "    recursePostorder(node.right, res)\n",
    "    res.append(node.val)"
   ]
  },
  {
   "cell_type": "code",
   "execution_count": 117,
   "id": "ba45d233",
   "metadata": {},
   "outputs": [],
   "source": [
    "# 39. Preorder Inorder Postorder in a Single Traversal"
   ]
  },
  {
   "cell_type": "code",
   "execution_count": 118,
   "id": "c611290e",
   "metadata": {},
   "outputs": [],
   "source": [
    "def getTreeTraversal(root): # O(3n)T / O(n)S\n",
    "    if root is None:\n",
    "        return [], [], []\n",
    "    \n",
    "    preorder, inorder, postorder = [], [], []\n",
    "    st = [[root, 1]]\n",
    "    \n",
    "    while st:\n",
    "        node, num = st.pop()\n",
    "        \n",
    "        if num == 1:\n",
    "            preorder.append(node.data)\n",
    "            st.append([node, num + 1])\n",
    "            \n",
    "            if node.left:\n",
    "                st.append([node.left, 1])\n",
    "        elif num == 2:\n",
    "            inorder.append(node.data)\n",
    "            st.append([node, num + 1])\n",
    "            \n",
    "            if node.right:\n",
    "                st.append([node.right, 1])\n",
    "        elif num == 3:\n",
    "            postorder.append(node.data)\n",
    "            \n",
    "    return inorder, preorder, postorder"
   ]
  },
  {
   "cell_type": "code",
   "execution_count": 119,
   "id": "1ca39be0",
   "metadata": {},
   "outputs": [],
   "source": [
    "# 40. Vertical Order Traversal"
   ]
  },
  {
   "cell_type": "code",
   "execution_count": 120,
   "id": "d7b393c2",
   "metadata": {},
   "outputs": [],
   "source": [
    "def verticalTraversal(root): # O(n + nlogn)T / O(n)S\n",
    "    ht = defaultdict(list)\n",
    "    colLimits = [float('inf'), float('-inf')]\n",
    "    res = []\n",
    "\n",
    "    dfs(root, 0, 0, ht, colLimits)\n",
    "\n",
    "    for col in range(colLimits[0], colLimits[1] + 1):\n",
    "        temp = []\n",
    "\n",
    "        for row, val in sorted(ht[col]):\n",
    "            temp.append(val)\n",
    "\n",
    "        res.append(temp)\n",
    "\n",
    "    return res\n",
    "\n",
    "def dfs(node, row, col, ht, colLimits):\n",
    "    if node is None:\n",
    "        return\n",
    "\n",
    "    ht[col].append((row, node.val))\n",
    "    colLimits[0] = min(colLimits[0], col)\n",
    "    colLimits[1] = max(colLimits[1], col)\n",
    "\n",
    "    dfs(node.left, row + 1, col - 1, ht, colLimits)\n",
    "    dfs(node.right, row + 1, col + 1, ht, colLimits)"
   ]
  },
  {
   "cell_type": "code",
   "execution_count": 121,
   "id": "a01098b9",
   "metadata": {},
   "outputs": [],
   "source": [
    "# 41. Top View of Binary Tree"
   ]
  },
  {
   "cell_type": "code",
   "execution_count": 122,
   "id": "1419c912",
   "metadata": {},
   "outputs": [],
   "source": [
    "from collections import deque\n",
    "def getTopView(root): # O(n)T / O(n)S\n",
    "    if root is None:\n",
    "        return []\n",
    "    \n",
    "    ht = {}\n",
    "    q = deque() \n",
    "    q.append((root, 0)) # (node, column)\n",
    "    \n",
    "    while q:\n",
    "        for _ in range(len(q)):\n",
    "            node, col = q.popleft()\n",
    "            \n",
    "            if col not in ht:\n",
    "                ht[col] = node.val\n",
    "                \n",
    "            if node.left:\n",
    "                q.append((node.left, col - 1))\n",
    "                \n",
    "            if node.right:\n",
    "                q.append((node.right, col + 1))\n",
    "    \n",
    "    res = []        \n",
    "    for key in sorted(ht.keys()):\n",
    "        res.append(ht[key])\n",
    "        \n",
    "    return res"
   ]
  },
  {
   "cell_type": "code",
   "execution_count": 123,
   "id": "ca19c3cb",
   "metadata": {},
   "outputs": [],
   "source": [
    "# 42. Bottom View of Binary Tree"
   ]
  },
  {
   "cell_type": "code",
   "execution_count": 124,
   "id": "0f3d2030",
   "metadata": {},
   "outputs": [],
   "source": [
    "from collections import deque\n",
    "from collections import defaultdict\n",
    "def bottomView(root): # O(n)T / O(n)S\n",
    "    ht = defaultdict(int)\n",
    "    q = deque()\n",
    "    q.append((root, 0)) # node, column\n",
    "    \n",
    "    while q:\n",
    "        for _ in range(len(q)):\n",
    "            node, col = q.popleft()\n",
    "            ht[col] = node.data\n",
    "            \n",
    "            # here you have to append left node to the queue first then the right node \n",
    "            # because if two nodes overlap we want the right node\n",
    "            if node.left:\n",
    "                q.append((node.left, col - 1))\n",
    "            \n",
    "            if node.right:\n",
    "                q.append((node.right, col + 1))\n",
    "                \n",
    "    res = []\n",
    "    for key in sorted(ht.keys()):\n",
    "        res.append(ht[key])\n",
    "        \n",
    "    return res"
   ]
  },
  {
   "cell_type": "code",
   "execution_count": 125,
   "id": "443d11d5",
   "metadata": {},
   "outputs": [],
   "source": [
    "# 43. Left View Of Binary Tree"
   ]
  },
  {
   "cell_type": "code",
   "execution_count": 126,
   "id": "271ededc",
   "metadata": {},
   "outputs": [],
   "source": [
    "def getLeftView(root): # O(n)T / O(1)S\n",
    "    res = []\n",
    "    dfs(root, 0, res)\n",
    "    return res\n",
    "\n",
    "def dfs(node, level, res):\n",
    "    if node is None:\n",
    "        return \n",
    "    \n",
    "    if level == len(res):\n",
    "        res.append(node.data)\n",
    "        \n",
    "    # Here we should traverse left first to get left side view\n",
    "    # If right side view is asked traverse right first\n",
    "    dfs(node.left, level + 1, res)\n",
    "    dfs(node.right, level + 1, res)"
   ]
  },
  {
   "cell_type": "code",
   "execution_count": 127,
   "id": "15c8bd92",
   "metadata": {},
   "outputs": [],
   "source": [
    "# 44. Root to node path in a Binary Tree"
   ]
  },
  {
   "cell_type": "code",
   "execution_count": 128,
   "id": "2124f0dd",
   "metadata": {},
   "outputs": [],
   "source": [
    "def rootToNodePath(root, target): # O(n)T / O(n)S\n",
    "    res = []\n",
    "    dfs(root, [], res)\n",
    "    return res\n",
    "\n",
    "def dfs(node, temp, res):\n",
    "    if node is None:\n",
    "        return\n",
    "    \n",
    "    temp.append(node.val)\n",
    "    \n",
    "    dfs(node.left, temp, res)\n",
    "    \n",
    "    if node.val == target:\n",
    "        res.append(temp[::])\n",
    "        return\n",
    "    \n",
    "    dfs(node.right, temp, res)\n",
    "    \n",
    "    temp.pop()"
   ]
  },
  {
   "cell_type": "code",
   "execution_count": 129,
   "id": "6f635552",
   "metadata": {},
   "outputs": [],
   "source": [
    "# 45. Max Width of a Binary Tree"
   ]
  },
  {
   "cell_type": "code",
   "execution_count": 130,
   "id": "a25fd518",
   "metadata": {},
   "outputs": [],
   "source": [
    "def widthOfBinaryTree(root):\n",
    "    \"\"\"   \n",
    "    Logic:\n",
    "    - Indexing every node's true index on the tree\n",
    "\n",
    "       node -> index\n",
    "\n",
    "           1->1\n",
    "          /   \\\n",
    "        3->2   2->3\n",
    "       /  \\      \\\n",
    "      5->4 3->5   9->7   \n",
    "\n",
    "    \"\"\"\n",
    "\n",
    "    res = 1\n",
    "    q = deque()\n",
    "    q.append((root, 1)) # (node, index)\n",
    "\n",
    "    while q:\n",
    "        # take difference of index of last and first node on eacg level and add 1 to get the width of that level\n",
    "        width = q[-1][1] - q[0][1] + 1\n",
    "        res = max(res, width)\n",
    "        mini = q[0][1]\n",
    "\n",
    "        for _ in range(len(q)):\n",
    "            node, idx = q.popleft()\n",
    "            idx = idx - mini # to avoid idx from reaching larger numbers\n",
    "            \n",
    "            if node.left:\n",
    "                q.append((node.left, idx*2))\n",
    "\n",
    "            if node.right:\n",
    "                q.append((node.right, (idx*2)+1))\n",
    "\n",
    "    return res"
   ]
  },
  {
   "cell_type": "code",
   "execution_count": null,
   "id": "e48ce540",
   "metadata": {},
   "outputs": [],
   "source": []
  }
 ],
 "metadata": {
  "kernelspec": {
   "display_name": "Python 3 (ipykernel)",
   "language": "python",
   "name": "python3"
  },
  "language_info": {
   "codemirror_mode": {
    "name": "ipython",
    "version": 3
   },
   "file_extension": ".py",
   "mimetype": "text/x-python",
   "name": "python",
   "nbconvert_exporter": "python",
   "pygments_lexer": "ipython3",
   "version": "3.9.8"
  }
 },
 "nbformat": 4,
 "nbformat_minor": 5
}
