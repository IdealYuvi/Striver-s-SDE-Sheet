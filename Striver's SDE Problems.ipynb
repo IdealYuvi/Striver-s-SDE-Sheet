{
 "cells": [
  {
   "cell_type": "markdown",
   "id": "dc8ab4a5",
   "metadata": {},
   "source": [
    "# Day 1: Arrays"
   ]
  },
  {
   "cell_type": "code",
   "execution_count": null,
   "id": "c85cc9c1",
   "metadata": {},
   "outputs": [],
   "source": [
    "# 1. Set Matrix Zeroes"
   ]
  },
  {
   "cell_type": "code",
   "execution_count": 15,
   "id": "be513178",
   "metadata": {},
   "outputs": [],
   "source": [
    "def setZeroes(matrix): #O(2(n*m))T / O(1)S\n",
    "        \"\"\"\n",
    "        Do not return anything, modify matrix in-place instead.\n",
    "        \"\"\"\n",
    "        R = len(matrix)\n",
    "        C = len(matrix[0])\n",
    "        isCol = False\n",
    "        \n",
    "        for i in range(R): # O(n*m)\n",
    "            if matrix[i][0] == 0:\n",
    "                isCol = True\n",
    "                \n",
    "            for j in range(1, C):    \n",
    "                if matrix[i][j] == 0:\n",
    "                    matrix[i][0] = 0\n",
    "                    matrix[0][j] = 0\n",
    "                \n",
    "        for i in range(1, R): # O(n*m)\n",
    "            for j in range(1, C):\n",
    "                if not matrix[i][0] or not matrix[0][j]:\n",
    "                    matrix[i][j] = 0\n",
    "                           \n",
    "        if matrix[0][0] == 0: # O(m)\n",
    "            for j in range(C):\n",
    "                matrix[0][j] = 0\n",
    "                \n",
    "        if isCol: # O(n)\n",
    "            for i in range(R):\n",
    "                matrix[i][0] = 0\n",
    "                \n",
    "        print(matrix)"
   ]
  },
  {
   "cell_type": "code",
   "execution_count": 13,
   "id": "634611fb",
   "metadata": {},
   "outputs": [],
   "source": [
    "matrix1 = [[1,1,1],[1,0,1],[1,1,1]]\n",
    "matrix2 = [[0,1,2,0],[3,4,5,2],[1,3,1,5]]"
   ]
  },
  {
   "cell_type": "code",
   "execution_count": 14,
   "id": "d8c2e1cd",
   "metadata": {},
   "outputs": [
    {
     "name": "stdout",
     "output_type": "stream",
     "text": [
      "[[1, 0, 1], [0, 0, 0], [1, 0, 1]]\n",
      "[[0, 0, 0, 0], [0, 4, 5, 0], [0, 3, 1, 0]]\n"
     ]
    }
   ],
   "source": [
    "setZeroes(matrix1)\n",
    "setZeroes(matrix2)"
   ]
  },
  {
   "cell_type": "code",
   "execution_count": null,
   "id": "44b2cd7b",
   "metadata": {},
   "outputs": [],
   "source": [
    "# 2. "
   ]
  },
  {
   "cell_type": "code",
   "execution_count": null,
   "id": "9d75d791",
   "metadata": {},
   "outputs": [],
   "source": []
  }
 ],
 "metadata": {
  "kernelspec": {
   "display_name": "Python 3 (ipykernel)",
   "language": "python",
   "name": "python3"
  },
  "language_info": {
   "codemirror_mode": {
    "name": "ipython",
    "version": 3
   },
   "file_extension": ".py",
   "mimetype": "text/x-python",
   "name": "python",
   "nbconvert_exporter": "python",
   "pygments_lexer": "ipython3",
   "version": "3.10.0"
  }
 },
 "nbformat": 4,
 "nbformat_minor": 5
}
