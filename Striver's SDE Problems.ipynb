{
 "cells": [
  {
   "cell_type": "markdown",
   "id": "025f2eb3",
   "metadata": {},
   "source": [
    "# Striver’s SDE Sheet – Top Coding Interview Problems\n",
    "\n",
    "https://takeuforward.org/interviews/strivers-sde-sheet-top-coding-interview-problems/"
   ]
  },
  {
   "cell_type": "markdown",
   "id": "dc8ab4a5",
   "metadata": {},
   "source": [
    "# Day 1: Arrays"
   ]
  },
  {
   "cell_type": "code",
   "execution_count": 1,
   "id": "e79c0703",
   "metadata": {},
   "outputs": [],
   "source": [
    "# 1. Set Matrix Zeroes"
   ]
  },
  {
   "cell_type": "code",
   "execution_count": 2,
   "id": "be513178",
   "metadata": {},
   "outputs": [],
   "source": [
    "def setZeroes(matrix): # O(2(n*m))T / O(1)S\n",
    "    \"\"\"\n",
    "    Do not return anything, modify matrix in-place instead.\n",
    "    \"\"\"\n",
    "    R = len(matrix)\n",
    "    C = len(matrix[0])\n",
    "    isCol = False\n",
    "\n",
    "    for i in range(R): # O(n*m)T\n",
    "        if matrix[i][0] == 0:\n",
    "            isCol = True\n",
    "\n",
    "        for j in range(1, C):    \n",
    "            if matrix[i][j] == 0:\n",
    "                matrix[i][0] = 0\n",
    "                matrix[0][j] = 0\n",
    "\n",
    "    for i in range(1, R): # O(n*m)T\n",
    "        for j in range(1, C):\n",
    "            if not matrix[i][0] or not matrix[0][j]:\n",
    "                matrix[i][j] = 0\n",
    "\n",
    "    if matrix[0][0] == 0: # O(m)T\n",
    "        for j in range(C):\n",
    "            matrix[0][j] = 0\n",
    "\n",
    "    if isCol: # O(n)T\n",
    "        for i in range(R):\n",
    "            matrix[i][0] = 0\n",
    "\n",
    "    print(matrix)"
   ]
  },
  {
   "cell_type": "code",
   "execution_count": 3,
   "id": "634611fb",
   "metadata": {},
   "outputs": [],
   "source": [
    "matrix1 = [[1,1,1],[1,0,1],[1,1,1]]\n",
    "matrix2 = [[0,1,2,0],[3,4,5,2],[1,3,1,5]]"
   ]
  },
  {
   "cell_type": "code",
   "execution_count": 4,
   "id": "d8c2e1cd",
   "metadata": {},
   "outputs": [
    {
     "name": "stdout",
     "output_type": "stream",
     "text": [
      "[[1, 0, 1], [0, 0, 0], [1, 0, 1]]\n",
      "[[0, 0, 0, 0], [0, 4, 5, 0], [0, 3, 1, 0]]\n"
     ]
    }
   ],
   "source": [
    "setZeroes(matrix1)\n",
    "setZeroes(matrix2)"
   ]
  },
  {
   "cell_type": "code",
   "execution_count": 5,
   "id": "44b2cd7b",
   "metadata": {},
   "outputs": [],
   "source": [
    "# 2. Pascal's Triangle"
   ]
  },
  {
   "cell_type": "code",
   "execution_count": 6,
   "id": "9d75d791",
   "metadata": {},
   "outputs": [],
   "source": [
    "# to generate all rows\n",
    "def generate1(numRows): # O(2(n^2))T / O(n^2)S\n",
    "    pascal = [[1]*(i+1) for i in range(numRows)] # O(n^2)T\n",
    "        \n",
    "    for i in range(numRows): # O(n^2)T\n",
    "        for j in range(1, i):\n",
    "            pascal[i][j] = pascal[i-1][j-1] + pascal[i-1][j]\n",
    "\n",
    "    return pascal\n",
    "\n",
    "# to generate given row\n",
    "def generate2(n): # O(n)T / O(n)S\n",
    "    pascal = [1]\n",
    "    res = 1\n",
    "    for i in range(n):\n",
    "        res *= n - i\n",
    "        res //= i + 1\n",
    "        pascal.append(res)\n",
    "        \n",
    "    return pascal\n",
    "      \n",
    "# to generate given column in given row\n",
    "def generate3(n, c): # O(c)T / O(1)S\n",
    "    res = 1\n",
    "    for i in range(c):\n",
    "        res *= n - i\n",
    "        res //= i + 1\n",
    "        \n",
    "    return res"
   ]
  },
  {
   "cell_type": "code",
   "execution_count": 7,
   "id": "8322703b",
   "metadata": {},
   "outputs": [
    {
     "name": "stdout",
     "output_type": "stream",
     "text": [
      "[[1]]\n",
      "[[1], [1, 1], [1, 2, 1], [1, 3, 3, 1], [1, 4, 6, 4, 1]]\n"
     ]
    }
   ],
   "source": [
    "print(generate1(1))\n",
    "print(generate1(5))"
   ]
  },
  {
   "cell_type": "code",
   "execution_count": 8,
   "id": "f6d26941",
   "metadata": {},
   "outputs": [
    {
     "name": "stdout",
     "output_type": "stream",
     "text": [
      "[1]\n",
      "[1, 2, 1]\n",
      "[1, 5, 10, 10, 5, 1]\n"
     ]
    }
   ],
   "source": [
    "print(generate2(0))\n",
    "print(generate2(2))\n",
    "print(generate2(5))"
   ]
  },
  {
   "cell_type": "code",
   "execution_count": 9,
   "id": "83e4b96e",
   "metadata": {},
   "outputs": [
    {
     "name": "stdout",
     "output_type": "stream",
     "text": [
      "2\n",
      "10\n"
     ]
    }
   ],
   "source": [
    "print(generate3(2, 1))\n",
    "print(generate3(5, 3))"
   ]
  },
  {
   "cell_type": "code",
   "execution_count": 10,
   "id": "3b82ffc3",
   "metadata": {},
   "outputs": [],
   "source": [
    "# 3. Next Permutation"
   ]
  },
  {
   "cell_type": "code",
   "execution_count": 11,
   "id": "f70029de",
   "metadata": {},
   "outputs": [],
   "source": [
    "def nextPermutation(nums): # O(3n)T / O(1)S\n",
    "    \"\"\"\n",
    "    1. a[i] < a[i + 1] from last -> idx1 = i\n",
    "    2. a[j] > a[idx1] from last -> idx2 = j\n",
    "    3. swap idx1, idx2\n",
    "    4. reverse from i + 1 to last\n",
    "    \"\"\"\n",
    "\n",
    "    idx1 = -1\n",
    "    for i in reversed(range(len(nums) - 1)): # O(n)T\n",
    "        if nums[i] < nums[i + 1]:\n",
    "            idx1 = i\n",
    "            break\n",
    "\n",
    "    if idx1 == -1:\n",
    "        reverse(0, nums)\n",
    "        return nums\n",
    "\n",
    "    idx2 = -1\n",
    "    for i in reversed(range(len(nums))): # O(n)T\n",
    "        if nums[i] > nums[idx1]:\n",
    "            idx2 = i\n",
    "            break\n",
    "\n",
    "    nums[idx1], nums[idx2] = nums[idx2], nums[idx1]\n",
    "\n",
    "    reverse(idx1 + 1, nums)\n",
    "\n",
    "    return nums\n",
    "\n",
    "def reverse(i, nums): \n",
    "    first = i\n",
    "    last = len(nums) - 1\n",
    "\n",
    "    while first <= last: # O(n)T\n",
    "        nums[first], nums[last] = nums[last], nums[first]\n",
    "        first += 1\n",
    "        last -= 1\n",
    "\n",
    "    return"
   ]
  },
  {
   "cell_type": "code",
   "execution_count": 12,
   "id": "a994a4cc",
   "metadata": {},
   "outputs": [],
   "source": [
    "nums1 = [1,2,3]\n",
    "nums2 = [1,3,5,4,2]"
   ]
  },
  {
   "cell_type": "code",
   "execution_count": 13,
   "id": "45a42b7e",
   "metadata": {},
   "outputs": [
    {
     "name": "stdout",
     "output_type": "stream",
     "text": [
      "[1, 3, 2]\n",
      "[1, 4, 2, 3, 5]\n"
     ]
    }
   ],
   "source": [
    "print(nextPermutation(nums1))\n",
    "print(nextPermutation(nums2))"
   ]
  },
  {
   "cell_type": "code",
   "execution_count": 14,
   "id": "390a533b",
   "metadata": {},
   "outputs": [],
   "source": [
    "# 4. Kadane's Algorithm"
   ]
  },
  {
   "cell_type": "code",
   "execution_count": 15,
   "id": "5a46f2d3",
   "metadata": {},
   "outputs": [],
   "source": [
    "def maxSubArray(nums): # O(n)T / O(1)S\n",
    "    curSum = 0\n",
    "    curMax = nums[0]\n",
    "\n",
    "    for i in range(len(nums)): # O(n)T\n",
    "        curSum += nums[i]\n",
    "\n",
    "        if curMax < curSum:\n",
    "            curMax = curSum\n",
    "\n",
    "        if curSum < 0:\n",
    "            curSum = 0\n",
    "\n",
    "    return curMax"
   ]
  },
  {
   "cell_type": "code",
   "execution_count": 16,
   "id": "aa7f52bb",
   "metadata": {},
   "outputs": [],
   "source": [
    "nums1 = [-2,1,-3,4,-1,2,1,-5,4]\n",
    "nums2 = [1]\n",
    "nums3 = [5,4,-1,7,8] "
   ]
  },
  {
   "cell_type": "code",
   "execution_count": 17,
   "id": "3eefd015",
   "metadata": {},
   "outputs": [
    {
     "name": "stdout",
     "output_type": "stream",
     "text": [
      "6\n",
      "1\n",
      "23\n"
     ]
    }
   ],
   "source": [
    "print(maxSubArray(nums1))\n",
    "print(maxSubArray(nums2))\n",
    "print(maxSubArray(nums3))"
   ]
  },
  {
   "cell_type": "code",
   "execution_count": 18,
   "id": "9698d0a9",
   "metadata": {},
   "outputs": [],
   "source": [
    "# 5. Sort an array of 0s 1s & 2s"
   ]
  },
  {
   "cell_type": "code",
   "execution_count": 19,
   "id": "0144c841",
   "metadata": {},
   "outputs": [],
   "source": [
    "def sortColors(nums): # O(n)T / O(1)S\n",
    "    low = mid = 0\n",
    "    high = len(nums) - 1\n",
    "\n",
    "    while mid <= high: # O(n)T\n",
    "        if nums[mid] == 0:\n",
    "            nums[mid] = nums[low]\n",
    "            nums[low] = 0\n",
    "            low += 1\n",
    "            mid += 1\n",
    "        elif nums[mid] == 1:\n",
    "            mid += 1\n",
    "        elif nums[mid] == 2:\n",
    "            nums[mid], nums[high] = nums[high], nums[mid]\n",
    "            high -= 1\n",
    "    \n",
    "    return nums"
   ]
  },
  {
   "cell_type": "code",
   "execution_count": 20,
   "id": "da075841",
   "metadata": {},
   "outputs": [],
   "source": [
    "nums = [2,0,2,1,1,0]"
   ]
  },
  {
   "cell_type": "code",
   "execution_count": 21,
   "id": "c4d0f1f3",
   "metadata": {},
   "outputs": [
    {
     "data": {
      "text/plain": [
       "[0, 0, 1, 1, 2, 2]"
      ]
     },
     "execution_count": 21,
     "metadata": {},
     "output_type": "execute_result"
    }
   ],
   "source": [
    "sortColors(nums)"
   ]
  },
  {
   "cell_type": "code",
   "execution_count": 22,
   "id": "47b38093",
   "metadata": {},
   "outputs": [],
   "source": [
    "# 6. Stock buy and sell"
   ]
  },
  {
   "cell_type": "code",
   "execution_count": 23,
   "id": "e092a417",
   "metadata": {},
   "outputs": [],
   "source": [
    "def maxProfit(prices): # O(n)T / O(1)S\n",
    "    minPrice = float('inf')\n",
    "    profit = 0\n",
    "\n",
    "    for val in prices: # O(n)T\n",
    "        if val < minPrice:\n",
    "            minPrice = val\n",
    "        else:\n",
    "            potential = val - minPrice\n",
    "            profit = max(profit, potential)\n",
    "\n",
    "    return profit"
   ]
  },
  {
   "cell_type": "code",
   "execution_count": 24,
   "id": "072f561e",
   "metadata": {},
   "outputs": [],
   "source": [
    "prices1 = [7,1,5,3,6,4]\n",
    "prices2 = [7,6,4,3,1]"
   ]
  },
  {
   "cell_type": "code",
   "execution_count": 25,
   "id": "554199b8",
   "metadata": {},
   "outputs": [
    {
     "name": "stdout",
     "output_type": "stream",
     "text": [
      "5\n",
      "0\n"
     ]
    }
   ],
   "source": [
    "print(maxProfit(prices1))\n",
    "print(maxProfit(prices2))"
   ]
  },
  {
   "cell_type": "markdown",
   "id": "f5c28432",
   "metadata": {},
   "source": [
    "# Day 2: Arrays Part 2"
   ]
  },
  {
   "cell_type": "code",
   "execution_count": 26,
   "id": "c50922e8",
   "metadata": {},
   "outputs": [],
   "source": [
    "# 7. Rotate Matrix"
   ]
  },
  {
   "cell_type": "code",
   "execution_count": 27,
   "id": "29e4cca1",
   "metadata": {},
   "outputs": [],
   "source": [
    "def rotate(matrix): # O(2(n^2))T / O(1)S\n",
    "    n = len(matrix)\n",
    "\n",
    "    for i in range(n): # O(n^2)T \n",
    "        for j in range(i):\n",
    "            matrix[i][j], matrix[j][i] = matrix[j][i], matrix[i][j]\n",
    "\n",
    "    for row in matrix: # O(n^2)T \n",
    "        left = 0\n",
    "        right = len(row) - 1\n",
    "\n",
    "        while left <= right:\n",
    "            row[left], row[right] = row[right], row[left]\n",
    "            left += 1\n",
    "            right -= 1\n",
    "    \n",
    "    return matrix"
   ]
  },
  {
   "cell_type": "code",
   "execution_count": 28,
   "id": "a5e4ba85",
   "metadata": {},
   "outputs": [],
   "source": [
    "matrix = [[1,2,3],[4,5,6],[7,8,9]]"
   ]
  },
  {
   "cell_type": "code",
   "execution_count": 29,
   "id": "92408486",
   "metadata": {},
   "outputs": [
    {
     "data": {
      "text/plain": [
       "[[7, 4, 1], [8, 5, 2], [9, 6, 3]]"
      ]
     },
     "execution_count": 29,
     "metadata": {},
     "output_type": "execute_result"
    }
   ],
   "source": [
    "rotate(matrix)"
   ]
  },
  {
   "cell_type": "code",
   "execution_count": 30,
   "id": "a2c98589",
   "metadata": {},
   "outputs": [],
   "source": [
    "# 8. Merge Intervals"
   ]
  },
  {
   "cell_type": "code",
   "execution_count": 31,
   "id": "b426a398",
   "metadata": {},
   "outputs": [],
   "source": [
    "def merge(intervals): # O(nlogn + n)T / O(n)S\n",
    "    intervals.sort() # O(nlogn)T\n",
    "\n",
    "    res = [intervals[0]]\n",
    "\n",
    "    for start, end in intervals[1:]: # O(n)T\n",
    "        last = res[-1]\n",
    "\n",
    "        if last[1] >= start:\n",
    "            last[1] = max(last[1], end)\n",
    "        else:\n",
    "            res.append([start, end])\n",
    "\n",
    "    return res"
   ]
  },
  {
   "cell_type": "code",
   "execution_count": 32,
   "id": "db9e82e3",
   "metadata": {},
   "outputs": [],
   "source": [
    "intervals1 = [[1,3],[2,6],[8,10],[15,18]]\n",
    "intervals2 =[[1,4],[2,3]]"
   ]
  },
  {
   "cell_type": "code",
   "execution_count": 33,
   "id": "8c44f09a",
   "metadata": {},
   "outputs": [
    {
     "name": "stdout",
     "output_type": "stream",
     "text": [
      "[[1, 6], [8, 10], [15, 18]]\n",
      "[[1, 4]]\n"
     ]
    }
   ],
   "source": [
    "print(merge(intervals1))\n",
    "print(merge(intervals2))"
   ]
  },
  {
   "cell_type": "code",
   "execution_count": 34,
   "id": "85124cf7",
   "metadata": {},
   "outputs": [],
   "source": [
    "# 9. Merge two sorted arrays without extra space"
   ]
  },
  {
   "cell_type": "code",
   "execution_count": 35,
   "id": "3782edc6",
   "metadata": {},
   "outputs": [],
   "source": [
    "# LeetCode problem no.88\n",
    "def merge1(nums1, m, nums2, n): # O(m+n)T / O(1)S\n",
    "    \"\"\"\n",
    "    Do not return anything, modify nums1 in-place instead.\n",
    "    \"\"\"\n",
    "    a = m - 1\n",
    "    b = n - 1\n",
    "    writeIndex = m + n - 1\n",
    "\n",
    "    while b >= 0:\n",
    "        if a >= 0 and nums1[a] > nums2[b]:\n",
    "            nums1[writeIndex] = nums1[a]\n",
    "            a -= 1\n",
    "        else:\n",
    "            nums1[writeIndex] = nums2[b]\n",
    "            b -= 1\n",
    "\n",
    "        writeIndex -= 1\n",
    "        \n",
    "    print(nums1)\n",
    "\n",
    "# Just the arrays are given\n",
    "def merge2(X, Y): # O(n*m)T / O(1)S\n",
    "    m = len(X)\n",
    "    n = len(Y)\n",
    "    \n",
    "    for i in range(m): \n",
    "        if X[i] > Y[0]:\n",
    "            temp = X[i]\n",
    "            X[i] = Y[0]\n",
    "            Y[0] = temp\n",
    " \n",
    "            first = Y[0]\n",
    "            k = 1\n",
    "        \n",
    "            while k < n and Y[k] < first:\n",
    "                Y[k - 1] = Y[k]\n",
    "                k = k + 1\n",
    " \n",
    "            Y[k - 1] = first\n",
    "    \n",
    "    print(X, Y)"
   ]
  },
  {
   "cell_type": "code",
   "execution_count": 36,
   "id": "cc9ca2eb",
   "metadata": {},
   "outputs": [],
   "source": [
    "nums1 = [1,2,3,0,0,0]\n",
    "m = 3\n",
    "nums2 = [2,5,6]\n",
    "n = 3\n",
    "nums3 = [1,3,5]\n",
    "nums4 = [2,2,4]"
   ]
  },
  {
   "cell_type": "code",
   "execution_count": 37,
   "id": "43a54379",
   "metadata": {},
   "outputs": [
    {
     "name": "stdout",
     "output_type": "stream",
     "text": [
      "[1, 2, 2, 3, 5, 6]\n",
      "-----\n",
      "[1, 2, 2] [3, 4, 5]\n"
     ]
    }
   ],
   "source": [
    "merge1(nums1, m, nums2, n)\n",
    "print('-----')\n",
    "merge2(nums3, nums4)"
   ]
  },
  {
   "cell_type": "code",
   "execution_count": 38,
   "id": "e8f35500",
   "metadata": {},
   "outputs": [],
   "source": [
    "# 10. Find the duplicate in an array of N+1 integers"
   ]
  },
  {
   "cell_type": "code",
   "execution_count": 39,
   "id": "e594bddd",
   "metadata": {},
   "outputs": [],
   "source": [
    "def findDuplicate(nums): # O(n)T / O(1)S\n",
    "    slow = nums[0]\n",
    "    fast = nums[0]\n",
    "\n",
    "    while True:\n",
    "        slow = nums[slow]\n",
    "        fast = nums[nums[fast]]\n",
    "\n",
    "        if slow == fast:\n",
    "            break\n",
    "\n",
    "    fast = nums[0]\n",
    "\n",
    "    while slow != fast:\n",
    "        slow = nums[slow]\n",
    "        fast = nums[fast]\n",
    "\n",
    "    return slow"
   ]
  },
  {
   "cell_type": "code",
   "execution_count": 40,
   "id": "2ab4d5f1",
   "metadata": {},
   "outputs": [],
   "source": [
    "nums1 = [1,3,4,2,2]\n",
    "nums2 = [3,1,3,4,2]"
   ]
  },
  {
   "cell_type": "code",
   "execution_count": 41,
   "id": "27efe6a8",
   "metadata": {},
   "outputs": [
    {
     "name": "stdout",
     "output_type": "stream",
     "text": [
      "2\n",
      "3\n"
     ]
    }
   ],
   "source": [
    "print(findDuplicate(nums1))\n",
    "print(findDuplicate(nums2))"
   ]
  },
  {
   "cell_type": "code",
   "execution_count": 42,
   "id": "6f69b225",
   "metadata": {},
   "outputs": [],
   "source": [
    "# 11. Repeat and Missing Number"
   ]
  },
  {
   "cell_type": "code",
   "execution_count": 43,
   "id": "751ab174",
   "metadata": {},
   "outputs": [],
   "source": [
    "def missingAndRepeating(nums): # O(5n)T / O(1)S\n",
    "    \"\"\"\n",
    "    Logic:\n",
    "    if nums = [4,3,6,2,1,1]\n",
    "    4^3^6^2^1^1 = 3\n",
    "    3 ^ (1^2^3^4^5^6) = 4\n",
    "    x ^ y = 4\n",
    "    find x and y from nums and n+1 array by dividing the elements in these arrays based on right most set bit of x^y\n",
    "    \"\"\"\n",
    "    \n",
    "    n = len(nums)\n",
    "    zor = 0\n",
    "    \n",
    "    for num in nums: # O(n)T\n",
    "        zor ^= num\n",
    "        \n",
    "    for i in range(1, n+1): # O(n)T\n",
    "        zor ^= i\n",
    "    \n",
    "    rmsb = zor & -zor # rightmost set bit of zor\n",
    "    res1 = 0\n",
    "    res2 = 0\n",
    "    \n",
    "    for num in nums: # O(n)T\n",
    "        if num & rmsb > 0:\n",
    "            res1 ^= num\n",
    "        else:\n",
    "            res2 ^= num\n",
    "            \n",
    "    for i in range(1, n+1): # O(n)T\n",
    "        if i & rmsb > 0:\n",
    "            res1 ^= i\n",
    "        else:\n",
    "            res2 ^= i\n",
    "        \n",
    "    # placing missing num in res1 and repeating num in res2\n",
    "    for num in nums: # O(n)T\n",
    "        if res1 == num:\n",
    "            res1, res2 = res2, res1\n",
    "            break\n",
    "            \n",
    "    return res1, res2"
   ]
  },
  {
   "cell_type": "code",
   "execution_count": 44,
   "id": "71224514",
   "metadata": {},
   "outputs": [],
   "source": [
    "nums1 = [4,3,6,2,1,1]\n",
    "nums2 = [4,5,2,9,8,1,1,7,10,3]\n",
    "nums3 = [7,5,3,2,1,6,6]"
   ]
  },
  {
   "cell_type": "code",
   "execution_count": 45,
   "id": "dc2d3612",
   "metadata": {},
   "outputs": [
    {
     "name": "stdout",
     "output_type": "stream",
     "text": [
      "(5, 1)\n",
      "(6, 1)\n",
      "(4, 6)\n"
     ]
    }
   ],
   "source": [
    "print(missingAndRepeating(nums1))\n",
    "print(missingAndRepeating(nums2))\n",
    "print(missingAndRepeating(nums3))"
   ]
  },
  {
   "cell_type": "code",
   "execution_count": 46,
   "id": "89baab5f",
   "metadata": {},
   "outputs": [],
   "source": [
    "# 12. Inversion of Array"
   ]
  },
  {
   "cell_type": "code",
   "execution_count": 47,
   "id": "b4ad310e",
   "metadata": {},
   "outputs": [],
   "source": [
    "class Solution: # O(nlogn)T / O(n)S\n",
    "    def __init__(self):\n",
    "        self.count = 0\n",
    "        \n",
    "    def countInversions(self, nums):\n",
    "        self.mergeSort(nums)\n",
    "        \n",
    "        return self.count\n",
    "    \n",
    "    def mergeSort(self, nums):\n",
    "        if len(nums) > 1:\n",
    "            midVal = len(nums) // 2\n",
    "            leftList = nums[:midVal]\n",
    "            rightList = nums[midVal:]\n",
    "            self.mergeSort(leftList)\n",
    "            self.mergeSort(rightList)\n",
    "            self.doMerge(nums, leftList, rightList)\n",
    "    \n",
    "    def doMerge(self, nums, left, right):\n",
    "        i = j = k = 0\n",
    "        \n",
    "        while i < len(left) and j < len(right):\n",
    "            if left[i] <= right[j]:\n",
    "                nums[k] = left[i]\n",
    "                i += 1\n",
    "            else:\n",
    "                nums[k] = right[j]\n",
    "                self.count += (len(left) - i) # counting the inversion\n",
    "                j += 1\n",
    "                \n",
    "            k += 1\n",
    "            \n",
    "        while i < len(left):\n",
    "            nums[k] = left[i]\n",
    "            i += 1\n",
    "            k += 1\n",
    "            \n",
    "        while j < len(right):\n",
    "            nums[k] = right[j]\n",
    "            j += 1\n",
    "            k += 1"
   ]
  },
  {
   "cell_type": "code",
   "execution_count": 48,
   "id": "52b91820",
   "metadata": {},
   "outputs": [],
   "source": [
    "nums1 = [8,4,2,1]\n",
    "nums2 = [2,5,1,3,4]\n",
    "nums3 = [5,3,2,4,1]"
   ]
  },
  {
   "cell_type": "code",
   "execution_count": 49,
   "id": "6d69bdd2",
   "metadata": {},
   "outputs": [
    {
     "name": "stdout",
     "output_type": "stream",
     "text": [
      "6\n",
      "4\n",
      "8\n"
     ]
    }
   ],
   "source": [
    "print(Solution().countInversions(nums1))\n",
    "print(Solution().countInversions(nums2))\n",
    "print(Solution().countInversions(nums3))"
   ]
  },
  {
   "cell_type": "markdown",
   "id": "b6227b6f",
   "metadata": {},
   "source": [
    "# Day 3: Arrays Part 3"
   ]
  },
  {
   "cell_type": "code",
   "execution_count": 50,
   "id": "79e6268f",
   "metadata": {},
   "outputs": [],
   "source": [
    "# 13. Search in a 2d Matrix"
   ]
  },
  {
   "cell_type": "code",
   "execution_count": 51,
   "id": "bdf2dd6f",
   "metadata": {},
   "outputs": [],
   "source": [
    "# Approach 1\n",
    "def searchMatrix1(matrix, target): # O(n+m)T / O(1)S\n",
    "    i = 0\n",
    "    j = len(matrix[0]) - 1\n",
    "\n",
    "    while i < len(matrix) and j >= 0:\n",
    "        if matrix[i][j] == target:\n",
    "            return True\n",
    "        elif matrix[i][j] <= target:\n",
    "            i += 1\n",
    "        else:\n",
    "            j -= 1\n",
    "\n",
    "    return False\n",
    "\n",
    "# Approach 2: Bianry Search\n",
    "def searchMatrix2(matrix, target): # O(log(n*m))T / O(1)S\n",
    "    n = len(matrix)\n",
    "    m = len(matrix[0])\n",
    "\n",
    "    low = 0\n",
    "    high = (n * m) - 1\n",
    "\n",
    "    while low <= high:\n",
    "        mid = (low + high) // 2\n",
    "        i = mid // m\n",
    "        j = mid % m\n",
    "\n",
    "        if matrix[i][j] == target:\n",
    "            return True\n",
    "        elif matrix[i][j] < target:\n",
    "            low = mid + 1\n",
    "        else:\n",
    "            high = mid - 1\n",
    "\n",
    "    return False"
   ]
  },
  {
   "cell_type": "code",
   "execution_count": 52,
   "id": "8820a7e8",
   "metadata": {},
   "outputs": [],
   "source": [
    "matrix = [[1,3,5,7],[10,11,16,20],[23,30,34,60]]\n",
    "target1 = 3\n",
    "target2 = 13"
   ]
  },
  {
   "cell_type": "code",
   "execution_count": 53,
   "id": "20e4e85b",
   "metadata": {},
   "outputs": [
    {
     "name": "stdout",
     "output_type": "stream",
     "text": [
      "True\n",
      "False\n",
      "-----\n",
      "True\n",
      "False\n"
     ]
    }
   ],
   "source": [
    "print(searchMatrix1(matrix, target1))\n",
    "print(searchMatrix1(matrix, target2))\n",
    "print('-----')\n",
    "print(searchMatrix2(matrix, target1))\n",
    "print(searchMatrix2(matrix, target2))"
   ]
  },
  {
   "cell_type": "code",
   "execution_count": 54,
   "id": "b55f8216",
   "metadata": {},
   "outputs": [],
   "source": [
    "# 14. Pow(x, n)"
   ]
  },
  {
   "cell_type": "code",
   "execution_count": 55,
   "id": "9e4d81c7",
   "metadata": {},
   "outputs": [],
   "source": [
    "def myPow(x, n): # O(logn)T / O(1)S\n",
    "    ans = 1\n",
    "    nn = n if n >= 0 else (-1 * n)\n",
    "\n",
    "    while nn > 0:\n",
    "        if nn % 2:\n",
    "            ans *= x\n",
    "            nn -= 1\n",
    "        else:\n",
    "            x *= x\n",
    "            nn /= 2\n",
    "\n",
    "    if n < 0:\n",
    "        ans = 1 / ans\n",
    "\n",
    "    return ans"
   ]
  },
  {
   "cell_type": "code",
   "execution_count": 56,
   "id": "8745d3a5",
   "metadata": {},
   "outputs": [],
   "source": [
    "x1, n1 = 2.10000, 3\n",
    "x2, n2 = 2.00000, -2"
   ]
  },
  {
   "cell_type": "code",
   "execution_count": 57,
   "id": "1cd7333d",
   "metadata": {},
   "outputs": [
    {
     "name": "stdout",
     "output_type": "stream",
     "text": [
      "9.261000000000001\n",
      "0.25\n"
     ]
    }
   ],
   "source": [
    "print(myPow(x1, n1))\n",
    "print(myPow(x2, n2))"
   ]
  },
  {
   "cell_type": "code",
   "execution_count": 58,
   "id": "ab83bb0a",
   "metadata": {},
   "outputs": [],
   "source": [
    "# 15. Majority Element(>N/2 times)"
   ]
  },
  {
   "cell_type": "code",
   "execution_count": 59,
   "id": "97b50ca8",
   "metadata": {},
   "outputs": [],
   "source": [
    "def majorityElement1(nums): # O(n)T / O(1)S\n",
    "    count = 0\n",
    "    candidate = 0\n",
    "\n",
    "    for num in nums: \n",
    "        if not count:\n",
    "            candidate = num\n",
    "\n",
    "        if num == candidate:\n",
    "            count += 1\n",
    "        else:\n",
    "            count -= 1\n",
    "\n",
    "    return candidate"
   ]
  },
  {
   "cell_type": "code",
   "execution_count": 60,
   "id": "bff322bc",
   "metadata": {},
   "outputs": [],
   "source": [
    "nums1 = [3,2,3]\n",
    "nums2 = [2,2,1,1,1,2,2]"
   ]
  },
  {
   "cell_type": "code",
   "execution_count": 61,
   "id": "661b92dd",
   "metadata": {},
   "outputs": [
    {
     "name": "stdout",
     "output_type": "stream",
     "text": [
      "3\n",
      "2\n"
     ]
    }
   ],
   "source": [
    "print(majorityElement1(nums1))\n",
    "print(majorityElement1(nums2))"
   ]
  },
  {
   "cell_type": "code",
   "execution_count": 62,
   "id": "023eb647",
   "metadata": {},
   "outputs": [],
   "source": [
    "# 16. Majority Element(>N/3 times)"
   ]
  },
  {
   "cell_type": "code",
   "execution_count": 63,
   "id": "c98089c0",
   "metadata": {},
   "outputs": [],
   "source": [
    "def majorityElement2(nums): # O(2n)T / O(1)S\n",
    "    n1 = n2 = -1 # number\n",
    "    c1 = c2 = 0 # count\n",
    "    ln = len(nums)\n",
    "\n",
    "    for num in nums: # O(n)T\n",
    "        if num == n1:\n",
    "            c1 += 1\n",
    "        elif num == n2:\n",
    "            c2 += 1\n",
    "        elif c1 == 0:\n",
    "            n1 = num\n",
    "            c1 += 1\n",
    "        elif c2 == 0:\n",
    "            n2 = num\n",
    "            c2 += 1\n",
    "        else:\n",
    "            c1 -= 1\n",
    "            c2 -= 1\n",
    "\n",
    "    c1 = c2 = 0\n",
    "    ans = []\n",
    "\n",
    "    for num in nums: # O(n)T\n",
    "        if num == n1:\n",
    "            c1 += 1\n",
    "        elif num == n2:\n",
    "            c2 += 1\n",
    "\n",
    "    if c1 > ln // 3:\n",
    "        ans.append(n1)\n",
    "    if c2 > ln // 3:\n",
    "        ans.append(n2)\n",
    "\n",
    "    return ans"
   ]
  },
  {
   "cell_type": "code",
   "execution_count": 64,
   "id": "c556c255",
   "metadata": {},
   "outputs": [],
   "source": [
    "nums1 = [3,2,3]\n",
    "nums2 = [1,5]\n",
    "nums3 = [1,1,1,3,3,2,2,2]"
   ]
  },
  {
   "cell_type": "code",
   "execution_count": 65,
   "id": "64d9248b",
   "metadata": {},
   "outputs": [
    {
     "name": "stdout",
     "output_type": "stream",
     "text": [
      "[3]\n",
      "[1, 5]\n",
      "[1, 2]\n"
     ]
    }
   ],
   "source": [
    "print(majorityElement2(nums1))\n",
    "print(majorityElement2(nums2))\n",
    "print(majorityElement2(nums3))"
   ]
  },
  {
   "cell_type": "code",
   "execution_count": 66,
   "id": "c3110bf3",
   "metadata": {},
   "outputs": [],
   "source": [
    "# 17. Grid Unique Paths"
   ]
  },
  {
   "cell_type": "code",
   "execution_count": 67,
   "id": "70ec8ef5",
   "metadata": {},
   "outputs": [],
   "source": [
    "# Approach 1: Recursion with Memoization\n",
    "def uniquePaths1(m, n): # O(n*m)T / O(n*m)S\n",
    "    return recurse(0, 0, m, n, {})\n",
    "\n",
    "def recurse(i, j, m, n, mem):\n",
    "    if (i, j) in mem:\n",
    "        return mem[(i, j)]\n",
    "\n",
    "    if i == m-1 and j == n-1:\n",
    "        return 1\n",
    "\n",
    "    if i >= m or j >= n:\n",
    "        return 0\n",
    "\n",
    "    mem[(i, j)] = recurse(i + 1, j, m, n, mem) + recurse(i, j + 1, m, n, mem)\n",
    "\n",
    "    return mem[(i, j)]\n",
    "\n",
    "# Approach 2: Combination\n",
    "def uniquePaths2(m, n): # O(m-1 or n-1)T / O(1)S\n",
    "    N = m + n - 2 # total steps needed to reach from top left to bottom right is (m - 1) + (n - 1)\n",
    "    r = m - 1 # can also use (n - 1)\n",
    "    res = 1\n",
    "    \n",
    "    # nCr value for N and r is calculated in the below for-loop\n",
    "    for i in range(1, r + 1):\n",
    "        res = res * (N - r + i) // i\n",
    "\n",
    "    return res"
   ]
  },
  {
   "cell_type": "code",
   "execution_count": 68,
   "id": "b0f4f4a9",
   "metadata": {},
   "outputs": [],
   "source": [
    "m1, n1 = 3, 7\n",
    "m2, n2 = 3, 2\n",
    "m3, n3 = 10, 10"
   ]
  },
  {
   "cell_type": "code",
   "execution_count": 69,
   "id": "150d86d5",
   "metadata": {},
   "outputs": [
    {
     "name": "stdout",
     "output_type": "stream",
     "text": [
      "28\n",
      "3\n",
      "48620\n",
      "-----\n",
      "28\n",
      "3\n",
      "48620\n"
     ]
    }
   ],
   "source": [
    "print(uniquePaths1(m1, n1))\n",
    "print(uniquePaths1(m2, n2))\n",
    "print(uniquePaths1(m3, n3))\n",
    "print('-----')\n",
    "print(uniquePaths2(m1, n1))\n",
    "print(uniquePaths2(m2, n2))\n",
    "print(uniquePaths2(m3, n3))"
   ]
  },
  {
   "cell_type": "code",
   "execution_count": 70,
   "id": "cb0258fd",
   "metadata": {},
   "outputs": [],
   "source": [
    "# 18. Reverse Pairs"
   ]
  },
  {
   "cell_type": "code",
   "execution_count": 71,
   "id": "97ee161e",
   "metadata": {},
   "outputs": [],
   "source": [
    "class Solution: # O(nlogn + n)T / O(n)S\n",
    "    def __init__(self):\n",
    "        self.count = 0\n",
    "        \n",
    "    def reversePairs(self, nums):\n",
    "        self.mergeSort(nums)\n",
    "        return self.count\n",
    "    \n",
    "    def mergeSort(self, nums):\n",
    "        if len(nums) > 1:\n",
    "            midVal = len(nums) // 2\n",
    "            leftList = nums[:midVal]\n",
    "            rightList = nums[midVal:]\n",
    "            self.mergeSort(leftList)\n",
    "            self.mergeSort(rightList)\n",
    "            self.doMerge(nums, leftList, rightList)\n",
    "            \n",
    "    def doMerge(self, nums, left, right):\n",
    "        # counting reverse pairs, this runs at max O(n)T\n",
    "        j = 0\n",
    "        \n",
    "        for i in range(len(left)):\n",
    "            while j < len(right) and left[i] > (2 * right[j]):\n",
    "                j += 1\n",
    "                \n",
    "            self.count += j \n",
    "         \n",
    "        # merge steps as in normal mergesort\n",
    "        i = j = k = 0\n",
    "\n",
    "        while i < len(left) and j < len(right):\n",
    "            if left[i] <= right[j]:\n",
    "                nums[k] = left[i]\n",
    "                i += 1\n",
    "            else:\n",
    "                nums[k] = right[j]\n",
    "                j += 1\n",
    "\n",
    "            k += 1\n",
    "\n",
    "        while i < len(left):\n",
    "            nums[k] = left[i]\n",
    "            i += 1\n",
    "            k += 1\n",
    "\n",
    "        while j < len(right):\n",
    "            nums[k] = right[j]\n",
    "            j += 1\n",
    "            k += 1"
   ]
  },
  {
   "cell_type": "code",
   "execution_count": 72,
   "id": "ef541a1d",
   "metadata": {},
   "outputs": [],
   "source": [
    "nums1 = [1,3,2,3,1]\n",
    "nums2 = [2,4,3,5,1]\n",
    "nums3 = [40,25,19,12,9,6,2]"
   ]
  },
  {
   "cell_type": "code",
   "execution_count": 73,
   "id": "16a4ab3e",
   "metadata": {},
   "outputs": [
    {
     "name": "stdout",
     "output_type": "stream",
     "text": [
      "2\n",
      "3\n",
      "15\n"
     ]
    }
   ],
   "source": [
    "print(Solution().reversePairs(nums1))\n",
    "print(Solution().reversePairs(nums2))\n",
    "print(Solution().reversePairs(nums3))"
   ]
  },
  {
   "cell_type": "markdown",
   "id": "01d30506",
   "metadata": {},
   "source": [
    "# Day 4: Arrays Part 4"
   ]
  },
  {
   "cell_type": "code",
   "execution_count": 74,
   "id": "67d31fdf",
   "metadata": {},
   "outputs": [],
   "source": [
    "# 19. 2 Sum Problem"
   ]
  },
  {
   "cell_type": "code",
   "execution_count": 75,
   "id": "f2b5a601",
   "metadata": {},
   "outputs": [],
   "source": [
    "def twoSum(nums, target): # O(n)T / O(n)S\n",
    "    tab = {}\n",
    "\n",
    "    for i in range(len(nums)):\n",
    "        rem = target - nums[i]\n",
    "\n",
    "        if rem in tab:\n",
    "            return [tab[rem], i]\n",
    "\n",
    "        tab[nums[i]] = i\n",
    "\n",
    "    return [-1,-1]"
   ]
  },
  {
   "cell_type": "code",
   "execution_count": 76,
   "id": "cb4bc025",
   "metadata": {},
   "outputs": [],
   "source": [
    "nums1, target1 = [2,7,11,15], 9\n",
    "nums2, target2 = [2,6,5,8,11], 14"
   ]
  },
  {
   "cell_type": "code",
   "execution_count": 77,
   "id": "a6b1b5fc",
   "metadata": {},
   "outputs": [
    {
     "name": "stdout",
     "output_type": "stream",
     "text": [
      "[0, 1]\n",
      "[1, 3]\n"
     ]
    }
   ],
   "source": [
    "print(twoSum(nums1, target1))\n",
    "print(twoSum(nums2, target2))"
   ]
  },
  {
   "cell_type": "code",
   "execution_count": 78,
   "id": "25f66d7b",
   "metadata": {},
   "outputs": [],
   "source": [
    "# 20. 4 Sum Problem"
   ]
  },
  {
   "cell_type": "code",
   "execution_count": 79,
   "id": "27b4c18f",
   "metadata": {},
   "outputs": [],
   "source": [
    "def fourSum(nums, target): # O(n^3 + nlogn)T / O(1)S\n",
    "    res = []\n",
    "    n = len(nums)\n",
    "    nums.sort() # O(nlogn)T\n",
    "\n",
    "    for i in range(n): # O(n)T\n",
    "        if i > 0 and nums[i] == nums[i - 1]:\n",
    "            continue\n",
    "\n",
    "        for j in range(i + 1, n): # O(n)T\n",
    "            if j > i + 1 and nums[j] == nums[j - 1]:\n",
    "                continue\n",
    "\n",
    "            target2 = target - nums[i] - nums[j]\n",
    "            front = j + 1\n",
    "            back = n - 1\n",
    "\n",
    "            while front < back: # O(n)T\n",
    "                twoSum = nums[front] + nums[back]\n",
    "\n",
    "                if twoSum < target2:\n",
    "                    front += 1\n",
    "                elif twoSum > target2:\n",
    "                    back -= 1\n",
    "                else:\n",
    "                    quad = [nums[i], nums[j], nums[front], nums[back]]\n",
    "                    res.append(quad)\n",
    "\n",
    "                    while front < back and nums[front] == quad[2]:\n",
    "                        front += 1\n",
    "\n",
    "                    while front < back and nums[back] == quad[3]:\n",
    "                        back -= 1\n",
    "\n",
    "    return res   "
   ]
  },
  {
   "cell_type": "code",
   "execution_count": 80,
   "id": "11c0858a",
   "metadata": {},
   "outputs": [],
   "source": [
    "nums1, target1 = [1,0,-1,0,-2,2], 0\n",
    "nums2, target2 = [2,2,2,2,2], 8"
   ]
  },
  {
   "cell_type": "code",
   "execution_count": 81,
   "id": "66dc821e",
   "metadata": {},
   "outputs": [
    {
     "name": "stdout",
     "output_type": "stream",
     "text": [
      "[[-2, -1, 1, 2], [-2, 0, 0, 2], [-1, 0, 0, 1]]\n",
      "[[2, 2, 2, 2]]\n"
     ]
    }
   ],
   "source": [
    "print(fourSum(nums1, target1))\n",
    "print(fourSum(nums2, target2))"
   ]
  },
  {
   "cell_type": "code",
   "execution_count": 82,
   "id": "93bea8ce",
   "metadata": {},
   "outputs": [],
   "source": [
    "# 21. Longest Consecutive Sequence"
   ]
  },
  {
   "cell_type": "code",
   "execution_count": 83,
   "id": "1f44e71c",
   "metadata": {},
   "outputs": [],
   "source": [
    "def longestConsecutive(nums): # O(2n)T / O(n)S\n",
    "    s, longest = set(nums), 0\n",
    "\n",
    "    for num in s: # O(n)T\n",
    "        if num - 1 in s: \n",
    "            continue\n",
    "\n",
    "        cur = num\n",
    "        j = 1\n",
    "\n",
    "        # The below while loop runs at max O(n)T\n",
    "        while cur + 1 in s: \n",
    "            cur += 1\n",
    "            j += 1\n",
    "\n",
    "        longest = max(longest, j)\n",
    "\n",
    "    return longest"
   ]
  },
  {
   "cell_type": "code",
   "execution_count": 84,
   "id": "a5776ecd",
   "metadata": {},
   "outputs": [],
   "source": [
    "nums1 = [100,4,200,1,3,2]\n",
    "nums2 = [0,3,7,2,5,8,4,6,0,1]"
   ]
  },
  {
   "cell_type": "code",
   "execution_count": 85,
   "id": "0ed3866d",
   "metadata": {},
   "outputs": [
    {
     "name": "stdout",
     "output_type": "stream",
     "text": [
      "4\n",
      "9\n"
     ]
    }
   ],
   "source": [
    "print(longestConsecutive(nums1))\n",
    "print(longestConsecutive(nums2))"
   ]
  },
  {
   "cell_type": "code",
   "execution_count": 86,
   "id": "abd794c4",
   "metadata": {},
   "outputs": [],
   "source": [
    "# 22. Largest Subarray with 0 Sum"
   ]
  },
  {
   "cell_type": "code",
   "execution_count": 87,
   "id": "c11a6a14",
   "metadata": {},
   "outputs": [],
   "source": [
    "def maxLen(nums): # O(n)T / O(n)S\n",
    "    tab = {}\n",
    "    curSum = 0\n",
    "    maxLen = 0\n",
    "    \n",
    "    for i in range(len(nums)):\n",
    "        num = nums[i]\n",
    "        curSum += num \n",
    "        \n",
    "        if curSum == 0:\n",
    "            maxLen = i + 1\n",
    "        else:    \n",
    "            if curSum in tab:\n",
    "                maxLen = max(maxLen, i - tab[curSum])\n",
    "            else:\n",
    "                tab[curSum] = i\n",
    "            \n",
    "    return maxLen"
   ]
  },
  {
   "cell_type": "code",
   "execution_count": 88,
   "id": "29497c4b",
   "metadata": {},
   "outputs": [],
   "source": [
    "nums1 = [15,-2,2,-8,1,7,10,23]\n",
    "nums2 = [1,3,-1,4,-4]\n",
    "nums3 = [1,-1,2,-2]"
   ]
  },
  {
   "cell_type": "code",
   "execution_count": 89,
   "id": "f995b913",
   "metadata": {},
   "outputs": [
    {
     "name": "stdout",
     "output_type": "stream",
     "text": [
      "5\n",
      "2\n",
      "4\n"
     ]
    }
   ],
   "source": [
    "print(maxLen(nums1))\n",
    "print(maxLen(nums2))\n",
    "print(maxLen(nums3))"
   ]
  },
  {
   "cell_type": "code",
   "execution_count": 90,
   "id": "f2d09abe",
   "metadata": {},
   "outputs": [],
   "source": [
    "# 23. Count number of subarrays with XOR as given K"
   ]
  },
  {
   "cell_type": "code",
   "execution_count": 91,
   "id": "b6a489cb",
   "metadata": {},
   "outputs": [],
   "source": [
    "def subarraysXor(nums, k): # O(n)T / O(n)S\n",
    "    tab = {}\n",
    "    xor = 0\n",
    "    count = 0\n",
    "    \n",
    "    for num in nums:\n",
    "        xor = xor ^ num \n",
    "        \n",
    "        if xor == k:\n",
    "            count += 1\n",
    "            \n",
    "        y = xor ^ k\n",
    "        \n",
    "        if y in tab:\n",
    "            count += tab[y]\n",
    "        \n",
    "        if xor in tab:\n",
    "            tab[xor] += 1\n",
    "        else:\n",
    "            tab[xor] = 1\n",
    "            \n",
    "    return count"
   ]
  },
  {
   "cell_type": "code",
   "execution_count": 92,
   "id": "a62bd3d9",
   "metadata": {},
   "outputs": [],
   "source": [
    "nums1, k1 = [4,2,2,6,4], 6\n",
    "nums2, k2 = [5,6,7,8,9], 5 \n",
    "nums3, k3 = [5,2,9], 7"
   ]
  },
  {
   "cell_type": "code",
   "execution_count": 93,
   "id": "40c7cb91",
   "metadata": {},
   "outputs": [
    {
     "name": "stdout",
     "output_type": "stream",
     "text": [
      "4\n",
      "2\n",
      "1\n"
     ]
    }
   ],
   "source": [
    "print(subarraysXor(nums1, k1))\n",
    "print(subarraysXor(nums2, k2))\n",
    "print(subarraysXor(nums3, k3))"
   ]
  },
  {
   "cell_type": "code",
   "execution_count": 94,
   "id": "b8d006fc",
   "metadata": {},
   "outputs": [],
   "source": [
    "# 24. Longest Substring Without Repeat"
   ]
  },
  {
   "cell_type": "code",
   "execution_count": 95,
   "id": "b0554c22",
   "metadata": {},
   "outputs": [],
   "source": [
    "def lengthOfLongestSubstring(s): # O(n)T / O(n)S\n",
    "    lastSeen = {}\n",
    "    startIdx = 0\n",
    "    res = 0\n",
    "\n",
    "    for i in range(len(s)):\n",
    "        char = s[i]\n",
    "\n",
    "        if char in lastSeen:\n",
    "            startIdx = max(lastSeen[char] + 1, startIdx)\n",
    "\n",
    "        lastSeen[char] = i\n",
    "        res = max(res, i - startIdx + 1)\n",
    "\n",
    "    return res"
   ]
  },
  {
   "cell_type": "code",
   "execution_count": 96,
   "id": "0fca7e76",
   "metadata": {},
   "outputs": [],
   "source": [
    "s1 = 'abcabcbb'\n",
    "s2 = 'bbbb'\n",
    "s3 = 'abba'"
   ]
  },
  {
   "cell_type": "code",
   "execution_count": 97,
   "id": "1f34543d",
   "metadata": {},
   "outputs": [
    {
     "name": "stdout",
     "output_type": "stream",
     "text": [
      "3\n",
      "1\n",
      "2\n"
     ]
    }
   ],
   "source": [
    "print(lengthOfLongestSubstring(s1))\n",
    "print(lengthOfLongestSubstring(s2))\n",
    "print(lengthOfLongestSubstring(s3))"
   ]
  },
  {
   "cell_type": "markdown",
   "id": "aecb61d9",
   "metadata": {},
   "source": [
    "# Day 5: Linked List"
   ]
  },
  {
   "cell_type": "code",
   "execution_count": 98,
   "id": "34153ee4",
   "metadata": {},
   "outputs": [],
   "source": [
    "# 25. Reverse a Linked List"
   ]
  },
  {
   "cell_type": "code",
   "execution_count": 99,
   "id": "3e29c1a5",
   "metadata": {},
   "outputs": [],
   "source": [
    "def reverseList(head): # O(n)T / O(1)S\n",
    "    if not head or not head.next:\n",
    "        return head\n",
    "\n",
    "    prev = None\n",
    "    cur = head\n",
    "\n",
    "    while cur:\n",
    "        nxt = cur.next\n",
    "        cur.next = prev\n",
    "        prev = cur\n",
    "        cur = nxt\n",
    "\n",
    "    return prev"
   ]
  },
  {
   "cell_type": "code",
   "execution_count": 100,
   "id": "0cba9c0c",
   "metadata": {},
   "outputs": [],
   "source": [
    "# 26. Find the middle of Linked List"
   ]
  },
  {
   "cell_type": "code",
   "execution_count": 101,
   "id": "59dc468d",
   "metadata": {},
   "outputs": [],
   "source": [
    "def middleNode(head): # O(n/2)T / O(1)S\n",
    "    slow = head\n",
    "    fast = head\n",
    "\n",
    "    while fast and fast.next:\n",
    "        slow = slow.next\n",
    "        fast = fast.next.next\n",
    "\n",
    "    return slow"
   ]
  },
  {
   "cell_type": "code",
   "execution_count": 102,
   "id": "b19a26e6",
   "metadata": {},
   "outputs": [],
   "source": [
    "# 27. Merge two sorted Linked Lists"
   ]
  },
  {
   "cell_type": "code",
   "execution_count": 103,
   "id": "bd9fae60",
   "metadata": {},
   "outputs": [],
   "source": [
    "def mergeTwoLists(l1, l2): # O(n1 + n2)T / O(1)S\n",
    "    if not l1:\n",
    "        return l2\n",
    "\n",
    "    if not l2:\n",
    "        return l1\n",
    "\n",
    "    if l1.val > l2.val:\n",
    "        l1, l2 = l2, l1\n",
    "\n",
    "    res = l1\n",
    "\n",
    "    while l1 and l2:\n",
    "        temp = None\n",
    "\n",
    "        while l1 and l1.val <= l2.val:\n",
    "            temp = l1\n",
    "            l1 = l1.next\n",
    "\n",
    "        temp.next = l2 \n",
    "\n",
    "        l1, l2 = l2, l1\n",
    "\n",
    "    return res"
   ]
  },
  {
   "cell_type": "code",
   "execution_count": 104,
   "id": "22a13d1b",
   "metadata": {},
   "outputs": [],
   "source": [
    "# 28. Remove N-th node from back of Linked List"
   ]
  },
  {
   "cell_type": "code",
   "execution_count": 105,
   "id": "1586219f",
   "metadata": {},
   "outputs": [],
   "source": [
    "def removeNthFromEnd(head, n): # O(n)T / O(1)S\n",
    "    start = ListNode()\n",
    "    start.next = head\n",
    "    fast = slow = start\n",
    "\n",
    "    for i in range(n):\n",
    "        fast = fast.next\n",
    "\n",
    "    while fast.next:\n",
    "        fast = fast.next\n",
    "        slow = slow.next\n",
    "\n",
    "    slow.next = slow.next.next\n",
    "\n",
    "    return start.next"
   ]
  },
  {
   "cell_type": "code",
   "execution_count": 106,
   "id": "e1870d03",
   "metadata": {},
   "outputs": [],
   "source": [
    "# 29. Add two numbers as LinkedList"
   ]
  },
  {
   "cell_type": "code",
   "execution_count": 107,
   "id": "8bf2404c",
   "metadata": {},
   "outputs": [],
   "source": [
    "def addTwoNumbers(l1, l2): # O(max(n1, n2))T / O(n)S\n",
    "    dummy = node = ListNode()\n",
    "    carry = 0\n",
    "\n",
    "    while l1 or l2 or carry:\n",
    "        curSum = 0\n",
    "            \n",
    "        if l1:\n",
    "            curSum += l1.val\n",
    "            l1 = l1.next\n",
    "\n",
    "        if l2:\n",
    "            curSum += l2.val\n",
    "            l2 = l2.next\n",
    "\n",
    "        curSum += carry\n",
    "\n",
    "        carry = curSum // 10\n",
    "\n",
    "        node.next = ListNode(curSum % 10)\n",
    "        node = node.next\n",
    "\n",
    "    return dummy.next"
   ]
  },
  {
   "cell_type": "code",
   "execution_count": 108,
   "id": "b032758b",
   "metadata": {},
   "outputs": [],
   "source": [
    "# 30. Delete the given Node when the Node is given"
   ]
  },
  {
   "cell_type": "code",
   "execution_count": 109,
   "id": "5af53c41",
   "metadata": {},
   "outputs": [],
   "source": [
    "def deleteNode(node): # O(1)T / O(1)S\n",
    "    node.val = node.next.val\n",
    "    node.next = node.next.next"
   ]
  },
  {
   "cell_type": "code",
   "execution_count": null,
   "id": "010aa41c",
   "metadata": {},
   "outputs": [],
   "source": []
  }
 ],
 "metadata": {
  "kernelspec": {
   "display_name": "Python 3 (ipykernel)",
   "language": "python",
   "name": "python3"
  },
  "language_info": {
   "codemirror_mode": {
    "name": "ipython",
    "version": 3
   },
   "file_extension": ".py",
   "mimetype": "text/x-python",
   "name": "python",
   "nbconvert_exporter": "python",
   "pygments_lexer": "ipython3",
   "version": "3.10.0"
  }
 },
 "nbformat": 4,
 "nbformat_minor": 5
}
