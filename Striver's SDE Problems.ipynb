{
 "cells": [
  {
   "cell_type": "markdown",
   "id": "025f2eb3",
   "metadata": {},
   "source": [
    "# Striver’s SDE Sheet – Top Coding Interview Problems\n",
    "\n",
    "https://takeuforward.org/interviews/strivers-sde-sheet-top-coding-interview-problems/"
   ]
  },
  {
   "cell_type": "markdown",
   "id": "dc8ab4a5",
   "metadata": {},
   "source": [
    "# Day 1: Arrays"
   ]
  },
  {
   "cell_type": "code",
   "execution_count": 1,
   "id": "e79c0703",
   "metadata": {},
   "outputs": [],
   "source": [
    "# 1. Set Matrix Zeroes"
   ]
  },
  {
   "cell_type": "code",
   "execution_count": 2,
   "id": "be513178",
   "metadata": {},
   "outputs": [],
   "source": [
    "def setZeroes(matrix): # O(2(n*m))T / O(1)S\n",
    "    \"\"\"\n",
    "    Do not return anything, modify matrix in-place instead.\n",
    "    \"\"\"\n",
    "    R = len(matrix)\n",
    "    C = len(matrix[0])\n",
    "    isCol = False\n",
    "\n",
    "    for i in range(R): # O(n*m)T\n",
    "        if matrix[i][0] == 0:\n",
    "            isCol = True\n",
    "\n",
    "        for j in range(1, C):    \n",
    "            if matrix[i][j] == 0:\n",
    "                matrix[i][0] = 0\n",
    "                matrix[0][j] = 0\n",
    "\n",
    "    for i in range(1, R): # O(n*m)T\n",
    "        for j in range(1, C):\n",
    "            if not matrix[i][0] or not matrix[0][j]:\n",
    "                matrix[i][j] = 0\n",
    "\n",
    "    if matrix[0][0] == 0: # O(m)T\n",
    "        for j in range(C):\n",
    "            matrix[0][j] = 0\n",
    "\n",
    "    if isCol: # O(n)T\n",
    "        for i in range(R):\n",
    "            matrix[i][0] = 0\n",
    "\n",
    "    print(matrix)"
   ]
  },
  {
   "cell_type": "code",
   "execution_count": 3,
   "id": "634611fb",
   "metadata": {},
   "outputs": [],
   "source": [
    "matrix1 = [[1,1,1],[1,0,1],[1,1,1]]\n",
    "matrix2 = [[0,1,2,0],[3,4,5,2],[1,3,1,5]]"
   ]
  },
  {
   "cell_type": "code",
   "execution_count": 4,
   "id": "d8c2e1cd",
   "metadata": {},
   "outputs": [
    {
     "name": "stdout",
     "output_type": "stream",
     "text": [
      "[[1, 0, 1], [0, 0, 0], [1, 0, 1]]\n",
      "[[0, 0, 0, 0], [0, 4, 5, 0], [0, 3, 1, 0]]\n"
     ]
    }
   ],
   "source": [
    "setZeroes(matrix1)\n",
    "setZeroes(matrix2)"
   ]
  },
  {
   "cell_type": "code",
   "execution_count": 5,
   "id": "44b2cd7b",
   "metadata": {},
   "outputs": [],
   "source": [
    "# 2. Pascal's Triangle"
   ]
  },
  {
   "cell_type": "code",
   "execution_count": 6,
   "id": "9d75d791",
   "metadata": {},
   "outputs": [],
   "source": [
    "# to generate all rows\n",
    "def generate1(numRows): # O(2(n^2))T / O(n^2)S\n",
    "    pascal = [[1]*(i+1) for i in range(numRows)] # O(n^2)T\n",
    "        \n",
    "    for i in range(numRows): # O(n^2)T\n",
    "        for j in range(1, i):\n",
    "            pascal[i][j] = pascal[i-1][j-1] + pascal[i-1][j]\n",
    "\n",
    "    return pascal\n",
    "\n",
    "#-----------------------------------\n",
    "\n",
    "# to generate given row\n",
    "def generate2(n): # O(n)T / O(n)S\n",
    "    pascal = [1]\n",
    "    res = 1\n",
    "    for i in range(n):\n",
    "        res *= n - i\n",
    "        res //= i + 1\n",
    "        pascal.append(res)\n",
    "        \n",
    "    return pascal\n",
    "\n",
    "#-----------------------------------\n",
    "      \n",
    "# to generate given column in given row\n",
    "def generate3(n, c): # O(c)T / O(1)S\n",
    "    res = 1\n",
    "    for i in range(c):\n",
    "        res *= n - i\n",
    "        res //= i + 1\n",
    "        \n",
    "    return res"
   ]
  },
  {
   "cell_type": "code",
   "execution_count": 7,
   "id": "8322703b",
   "metadata": {},
   "outputs": [
    {
     "name": "stdout",
     "output_type": "stream",
     "text": [
      "[[1]]\n",
      "[[1], [1, 1], [1, 2, 1], [1, 3, 3, 1], [1, 4, 6, 4, 1]]\n"
     ]
    }
   ],
   "source": [
    "print(generate1(1))\n",
    "print(generate1(5))"
   ]
  },
  {
   "cell_type": "code",
   "execution_count": 8,
   "id": "f6d26941",
   "metadata": {},
   "outputs": [
    {
     "name": "stdout",
     "output_type": "stream",
     "text": [
      "[1]\n",
      "[1, 2, 1]\n",
      "[1, 5, 10, 10, 5, 1]\n"
     ]
    }
   ],
   "source": [
    "print(generate2(0))\n",
    "print(generate2(2))\n",
    "print(generate2(5))"
   ]
  },
  {
   "cell_type": "code",
   "execution_count": 9,
   "id": "83e4b96e",
   "metadata": {},
   "outputs": [
    {
     "name": "stdout",
     "output_type": "stream",
     "text": [
      "2\n",
      "10\n"
     ]
    }
   ],
   "source": [
    "print(generate3(2, 1))\n",
    "print(generate3(5, 3))"
   ]
  },
  {
   "cell_type": "code",
   "execution_count": 10,
   "id": "3b82ffc3",
   "metadata": {},
   "outputs": [],
   "source": [
    "# 3. Next Permutation"
   ]
  },
  {
   "cell_type": "code",
   "execution_count": 11,
   "id": "f70029de",
   "metadata": {},
   "outputs": [],
   "source": [
    "def nextPermutation(nums): # O(3n)T / O(1)S\n",
    "    \"\"\"\n",
    "    1. a[i] < a[i + 1] from last -> idx1 = i\n",
    "    2. a[j] > a[idx1] from last -> idx2 = j\n",
    "    3. swap idx1, idx2\n",
    "    4. reverse from i + 1 to last\n",
    "    \"\"\"\n",
    "\n",
    "    idx1 = -1\n",
    "    for i in reversed(range(len(nums) - 1)): # O(n)T\n",
    "        if nums[i] < nums[i + 1]:\n",
    "            idx1 = i\n",
    "            break\n",
    "\n",
    "    if idx1 == -1:\n",
    "        reverse(0, nums)\n",
    "        return nums\n",
    "\n",
    "    idx2 = -1\n",
    "    for i in reversed(range(len(nums))): # O(n)T\n",
    "        if nums[i] > nums[idx1]:\n",
    "            idx2 = i\n",
    "            break\n",
    "\n",
    "    nums[idx1], nums[idx2] = nums[idx2], nums[idx1]\n",
    "\n",
    "    reverse(idx1 + 1, nums)\n",
    "\n",
    "    return nums\n",
    "\n",
    "def reverse(i, nums): \n",
    "    first = i\n",
    "    last = len(nums) - 1\n",
    "\n",
    "    while first <= last: # O(n)T\n",
    "        nums[first], nums[last] = nums[last], nums[first]\n",
    "        first += 1\n",
    "        last -= 1\n",
    "\n",
    "    return"
   ]
  },
  {
   "cell_type": "code",
   "execution_count": 12,
   "id": "a994a4cc",
   "metadata": {},
   "outputs": [],
   "source": [
    "nums1 = [1,2,3]\n",
    "nums2 = [1,3,5,4,2]"
   ]
  },
  {
   "cell_type": "code",
   "execution_count": 13,
   "id": "45a42b7e",
   "metadata": {},
   "outputs": [
    {
     "name": "stdout",
     "output_type": "stream",
     "text": [
      "[1, 3, 2]\n",
      "[1, 4, 2, 3, 5]\n"
     ]
    }
   ],
   "source": [
    "print(nextPermutation(nums1))\n",
    "print(nextPermutation(nums2))"
   ]
  },
  {
   "cell_type": "code",
   "execution_count": 14,
   "id": "390a533b",
   "metadata": {},
   "outputs": [],
   "source": [
    "# 4. Kadane's Algorithm"
   ]
  },
  {
   "cell_type": "code",
   "execution_count": 15,
   "id": "5a46f2d3",
   "metadata": {},
   "outputs": [],
   "source": [
    "def maxSubArray(nums): # O(n)T / O(1)S\n",
    "    curSum = 0\n",
    "    curMax = nums[0]\n",
    "\n",
    "    for i in range(len(nums)): # O(n)T\n",
    "        curSum += nums[i]\n",
    "\n",
    "        if curMax < curSum:\n",
    "            curMax = curSum\n",
    "\n",
    "        if curSum < 0:\n",
    "            curSum = 0\n",
    "\n",
    "    return curMax"
   ]
  },
  {
   "cell_type": "code",
   "execution_count": 16,
   "id": "aa7f52bb",
   "metadata": {},
   "outputs": [],
   "source": [
    "nums1 = [-2,1,-3,4,-1,2,1,-5,4]\n",
    "nums2 = [1]\n",
    "nums3 = [5,4,-1,7,8] "
   ]
  },
  {
   "cell_type": "code",
   "execution_count": 17,
   "id": "3eefd015",
   "metadata": {},
   "outputs": [
    {
     "name": "stdout",
     "output_type": "stream",
     "text": [
      "6\n",
      "1\n",
      "23\n"
     ]
    }
   ],
   "source": [
    "print(maxSubArray(nums1))\n",
    "print(maxSubArray(nums2))\n",
    "print(maxSubArray(nums3))"
   ]
  },
  {
   "cell_type": "code",
   "execution_count": 18,
   "id": "9698d0a9",
   "metadata": {},
   "outputs": [],
   "source": [
    "# 5. Sort an array of 0s 1s & 2s"
   ]
  },
  {
   "cell_type": "code",
   "execution_count": 19,
   "id": "0144c841",
   "metadata": {},
   "outputs": [],
   "source": [
    "def sortColors(nums): # O(n)T / O(1)S\n",
    "    low = mid = 0\n",
    "    high = len(nums) - 1\n",
    "\n",
    "    while mid <= high: # O(n)T\n",
    "        if nums[mid] == 0:\n",
    "            nums[mid] = nums[low]\n",
    "            nums[low] = 0\n",
    "            low += 1\n",
    "            mid += 1\n",
    "        elif nums[mid] == 1:\n",
    "            mid += 1\n",
    "        elif nums[mid] == 2:\n",
    "            nums[mid], nums[high] = nums[high], nums[mid]\n",
    "            high -= 1\n",
    "    \n",
    "    return nums"
   ]
  },
  {
   "cell_type": "code",
   "execution_count": 20,
   "id": "da075841",
   "metadata": {},
   "outputs": [],
   "source": [
    "nums = [2,0,2,1,1,0]"
   ]
  },
  {
   "cell_type": "code",
   "execution_count": 21,
   "id": "c4d0f1f3",
   "metadata": {},
   "outputs": [
    {
     "data": {
      "text/plain": [
       "[0, 0, 1, 1, 2, 2]"
      ]
     },
     "execution_count": 21,
     "metadata": {},
     "output_type": "execute_result"
    }
   ],
   "source": [
    "sortColors(nums)"
   ]
  },
  {
   "cell_type": "code",
   "execution_count": 22,
   "id": "47b38093",
   "metadata": {},
   "outputs": [],
   "source": [
    "# 6. Stock buy and sell"
   ]
  },
  {
   "cell_type": "code",
   "execution_count": 23,
   "id": "e092a417",
   "metadata": {},
   "outputs": [],
   "source": [
    "def maxProfit(prices): # O(n)T / O(1)S\n",
    "    minPrice = float('inf')\n",
    "    profit = 0\n",
    "\n",
    "    for val in prices: # O(n)T\n",
    "        if val < minPrice:\n",
    "            minPrice = val\n",
    "        else:\n",
    "            potential = val - minPrice\n",
    "            profit = max(profit, potential)\n",
    "\n",
    "    return profit"
   ]
  },
  {
   "cell_type": "code",
   "execution_count": 24,
   "id": "072f561e",
   "metadata": {},
   "outputs": [],
   "source": [
    "prices1 = [7,1,5,3,6,4]\n",
    "prices2 = [7,6,4,3,1]"
   ]
  },
  {
   "cell_type": "code",
   "execution_count": 25,
   "id": "554199b8",
   "metadata": {},
   "outputs": [
    {
     "name": "stdout",
     "output_type": "stream",
     "text": [
      "5\n",
      "0\n"
     ]
    }
   ],
   "source": [
    "print(maxProfit(prices1))\n",
    "print(maxProfit(prices2))"
   ]
  },
  {
   "cell_type": "markdown",
   "id": "f5c28432",
   "metadata": {},
   "source": [
    "# Day 2: Arrays Part 2"
   ]
  },
  {
   "cell_type": "code",
   "execution_count": 26,
   "id": "c50922e8",
   "metadata": {},
   "outputs": [],
   "source": [
    "# 7. Rotate Matrix"
   ]
  },
  {
   "cell_type": "code",
   "execution_count": 27,
   "id": "29e4cca1",
   "metadata": {},
   "outputs": [],
   "source": [
    "def rotate(matrix): # O(2(n^2))T / O(1)S\n",
    "    n = len(matrix)\n",
    "\n",
    "    for i in range(n): # O(n^2)T \n",
    "        for j in range(i):\n",
    "            matrix[i][j], matrix[j][i] = matrix[j][i], matrix[i][j]\n",
    "\n",
    "    for row in matrix: # O(n^2)T \n",
    "        left = 0\n",
    "        right = len(row) - 1\n",
    "\n",
    "        while left <= right:\n",
    "            row[left], row[right] = row[right], row[left]\n",
    "            left += 1\n",
    "            right -= 1\n",
    "    \n",
    "    return matrix"
   ]
  },
  {
   "cell_type": "code",
   "execution_count": 28,
   "id": "a5e4ba85",
   "metadata": {},
   "outputs": [],
   "source": [
    "matrix = [[1,2,3],[4,5,6],[7,8,9]]"
   ]
  },
  {
   "cell_type": "code",
   "execution_count": 29,
   "id": "92408486",
   "metadata": {},
   "outputs": [
    {
     "data": {
      "text/plain": [
       "[[7, 4, 1], [8, 5, 2], [9, 6, 3]]"
      ]
     },
     "execution_count": 29,
     "metadata": {},
     "output_type": "execute_result"
    }
   ],
   "source": [
    "rotate(matrix)"
   ]
  },
  {
   "cell_type": "code",
   "execution_count": 30,
   "id": "a2c98589",
   "metadata": {},
   "outputs": [],
   "source": [
    "# 8. Merge Intervals"
   ]
  },
  {
   "cell_type": "code",
   "execution_count": 31,
   "id": "b426a398",
   "metadata": {},
   "outputs": [],
   "source": [
    "def merge(intervals): # O(nlogn + n)T / O(n)S\n",
    "    intervals.sort() # O(nlogn)T\n",
    "\n",
    "    res = [intervals[0]]\n",
    "\n",
    "    for start, end in intervals[1:]: # O(n)T\n",
    "        last = res[-1]\n",
    "\n",
    "        if last[1] >= start:\n",
    "            last[1] = max(last[1], end)\n",
    "        else:\n",
    "            res.append([start, end])\n",
    "\n",
    "    return res"
   ]
  },
  {
   "cell_type": "code",
   "execution_count": 32,
   "id": "db9e82e3",
   "metadata": {},
   "outputs": [],
   "source": [
    "intervals1 = [[1,3],[2,6],[8,10],[15,18]]\n",
    "intervals2 =[[1,4],[2,3]]"
   ]
  },
  {
   "cell_type": "code",
   "execution_count": 33,
   "id": "8c44f09a",
   "metadata": {},
   "outputs": [
    {
     "name": "stdout",
     "output_type": "stream",
     "text": [
      "[[1, 6], [8, 10], [15, 18]]\n",
      "[[1, 4]]\n"
     ]
    }
   ],
   "source": [
    "print(merge(intervals1))\n",
    "print(merge(intervals2))"
   ]
  },
  {
   "cell_type": "code",
   "execution_count": 34,
   "id": "85124cf7",
   "metadata": {},
   "outputs": [],
   "source": [
    "# 9. Merge two sorted arrays without extra space"
   ]
  },
  {
   "cell_type": "code",
   "execution_count": 35,
   "id": "3782edc6",
   "metadata": {},
   "outputs": [],
   "source": [
    "# LeetCode problem no.88\n",
    "def merge1(nums1, m, nums2, n): # O(m+n)T / O(1)S\n",
    "    \"\"\"\n",
    "    Do not return anything, modify nums1 in-place instead.\n",
    "    \"\"\"\n",
    "    a = m - 1\n",
    "    b = n - 1\n",
    "    writeIndex = m + n - 1\n",
    "\n",
    "    while b >= 0:\n",
    "        if a >= 0 and nums1[a] > nums2[b]:\n",
    "            nums1[writeIndex] = nums1[a]\n",
    "            a -= 1\n",
    "        else:\n",
    "            nums1[writeIndex] = nums2[b]\n",
    "            b -= 1\n",
    "\n",
    "        writeIndex -= 1\n",
    "        \n",
    "    print(nums1)\n",
    "\n",
    "# Just the arrays are given\n",
    "def merge2(X, Y): # O(n*m)T / O(1)S\n",
    "    m = len(X)\n",
    "    n = len(Y)\n",
    "    \n",
    "    for i in range(m): \n",
    "        if X[i] > Y[0]:\n",
    "            temp = X[i]\n",
    "            X[i] = Y[0]\n",
    "            Y[0] = temp\n",
    " \n",
    "            first = Y[0]\n",
    "            k = 1\n",
    "        \n",
    "            while k < n and Y[k] < first:\n",
    "                Y[k - 1] = Y[k]\n",
    "                k = k + 1\n",
    " \n",
    "            Y[k - 1] = first\n",
    "    \n",
    "    print(X, Y)"
   ]
  },
  {
   "cell_type": "code",
   "execution_count": 36,
   "id": "cc9ca2eb",
   "metadata": {},
   "outputs": [],
   "source": [
    "nums1 = [1,2,3,0,0,0]\n",
    "m = 3\n",
    "nums2 = [2,5,6]\n",
    "n = 3\n",
    "nums3 = [1,3,5]\n",
    "nums4 = [2,2,4]"
   ]
  },
  {
   "cell_type": "code",
   "execution_count": 37,
   "id": "43a54379",
   "metadata": {},
   "outputs": [
    {
     "name": "stdout",
     "output_type": "stream",
     "text": [
      "[1, 2, 2, 3, 5, 6]\n"
     ]
    }
   ],
   "source": [
    "merge1(nums1, m, nums2, n)"
   ]
  },
  {
   "cell_type": "code",
   "execution_count": 38,
   "id": "cb0f2cea",
   "metadata": {},
   "outputs": [
    {
     "name": "stdout",
     "output_type": "stream",
     "text": [
      "[1, 2, 2] [3, 4, 5]\n"
     ]
    }
   ],
   "source": [
    "merge2(nums3, nums4)"
   ]
  },
  {
   "cell_type": "code",
   "execution_count": 39,
   "id": "e8f35500",
   "metadata": {},
   "outputs": [],
   "source": [
    "# 10. Find the duplicate in an array of N+1 integers"
   ]
  },
  {
   "cell_type": "code",
   "execution_count": 40,
   "id": "e594bddd",
   "metadata": {},
   "outputs": [],
   "source": [
    "def findDuplicate(nums): # O(n)T / O(1)S\n",
    "    slow = nums[0]\n",
    "    fast = nums[0]\n",
    "\n",
    "    while True:\n",
    "        slow = nums[slow]\n",
    "        fast = nums[nums[fast]]\n",
    "\n",
    "        if slow == fast:\n",
    "            break\n",
    "\n",
    "    fast = nums[0]\n",
    "\n",
    "    while slow != fast:\n",
    "        slow = nums[slow]\n",
    "        fast = nums[fast]\n",
    "\n",
    "    return slow"
   ]
  },
  {
   "cell_type": "code",
   "execution_count": 41,
   "id": "2ab4d5f1",
   "metadata": {},
   "outputs": [],
   "source": [
    "nums1 = [1,3,4,2,2]\n",
    "nums2 = [3,1,3,4,2]"
   ]
  },
  {
   "cell_type": "code",
   "execution_count": 42,
   "id": "27efe6a8",
   "metadata": {},
   "outputs": [
    {
     "name": "stdout",
     "output_type": "stream",
     "text": [
      "2\n",
      "3\n"
     ]
    }
   ],
   "source": [
    "print(findDuplicate(nums1))\n",
    "print(findDuplicate(nums2))"
   ]
  },
  {
   "cell_type": "code",
   "execution_count": 43,
   "id": "6f69b225",
   "metadata": {},
   "outputs": [],
   "source": [
    "# 11. Repeat and Missing Number"
   ]
  },
  {
   "cell_type": "code",
   "execution_count": 44,
   "id": "751ab174",
   "metadata": {},
   "outputs": [],
   "source": [
    "def missingAndRepeating(nums): # O(5n)T / O(1)S\n",
    "    \"\"\"\n",
    "    Logic:\n",
    "    if nums = [4,3,6,2,1,1]\n",
    "    4^3^6^2^1^1 = 3\n",
    "    3 ^ (1^2^3^4^5^6) = 4\n",
    "    x ^ y = 4\n",
    "    find x and y from nums and n+1 array by dividing the elements in these arrays based on right most set bit of x^y\n",
    "    \"\"\"\n",
    "    \n",
    "    n = len(nums)\n",
    "    zor = 0\n",
    "    \n",
    "    for num in nums: # O(n)T\n",
    "        zor ^= num\n",
    "        \n",
    "    for i in range(1, n+1): # O(n)T\n",
    "        zor ^= i\n",
    "    \n",
    "    rmsb = zor & -zor # rightmost set bit of zor\n",
    "    res1 = 0\n",
    "    res2 = 0\n",
    "    \n",
    "    for num in nums: # O(n)T\n",
    "        if num & rmsb > 0:\n",
    "            res1 ^= num\n",
    "        else:\n",
    "            res2 ^= num\n",
    "            \n",
    "    for i in range(1, n+1): # O(n)T\n",
    "        if i & rmsb > 0:\n",
    "            res1 ^= i\n",
    "        else:\n",
    "            res2 ^= i\n",
    "        \n",
    "    # placing missing num in res1 and repeating num in res2\n",
    "    for num in nums: # O(n)T\n",
    "        if res1 == num:\n",
    "            res1, res2 = res2, res1\n",
    "            break\n",
    "            \n",
    "    return res1, res2"
   ]
  },
  {
   "cell_type": "code",
   "execution_count": 45,
   "id": "71224514",
   "metadata": {},
   "outputs": [],
   "source": [
    "nums1 = [4,3,6,2,1,1]\n",
    "nums2 = [4,5,2,9,8,1,1,7,10,3]\n",
    "nums3 = [7,5,3,2,1,6,6]"
   ]
  },
  {
   "cell_type": "code",
   "execution_count": 46,
   "id": "dc2d3612",
   "metadata": {},
   "outputs": [
    {
     "name": "stdout",
     "output_type": "stream",
     "text": [
      "(5, 1)\n",
      "(6, 1)\n",
      "(4, 6)\n"
     ]
    }
   ],
   "source": [
    "print(missingAndRepeating(nums1))\n",
    "print(missingAndRepeating(nums2))\n",
    "print(missingAndRepeating(nums3))"
   ]
  },
  {
   "cell_type": "code",
   "execution_count": 47,
   "id": "89baab5f",
   "metadata": {},
   "outputs": [],
   "source": [
    "# 12. Inversion of Array"
   ]
  },
  {
   "cell_type": "code",
   "execution_count": 48,
   "id": "b4ad310e",
   "metadata": {},
   "outputs": [],
   "source": [
    "class Solution: # O(nlogn)T / O(n)S\n",
    "    def __init__(self):\n",
    "        self.count = 0\n",
    "        \n",
    "    def countInversions(self, nums):\n",
    "        self.mergeSort(nums)\n",
    "        \n",
    "        return self.count\n",
    "    \n",
    "    def mergeSort(self, nums):\n",
    "        if len(nums) > 1:\n",
    "            midVal = len(nums) // 2\n",
    "            leftList = nums[:midVal]\n",
    "            rightList = nums[midVal:]\n",
    "            self.mergeSort(leftList)\n",
    "            self.mergeSort(rightList)\n",
    "            self.doMerge(nums, leftList, rightList)\n",
    "    \n",
    "    def doMerge(self, nums, left, right):\n",
    "        i = j = k = 0\n",
    "        \n",
    "        while i < len(left) and j < len(right):\n",
    "            if left[i] <= right[j]:\n",
    "                nums[k] = left[i]\n",
    "                i += 1\n",
    "            else:\n",
    "                nums[k] = right[j]\n",
    "                self.count += (len(left) - i) # counting the inversion\n",
    "                j += 1\n",
    "                \n",
    "            k += 1\n",
    "            \n",
    "        while i < len(left):\n",
    "            nums[k] = left[i]\n",
    "            i += 1\n",
    "            k += 1\n",
    "            \n",
    "        while j < len(right):\n",
    "            nums[k] = right[j]\n",
    "            j += 1\n",
    "            k += 1"
   ]
  },
  {
   "cell_type": "code",
   "execution_count": 49,
   "id": "52b91820",
   "metadata": {},
   "outputs": [],
   "source": [
    "nums1 = [8,4,2,1]\n",
    "nums2 = [2,5,1,3,4]\n",
    "nums3 = [5,3,2,4,1]"
   ]
  },
  {
   "cell_type": "code",
   "execution_count": 50,
   "id": "6d69bdd2",
   "metadata": {},
   "outputs": [
    {
     "name": "stdout",
     "output_type": "stream",
     "text": [
      "6\n",
      "4\n",
      "8\n"
     ]
    }
   ],
   "source": [
    "print(Solution().countInversions(nums1))\n",
    "print(Solution().countInversions(nums2))\n",
    "print(Solution().countInversions(nums3))"
   ]
  },
  {
   "cell_type": "markdown",
   "id": "b6227b6f",
   "metadata": {},
   "source": [
    "# Day 3: Arrays Part 3"
   ]
  },
  {
   "cell_type": "code",
   "execution_count": 51,
   "id": "79e6268f",
   "metadata": {},
   "outputs": [],
   "source": [
    "# 13. Search in a 2d Matrix"
   ]
  },
  {
   "cell_type": "code",
   "execution_count": 52,
   "id": "bdf2dd6f",
   "metadata": {},
   "outputs": [],
   "source": [
    "# Approach 1\n",
    "def searchMatrix1(matrix, target): # O(n+m)T / O(1)S\n",
    "    i = 0\n",
    "    j = len(matrix[0]) - 1\n",
    "\n",
    "    while i < len(matrix) and j >= 0:\n",
    "        if matrix[i][j] == target:\n",
    "            return True\n",
    "        elif matrix[i][j] <= target:\n",
    "            i += 1\n",
    "        else:\n",
    "            j -= 1\n",
    "\n",
    "    return False\n",
    "\n",
    "# Approach 2: Bianry Search\n",
    "def searchMatrix2(matrix, target): # O(log(n*m))T / O(1)S\n",
    "    n = len(matrix)\n",
    "    m = len(matrix[0])\n",
    "\n",
    "    low = 0\n",
    "    high = (n * m) - 1\n",
    "\n",
    "    while low <= high:\n",
    "        mid = (low + high) // 2\n",
    "        i = mid // m\n",
    "        j = mid % m\n",
    "\n",
    "        if matrix[i][j] == target:\n",
    "            return True\n",
    "        elif matrix[i][j] < target:\n",
    "            low = mid + 1\n",
    "        else:\n",
    "            high = mid - 1\n",
    "\n",
    "    return False"
   ]
  },
  {
   "cell_type": "code",
   "execution_count": 53,
   "id": "8820a7e8",
   "metadata": {},
   "outputs": [],
   "source": [
    "matrix = [[1,3,5,7],[10,11,16,20],[23,30,34,60]]\n",
    "target1 = 3\n",
    "target2 = 13"
   ]
  },
  {
   "cell_type": "code",
   "execution_count": 54,
   "id": "20e4e85b",
   "metadata": {},
   "outputs": [
    {
     "name": "stdout",
     "output_type": "stream",
     "text": [
      "True\n",
      "False\n",
      "-----\n",
      "True\n",
      "False\n"
     ]
    }
   ],
   "source": [
    "print(searchMatrix1(matrix, target1))\n",
    "print(searchMatrix1(matrix, target2))\n",
    "print('-----')\n",
    "print(searchMatrix2(matrix, target1))\n",
    "print(searchMatrix2(matrix, target2))"
   ]
  },
  {
   "cell_type": "code",
   "execution_count": 55,
   "id": "b55f8216",
   "metadata": {},
   "outputs": [],
   "source": [
    "# 14. Pow(x, n)"
   ]
  },
  {
   "cell_type": "code",
   "execution_count": 56,
   "id": "9e4d81c7",
   "metadata": {},
   "outputs": [],
   "source": [
    "def myPow(x, n): # O(logn)T / O(1)S\n",
    "    ans = 1\n",
    "    nn = n if n >= 0 else (-1 * n)\n",
    "\n",
    "    while nn > 0:\n",
    "        if nn % 2:\n",
    "            ans *= x\n",
    "            nn -= 1\n",
    "        else:\n",
    "            x *= x\n",
    "            nn /= 2\n",
    "\n",
    "    if n < 0:\n",
    "        ans = 1 / ans\n",
    "\n",
    "    return ans"
   ]
  },
  {
   "cell_type": "code",
   "execution_count": 57,
   "id": "8745d3a5",
   "metadata": {},
   "outputs": [],
   "source": [
    "x1, n1 = 2.10000, 3\n",
    "x2, n2 = 2.00000, -2"
   ]
  },
  {
   "cell_type": "code",
   "execution_count": 58,
   "id": "1cd7333d",
   "metadata": {},
   "outputs": [
    {
     "name": "stdout",
     "output_type": "stream",
     "text": [
      "9.261000000000001\n",
      "0.25\n"
     ]
    }
   ],
   "source": [
    "print(myPow(x1, n1))\n",
    "print(myPow(x2, n2))"
   ]
  },
  {
   "cell_type": "code",
   "execution_count": 59,
   "id": "ab83bb0a",
   "metadata": {},
   "outputs": [],
   "source": [
    "# 15. Majority Element(>N/2 times)"
   ]
  },
  {
   "cell_type": "code",
   "execution_count": 60,
   "id": "97b50ca8",
   "metadata": {},
   "outputs": [],
   "source": [
    "def majorityElement1(nums): # O(n)T / O(1)S\n",
    "    count = 0\n",
    "    candidate = 0\n",
    "\n",
    "    for num in nums: \n",
    "        if not count:\n",
    "            candidate = num\n",
    "\n",
    "        if num == candidate:\n",
    "            count += 1\n",
    "        else:\n",
    "            count -= 1\n",
    "\n",
    "    return candidate"
   ]
  },
  {
   "cell_type": "code",
   "execution_count": 61,
   "id": "bff322bc",
   "metadata": {},
   "outputs": [],
   "source": [
    "nums1 = [3,2,3]\n",
    "nums2 = [2,2,1,1,1,2,2]"
   ]
  },
  {
   "cell_type": "code",
   "execution_count": 62,
   "id": "661b92dd",
   "metadata": {},
   "outputs": [
    {
     "name": "stdout",
     "output_type": "stream",
     "text": [
      "3\n",
      "2\n"
     ]
    }
   ],
   "source": [
    "print(majorityElement1(nums1))\n",
    "print(majorityElement1(nums2))"
   ]
  },
  {
   "cell_type": "code",
   "execution_count": 63,
   "id": "023eb647",
   "metadata": {},
   "outputs": [],
   "source": [
    "# 16. Majority Element(>N/3 times)"
   ]
  },
  {
   "cell_type": "code",
   "execution_count": 64,
   "id": "c98089c0",
   "metadata": {},
   "outputs": [],
   "source": [
    "def majorityElement2(nums): # O(2n)T / O(1)S\n",
    "    n1 = n2 = -1 # number\n",
    "    c1 = c2 = 0 # count\n",
    "    ln = len(nums)\n",
    "\n",
    "    for num in nums: # O(n)T\n",
    "        if num == n1:\n",
    "            c1 += 1\n",
    "        elif num == n2:\n",
    "            c2 += 1\n",
    "        elif c1 == 0:\n",
    "            n1 = num\n",
    "            c1 += 1\n",
    "        elif c2 == 0:\n",
    "            n2 = num\n",
    "            c2 += 1\n",
    "        else:\n",
    "            c1 -= 1\n",
    "            c2 -= 1\n",
    "\n",
    "    c1 = c2 = 0\n",
    "    ans = []\n",
    "\n",
    "    for num in nums: # O(n)T\n",
    "        if num == n1:\n",
    "            c1 += 1\n",
    "        elif num == n2:\n",
    "            c2 += 1\n",
    "\n",
    "    if c1 > ln // 3:\n",
    "        ans.append(n1)\n",
    "    if c2 > ln // 3:\n",
    "        ans.append(n2)\n",
    "\n",
    "    return ans"
   ]
  },
  {
   "cell_type": "code",
   "execution_count": 65,
   "id": "c556c255",
   "metadata": {},
   "outputs": [],
   "source": [
    "nums1 = [3,2,3]\n",
    "nums2 = [1,5]\n",
    "nums3 = [1,1,1,3,3,2,2,2]"
   ]
  },
  {
   "cell_type": "code",
   "execution_count": 66,
   "id": "64d9248b",
   "metadata": {},
   "outputs": [
    {
     "name": "stdout",
     "output_type": "stream",
     "text": [
      "[3]\n",
      "[1, 5]\n",
      "[1, 2]\n"
     ]
    }
   ],
   "source": [
    "print(majorityElement2(nums1))\n",
    "print(majorityElement2(nums2))\n",
    "print(majorityElement2(nums3))"
   ]
  },
  {
   "cell_type": "code",
   "execution_count": 67,
   "id": "c3110bf3",
   "metadata": {},
   "outputs": [],
   "source": [
    "# 17. Grid Unique Paths"
   ]
  },
  {
   "cell_type": "code",
   "execution_count": 68,
   "id": "70ec8ef5",
   "metadata": {},
   "outputs": [],
   "source": [
    "# Approach 1: Recursion with Memoization\n",
    "def uniquePaths1(m, n): # O(n*m)T / O(n*m)S\n",
    "    return recurse(0, 0, m, n, {})\n",
    "\n",
    "def recurse(i, j, m, n, mem):\n",
    "    if (i, j) in mem:\n",
    "        return mem[(i, j)]\n",
    "\n",
    "    if i == m-1 and j == n-1:\n",
    "        return 1\n",
    "\n",
    "    if i >= m or j >= n:\n",
    "        return 0\n",
    "\n",
    "    mem[(i, j)] = recurse(i + 1, j, m, n, mem) + recurse(i, j + 1, m, n, mem)\n",
    "\n",
    "    return mem[(i, j)]\n",
    "\n",
    "# Approach 2: Combination\n",
    "def uniquePaths2(m, n): # O(m-1 or n-1)T / O(1)S\n",
    "    N = m + n - 2 # total steps needed to reach from top left to bottom right is (m - 1) + (n - 1)\n",
    "    r = m - 1 # can also use (n - 1)\n",
    "    res = 1\n",
    "    \n",
    "    # nCr value for N and r is calculated in the below for-loop\n",
    "    for i in range(1, r + 1):\n",
    "        res = res * (N - r + i) // i\n",
    "\n",
    "    return res"
   ]
  },
  {
   "cell_type": "code",
   "execution_count": 69,
   "id": "b0f4f4a9",
   "metadata": {},
   "outputs": [],
   "source": [
    "m1, n1 = 3, 7\n",
    "m2, n2 = 3, 2\n",
    "m3, n3 = 10, 10"
   ]
  },
  {
   "cell_type": "code",
   "execution_count": 70,
   "id": "150d86d5",
   "metadata": {},
   "outputs": [
    {
     "name": "stdout",
     "output_type": "stream",
     "text": [
      "28\n",
      "3\n",
      "48620\n",
      "-----\n",
      "28\n",
      "3\n",
      "48620\n"
     ]
    }
   ],
   "source": [
    "print(uniquePaths1(m1, n1))\n",
    "print(uniquePaths1(m2, n2))\n",
    "print(uniquePaths1(m3, n3))\n",
    "print('-----')\n",
    "print(uniquePaths2(m1, n1))\n",
    "print(uniquePaths2(m2, n2))\n",
    "print(uniquePaths2(m3, n3))"
   ]
  },
  {
   "cell_type": "code",
   "execution_count": 71,
   "id": "cb0258fd",
   "metadata": {},
   "outputs": [],
   "source": [
    "# 18. Reverse Pairs"
   ]
  },
  {
   "cell_type": "code",
   "execution_count": 72,
   "id": "97ee161e",
   "metadata": {},
   "outputs": [],
   "source": [
    "class Solution: # O(nlogn + n)T / O(n)S\n",
    "    def __init__(self):\n",
    "        self.count = 0\n",
    "        \n",
    "    def reversePairs(self, nums):\n",
    "        self.mergeSort(nums)\n",
    "        return self.count\n",
    "    \n",
    "    def mergeSort(self, nums):\n",
    "        if len(nums) > 1:\n",
    "            midVal = len(nums) // 2\n",
    "            leftList = nums[:midVal]\n",
    "            rightList = nums[midVal:]\n",
    "            self.mergeSort(leftList)\n",
    "            self.mergeSort(rightList)\n",
    "            self.doMerge(nums, leftList, rightList)\n",
    "            \n",
    "    def doMerge(self, nums, left, right):\n",
    "        # counting reverse pairs, this runs at max O(n)T\n",
    "        j = 0\n",
    "        \n",
    "        for i in range(len(left)):\n",
    "            while j < len(right) and left[i] > (2 * right[j]):\n",
    "                j += 1\n",
    "                \n",
    "            self.count += j \n",
    "         \n",
    "        # merge steps as in normal mergesort\n",
    "        i = j = k = 0\n",
    "\n",
    "        while i < len(left) and j < len(right):\n",
    "            if left[i] <= right[j]:\n",
    "                nums[k] = left[i]\n",
    "                i += 1\n",
    "            else:\n",
    "                nums[k] = right[j]\n",
    "                j += 1\n",
    "\n",
    "            k += 1\n",
    "\n",
    "        while i < len(left):\n",
    "            nums[k] = left[i]\n",
    "            i += 1\n",
    "            k += 1\n",
    "\n",
    "        while j < len(right):\n",
    "            nums[k] = right[j]\n",
    "            j += 1\n",
    "            k += 1"
   ]
  },
  {
   "cell_type": "code",
   "execution_count": 73,
   "id": "ef541a1d",
   "metadata": {},
   "outputs": [],
   "source": [
    "nums1 = [1,3,2,3,1]\n",
    "nums2 = [2,4,3,5,1]\n",
    "nums3 = [40,25,19,12,9,6,2]"
   ]
  },
  {
   "cell_type": "code",
   "execution_count": 74,
   "id": "16a4ab3e",
   "metadata": {},
   "outputs": [
    {
     "name": "stdout",
     "output_type": "stream",
     "text": [
      "2\n",
      "3\n",
      "15\n"
     ]
    }
   ],
   "source": [
    "print(Solution().reversePairs(nums1))\n",
    "print(Solution().reversePairs(nums2))\n",
    "print(Solution().reversePairs(nums3))"
   ]
  },
  {
   "cell_type": "markdown",
   "id": "01d30506",
   "metadata": {},
   "source": [
    "# Day 4: Arrays Part 4"
   ]
  },
  {
   "cell_type": "code",
   "execution_count": 75,
   "id": "67d31fdf",
   "metadata": {},
   "outputs": [],
   "source": [
    "# 19. 2 Sum Problem"
   ]
  },
  {
   "cell_type": "code",
   "execution_count": 76,
   "id": "f2b5a601",
   "metadata": {},
   "outputs": [],
   "source": [
    "def twoSum(nums, target): # O(n)T / O(n)S\n",
    "    tab = {}\n",
    "\n",
    "    for i in range(len(nums)):\n",
    "        rem = target - nums[i]\n",
    "\n",
    "        if rem in tab:\n",
    "            return [tab[rem], i]\n",
    "\n",
    "        tab[nums[i]] = i\n",
    "\n",
    "    return [-1,-1]"
   ]
  },
  {
   "cell_type": "code",
   "execution_count": 77,
   "id": "cb4bc025",
   "metadata": {},
   "outputs": [],
   "source": [
    "nums1, target1 = [2,7,11,15], 9\n",
    "nums2, target2 = [2,6,5,8,11], 14"
   ]
  },
  {
   "cell_type": "code",
   "execution_count": 78,
   "id": "a6b1b5fc",
   "metadata": {},
   "outputs": [
    {
     "name": "stdout",
     "output_type": "stream",
     "text": [
      "[0, 1]\n",
      "[1, 3]\n"
     ]
    }
   ],
   "source": [
    "print(twoSum(nums1, target1))\n",
    "print(twoSum(nums2, target2))"
   ]
  },
  {
   "cell_type": "code",
   "execution_count": 79,
   "id": "25f66d7b",
   "metadata": {},
   "outputs": [],
   "source": [
    "# 20. 4 Sum Problem"
   ]
  },
  {
   "cell_type": "code",
   "execution_count": 80,
   "id": "27b4c18f",
   "metadata": {},
   "outputs": [],
   "source": [
    "def fourSum(nums, target): # O(n^3 + nlogn)T / O(1)S\n",
    "    res = []\n",
    "    n = len(nums)\n",
    "    nums.sort() # O(nlogn)T\n",
    "\n",
    "    for i in range(n): # O(n)T\n",
    "        if i > 0 and nums[i] == nums[i - 1]:\n",
    "            continue\n",
    "\n",
    "        for j in range(i + 1, n): # O(n)T\n",
    "            if j > i + 1 and nums[j] == nums[j - 1]:\n",
    "                continue\n",
    "\n",
    "            target2 = target - nums[i] - nums[j]\n",
    "            front = j + 1\n",
    "            back = n - 1\n",
    "\n",
    "            while front < back: # O(n)T\n",
    "                twoSum = nums[front] + nums[back]\n",
    "\n",
    "                if twoSum < target2:\n",
    "                    front += 1\n",
    "                elif twoSum > target2:\n",
    "                    back -= 1\n",
    "                else:\n",
    "                    quad = [nums[i], nums[j], nums[front], nums[back]]\n",
    "                    res.append(quad)\n",
    "\n",
    "                    while front < back and nums[front] == quad[2]:\n",
    "                        front += 1\n",
    "\n",
    "                    while front < back and nums[back] == quad[3]:\n",
    "                        back -= 1\n",
    "\n",
    "    return res   "
   ]
  },
  {
   "cell_type": "code",
   "execution_count": 81,
   "id": "11c0858a",
   "metadata": {},
   "outputs": [],
   "source": [
    "nums1, target1 = [1,0,-1,0,-2,2], 0\n",
    "nums2, target2 = [2,2,2,2,2], 8"
   ]
  },
  {
   "cell_type": "code",
   "execution_count": 82,
   "id": "66dc821e",
   "metadata": {},
   "outputs": [
    {
     "name": "stdout",
     "output_type": "stream",
     "text": [
      "[[-2, -1, 1, 2], [-2, 0, 0, 2], [-1, 0, 0, 1]]\n",
      "[[2, 2, 2, 2]]\n"
     ]
    }
   ],
   "source": [
    "print(fourSum(nums1, target1))\n",
    "print(fourSum(nums2, target2))"
   ]
  },
  {
   "cell_type": "code",
   "execution_count": 83,
   "id": "93bea8ce",
   "metadata": {},
   "outputs": [],
   "source": [
    "# 21. Longest Consecutive Sequence"
   ]
  },
  {
   "cell_type": "code",
   "execution_count": 84,
   "id": "1f44e71c",
   "metadata": {},
   "outputs": [],
   "source": [
    "def longestConsecutive(nums): # O(2n)T / O(n)S\n",
    "    s, longest = set(nums), 0\n",
    "\n",
    "    for num in s: # O(n)T\n",
    "        if num - 1 in s: \n",
    "            continue\n",
    "\n",
    "        cur = num\n",
    "        j = 1\n",
    "\n",
    "        # The below while loop runs at max O(n)T\n",
    "        while cur + 1 in s: \n",
    "            cur += 1\n",
    "            j += 1\n",
    "\n",
    "        longest = max(longest, j)\n",
    "\n",
    "    return longest"
   ]
  },
  {
   "cell_type": "code",
   "execution_count": 85,
   "id": "a5776ecd",
   "metadata": {},
   "outputs": [],
   "source": [
    "nums1 = [100,4,200,1,3,2]\n",
    "nums2 = [0,3,7,2,5,8,4,6,0,1]"
   ]
  },
  {
   "cell_type": "code",
   "execution_count": 86,
   "id": "0ed3866d",
   "metadata": {},
   "outputs": [
    {
     "name": "stdout",
     "output_type": "stream",
     "text": [
      "4\n",
      "9\n"
     ]
    }
   ],
   "source": [
    "print(longestConsecutive(nums1))\n",
    "print(longestConsecutive(nums2))"
   ]
  },
  {
   "cell_type": "code",
   "execution_count": 87,
   "id": "abd794c4",
   "metadata": {},
   "outputs": [],
   "source": [
    "# 22. Largest Subarray with 0 Sum"
   ]
  },
  {
   "cell_type": "code",
   "execution_count": 88,
   "id": "c11a6a14",
   "metadata": {},
   "outputs": [],
   "source": [
    "def maxLen(nums): # O(n)T / O(n)S\n",
    "    tab = {}\n",
    "    curSum = 0\n",
    "    maxLen = 0\n",
    "    \n",
    "    for i in range(len(nums)):\n",
    "        num = nums[i]\n",
    "        curSum += num \n",
    "        \n",
    "        if curSum == 0:\n",
    "            maxLen = i + 1\n",
    "        else:    \n",
    "            if curSum in tab:\n",
    "                maxLen = max(maxLen, i - tab[curSum])\n",
    "            else:\n",
    "                tab[curSum] = i\n",
    "            \n",
    "    return maxLen"
   ]
  },
  {
   "cell_type": "code",
   "execution_count": 89,
   "id": "9821e046",
   "metadata": {},
   "outputs": [],
   "source": [
    "nums1 = [15,-2,2,-8,1,7,10,23]\n",
    "nums2 = [1,3,-1,4,-4]\n",
    "nums3 = [1,-1,2,-2]"
   ]
  },
  {
   "cell_type": "code",
   "execution_count": 90,
   "id": "244e10b9",
   "metadata": {},
   "outputs": [
    {
     "name": "stdout",
     "output_type": "stream",
     "text": [
      "5\n",
      "2\n",
      "4\n"
     ]
    }
   ],
   "source": [
    "print(maxLen(nums1))\n",
    "print(maxLen(nums2))\n",
    "print(maxLen(nums3))"
   ]
  },
  {
   "cell_type": "code",
   "execution_count": 91,
   "id": "bf1cfc70",
   "metadata": {},
   "outputs": [],
   "source": [
    "# 23. Count number of subarrays with XOR as given K"
   ]
  },
  {
   "cell_type": "code",
   "execution_count": 92,
   "id": "6d1a468d",
   "metadata": {},
   "outputs": [],
   "source": [
    "def subarraysXor(nums, k): # O(n)T / O(n)S\n",
    "    tab = {}\n",
    "    xor = 0\n",
    "    count = 0\n",
    "    \n",
    "    for num in nums:\n",
    "        xor = xor ^ num \n",
    "        \n",
    "        if xor == k:\n",
    "            count += 1\n",
    "            \n",
    "        y = xor ^ k\n",
    "        \n",
    "        if y in tab:\n",
    "            count += tab[y]\n",
    "        \n",
    "        if xor in tab:\n",
    "            tab[xor] += 1\n",
    "        else:\n",
    "            tab[xor] = 1\n",
    "            \n",
    "    return count"
   ]
  },
  {
   "cell_type": "code",
   "execution_count": 93,
   "id": "d9c2d0e3",
   "metadata": {},
   "outputs": [],
   "source": [
    "nums1, k1 = [4,2,2,6,4], 6\n",
    "nums2, k2 = [5,6,7,8,9], 5 \n",
    "nums3, k3 = [5,2,9], 7"
   ]
  },
  {
   "cell_type": "code",
   "execution_count": 94,
   "id": "b48591b7",
   "metadata": {},
   "outputs": [
    {
     "name": "stdout",
     "output_type": "stream",
     "text": [
      "4\n",
      "2\n",
      "1\n"
     ]
    }
   ],
   "source": [
    "print(subarraysXor(nums1, k1))\n",
    "print(subarraysXor(nums2, k2))\n",
    "print(subarraysXor(nums3, k3))"
   ]
  },
  {
   "cell_type": "code",
   "execution_count": 95,
   "id": "92e43a9f",
   "metadata": {},
   "outputs": [],
   "source": [
    "# 24. Longest Substring Without Repeat"
   ]
  },
  {
   "cell_type": "code",
   "execution_count": 96,
   "id": "c10c3ec1",
   "metadata": {},
   "outputs": [],
   "source": [
    "def lengthOfLongestSubstring(s): # O(n)T / O(n)S\n",
    "    lastSeen = {}\n",
    "    startIdx = 0\n",
    "    res = 0\n",
    "\n",
    "    for i in range(len(s)):\n",
    "        char = s[i]\n",
    "\n",
    "        if char in lastSeen:\n",
    "            startIdx = max(lastSeen[char] + 1, startIdx)\n",
    "\n",
    "        lastSeen[char] = i\n",
    "        res = max(res, i - startIdx + 1)\n",
    "\n",
    "    return res"
   ]
  },
  {
   "cell_type": "code",
   "execution_count": 97,
   "id": "d5b4d808",
   "metadata": {},
   "outputs": [],
   "source": [
    "s1 = 'abcabcbb'\n",
    "s2 = 'bbbb'\n",
    "s3 = 'abba'"
   ]
  },
  {
   "cell_type": "code",
   "execution_count": 98,
   "id": "b06619c1",
   "metadata": {},
   "outputs": [
    {
     "name": "stdout",
     "output_type": "stream",
     "text": [
      "3\n",
      "1\n",
      "2\n"
     ]
    }
   ],
   "source": [
    "print(lengthOfLongestSubstring(s1))\n",
    "print(lengthOfLongestSubstring(s2))\n",
    "print(lengthOfLongestSubstring(s3))"
   ]
  },
  {
   "cell_type": "markdown",
   "id": "73cd8581",
   "metadata": {},
   "source": [
    "# Day 5: Linked List"
   ]
  },
  {
   "cell_type": "code",
   "execution_count": 99,
   "id": "678e2d52",
   "metadata": {},
   "outputs": [],
   "source": [
    "# 25. Reverse a Linked List"
   ]
  },
  {
   "cell_type": "code",
   "execution_count": 100,
   "id": "d12ba2ac",
   "metadata": {},
   "outputs": [],
   "source": [
    "def reverseList(head): # O(n)T / O(1)S\n",
    "    if not head or not head.next:\n",
    "        return head\n",
    "\n",
    "    prev = None\n",
    "    cur = head\n",
    "\n",
    "    while cur:\n",
    "        nxt = cur.next\n",
    "        cur.next = prev\n",
    "        prev = cur\n",
    "        cur = nxt\n",
    "\n",
    "    return prev"
   ]
  },
  {
   "cell_type": "code",
   "execution_count": 101,
   "id": "d74a6fc8",
   "metadata": {},
   "outputs": [],
   "source": [
    "# 26. Find the middle of Linked List"
   ]
  },
  {
   "cell_type": "code",
   "execution_count": 102,
   "id": "37bbaf3f",
   "metadata": {},
   "outputs": [],
   "source": [
    "def middleNode(head): # O(n/2)T / O(1)S\n",
    "    slow = head\n",
    "    fast = head\n",
    "\n",
    "    while fast and fast.next:\n",
    "        slow = slow.next\n",
    "        fast = fast.next.next\n",
    "\n",
    "    return slow"
   ]
  },
  {
   "cell_type": "code",
   "execution_count": 103,
   "id": "18d387aa",
   "metadata": {},
   "outputs": [],
   "source": [
    "# 27. Merge two sorted Linked Lists"
   ]
  },
  {
   "cell_type": "code",
   "execution_count": 104,
   "id": "5e2583f1",
   "metadata": {},
   "outputs": [],
   "source": [
    "def mergeTwoLists(l1, l2): # O(n1 + n2)T / O(1)S\n",
    "    if not l1:\n",
    "        return l2\n",
    "\n",
    "    if not l2:\n",
    "        return l1\n",
    "\n",
    "    if l1.val > l2.val:\n",
    "        l1, l2 = l2, l1\n",
    "\n",
    "    res = l1\n",
    "\n",
    "    while l1 and l2:\n",
    "        temp = None\n",
    "\n",
    "        while l1 and l1.val <= l2.val:\n",
    "            temp = l1\n",
    "            l1 = l1.next\n",
    "\n",
    "        temp.next = l2 \n",
    "\n",
    "        l1, l2 = l2, l1\n",
    "\n",
    "    return res"
   ]
  },
  {
   "cell_type": "code",
   "execution_count": 105,
   "id": "0154097f",
   "metadata": {},
   "outputs": [],
   "source": [
    "# 28. Remove N-th node from back of Linked List"
   ]
  },
  {
   "cell_type": "code",
   "execution_count": 106,
   "id": "b8fead5a",
   "metadata": {},
   "outputs": [],
   "source": [
    "def removeNthFromEnd(head, n): # O(n)T / O(1)S\n",
    "    start = ListNode()\n",
    "    start.next = head\n",
    "    fast = slow = start\n",
    "\n",
    "    for i in range(n):\n",
    "        fast = fast.next\n",
    "\n",
    "    while fast.next:\n",
    "        fast = fast.next\n",
    "        slow = slow.next\n",
    "\n",
    "    slow.next = slow.next.next\n",
    "\n",
    "    return start.next"
   ]
  },
  {
   "cell_type": "code",
   "execution_count": 107,
   "id": "3830832d",
   "metadata": {},
   "outputs": [],
   "source": [
    "# 29. Add two numbers as LinkedList"
   ]
  },
  {
   "cell_type": "code",
   "execution_count": 108,
   "id": "b90deb80",
   "metadata": {},
   "outputs": [],
   "source": [
    "def addTwoNumbers(l1, l2): # O(max(n1, n2))T / O(n)S\n",
    "    dummy = node = ListNode()\n",
    "    carry = 0\n",
    "\n",
    "    while l1 or l2 or carry:\n",
    "        curSum = 0\n",
    "            \n",
    "        if l1:\n",
    "            curSum += l1.val\n",
    "            l1 = l1.next\n",
    "\n",
    "        if l2:\n",
    "            curSum += l2.val\n",
    "            l2 = l2.next\n",
    "\n",
    "        curSum += carry\n",
    "\n",
    "        carry = curSum // 10\n",
    "\n",
    "        node.next = ListNode(curSum % 10)\n",
    "        node = node.next\n",
    "\n",
    "    return dummy.next"
   ]
  },
  {
   "cell_type": "code",
   "execution_count": 109,
   "id": "b78c051d",
   "metadata": {},
   "outputs": [],
   "source": [
    "# 30. Delete the given Node when the Node is given"
   ]
  },
  {
   "cell_type": "code",
   "execution_count": 110,
   "id": "f39c9f02",
   "metadata": {},
   "outputs": [],
   "source": [
    "def deleteNode(node): # O(1)T / O(1)S\n",
    "    node.val = node.next.val\n",
    "    node.next = node.next.next"
   ]
  },
  {
   "cell_type": "markdown",
   "id": "3cfd834f",
   "metadata": {},
   "source": [
    "# Day 6: Linked List Part 2"
   ]
  },
  {
   "cell_type": "code",
   "execution_count": 111,
   "id": "8a8be44c",
   "metadata": {},
   "outputs": [],
   "source": [
    "# 31. Find intersection point of Y Linked List"
   ]
  },
  {
   "cell_type": "code",
   "execution_count": 112,
   "id": "70c6b455",
   "metadata": {},
   "outputs": [],
   "source": [
    "def getIntersectionNode(headA, headB): # O(2n))T / O(1)S -> n is length of longer list\n",
    "    a = headA\n",
    "    b = headB\n",
    "\n",
    "    while a != b:\n",
    "        a = headB if a is None else a.next\n",
    "        b = headA if b is None else b.next\n",
    "\n",
    "    return a "
   ]
  },
  {
   "cell_type": "code",
   "execution_count": 113,
   "id": "6f46db0a",
   "metadata": {},
   "outputs": [],
   "source": [
    "# 32. Detect a cycle in Linked List"
   ]
  },
  {
   "cell_type": "code",
   "execution_count": 114,
   "id": "817e1a52",
   "metadata": {},
   "outputs": [],
   "source": [
    "def hasCycle(head): # O(n)T / O(1)S\n",
    "    if not head or not head.next:\n",
    "        return False \n",
    "\n",
    "    slow = fast = head\n",
    "\n",
    "    while fast and fast.next:\n",
    "        fast = fast.next.next\n",
    "        slow = slow.next\n",
    "\n",
    "        if fast == slow:\n",
    "            return True\n",
    "\n",
    "    return False"
   ]
  },
  {
   "cell_type": "code",
   "execution_count": 115,
   "id": "2603e6aa",
   "metadata": {},
   "outputs": [],
   "source": [
    "# 33. Reverse a LinkedList in groups of size k."
   ]
  },
  {
   "cell_type": "code",
   "execution_count": 116,
   "id": "5a21d0d8",
   "metadata": {},
   "outputs": [],
   "source": [
    "def reverseKGroup(head, k): # O(n)T / O(1)S\n",
    "    if k == 1 or not head:\n",
    "        return head\n",
    "\n",
    "    dummy = ListNode()\n",
    "    dummy.next = head\n",
    "\n",
    "    cur = nex = pre = dummy\n",
    "    count = 0\n",
    "\n",
    "    while cur.next:\n",
    "        cur = cur.next\n",
    "        count += 1\n",
    "\n",
    "    while count >= k:\n",
    "        cur = pre.next\n",
    "        nex = cur.next\n",
    "\n",
    "        for i in range(1, k):\n",
    "            cur.next = nex.next\n",
    "            nex.next = pre.next\n",
    "            pre.next = nex\n",
    "            nex = cur.next\n",
    "\n",
    "        pre = cur\n",
    "        count -= k\n",
    "\n",
    "    return dummy.next"
   ]
  },
  {
   "cell_type": "code",
   "execution_count": 117,
   "id": "48b77c9e",
   "metadata": {},
   "outputs": [],
   "source": [
    "# 34. Check if a Linked List is palindrome or not"
   ]
  },
  {
   "cell_type": "code",
   "execution_count": 118,
   "id": "f8a6d594",
   "metadata": {},
   "outputs": [],
   "source": [
    "def isPalindrome(head): # O(3n/2)T / O(1)S\n",
    "    slow = fast = head\n",
    "\n",
    "    while fast and fast.next: # O(n/2)T\n",
    "        fast = fast.next.next\n",
    "        slow = slow.next\n",
    "\n",
    "    secondHalf = reverse(slow) # O(n/2)T\n",
    "    firstHalf = head\n",
    "\n",
    "    while secondHalf: # O(n/2)T\n",
    "        if firstHalf.val != secondHalf.val:\n",
    "            return False\n",
    "\n",
    "        firstHalf = firstHalf.next\n",
    "        secondHalf = secondHalf.next\n",
    "\n",
    "    return True\n",
    "\n",
    "def reverse(head):\n",
    "    prev = None\n",
    "    cur = head\n",
    "\n",
    "    while cur:\n",
    "        nxt = cur.next\n",
    "        cur.next = prev\n",
    "        prev = cur\n",
    "        cur = nxt\n",
    "\n",
    "    return prev"
   ]
  },
  {
   "cell_type": "code",
   "execution_count": 119,
   "id": "64ac83ed",
   "metadata": {},
   "outputs": [],
   "source": [
    "# 35. Find the starting point of the Loop of Linked List"
   ]
  },
  {
   "cell_type": "code",
   "execution_count": 120,
   "id": "0be375e1",
   "metadata": {},
   "outputs": [],
   "source": [
    "def detectCycle(head): # O(n)T / O(1)S\n",
    "    slow = fast = head\n",
    "\n",
    "    while fast and fast.next:\n",
    "        fast = fast.next.next\n",
    "        slow = slow.next\n",
    "\n",
    "        if fast == slow:\n",
    "            start = head\n",
    "\n",
    "            while start != slow:\n",
    "                start = start.next\n",
    "                slow = slow.next\n",
    "\n",
    "            return start\n",
    "\n",
    "    return None"
   ]
  },
  {
   "cell_type": "code",
   "execution_count": 121,
   "id": "2a8e62b9",
   "metadata": {},
   "outputs": [],
   "source": [
    "# 36. Flattening of a Linked List"
   ]
  },
  {
   "cell_type": "code",
   "execution_count": 122,
   "id": "087e8534",
   "metadata": {},
   "outputs": [],
   "source": [
    "def flattenList(root): # O(2x + 3x + 4x ... kx)T assuming the singly linked list to be of size x on average / O(1)S\n",
    "    if not root or not root.next:\n",
    "        return root\n",
    "    \n",
    "    root.next = flattenList(root.next)\n",
    "    \n",
    "    root = mergeTwoList(root, root.next)\n",
    "    \n",
    "    return root\n",
    "\n",
    "def mergeTwoList(a, b):\n",
    "    temp = res = ListNode()\n",
    "    \n",
    "    while a and b:\n",
    "        if a.val < b.val:\n",
    "            temp.bottom = a\n",
    "            temp = temp.bottom\n",
    "            a = a.bottom\n",
    "        else:\n",
    "            temp.bottom = b\n",
    "            temp = temp.bottom\n",
    "            b = b.bottom\n",
    "            \n",
    "    if a:\n",
    "        temp.bottom = a\n",
    "    else:\n",
    "        temp.bottom = b\n",
    "        \n",
    "    return res.bottom"
   ]
  },
  {
   "cell_type": "markdown",
   "id": "ade5ed67",
   "metadata": {},
   "source": [
    "# Day 7: Linked List and Arrays"
   ]
  },
  {
   "cell_type": "code",
   "execution_count": 123,
   "id": "08a67489",
   "metadata": {},
   "outputs": [],
   "source": [
    "# 37. Rotate a Linked List"
   ]
  },
  {
   "cell_type": "code",
   "execution_count": 124,
   "id": "39fb4562",
   "metadata": {},
   "outputs": [],
   "source": [
    "def rotateRight(head, k): # O(n)T / O(1)S\n",
    "    if not head or not head.next or k == 0:\n",
    "        return head\n",
    "\n",
    "    l = 0\n",
    "    cur = head\n",
    "\n",
    "    while cur:\n",
    "        l += 1\n",
    "\n",
    "        if not cur.next:\n",
    "            cur.next = head\n",
    "            break\n",
    "\n",
    "        cur = cur.next\n",
    "\n",
    "    k = k % l\n",
    "    k = l - k\n",
    "\n",
    "    cur = head\n",
    "\n",
    "    while k > 1:\n",
    "        cur = cur.next\n",
    "        k -= 1\n",
    "\n",
    "    head = cur.next\n",
    "    cur.next = None\n",
    "\n",
    "    return head"
   ]
  },
  {
   "cell_type": "code",
   "execution_count": 125,
   "id": "95c4d9bf",
   "metadata": {},
   "outputs": [],
   "source": [
    "# 38. Clone a Linked List with Random and Next pointer"
   ]
  },
  {
   "cell_type": "code",
   "execution_count": 126,
   "id": "2b622ac5",
   "metadata": {},
   "outputs": [],
   "source": [
    "def copyRandomList(head): # O(3n)T / O(1)S\n",
    "    if head is None:\n",
    "        return head\n",
    "\n",
    "    newListWithClones(head) # O(n)T\n",
    "\n",
    "    setRandomPointer(head) # O(n)T\n",
    "\n",
    "    cloneHead = splitList(head) # O(n)T\n",
    "\n",
    "    return cloneHead\n",
    "\n",
    "def newListWithClones(head):\n",
    "    cur = head\n",
    "\n",
    "    while cur:\n",
    "        temp = cur.next\n",
    "\n",
    "        cur.next = Node(cur.val)\n",
    "        cur.next.next = temp\n",
    "\n",
    "        cur = cur.next.next\n",
    "\n",
    "def setRandomPointer(head):\n",
    "    cur = head\n",
    "\n",
    "    while cur:\n",
    "        cur.next.random = cur.random.next if cur.random else None \n",
    "        cur = cur.next.next\n",
    "\n",
    "def splitList(head):\n",
    "    dummy = cur = head.next\n",
    "\n",
    "    while cur:\n",
    "        cur.next = cur.next.next if cur.next else None\n",
    "        cur = cur.next\n",
    "\n",
    "    return dummy"
   ]
  },
  {
   "cell_type": "code",
   "execution_count": 127,
   "id": "a2729761",
   "metadata": {},
   "outputs": [],
   "source": [
    "# 39. 3 sum"
   ]
  },
  {
   "cell_type": "code",
   "execution_count": 128,
   "id": "b11d237a",
   "metadata": {},
   "outputs": [],
   "source": [
    "def threeSum(nums): # O(n^2)T / O(1)S\n",
    "    res = []\n",
    "    n = len(nums)\n",
    "    nums.sort()\n",
    "\n",
    "    for i in range(n): # O(n)T\n",
    "        if i > 0 and nums[i] == nums[i - 1]:\n",
    "            continue\n",
    "\n",
    "        l = i + 1\n",
    "        r = n - 1\n",
    "        sumReq = 0 - nums[i]\n",
    "\n",
    "        while l < r: # O(n)T\n",
    "            curSum = nums[l] + nums[r]\n",
    "\n",
    "            if curSum == sumReq:\n",
    "                res.append([nums[i], nums[l], nums[r]])\n",
    "\n",
    "                while l < r and nums[l] == nums[l + 1]:\n",
    "                    l += 1\n",
    "\n",
    "                while l < r and nums[r] == nums[r - 1]:\n",
    "                    r -= 1\n",
    "\n",
    "                l += 1\n",
    "                r -= 1\n",
    "            elif curSum < sumReq:\n",
    "                l += 1\n",
    "            else:\n",
    "                r -= 1\n",
    "\n",
    "    return res"
   ]
  },
  {
   "cell_type": "code",
   "execution_count": 129,
   "id": "71b341e7",
   "metadata": {},
   "outputs": [],
   "source": [
    "nums1 = [-1,0,1,2,-1,-4]\n",
    "nums2 = []"
   ]
  },
  {
   "cell_type": "code",
   "execution_count": 130,
   "id": "102812b1",
   "metadata": {},
   "outputs": [
    {
     "name": "stdout",
     "output_type": "stream",
     "text": [
      "[[-1, -1, 2], [-1, 0, 1]]\n",
      "[]\n"
     ]
    }
   ],
   "source": [
    "print(threeSum(nums1))\n",
    "print(threeSum(nums2))"
   ]
  },
  {
   "cell_type": "code",
   "execution_count": 131,
   "id": "293f5569",
   "metadata": {},
   "outputs": [],
   "source": [
    "# 40. Trapping rainwater"
   ]
  },
  {
   "cell_type": "code",
   "execution_count": 132,
   "id": "1e9fddc3",
   "metadata": {},
   "outputs": [],
   "source": [
    "def trap(height): # O(n)T / O(1)S\n",
    "    n = len(height)\n",
    "    l, r = 0, n - 1\n",
    "    leftMax = rightMax = res = 0\n",
    "\n",
    "    while l <= r:\n",
    "        if height[l] <= height[r]:\n",
    "            if height[l] >= leftMax:\n",
    "                leftMax = height[l]\n",
    "            else:\n",
    "                res += leftMax - height[l]\n",
    "\n",
    "            l += 1\n",
    "        else:\n",
    "            if height[r] >= rightMax:\n",
    "                rightMax = height[r]\n",
    "            else:\n",
    "                res += rightMax - height[r]\n",
    "\n",
    "            r -= 1\n",
    "\n",
    "    return res"
   ]
  },
  {
   "cell_type": "code",
   "execution_count": 133,
   "id": "33867b21",
   "metadata": {},
   "outputs": [],
   "source": [
    "height1 = [0,1,0,2,1,0,1,3,2,1,2,1]\n",
    "height2 = [4,2,0,3,2,5]"
   ]
  },
  {
   "cell_type": "code",
   "execution_count": 134,
   "id": "d075e8fb",
   "metadata": {},
   "outputs": [
    {
     "name": "stdout",
     "output_type": "stream",
     "text": [
      "6\n",
      "9\n"
     ]
    }
   ],
   "source": [
    "print(trap(height1))\n",
    "print(trap(height2))"
   ]
  },
  {
   "cell_type": "code",
   "execution_count": 135,
   "id": "0a723273",
   "metadata": {},
   "outputs": [],
   "source": [
    "# 41. Remove Duplicate from Sorted Array"
   ]
  },
  {
   "cell_type": "code",
   "execution_count": 136,
   "id": "e5547d17",
   "metadata": {},
   "outputs": [],
   "source": [
    "def removeDuplicates(nums): # O(n)T / O(1)S\n",
    "    i = 0\n",
    "\n",
    "    for j in range(1, len(nums)):\n",
    "        if nums[i] != nums[j]:\n",
    "            i += 1\n",
    "            nums[i] = nums[j]\n",
    "\n",
    "    return i + 1"
   ]
  },
  {
   "cell_type": "code",
   "execution_count": 137,
   "id": "f51e28b4",
   "metadata": {},
   "outputs": [],
   "source": [
    "nums1 = [1,1,2]\n",
    "nums2 = [0,0,1,1,1,2,2,3,3,4]"
   ]
  },
  {
   "cell_type": "code",
   "execution_count": 138,
   "id": "45bc4596",
   "metadata": {},
   "outputs": [
    {
     "name": "stdout",
     "output_type": "stream",
     "text": [
      "2\n",
      "5\n"
     ]
    }
   ],
   "source": [
    "print(removeDuplicates(nums1))\n",
    "print(removeDuplicates(nums2))"
   ]
  },
  {
   "cell_type": "code",
   "execution_count": 139,
   "id": "b1f65828",
   "metadata": {},
   "outputs": [],
   "source": [
    "# 42. Max consecutive ones"
   ]
  },
  {
   "cell_type": "code",
   "execution_count": 140,
   "id": "36d5d1e7",
   "metadata": {},
   "outputs": [],
   "source": [
    "def findMaxConsecutiveOnes(nums): # O(n)T / O(1)S\n",
    "    count = maxi = 0\n",
    "\n",
    "    for i in range(len(nums)):\n",
    "        if nums[i] == 1:\n",
    "            count += 1\n",
    "        else:\n",
    "            count = 0\n",
    "\n",
    "        maxi = max(count, maxi)\n",
    "\n",
    "    return maxi"
   ]
  },
  {
   "cell_type": "code",
   "execution_count": 141,
   "id": "825abd3d",
   "metadata": {},
   "outputs": [],
   "source": [
    "nums1 = [1,1,0,1,1,1]\n",
    "nums2 = [1,0,1,1,0,1]"
   ]
  },
  {
   "cell_type": "code",
   "execution_count": 142,
   "id": "71c2fe43",
   "metadata": {},
   "outputs": [
    {
     "name": "stdout",
     "output_type": "stream",
     "text": [
      "3\n",
      "2\n"
     ]
    }
   ],
   "source": [
    "print(findMaxConsecutiveOnes(nums1))\n",
    "print(findMaxConsecutiveOnes(nums2))"
   ]
  },
  {
   "cell_type": "markdown",
   "id": "c13a4bad",
   "metadata": {},
   "source": [
    "# Day 8: Greedy Algorithm"
   ]
  },
  {
   "cell_type": "code",
   "execution_count": 143,
   "id": "4735628c",
   "metadata": {},
   "outputs": [],
   "source": [
    "# 43. N meetings in one room"
   ]
  },
  {
   "cell_type": "code",
   "execution_count": 144,
   "id": "c6405c0a",
   "metadata": {},
   "outputs": [],
   "source": [
    "def maxMeetings(start, end): # O(2n + nlogn)T / O(n)S\n",
    "    \"\"\"\n",
    "    Return the index of meetings that can take place in order\n",
    "    \"\"\"\n",
    "    arr = []\n",
    "    ans = []\n",
    "    \n",
    "    for i in range(len(start)): # O(n)T\n",
    "        arr.append([start[i], end[i], i])\n",
    "        \n",
    "    arr.sort(key = lambda x: x[1]) # O(nlogn)T\n",
    "    \n",
    "    ans.append(arr[0][2])\n",
    "    limit = arr[0][1]\n",
    "    \n",
    "    for i in range(1, len(arr)): # O(n)\n",
    "        if arr[i][0] > limit:\n",
    "            limit = arr[i][1]\n",
    "            ans.append(arr[i][2])\n",
    "    \n",
    "    return ans"
   ]
  },
  {
   "cell_type": "code",
   "execution_count": 145,
   "id": "b96d8248",
   "metadata": {},
   "outputs": [],
   "source": [
    "start = [1,0,3,8,5,8]\n",
    "end = [2,6,4,9,7,9]"
   ]
  },
  {
   "cell_type": "code",
   "execution_count": 146,
   "id": "426b6ec4",
   "metadata": {},
   "outputs": [
    {
     "data": {
      "text/plain": [
       "[0, 2, 4, 3]"
      ]
     },
     "execution_count": 146,
     "metadata": {},
     "output_type": "execute_result"
    }
   ],
   "source": [
    "maxMeetings(start, end)"
   ]
  },
  {
   "cell_type": "code",
   "execution_count": 147,
   "id": "ae8685b1",
   "metadata": {},
   "outputs": [],
   "source": [
    "# 44. Minimum number of platforms required for a railway"
   ]
  },
  {
   "cell_type": "code",
   "execution_count": 148,
   "id": "9de77f1b",
   "metadata": {},
   "outputs": [],
   "source": [
    "def minPlatforms(arr, dep): # O(2n + 2nlogn)T / O(1)S\n",
    "    arr.sort() # O(nlogn)T\n",
    "    dep.sort() # O(nlogn)T\n",
    "    \n",
    "    n = len(arr)\n",
    "    platform = 1\n",
    "    res = 0\n",
    "    i, j = 1, 0\n",
    "    \n",
    "    while i < n and j < n: # O(2n)T\n",
    "        if arr[i] <= dep[j]:\n",
    "            platform += 1\n",
    "            i += 1\n",
    "        elif arr[i] > dep[j]:\n",
    "            platform -= 1\n",
    "            j += 1\n",
    "            \n",
    "        res = max(platform, res)\n",
    "        \n",
    "    return res "
   ]
  },
  {
   "cell_type": "code",
   "execution_count": 149,
   "id": "7fbc1f13",
   "metadata": {},
   "outputs": [],
   "source": [
    "\"\"\"\n",
    "arrival and departure are given in minutes here\n",
    "\"\"\"\n",
    "arrival1, departure1 = [120,50,550,200,700,850], [600,550,700,500,900,1000]\n",
    "arrival2, departure2 = [540, 660, 755], [600, 720, 760]"
   ]
  },
  {
   "cell_type": "code",
   "execution_count": 150,
   "id": "0ae97ed6",
   "metadata": {},
   "outputs": [
    {
     "name": "stdout",
     "output_type": "stream",
     "text": [
      "3\n",
      "1\n"
     ]
    }
   ],
   "source": [
    "print(minPlatforms(arrival1, departure1))\n",
    "print(minPlatforms(arrival2, departure2))"
   ]
  },
  {
   "cell_type": "code",
   "execution_count": 151,
   "id": "6597de1b",
   "metadata": {},
   "outputs": [],
   "source": [
    "# 45. Job Sequencing Problem"
   ]
  },
  {
   "cell_type": "code",
   "execution_count": 152,
   "id": "3f6b3030",
   "metadata": {},
   "outputs": [],
   "source": [
    "def jobSequencing(arr): # O(nlogn + n*m)T / O(m)S -> n is length of arr, m is maximum deadline\n",
    "    n = len(arr)\n",
    "    arr.sort(key = lambda x: x[2], reverse = True) # O(nlogn)T\n",
    "    \n",
    "    maxi = 0\n",
    "    for i in range(n):\n",
    "        maxi = max(maxi, arr[i][1])\n",
    "        \n",
    "    res = [-1]*(maxi+1) # O(m)S\n",
    "    \n",
    "    jobCount = profit = 0\n",
    "    \n",
    "    for i in range(n): # O(n)T\n",
    "        deadLine = arr[i][1]\n",
    "        \n",
    "        for j in reversed(range(1, deadLine+1)): # O(m)T\n",
    "            if res[j] == -1:\n",
    "                profit += arr[i][2]\n",
    "                jobCount += 1\n",
    "                res[j] = arr[i][0]\n",
    "                break\n",
    "            \n",
    "    return jobCount, profit # we can get job ids from 'res' if required"
   ]
  },
  {
   "cell_type": "code",
   "execution_count": 153,
   "id": "7fa1c5a2",
   "metadata": {},
   "outputs": [],
   "source": [
    "\"\"\"\n",
    "[[id,deadline,profit],....]\n",
    "\"\"\"\n",
    "jobs1 = [(1,4,20),(2,1,10),(3,1,40),(4,1,30)]\n",
    "jobs2 = [(1,2,100),(2,1,19),(3,2,27),(4,1,25),(5,1,15)]"
   ]
  },
  {
   "cell_type": "code",
   "execution_count": 154,
   "id": "9b279159",
   "metadata": {},
   "outputs": [
    {
     "name": "stdout",
     "output_type": "stream",
     "text": [
      "(2, 60)\n",
      "(2, 127)\n"
     ]
    }
   ],
   "source": [
    "print(jobSequencing(jobs1))\n",
    "print(jobSequencing(jobs2))"
   ]
  },
  {
   "cell_type": "code",
   "execution_count": 155,
   "id": "99c8b67e",
   "metadata": {},
   "outputs": [],
   "source": [
    "# 46. Fractional Knapsack Problem"
   ]
  },
  {
   "cell_type": "code",
   "execution_count": 156,
   "id": "55ab170f",
   "metadata": {},
   "outputs": [],
   "source": [
    "def maximumValue(w, items): # O(nlogn + n)T / O(1)S\n",
    "    items.sort(key = lambda x: x[0] / x[1], reverse = True)\n",
    "    val = 0\n",
    "    \n",
    "    for i in range(len(items)):\n",
    "        itemVal = items[i][0]\n",
    "        itemWeight = items[i][1]\n",
    "        \n",
    "        if itemWeight <= w:\n",
    "            w -= itemWeight\n",
    "            val += itemVal\n",
    "        else:\n",
    "            valOfOneWeight = itemVal / itemWeight\n",
    "            val += valOfOneWeight*w\n",
    "            break\n",
    "            \n",
    "    val = round(val, 2) # reducing decimal to two places\n",
    "    \n",
    "    return val"
   ]
  },
  {
   "cell_type": "code",
   "execution_count": 157,
   "id": "22f336ef",
   "metadata": {},
   "outputs": [],
   "source": [
    "w1, items1 = 50, [(100,20),(120,30),(60,10)]\n",
    "w2, items2 = 200, [(45,200),(25,90),(40,50),(100,120),(50,40),(30,10)]     \n",
    "w3, items3 = 100, [(12,20),(35,24),(41,36),(25,40),(32,42)]"
   ]
  },
  {
   "cell_type": "code",
   "execution_count": 158,
   "id": "fc6b1ba7",
   "metadata": {},
   "outputs": [
    {
     "name": "stdout",
     "output_type": "stream",
     "text": [
      "240.0\n",
      "204.0\n",
      "106.48\n"
     ]
    }
   ],
   "source": [
    "print(maximumValue(w1, items1))\n",
    "print(maximumValue(w2, items2))\n",
    "print(maximumValue(w3, items3))"
   ]
  },
  {
   "cell_type": "code",
   "execution_count": 159,
   "id": "3e43265a",
   "metadata": {},
   "outputs": [],
   "source": [
    "# 47. Greedy algorithm to find minimum number of coins"
   ]
  },
  {
   "cell_type": "code",
   "execution_count": 160,
   "id": "fc08f8a6",
   "metadata": {},
   "outputs": [],
   "source": [
    "def findMinCoins(val): # O(v)T / O(1)S -> v is val but time complexity will be much less for most val\n",
    "    \"\"\"\n",
    "    This function only works for denominations where no two denoms add up to another denom\n",
    "    \"\"\"\n",
    "    deno = [1,2,5,10,20,50,100,500,1000]\n",
    "    \n",
    "    res = []\n",
    "    \n",
    "    for d in reversed(deno):\n",
    "        while val >= d:\n",
    "            val -= d\n",
    "            res.append(d)\n",
    "            \n",
    "    return len(res), res"
   ]
  },
  {
   "cell_type": "code",
   "execution_count": 161,
   "id": "035b45a6",
   "metadata": {},
   "outputs": [],
   "source": [
    "val1 = 13\n",
    "val2 = 49\n",
    "val3 = 70"
   ]
  },
  {
   "cell_type": "code",
   "execution_count": 162,
   "id": "75851eb4",
   "metadata": {
    "scrolled": true
   },
   "outputs": [
    {
     "name": "stdout",
     "output_type": "stream",
     "text": [
      "(3, [10, 2, 1])\n",
      "(5, [20, 20, 5, 2, 2])\n",
      "(2, [50, 20])\n"
     ]
    }
   ],
   "source": [
    "print(findMinCoins(val1))\n",
    "print(findMinCoins(val2))\n",
    "print(findMinCoins(val3))"
   ]
  },
  {
   "cell_type": "markdown",
   "id": "38319b4d",
   "metadata": {},
   "source": [
    "# Day 9: Recursion"
   ]
  },
  {
   "cell_type": "code",
   "execution_count": 163,
   "id": "a1677406",
   "metadata": {},
   "outputs": [],
   "source": [
    "# 48. Subset Sums"
   ]
  },
  {
   "cell_type": "code",
   "execution_count": 164,
   "id": "e2c5f86a",
   "metadata": {},
   "outputs": [],
   "source": [
    "\"\"\"\n",
    "# Powerset, generating all subsets\n",
    "\n",
    "def subsets(nums): # O((2^n)n)T / O((2^n)n)S\n",
    "    res = [[]]\n",
    "\n",
    "    for el in nums:\n",
    "        for i in range(len(res)):\n",
    "            newSet = res[i] + [el]\n",
    "            res.append(newSet)\n",
    "\n",
    "    return res\n",
    "\"\"\"\n",
    "\n",
    "def subsetSums(arr): # O(2^n)T / O(2^n)S\n",
    "    n = len(arr)\n",
    "    idx = curSum = 0\n",
    "    res = []\n",
    "    \n",
    "    recurse(idx, curSum, arr, n, res)\n",
    "    \n",
    "    return res\n",
    "\n",
    "def recurse(idx, curSum, arr, n, res):\n",
    "    if idx == n:\n",
    "        res.append(curSum)\n",
    "        return\n",
    "    \n",
    "    recurse(idx + 1, curSum + arr[idx], arr, n, res)\n",
    "    recurse(idx + 1, curSum, arr, n, res)"
   ]
  },
  {
   "cell_type": "code",
   "execution_count": 165,
   "id": "9e3561df",
   "metadata": {},
   "outputs": [],
   "source": [
    "arr1 = [3,1,2]\n",
    "arr2 = [2,3]\n",
    "arr3 = [5,2,1]"
   ]
  },
  {
   "cell_type": "code",
   "execution_count": 166,
   "id": "71938941",
   "metadata": {},
   "outputs": [
    {
     "name": "stdout",
     "output_type": "stream",
     "text": [
      "[6, 4, 5, 3, 3, 1, 2, 0]\n",
      "[5, 2, 3, 0]\n",
      "[8, 7, 6, 5, 3, 2, 1, 0]\n"
     ]
    }
   ],
   "source": [
    "print(subsetSums(arr1))\n",
    "print(subsetSums(arr2))\n",
    "print(subsetSums(arr3))"
   ]
  },
  {
   "cell_type": "code",
   "execution_count": 167,
   "id": "3661c553",
   "metadata": {},
   "outputs": [],
   "source": [
    "# 49. Subset 2"
   ]
  },
  {
   "cell_type": "code",
   "execution_count": 168,
   "id": "e180b0f0",
   "metadata": {},
   "outputs": [],
   "source": [
    "# Recursive Solution\n",
    "def subsetsWithDup1(nums):  # O(nlogn + (2^n)n)T / O((2^n)n)S\n",
    "    nums.sort() # O(nlogn)T\n",
    "    idx = 0\n",
    "    ds = []\n",
    "    n = len(nums)\n",
    "    res = []\n",
    "\n",
    "    recurse(idx, nums, ds, n, res) # O((2^n)n)T\n",
    "\n",
    "    return res\n",
    "\n",
    "\n",
    "def recurse(idx, nums, ds, n, res):\n",
    "    res.append(ds[:])\n",
    "\n",
    "    for i in range(idx, n):\n",
    "        if i != idx and nums[i] == nums[i - 1]:\n",
    "            continue\n",
    "\n",
    "        ds.append(nums[i])\n",
    "        recurse(i + 1, nums, ds, n, res)\n",
    "        ds.pop()\n",
    "        \n",
    "# Iterative Solution\n",
    "def subsetsWithDup2(nums): # O(nlogn + (2^n)n)T / O((2^n)n)S \n",
    "    nums.sort() \n",
    "    res = [[]]\n",
    "    prevLen = 0\n",
    "\n",
    "    for i in range(len(nums)):\n",
    "        el = nums[i]\n",
    "\n",
    "        if i > 0 and nums[i] == nums[i - 1]:\n",
    "            start = prevLen \n",
    "        else:\n",
    "            start = 0\n",
    "\n",
    "        prevLen = len(res) # updating prevLen to len of current res for next iteration\n",
    "\n",
    "        for j in range(start, len(res)):\n",
    "            newSet = res[j] + [el]\n",
    "            res.append(newSet)\n",
    "\n",
    "    return res"
   ]
  },
  {
   "cell_type": "code",
   "execution_count": 169,
   "id": "682f2893",
   "metadata": {},
   "outputs": [],
   "source": [
    "nums1 = [1,2,2]\n",
    "nums2 = [0]\n",
    "nums3 = [5,5,5,5,5]"
   ]
  },
  {
   "cell_type": "code",
   "execution_count": 170,
   "id": "fece42ce",
   "metadata": {},
   "outputs": [
    {
     "name": "stdout",
     "output_type": "stream",
     "text": [
      "[[], [1], [1, 2], [1, 2, 2], [2], [2, 2]]\n",
      "[[], [0]]\n",
      "[[], [5], [5, 5], [5, 5, 5], [5, 5, 5, 5], [5, 5, 5, 5, 5]]\n"
     ]
    }
   ],
   "source": [
    "print(subsetsWithDup1(nums1))\n",
    "print(subsetsWithDup1(nums2))\n",
    "print(subsetsWithDup1(nums3))"
   ]
  },
  {
   "cell_type": "code",
   "execution_count": 171,
   "id": "8ef7cde9",
   "metadata": {},
   "outputs": [
    {
     "name": "stdout",
     "output_type": "stream",
     "text": [
      "[[], [1], [2], [1, 2], [2, 2], [1, 2, 2]]\n",
      "[[], [0]]\n",
      "[[], [5], [5, 5], [5, 5, 5], [5, 5, 5, 5], [5, 5, 5, 5, 5]]\n"
     ]
    }
   ],
   "source": [
    "print(subsetsWithDup2(nums1))\n",
    "print(subsetsWithDup2(nums2))\n",
    "print(subsetsWithDup2(nums3))"
   ]
  },
  {
   "cell_type": "code",
   "execution_count": 172,
   "id": "6920fcfb",
   "metadata": {},
   "outputs": [],
   "source": [
    "# 50. Combination Sum 1"
   ]
  },
  {
   "cell_type": "code",
   "execution_count": 173,
   "id": "61c19ec3",
   "metadata": {},
   "outputs": [],
   "source": [
    "def combinationSum(candidates, target): # O((2^t)k)T / SC is unpredictable -> t is target, k is avg len of ds in res \n",
    "    curSum = 0\n",
    "    ds = []\n",
    "    res = []\n",
    "    idx = 0\n",
    "\n",
    "    recurse(idx, candidates, target, curSum, ds, res)\n",
    "\n",
    "    return res\n",
    "\n",
    "def recurse(idx, arr, target, curSum, ds, res):\n",
    "    if curSum > target:\n",
    "        return\n",
    "\n",
    "    if curSum == target:\n",
    "        res.append(ds[:])\n",
    "        return\n",
    "\n",
    "    for i in range(idx, len(arr)):\n",
    "        ds.append(arr[i])\n",
    "        recurse(i, arr, target, curSum + arr[i], ds, res)\n",
    "        ds.pop()"
   ]
  },
  {
   "cell_type": "code",
   "execution_count": 174,
   "id": "439fb85e",
   "metadata": {},
   "outputs": [],
   "source": [
    "candidates1, target1 = [2,3,6,7], 7\n",
    "candidates2, target2 = [2,3,5], 8\n",
    "candidates3, target3 = [2], 1"
   ]
  },
  {
   "cell_type": "code",
   "execution_count": 175,
   "id": "d370865d",
   "metadata": {},
   "outputs": [
    {
     "name": "stdout",
     "output_type": "stream",
     "text": [
      "[[2, 2, 3], [7]]\n",
      "[[2, 2, 2, 2], [2, 3, 3], [3, 5]]\n",
      "[]\n"
     ]
    }
   ],
   "source": [
    "print(combinationSum(candidates1, target1))\n",
    "print(combinationSum(candidates2, target2))\n",
    "print(combinationSum(candidates3, target3))"
   ]
  },
  {
   "cell_type": "code",
   "execution_count": 176,
   "id": "29d66034",
   "metadata": {},
   "outputs": [],
   "source": [
    "# 51. Combination Sum 2"
   ]
  },
  {
   "cell_type": "code",
   "execution_count": 177,
   "id": "0d93b75e",
   "metadata": {},
   "outputs": [],
   "source": [
    "def combinationSum2(candidates, target): # O((2^n)k)T / SC is unpredictable -> n = len(candidates), k is avg len of ds in res\n",
    "    candidates.sort()\n",
    "    curSum = 0\n",
    "    ds = []\n",
    "    res = []\n",
    "    idx = 0\n",
    "\n",
    "    recurse(idx, candidates, target, curSum, ds, res)\n",
    "\n",
    "    return res\n",
    "\n",
    "def recurse(idx, arr, target, curSum, ds, res):\n",
    "    if curSum > target:\n",
    "        return\n",
    "\n",
    "    if curSum == target:\n",
    "        res.append(ds[:])\n",
    "        return\n",
    "\n",
    "    for i in range(idx, len(arr)):\n",
    "        if i != idx and arr[i] == arr[i - 1]:\n",
    "            continue\n",
    "\n",
    "        if curSum + arr[i] > target:\n",
    "            break\n",
    "\n",
    "        ds.append(arr[i])\n",
    "        recurse(i + 1, arr, target, curSum + arr[i], ds, res)\n",
    "        ds.pop()"
   ]
  },
  {
   "cell_type": "code",
   "execution_count": 178,
   "id": "3b83b2ec",
   "metadata": {},
   "outputs": [],
   "source": [
    "candidates1, target1 = [1,1,1,2,2], 4\n",
    "candidates2, target2 = [10,1,2,7,6,1,5], 8\n",
    "candidates3, target3 = [2,5,2,1,2], 5"
   ]
  },
  {
   "cell_type": "code",
   "execution_count": 179,
   "id": "b928063e",
   "metadata": {},
   "outputs": [
    {
     "name": "stdout",
     "output_type": "stream",
     "text": [
      "[[1, 1, 2], [2, 2]]\n",
      "[[1, 1, 6], [1, 2, 5], [1, 7], [2, 6]]\n",
      "[[1, 2, 2], [5]]\n"
     ]
    }
   ],
   "source": [
    "print(combinationSum2(candidates1, target1))\n",
    "print(combinationSum2(candidates2, target2))\n",
    "print(combinationSum2(candidates3, target3))"
   ]
  },
  {
   "cell_type": "code",
   "execution_count": 180,
   "id": "269c57f3",
   "metadata": {},
   "outputs": [],
   "source": [
    "# 52. Palindrome Partitioning"
   ]
  },
  {
   "cell_type": "code",
   "execution_count": 181,
   "id": "060ee6f2",
   "metadata": {},
   "outputs": [],
   "source": [
    "def partition(s): # O((2^n)nk) / SC is unpredictable -> n = len(s), k is avg len of ds in res\n",
    "    idx = 0\n",
    "    ds = []\n",
    "    res = []\n",
    "    n = len(s)\n",
    "\n",
    "    recurse(idx, s, n, ds, res)\n",
    "\n",
    "    return res\n",
    "\n",
    "def recurse(idx, s, n, ds, res):\n",
    "    if idx == n:\n",
    "        res.append(ds[:])\n",
    "        return\n",
    "\n",
    "    for i in range(idx, n):\n",
    "        if isPalindrome(idx, i, s):\n",
    "            ds.append(s[idx : i + 1])\n",
    "            recurse(i + 1, s, n, ds, res)\n",
    "            ds.pop()\n",
    "\n",
    "def isPalindrome(l, r, s):\n",
    "    while l <= r:\n",
    "        if s[l] != s[r]:\n",
    "            return False\n",
    "\n",
    "        l += 1\n",
    "        r -= 1\n",
    "\n",
    "    return True"
   ]
  },
  {
   "cell_type": "code",
   "execution_count": 182,
   "id": "534be466",
   "metadata": {},
   "outputs": [],
   "source": [
    "s1 = 'aab'\n",
    "s2 = 'a'\n",
    "s3 = 'aabb'"
   ]
  },
  {
   "cell_type": "code",
   "execution_count": 183,
   "id": "add8218e",
   "metadata": {},
   "outputs": [
    {
     "name": "stdout",
     "output_type": "stream",
     "text": [
      "[['a', 'a', 'b'], ['aa', 'b']]\n",
      "[['a']]\n",
      "[['a', 'a', 'b', 'b'], ['a', 'a', 'bb'], ['aa', 'b', 'b'], ['aa', 'bb']]\n"
     ]
    }
   ],
   "source": [
    "print(partition(s1))\n",
    "print(partition(s2))\n",
    "print(partition(s3))"
   ]
  },
  {
   "cell_type": "code",
   "execution_count": 184,
   "id": "c5f67d42",
   "metadata": {},
   "outputs": [],
   "source": [
    "# 53. K-th Permutation Sequence "
   ]
  },
  {
   "cell_type": "code",
   "execution_count": 185,
   "id": "f03234f3",
   "metadata": {},
   "outputs": [],
   "source": [
    "def getPermutation(n, k): # O(n^2)T / O(n)S\n",
    "    fact = 1\n",
    "    nums = []\n",
    "\n",
    "    for i in range(1, n):\n",
    "        fact *= i\n",
    "        nums.append(i)\n",
    "\n",
    "    nums.append(n)\n",
    "\n",
    "    ans = []\n",
    "    k = k - 1\n",
    "\n",
    "    while True:\n",
    "        ans.append(str(nums[k // fact]))\n",
    "        nums.pop(k // fact)\n",
    "\n",
    "        if not nums:\n",
    "            break\n",
    "\n",
    "        k = k % fact\n",
    "        fact = fact // len(nums)\n",
    "\n",
    "    return ''.join(ans)"
   ]
  },
  {
   "cell_type": "code",
   "execution_count": 186,
   "id": "23bcfaa4",
   "metadata": {},
   "outputs": [],
   "source": [
    "n1, k1 = 3, 3\n",
    "n2, k2 = 4, 9\n",
    "n3, k3 = 3, 1"
   ]
  },
  {
   "cell_type": "code",
   "execution_count": 187,
   "id": "d9e72c29",
   "metadata": {},
   "outputs": [
    {
     "name": "stdout",
     "output_type": "stream",
     "text": [
      "213\n",
      "2314\n",
      "123\n"
     ]
    }
   ],
   "source": [
    "print(getPermutation(n1, k1))\n",
    "print(getPermutation(n2, k2))\n",
    "print(getPermutation(n3, k3))"
   ]
  },
  {
   "cell_type": "markdown",
   "id": "6640a151",
   "metadata": {},
   "source": [
    "# Day 10: Recursion and Backtracking"
   ]
  },
  {
   "cell_type": "code",
   "execution_count": 188,
   "id": "28746077",
   "metadata": {},
   "outputs": [],
   "source": [
    "# 54. Print all permutations of a string/array"
   ]
  },
  {
   "cell_type": "code",
   "execution_count": 189,
   "id": "630c2096",
   "metadata": {},
   "outputs": [],
   "source": [
    "def permute(nums): # O(n*n!)T / O(n*n!)S\n",
    "    idx = 0\n",
    "    n = len(nums)\n",
    "    ans = []\n",
    "\n",
    "    recurse(idx, nums, n, ans)\n",
    "\n",
    "    return ans\n",
    "\n",
    "def recurse(idx, nums, n, ans):\n",
    "    if idx == n - 1:\n",
    "        ans.append(nums[:])\n",
    "        return\n",
    "\n",
    "    for j in range(idx, n):\n",
    "        swap(nums, idx, j)\n",
    "        recurse(idx + 1, nums, n, ans)\n",
    "        swap(nums, idx, j)\n",
    "\n",
    "def swap(nums, i, j):\n",
    "    nums[i], nums[j] = nums[j], nums[i]"
   ]
  },
  {
   "cell_type": "code",
   "execution_count": 190,
   "id": "51c6fe83",
   "metadata": {},
   "outputs": [],
   "source": [
    "nums1 = [1,2,3]\n",
    "nums2 = [0,1]\n",
    "nums3 = [1]"
   ]
  },
  {
   "cell_type": "code",
   "execution_count": 191,
   "id": "72cc75c9",
   "metadata": {},
   "outputs": [
    {
     "name": "stdout",
     "output_type": "stream",
     "text": [
      "[[1, 2, 3], [1, 3, 2], [2, 1, 3], [2, 3, 1], [3, 2, 1], [3, 1, 2]]\n",
      "[[0, 1], [1, 0]]\n",
      "[[1]]\n"
     ]
    }
   ],
   "source": [
    "print(permute(nums1))\n",
    "print(permute(nums2))\n",
    "print(permute(nums3))"
   ]
  },
  {
   "cell_type": "code",
   "execution_count": 192,
   "id": "a2fe2c22",
   "metadata": {},
   "outputs": [],
   "source": [
    "# 55. N Queens Problem"
   ]
  },
  {
   "cell_type": "code",
   "execution_count": null,
   "id": "b87d886e",
   "metadata": {},
   "outputs": [],
   "source": []
  }
 ],
 "metadata": {
  "kernelspec": {
   "display_name": "Python 3 (ipykernel)",
   "language": "python",
   "name": "python3"
  },
  "language_info": {
   "codemirror_mode": {
    "name": "ipython",
    "version": 3
   },
   "file_extension": ".py",
   "mimetype": "text/x-python",
   "name": "python",
   "nbconvert_exporter": "python",
   "pygments_lexer": "ipython3",
   "version": "3.10.0"
  }
 },
 "nbformat": 4,
 "nbformat_minor": 5
}
