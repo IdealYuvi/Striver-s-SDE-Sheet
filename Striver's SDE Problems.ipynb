{
 "cells": [
  {
   "cell_type": "markdown",
   "id": "7a4a3f4a",
   "metadata": {},
   "source": [
    "# Striver’s SDE Sheet – Top Coding Interview Problems\n",
    "\n",
    "https://takeuforward.org/interviews/strivers-sde-sheet-top-coding-interview-problems/"
   ]
  },
  {
   "cell_type": "markdown",
   "id": "dc8ab4a5",
   "metadata": {},
   "source": [
    "# Day 1: Arrays"
   ]
  },
  {
   "cell_type": "code",
   "execution_count": null,
   "id": "e79c0703",
   "metadata": {},
   "outputs": [],
   "source": [
    "# 1. Set Matrix Zeroes"
   ]
  },
  {
   "cell_type": "code",
   "execution_count": 1,
   "id": "be513178",
   "metadata": {},
   "outputs": [],
   "source": [
    "def setZeroes(matrix): # O(2(n*m))T / O(1)S\n",
    "    \"\"\"\n",
    "    Do not return anything, modify matrix in-place instead.\n",
    "    \"\"\"\n",
    "    R = len(matrix)\n",
    "    C = len(matrix[0])\n",
    "    isCol = False\n",
    "\n",
    "    for i in range(R): # O(n*m)T\n",
    "        if matrix[i][0] == 0:\n",
    "            isCol = True\n",
    "\n",
    "        for j in range(1, C):    \n",
    "            if matrix[i][j] == 0:\n",
    "                matrix[i][0] = 0\n",
    "                matrix[0][j] = 0\n",
    "\n",
    "    for i in range(1, R): # O(n*m)T\n",
    "        for j in range(1, C):\n",
    "            if not matrix[i][0] or not matrix[0][j]:\n",
    "                matrix[i][j] = 0\n",
    "\n",
    "    if matrix[0][0] == 0: # O(m)T\n",
    "        for j in range(C):\n",
    "            matrix[0][j] = 0\n",
    "\n",
    "    if isCol: # O(n)T\n",
    "        for i in range(R):\n",
    "            matrix[i][0] = 0\n",
    "\n",
    "    print(matrix)"
   ]
  },
  {
   "cell_type": "code",
   "execution_count": 2,
   "id": "634611fb",
   "metadata": {},
   "outputs": [],
   "source": [
    "matrix1 = [[1,1,1],[1,0,1],[1,1,1]]\n",
    "matrix2 = [[0,1,2,0],[3,4,5,2],[1,3,1,5]]"
   ]
  },
  {
   "cell_type": "code",
   "execution_count": 3,
   "id": "d8c2e1cd",
   "metadata": {},
   "outputs": [
    {
     "name": "stdout",
     "output_type": "stream",
     "text": [
      "[[1, 0, 1], [0, 0, 0], [1, 0, 1]]\n",
      "[[0, 0, 0, 0], [0, 4, 5, 0], [0, 3, 1, 0]]\n"
     ]
    }
   ],
   "source": [
    "setZeroes(matrix1)\n",
    "setZeroes(matrix2)"
   ]
  },
  {
   "cell_type": "code",
   "execution_count": null,
   "id": "44b2cd7b",
   "metadata": {},
   "outputs": [],
   "source": [
    "# 2. Pascal's Triangle"
   ]
  },
  {
   "cell_type": "code",
   "execution_count": 4,
   "id": "9d75d791",
   "metadata": {},
   "outputs": [],
   "source": [
    "# to generate all rows\n",
    "def generate1(numRows): # O(2(n^2))T / O(n^2)S\n",
    "    pascal = [[1]*(i+1) for i in range(numRows)] # O(n^2)T\n",
    "        \n",
    "    for i in range(numRows): # O(n^2)T\n",
    "        for j in range(1, i):\n",
    "            pascal[i][j] = pascal[i-1][j-1] + pascal[i-1][j]\n",
    "\n",
    "    return pascal\n",
    "\n",
    "# to generate given row\n",
    "def generate2(n): # O(n)T / O(n)S\n",
    "    pascal = [1]\n",
    "    res = 1\n",
    "    for i in range(n):\n",
    "        res *= n - i\n",
    "        res //= i + 1\n",
    "        pascal.append(res)\n",
    "        \n",
    "    return pascal\n",
    "      \n",
    "# to generate given column in given row\n",
    "def generate3(n, c): # O(c)T / O(1)S\n",
    "    res = 1\n",
    "    for i in range(c):\n",
    "        res *= n - i\n",
    "        res //= i + 1\n",
    "        \n",
    "    return res"
   ]
  },
  {
   "cell_type": "code",
   "execution_count": 5,
   "id": "8322703b",
   "metadata": {},
   "outputs": [
    {
     "name": "stdout",
     "output_type": "stream",
     "text": [
      "[[1]]\n",
      "[[1], [1, 1], [1, 2, 1], [1, 3, 3, 1], [1, 4, 6, 4, 1]]\n"
     ]
    }
   ],
   "source": [
    "print(generate1(1))\n",
    "print(generate1(5))"
   ]
  },
  {
   "cell_type": "code",
   "execution_count": 6,
   "id": "f6d26941",
   "metadata": {},
   "outputs": [
    {
     "name": "stdout",
     "output_type": "stream",
     "text": [
      "[1]\n",
      "[1, 2, 1]\n",
      "[1, 5, 10, 10, 5, 1]\n"
     ]
    }
   ],
   "source": [
    "print(generate2(0))\n",
    "print(generate2(2))\n",
    "print(generate2(5))"
   ]
  },
  {
   "cell_type": "code",
   "execution_count": 7,
   "id": "83e4b96e",
   "metadata": {},
   "outputs": [
    {
     "name": "stdout",
     "output_type": "stream",
     "text": [
      "2\n",
      "10\n"
     ]
    }
   ],
   "source": [
    "print(generate3(2, 1))\n",
    "print(generate3(5, 3))"
   ]
  },
  {
   "cell_type": "code",
   "execution_count": null,
   "id": "3b82ffc3",
   "metadata": {},
   "outputs": [],
   "source": [
    "# 3. Next Permutation"
   ]
  },
  {
   "cell_type": "code",
   "execution_count": 8,
   "id": "f70029de",
   "metadata": {},
   "outputs": [],
   "source": [
    "def nextPermutation(nums): # O(3n)T / O(1)S\n",
    "    \"\"\"\n",
    "    1. a[i] < a[i + 1] from last -> idx1 = i\n",
    "    2. a[j] > a[idx1] from last -> idx2 = j\n",
    "    3. swap idx1, idx2\n",
    "    4. reverse from i + 1 to last\n",
    "    \"\"\"\n",
    "\n",
    "    idx1 = -1\n",
    "    for i in reversed(range(len(nums) - 1)): # O(n)T\n",
    "        if nums[i] < nums[i + 1]:\n",
    "            idx1 = i\n",
    "            break\n",
    "\n",
    "    if idx1 == -1:\n",
    "        reverse(0, nums)\n",
    "        return nums\n",
    "\n",
    "    idx2 = -1\n",
    "    for i in reversed(range(len(nums))): # O(n)T\n",
    "        if nums[i] > nums[idx1]:\n",
    "            idx2 = i\n",
    "            break\n",
    "\n",
    "    nums[idx1], nums[idx2] = nums[idx2], nums[idx1]\n",
    "\n",
    "    reverse(idx1 + 1, nums) # O(n)T\n",
    "\n",
    "    return nums\n",
    "\n",
    "def reverse(i, nums): # O(n)T\n",
    "    first = i\n",
    "    last = len(nums) - 1\n",
    "\n",
    "    while first <= last: # O(n)T\n",
    "        nums[first], nums[last] = nums[last], nums[first]\n",
    "        first += 1\n",
    "        last -= 1\n",
    "\n",
    "    return"
   ]
  },
  {
   "cell_type": "code",
   "execution_count": 9,
   "id": "a994a4cc",
   "metadata": {},
   "outputs": [],
   "source": [
    "nums1 = [1,2,3]\n",
    "nums2 = [1,3,5,4,2]"
   ]
  },
  {
   "cell_type": "code",
   "execution_count": 10,
   "id": "45a42b7e",
   "metadata": {},
   "outputs": [
    {
     "name": "stdout",
     "output_type": "stream",
     "text": [
      "[1, 3, 2]\n",
      "[1, 4, 2, 3, 5]\n"
     ]
    }
   ],
   "source": [
    "print(nextPermutation(nums1))\n",
    "print(nextPermutation(nums2))"
   ]
  },
  {
   "cell_type": "code",
   "execution_count": null,
   "id": "390a533b",
   "metadata": {},
   "outputs": [],
   "source": [
    "# 4. Kadane's Algorithm"
   ]
  },
  {
   "cell_type": "code",
   "execution_count": 11,
   "id": "5a46f2d3",
   "metadata": {},
   "outputs": [],
   "source": [
    "def maxSubArray(nums): # O(n)T / O(1)S\n",
    "    curSum = 0\n",
    "    curMax = nums[0]\n",
    "\n",
    "    for i in range(len(nums)): # O(n)T\n",
    "        curSum += nums[i]\n",
    "\n",
    "        if curMax < curSum:\n",
    "            curMax = curSum\n",
    "\n",
    "        if curSum < 0:\n",
    "            curSum = 0\n",
    "\n",
    "    return curMax"
   ]
  },
  {
   "cell_type": "code",
   "execution_count": 12,
   "id": "aa7f52bb",
   "metadata": {},
   "outputs": [],
   "source": [
    "nums1 = [-2,1,-3,4,-1,2,1,-5,4]\n",
    "nums2 = [1]\n",
    "nums3 = [5,4,-1,7,8] "
   ]
  },
  {
   "cell_type": "code",
   "execution_count": 13,
   "id": "3eefd015",
   "metadata": {},
   "outputs": [
    {
     "name": "stdout",
     "output_type": "stream",
     "text": [
      "6\n",
      "1\n",
      "23\n"
     ]
    }
   ],
   "source": [
    "print(maxSubArray(nums1))\n",
    "print(maxSubArray(nums2))\n",
    "print(maxSubArray(nums3))"
   ]
  },
  {
   "cell_type": "code",
   "execution_count": null,
   "id": "9698d0a9",
   "metadata": {},
   "outputs": [],
   "source": [
    "# 5. Sort an array of 0s 1s & 2s"
   ]
  },
  {
   "cell_type": "code",
   "execution_count": 14,
   "id": "25d2718d",
   "metadata": {},
   "outputs": [],
   "source": [
    "def sortColors(nums): # O(n)T / O(1)S\n",
    "    low = mid = 0\n",
    "    high = len(nums) - 1\n",
    "\n",
    "    while mid <= high: # O(n)T\n",
    "        if nums[mid] == 0:\n",
    "            nums[mid] = nums[low]\n",
    "            nums[low] = 0\n",
    "            low += 1\n",
    "            mid += 1\n",
    "        elif nums[mid] == 1:\n",
    "            mid += 1\n",
    "        elif nums[mid] == 2:\n",
    "            nums[mid], nums[high] = nums[high], nums[mid]\n",
    "            high -= 1\n",
    "    \n",
    "    return nums"
   ]
  },
  {
   "cell_type": "code",
   "execution_count": 15,
   "id": "ffb991b4",
   "metadata": {},
   "outputs": [],
   "source": [
    "nums = [2,0,2,1,1,0]"
   ]
  },
  {
   "cell_type": "code",
   "execution_count": 16,
   "id": "d4e44d20",
   "metadata": {},
   "outputs": [
    {
     "data": {
      "text/plain": [
       "[0, 0, 1, 1, 2, 2]"
      ]
     },
     "execution_count": 16,
     "metadata": {},
     "output_type": "execute_result"
    }
   ],
   "source": [
    "sortColors(nums)"
   ]
  },
  {
   "cell_type": "code",
   "execution_count": null,
   "id": "694d5b7a",
   "metadata": {},
   "outputs": [],
   "source": [
    "# 6. Stock buy and sell"
   ]
  },
  {
   "cell_type": "code",
   "execution_count": 17,
   "id": "46ea466a",
   "metadata": {},
   "outputs": [],
   "source": [
    "def maxProfit(prices): # O(n)T / O(1)S\n",
    "    minPrice = float('inf')\n",
    "    profit = 0\n",
    "\n",
    "    for val in prices: # O(n)T\n",
    "        if val < minPrice:\n",
    "            minPrice = val\n",
    "        else:\n",
    "            potential = val - minPrice\n",
    "            profit = max(profit, potential)\n",
    "\n",
    "    return profit"
   ]
  },
  {
   "cell_type": "code",
   "execution_count": 18,
   "id": "f43c8bdd",
   "metadata": {},
   "outputs": [],
   "source": [
    "prices1 = [7,1,5,3,6,4]\n",
    "prices2 = [7,6,4,3,1]"
   ]
  },
  {
   "cell_type": "code",
   "execution_count": 19,
   "id": "0bf2652a",
   "metadata": {},
   "outputs": [
    {
     "name": "stdout",
     "output_type": "stream",
     "text": [
      "5\n",
      "0\n"
     ]
    }
   ],
   "source": [
    "print(maxProfit(prices1))\n",
    "print(maxProfit(prices2))"
   ]
  },
  {
   "cell_type": "markdown",
   "id": "cb98e1d0",
   "metadata": {},
   "source": [
    "# Day 2: Arrays Part 2"
   ]
  },
  {
   "cell_type": "code",
   "execution_count": null,
   "id": "0c2d509b",
   "metadata": {},
   "outputs": [],
   "source": [
    "# 7. Rotate Matrix"
   ]
  },
  {
   "cell_type": "code",
   "execution_count": 20,
   "id": "752e4045",
   "metadata": {},
   "outputs": [],
   "source": [
    "def rotate(matrix): # O(2(n^2))T / O(1)S\n",
    "    n = len(matrix)\n",
    "\n",
    "    for i in range(n): # O(n^2)T \n",
    "        for j in range(i):\n",
    "            matrix[i][j], matrix[j][i] = matrix[j][i], matrix[i][j]\n",
    "\n",
    "    for row in matrix: # O(n^2)T \n",
    "        left = 0\n",
    "        right = len(row) - 1\n",
    "\n",
    "        while left <= right:\n",
    "            row[left], row[right] = row[right], row[left]\n",
    "            left += 1\n",
    "            right -= 1\n",
    "    \n",
    "    return matrix"
   ]
  },
  {
   "cell_type": "code",
   "execution_count": 21,
   "id": "7cafcef6",
   "metadata": {},
   "outputs": [],
   "source": [
    "matrix = [[1,2,3],[4,5,6],[7,8,9]]"
   ]
  },
  {
   "cell_type": "code",
   "execution_count": 22,
   "id": "e8c1bf8c",
   "metadata": {},
   "outputs": [
    {
     "data": {
      "text/plain": [
       "[[7, 4, 1], [8, 5, 2], [9, 6, 3]]"
      ]
     },
     "execution_count": 22,
     "metadata": {},
     "output_type": "execute_result"
    }
   ],
   "source": [
    "rotate(matrix)"
   ]
  },
  {
   "cell_type": "code",
   "execution_count": null,
   "id": "8fc64f82",
   "metadata": {},
   "outputs": [],
   "source": [
    "# 8. Merge Intervals"
   ]
  },
  {
   "cell_type": "code",
   "execution_count": 23,
   "id": "efea8c3b",
   "metadata": {},
   "outputs": [],
   "source": [
    "def merge(intervals): # O((n*logn)+n)T / O(n)S\n",
    "    intervals.sort() # O(n*logn)T\n",
    "\n",
    "    res = [intervals[0]]\n",
    "\n",
    "    for start, end in intervals[1:]: # O(n)T\n",
    "        last = res[-1]\n",
    "\n",
    "        if last[1] >= start:\n",
    "            last[1] = max(last[1], end)\n",
    "        else:\n",
    "            res.append([start, end])\n",
    "\n",
    "    return res"
   ]
  },
  {
   "cell_type": "code",
   "execution_count": 24,
   "id": "7d2c9586",
   "metadata": {},
   "outputs": [],
   "source": [
    "intervals1 = [[1,3],[2,6],[8,10],[15,18]]\n",
    "intervals2 =[[1,4],[2,3]]"
   ]
  },
  {
   "cell_type": "code",
   "execution_count": 25,
   "id": "94d0b280",
   "metadata": {},
   "outputs": [
    {
     "name": "stdout",
     "output_type": "stream",
     "text": [
      "[[1, 6], [8, 10], [15, 18]]\n",
      "[[1, 4]]\n"
     ]
    }
   ],
   "source": [
    "print(merge(intervals1))\n",
    "print(merge(intervals2))"
   ]
  },
  {
   "cell_type": "code",
   "execution_count": null,
   "id": "5a619088",
   "metadata": {},
   "outputs": [],
   "source": []
  },
  {
   "cell_type": "code",
   "execution_count": null,
   "id": "d7a6c84e",
   "metadata": {},
   "outputs": [],
   "source": []
  }
 ],
 "metadata": {
  "kernelspec": {
   "display_name": "Python 3 (ipykernel)",
   "language": "python",
   "name": "python3"
  },
  "language_info": {
   "codemirror_mode": {
    "name": "ipython",
    "version": 3
   },
   "file_extension": ".py",
   "mimetype": "text/x-python",
   "name": "python",
   "nbconvert_exporter": "python",
   "pygments_lexer": "ipython3",
   "version": "3.10.0"
  }
 },
 "nbformat": 4,
 "nbformat_minor": 5
}
