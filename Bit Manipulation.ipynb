{
 "cells": [
  {
   "cell_type": "code",
   "execution_count": null,
   "id": "a04970ff",
   "metadata": {},
   "outputs": [],
   "source": [
    "# Binary is Base 2.\n",
    "\n",
    "101 => 1*(2^2) + 0*(2^1) + 1*(2^0) => 5"
   ]
  },
  {
   "cell_type": "code",
   "execution_count": null,
   "id": "d9a65e7e",
   "metadata": {},
   "outputs": [],
   "source": [
    "# Operators:\n",
    "a  b | AND& OR|  XOR^  NOT~\n",
    "-  - | ---  --   ---   ---\n",
    "0  0 |  0    0    0     1\n",
    "0  1 |  0    1    1     1\n",
    "1  0 |  0    1    1     0\n",
    "1  1 |  1    1    0     0\n",
    "\n",
    "\n",
    "# Right Shift:\n",
    "12>>2\n",
    "-12 in binary is 1100\n",
    "-1100 shifted to right by 2 places is 11\n",
    "-11 in decimal is 3\n",
    "12>>2 = 3\n",
    "\n",
    "Any number shifted to right by 1 is basically just getting divided by 2.\n",
    "5>>1 = 2\n",
    "2>>1 = 1\n",
    "\n",
    "# Left Shift:\n",
    "12<<2\n",
    "-12 in binary is 1100\n",
    "-1100 shifted to left by 2 places is 110000\n",
    "-110000 in decimal is 48\n",
    "12<<2 = 48\n",
    "\n",
    "Any number shifted to left by 1 is basically just getting multiplied by 2.\n",
    "3<<1 = 6\n",
    "6<<1 = 12"
   ]
  },
  {
   "cell_type": "code",
   "execution_count": null,
   "id": "78103637",
   "metadata": {},
   "outputs": [],
   "source": [
    "# To find if a number is odd or even simply use '&' operator,\n",
    "Even number '&' by 1 will always give 0.\n",
    "Odd number '&' by 1 will always give 1.\n",
    "2&1 = 0\n",
    "3&1 = 1"
   ]
  },
  {
   "cell_type": "code",
   "execution_count": 1,
   "id": "90044c03",
   "metadata": {},
   "outputs": [
    {
     "name": "stdout",
     "output_type": "stream",
     "text": [
      "a:7, b:5\n"
     ]
    }
   ],
   "source": [
    "# To swap two numbers without using extra space use XOR operator,\n",
    "a = 5\n",
    "b = 7\n",
    "\n",
    "a = a^b # 2\n",
    "b = a^b # 5\n",
    "a = a^b # 7\n",
    "\n",
    "print(f'a:{a}, b:{b}')"
   ]
  },
  {
   "cell_type": "code",
   "execution_count": 2,
   "id": "dad44c58",
   "metadata": {},
   "outputs": [
    {
     "name": "stdout",
     "output_type": "stream",
     "text": [
      "1\n"
     ]
    }
   ],
   "source": [
    "# Find the i'th bit:\n",
    "n = 14\n",
    "k = 3\n",
    "\n",
    "\"\"\"\n",
    "14 in binary is 1110. \n",
    "Third bit from right is 1.\n",
    "\"\"\"\n",
    "\n",
    "\"\"\"\n",
    "Find a number with all 0s except k-th position. We get this number using ( 1 << (k-1) ).\n",
    "For example if k = 3, then ( 1 << 2) gives us (00..00100). \n",
    "Do bitwise-and of above obtained number with n to find if k-th bit in n is set or not.  \n",
    "If it is set then the result will be some number else it will be 0.\n",
    "\"\"\"\n",
    "\n",
    "mask = 1 << (k - 1)\n",
    "res = n & mask\n",
    "\n",
    "if res:\n",
    "    print(1)\n",
    "else:\n",
    "    print(0)"
   ]
  },
  {
   "cell_type": "code",
   "execution_count": 3,
   "id": "828a6879",
   "metadata": {},
   "outputs": [
    {
     "name": "stdout",
     "output_type": "stream",
     "text": [
      "14\n"
     ]
    }
   ],
   "source": [
    "# Set the i'th bit:\n",
    "n = 10\n",
    "k = 3\n",
    "\n",
    "\"\"\"\n",
    "10 in binary is 1010.\n",
    "Third bit from right is 0 and if we set it to 1 the binary becomes 1110 which is equal to decimal 14.\n",
    "\"\"\"\n",
    "\n",
    "\"\"\"\n",
    "Find a number with all 0s except k-th position. We get this number using ( 1 << (k-1) ).\n",
    "For example if k = 3, then ( 1 << 2) gives us (00..00100). \n",
    "Do bitwise-or of above obtained number with n to set the k-th bit.\n",
    "\"\"\"\n",
    "\n",
    "mask = 1 << (k - 1)\n",
    "res = n | mask\n",
    "\n",
    "print(res)"
   ]
  },
  {
   "cell_type": "code",
   "execution_count": 4,
   "id": "fdc75306",
   "metadata": {},
   "outputs": [
    {
     "name": "stdout",
     "output_type": "stream",
     "text": [
      "9\n"
     ]
    }
   ],
   "source": [
    "# Clear the i'th bit:\n",
    "n = 13\n",
    "k = 3\n",
    "\n",
    "\"\"\"\n",
    "13 in binary is 1101.\n",
    "Third bit from right is 1 and if we clear it to 0 then the binary becomes 1001 which is equal to decimal 9.\n",
    "\"\"\"\n",
    "\n",
    "\"\"\"\n",
    "Find a number with all 0s except k-th position. We get this number using ( 1 << (k-1) ).\n",
    "For example if k = 3, then ( 1 << 2) gives us (00..00100).\n",
    "Then flip all the bits in the above obtained number by using bitwise-not.\n",
    "Now do bitwise-and of that number and n to clear the k-th bit.\n",
    "\"\"\"\n",
    "\n",
    "mask = 1 << (k - 1)\n",
    "flippedMask = ~mask\n",
    "res = n & flippedMask\n",
    "\n",
    "print(res)"
   ]
  },
  {
   "cell_type": "code",
   "execution_count": 5,
   "id": "8d7d056e",
   "metadata": {},
   "outputs": [
    {
     "name": "stdout",
     "output_type": "stream",
     "text": [
      "4\n"
     ]
    }
   ],
   "source": [
    "# Find the number of bits to change to convert a to b:\n",
    "a = 10\n",
    "b = 20\n",
    "\n",
    "\"\"\"\n",
    "10 in binary is 00001010\n",
    "20 in binary is 00010100\n",
    "So we need to flip 4 bits from a to convert a to b\n",
    "\"\"\"\n",
    "\n",
    "c = a^b # gives only the different bits in a and b\n",
    "res = 0\n",
    "\n",
    "while c: # to count the set bits\n",
    "    if c&1: # checking if first bit from right is 1 or 0\n",
    "        res += 1\n",
    "        \n",
    "    c = c>>1\n",
    "    \n",
    "print(res)"
   ]
  },
  {
   "cell_type": "code",
   "execution_count": 6,
   "id": "0edefdc1",
   "metadata": {},
   "outputs": [
    {
     "name": "stdout",
     "output_type": "stream",
     "text": [
      "3\n"
     ]
    }
   ],
   "source": [
    "# A tricky way to find the number of set bits in n,\n",
    "\n",
    "n = 13\n",
    "\n",
    "\"\"\"\n",
    "13 in binary is 1101\n",
    "So there are 3 set bits in 13\n",
    "\"\"\"\n",
    "count = 0\n",
    "\n",
    "while n:\n",
    "    n = n&(n-1)\n",
    "    count += 1\n",
    "    \n",
    "print(count)"
   ]
  },
  {
   "cell_type": "code",
   "execution_count": null,
   "id": "da3622f9",
   "metadata": {},
   "outputs": [],
   "source": []
  }
 ],
 "metadata": {
  "kernelspec": {
   "display_name": "Python 3 (ipykernel)",
   "language": "python",
   "name": "python3"
  },
  "language_info": {
   "codemirror_mode": {
    "name": "ipython",
    "version": 3
   },
   "file_extension": ".py",
   "mimetype": "text/x-python",
   "name": "python",
   "nbconvert_exporter": "python",
   "pygments_lexer": "ipython3",
   "version": "3.10.0"
  }
 },
 "nbformat": 4,
 "nbformat_minor": 5
}
